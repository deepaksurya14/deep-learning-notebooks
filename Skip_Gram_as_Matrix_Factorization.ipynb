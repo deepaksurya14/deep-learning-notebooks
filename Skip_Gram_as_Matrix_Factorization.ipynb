{
  "cells": [
    {
      "cell_type": "code",
      "execution_count": 4,
      "metadata": {
        "id": "CDkGUbEyetcF"
      },
      "outputs": [],
      "source": [
        "import torch\n",
        "import torch.nn as nn"
      ]
    },
    {
      "cell_type": "markdown",
      "metadata": {
        "id": "jSYqe6vOeyI1"
      },
      "source": [
        "We will begin by making the model, which will be used later within the TF API. In this small example, we will be experimenting with different methods for random initialization of the embeddings, exploring how they may impact learning speed. So, we will use \"init_func\" as a placeholder for a generic initialization function.\n",
        "\n",
        "Please FILL_IN the code below with relevant code to make this notebook run."
      ]
    },
    {
      "cell_type": "code",
      "execution_count": 5,
      "metadata": {
        "id": "y9Ey2TMrHZiR"
      },
      "outputs": [],
      "source": [
        "FILL_IN = 'FILL_IN'"
      ]
    },
    {
      "cell_type": "code",
      "execution_count": 7,
      "metadata": {
        "id": "-91EbJk3ev9w"
      },
      "outputs": [],
      "source": [
        "V = 5000\n",
        "E = 50\n",
        "\n",
        "class MFEmbedder(nn.Module):\n",
        "    def __init__(self, vsize, embdim):\n",
        "        super(MFEmbedder, self).__init__()\n",
        "        # Make B a Parameter which has floats of dimension vsize, embdim.\n",
        "        # Same for A.\n",
        "        self.B = torch.nn.Parameter(torch.FloatTensor(vsize,embdim))\n",
        "        self.A = torch.nn.Parameter(torch.FloatTensor(vsize,embdim))\n",
        "\n",
        "        nn.init.normal_(self.B)\n",
        "        nn.init.normal_(self.A)\n",
        "\n",
        "    def forward(self, x=None):\n",
        "        # This should return BA^T, which is qual to the shifted PMI matrix.\n",
        "        return self.B @ torch.t(self.A)\n"
      ]
    },
    {
      "cell_type": "code",
      "execution_count": 8,
      "metadata": {
        "id": "-XaSJxkzHZiR"
      },
      "outputs": [],
      "source": [
        "model = MFEmbedder(V, E)"
      ]
    },
    {
      "cell_type": "markdown",
      "metadata": {
        "id": "ON0sflVee5sN"
      },
      "source": [
        "Now we need to make the special loss function that we learned to derive from last time. With this made, we will now be ready to learn SGNS vectors!\n",
        "\n",
        "This loss should be the loss in lecture. For the positive term it should be $N_{ij} \\log {\\sigma{(b_j^{\\intercal}a_i)}}$ and similarly for the negative (see lecture). pos_samples should be a scalar, same for negative samples.\n",
        "\n",
        "Remember, we assume $b_j^{\\intercal}a_i = M_{ij}$ due to optimality."
      ]
    },
    {
      "cell_type": "code",
      "execution_count": 9,
      "metadata": {
        "id": "UUVUgt9Ie2f8"
      },
      "outputs": [],
      "source": [
        "class SGNSLoss():\n",
        "    def __init__(self, Nij, Ni, Nj, N, K):\n",
        "        self.Nij = Nij\n",
        "        self.Ni = Ni\n",
        "        self.Nj = Nj\n",
        "        self.N = N\n",
        "        self.K = K\n",
        "\n",
        "    def __call__(self, BA):\n",
        "        pos_samples = self.N * torch.sum(self.Nij * torch.log(torch.sigmoid(BA)))\n",
        "\n",
        "        # This should be a 1 by 1 matrix.\n",
        "        neg_samples = self.K * torch.sum(self.Ni * self.Nj * torch.log(torch.sigmoid(-BA)))\n",
        "\n",
        "        return -(pos_samples + neg_samples) / self.N\n"
      ]
    },
    {
      "cell_type": "markdown",
      "metadata": {
        "id": "f53utQP2e-sH"
      },
      "source": [
        "Now we should declare some of the variables that we want to work with. We are going to need to load one of my pre-made files that performs cooccurrence statistic extraction. Because this is a small example, we will just be using a 5000 word vocabulary so that we don't overload Google's cloud GPUs."
      ]
    },
    {
      "cell_type": "code",
      "execution_count": 12,
      "metadata": {
        "id": "4ChTZkvre8jB"
      },
      "outputs": [],
      "source": [
        "## Boring data downloading stuff.\n",
        "import requests\n",
        "import io\n",
        "import zipfile\n",
        "import pandas as pd\n",
        "\n",
        "def download_extract_zip(file_name):\n",
        "    with zipfile.ZipFile(file_name, 'r') as thezip:\n",
        "        for zipinfo in thezip.infolist():\n",
        "            with thezip.open(zipinfo) as thefile:\n",
        "                return pd.read_csv(\n",
        "                    thefile,\n",
        "                    sep=' ',\n",
        "                    header=None,\n",
        "                    names=['term', 'context', 'Nij']\n",
        "                )\n",
        "\n",
        "df = download_extract_zip('cooc.zip')"
      ]
    },
    {
      "cell_type": "code",
      "execution_count": 13,
      "metadata": {
        "colab": {
          "base_uri": "https://localhost:8080/",
          "height": 206
        },
        "id": "OmBqZCn7HZiS",
        "outputId": "83939d2b-0f6d-4735-bafe-76be35dcc4b9"
      },
      "outputs": [
        {
          "output_type": "execute_result",
          "data": {
            "text/plain": [
              "        term    context     Nij\n",
              "0      chief      peace  2072.8\n",
              "1   produces  venezuela   109.4\n",
              "2  resources          ?   411.2\n",
              "3   israelis      later   196.2\n",
              "4    however       list  1395.2"
            ],
            "text/html": [
              "\n",
              "  <div id=\"df-f3fb3585-c55e-4bc2-9f70-21bc1c747952\" class=\"colab-df-container\">\n",
              "    <div>\n",
              "<style scoped>\n",
              "    .dataframe tbody tr th:only-of-type {\n",
              "        vertical-align: middle;\n",
              "    }\n",
              "\n",
              "    .dataframe tbody tr th {\n",
              "        vertical-align: top;\n",
              "    }\n",
              "\n",
              "    .dataframe thead th {\n",
              "        text-align: right;\n",
              "    }\n",
              "</style>\n",
              "<table border=\"1\" class=\"dataframe\">\n",
              "  <thead>\n",
              "    <tr style=\"text-align: right;\">\n",
              "      <th></th>\n",
              "      <th>term</th>\n",
              "      <th>context</th>\n",
              "      <th>Nij</th>\n",
              "    </tr>\n",
              "  </thead>\n",
              "  <tbody>\n",
              "    <tr>\n",
              "      <th>0</th>\n",
              "      <td>chief</td>\n",
              "      <td>peace</td>\n",
              "      <td>2072.8</td>\n",
              "    </tr>\n",
              "    <tr>\n",
              "      <th>1</th>\n",
              "      <td>produces</td>\n",
              "      <td>venezuela</td>\n",
              "      <td>109.4</td>\n",
              "    </tr>\n",
              "    <tr>\n",
              "      <th>2</th>\n",
              "      <td>resources</td>\n",
              "      <td>?</td>\n",
              "      <td>411.2</td>\n",
              "    </tr>\n",
              "    <tr>\n",
              "      <th>3</th>\n",
              "      <td>israelis</td>\n",
              "      <td>later</td>\n",
              "      <td>196.2</td>\n",
              "    </tr>\n",
              "    <tr>\n",
              "      <th>4</th>\n",
              "      <td>however</td>\n",
              "      <td>list</td>\n",
              "      <td>1395.2</td>\n",
              "    </tr>\n",
              "  </tbody>\n",
              "</table>\n",
              "</div>\n",
              "    <div class=\"colab-df-buttons\">\n",
              "\n",
              "  <div class=\"colab-df-container\">\n",
              "    <button class=\"colab-df-convert\" onclick=\"convertToInteractive('df-f3fb3585-c55e-4bc2-9f70-21bc1c747952')\"\n",
              "            title=\"Convert this dataframe to an interactive table.\"\n",
              "            style=\"display:none;\">\n",
              "\n",
              "  <svg xmlns=\"http://www.w3.org/2000/svg\" height=\"24px\" viewBox=\"0 -960 960 960\">\n",
              "    <path d=\"M120-120v-720h720v720H120Zm60-500h600v-160H180v160Zm220 220h160v-160H400v160Zm0 220h160v-160H400v160ZM180-400h160v-160H180v160Zm440 0h160v-160H620v160ZM180-180h160v-160H180v160Zm440 0h160v-160H620v160Z\"/>\n",
              "  </svg>\n",
              "    </button>\n",
              "\n",
              "  <style>\n",
              "    .colab-df-container {\n",
              "      display:flex;\n",
              "      gap: 12px;\n",
              "    }\n",
              "\n",
              "    .colab-df-convert {\n",
              "      background-color: #E8F0FE;\n",
              "      border: none;\n",
              "      border-radius: 50%;\n",
              "      cursor: pointer;\n",
              "      display: none;\n",
              "      fill: #1967D2;\n",
              "      height: 32px;\n",
              "      padding: 0 0 0 0;\n",
              "      width: 32px;\n",
              "    }\n",
              "\n",
              "    .colab-df-convert:hover {\n",
              "      background-color: #E2EBFA;\n",
              "      box-shadow: 0px 1px 2px rgba(60, 64, 67, 0.3), 0px 1px 3px 1px rgba(60, 64, 67, 0.15);\n",
              "      fill: #174EA6;\n",
              "    }\n",
              "\n",
              "    .colab-df-buttons div {\n",
              "      margin-bottom: 4px;\n",
              "    }\n",
              "\n",
              "    [theme=dark] .colab-df-convert {\n",
              "      background-color: #3B4455;\n",
              "      fill: #D2E3FC;\n",
              "    }\n",
              "\n",
              "    [theme=dark] .colab-df-convert:hover {\n",
              "      background-color: #434B5C;\n",
              "      box-shadow: 0px 1px 3px 1px rgba(0, 0, 0, 0.15);\n",
              "      filter: drop-shadow(0px 1px 2px rgba(0, 0, 0, 0.3));\n",
              "      fill: #FFFFFF;\n",
              "    }\n",
              "  </style>\n",
              "\n",
              "    <script>\n",
              "      const buttonEl =\n",
              "        document.querySelector('#df-f3fb3585-c55e-4bc2-9f70-21bc1c747952 button.colab-df-convert');\n",
              "      buttonEl.style.display =\n",
              "        google.colab.kernel.accessAllowed ? 'block' : 'none';\n",
              "\n",
              "      async function convertToInteractive(key) {\n",
              "        const element = document.querySelector('#df-f3fb3585-c55e-4bc2-9f70-21bc1c747952');\n",
              "        const dataTable =\n",
              "          await google.colab.kernel.invokeFunction('convertToInteractive',\n",
              "                                                    [key], {});\n",
              "        if (!dataTable) return;\n",
              "\n",
              "        const docLinkHtml = 'Like what you see? Visit the ' +\n",
              "          '<a target=\"_blank\" href=https://colab.research.google.com/notebooks/data_table.ipynb>data table notebook</a>'\n",
              "          + ' to learn more about interactive tables.';\n",
              "        element.innerHTML = '';\n",
              "        dataTable['output_type'] = 'display_data';\n",
              "        await google.colab.output.renderOutput(dataTable, element);\n",
              "        const docLink = document.createElement('div');\n",
              "        docLink.innerHTML = docLinkHtml;\n",
              "        element.appendChild(docLink);\n",
              "      }\n",
              "    </script>\n",
              "  </div>\n",
              "\n",
              "\n",
              "<div id=\"df-b7b0ccb5-5cb2-4898-8fec-810acf0277b9\">\n",
              "  <button class=\"colab-df-quickchart\" onclick=\"quickchart('df-b7b0ccb5-5cb2-4898-8fec-810acf0277b9')\"\n",
              "            title=\"Suggest charts\"\n",
              "            style=\"display:none;\">\n",
              "\n",
              "<svg xmlns=\"http://www.w3.org/2000/svg\" height=\"24px\"viewBox=\"0 0 24 24\"\n",
              "     width=\"24px\">\n",
              "    <g>\n",
              "        <path d=\"M19 3H5c-1.1 0-2 .9-2 2v14c0 1.1.9 2 2 2h14c1.1 0 2-.9 2-2V5c0-1.1-.9-2-2-2zM9 17H7v-7h2v7zm4 0h-2V7h2v10zm4 0h-2v-4h2v4z\"/>\n",
              "    </g>\n",
              "</svg>\n",
              "  </button>\n",
              "\n",
              "<style>\n",
              "  .colab-df-quickchart {\n",
              "      --bg-color: #E8F0FE;\n",
              "      --fill-color: #1967D2;\n",
              "      --hover-bg-color: #E2EBFA;\n",
              "      --hover-fill-color: #174EA6;\n",
              "      --disabled-fill-color: #AAA;\n",
              "      --disabled-bg-color: #DDD;\n",
              "  }\n",
              "\n",
              "  [theme=dark] .colab-df-quickchart {\n",
              "      --bg-color: #3B4455;\n",
              "      --fill-color: #D2E3FC;\n",
              "      --hover-bg-color: #434B5C;\n",
              "      --hover-fill-color: #FFFFFF;\n",
              "      --disabled-bg-color: #3B4455;\n",
              "      --disabled-fill-color: #666;\n",
              "  }\n",
              "\n",
              "  .colab-df-quickchart {\n",
              "    background-color: var(--bg-color);\n",
              "    border: none;\n",
              "    border-radius: 50%;\n",
              "    cursor: pointer;\n",
              "    display: none;\n",
              "    fill: var(--fill-color);\n",
              "    height: 32px;\n",
              "    padding: 0;\n",
              "    width: 32px;\n",
              "  }\n",
              "\n",
              "  .colab-df-quickchart:hover {\n",
              "    background-color: var(--hover-bg-color);\n",
              "    box-shadow: 0 1px 2px rgba(60, 64, 67, 0.3), 0 1px 3px 1px rgba(60, 64, 67, 0.15);\n",
              "    fill: var(--button-hover-fill-color);\n",
              "  }\n",
              "\n",
              "  .colab-df-quickchart-complete:disabled,\n",
              "  .colab-df-quickchart-complete:disabled:hover {\n",
              "    background-color: var(--disabled-bg-color);\n",
              "    fill: var(--disabled-fill-color);\n",
              "    box-shadow: none;\n",
              "  }\n",
              "\n",
              "  .colab-df-spinner {\n",
              "    border: 2px solid var(--fill-color);\n",
              "    border-color: transparent;\n",
              "    border-bottom-color: var(--fill-color);\n",
              "    animation:\n",
              "      spin 1s steps(1) infinite;\n",
              "  }\n",
              "\n",
              "  @keyframes spin {\n",
              "    0% {\n",
              "      border-color: transparent;\n",
              "      border-bottom-color: var(--fill-color);\n",
              "      border-left-color: var(--fill-color);\n",
              "    }\n",
              "    20% {\n",
              "      border-color: transparent;\n",
              "      border-left-color: var(--fill-color);\n",
              "      border-top-color: var(--fill-color);\n",
              "    }\n",
              "    30% {\n",
              "      border-color: transparent;\n",
              "      border-left-color: var(--fill-color);\n",
              "      border-top-color: var(--fill-color);\n",
              "      border-right-color: var(--fill-color);\n",
              "    }\n",
              "    40% {\n",
              "      border-color: transparent;\n",
              "      border-right-color: var(--fill-color);\n",
              "      border-top-color: var(--fill-color);\n",
              "    }\n",
              "    60% {\n",
              "      border-color: transparent;\n",
              "      border-right-color: var(--fill-color);\n",
              "    }\n",
              "    80% {\n",
              "      border-color: transparent;\n",
              "      border-right-color: var(--fill-color);\n",
              "      border-bottom-color: var(--fill-color);\n",
              "    }\n",
              "    90% {\n",
              "      border-color: transparent;\n",
              "      border-bottom-color: var(--fill-color);\n",
              "    }\n",
              "  }\n",
              "</style>\n",
              "\n",
              "  <script>\n",
              "    async function quickchart(key) {\n",
              "      const quickchartButtonEl =\n",
              "        document.querySelector('#' + key + ' button');\n",
              "      quickchartButtonEl.disabled = true;  // To prevent multiple clicks.\n",
              "      quickchartButtonEl.classList.add('colab-df-spinner');\n",
              "      try {\n",
              "        const charts = await google.colab.kernel.invokeFunction(\n",
              "            'suggestCharts', [key], {});\n",
              "      } catch (error) {\n",
              "        console.error('Error during call to suggestCharts:', error);\n",
              "      }\n",
              "      quickchartButtonEl.classList.remove('colab-df-spinner');\n",
              "      quickchartButtonEl.classList.add('colab-df-quickchart-complete');\n",
              "    }\n",
              "    (() => {\n",
              "      let quickchartButtonEl =\n",
              "        document.querySelector('#df-b7b0ccb5-5cb2-4898-8fec-810acf0277b9 button');\n",
              "      quickchartButtonEl.style.display =\n",
              "        google.colab.kernel.accessAllowed ? 'block' : 'none';\n",
              "    })();\n",
              "  </script>\n",
              "</div>\n",
              "\n",
              "    </div>\n",
              "  </div>\n"
            ],
            "application/vnd.google.colaboratory.intrinsic+json": {
              "type": "dataframe",
              "variable_name": "df"
            }
          },
          "metadata": {},
          "execution_count": 13
        }
      ],
      "source": [
        "df.head()"
      ]
    },
    {
      "cell_type": "code",
      "execution_count": 15,
      "metadata": {
        "id": "yzpcrDNJfB6P"
      },
      "outputs": [],
      "source": [
        "# Now we are loading in the data from the dataframe (quick and kind of dirty).\n",
        "vocab = {\"<unk>\": 0}\n",
        "invocab = [\"<unk>\"]\n",
        "\n",
        "from collections import defaultdict\n",
        "counts = defaultdict(float)\n",
        "\n",
        "# Fill in counts so that for each term  you get the count of the term.\n",
        "for tup in df.itertuples():\n",
        "    if tup.term in counts.keys():\n",
        "        counts[tup.term] += 1\n",
        "    else:\n",
        "        counts[tup.term] = 1\n",
        "\n",
        "for i, w in enumerate(sorted(counts.keys(), key=lambda x: -counts[x])):\n",
        "    # Update the vocab and invocab maps.\n",
        "    vocab[w] = i+1\n",
        "    invocab.append(w)\n",
        "\n",
        "# Let thi be the length of vocab. Should be 5000\n",
        "V = len(invocab)\n",
        "\n",
        "# Given the vocabulary mapping above, we now fill in the Nij matrix.\n",
        "# NOTE - with large vocabs, this should be done using a *sparse* matrix!!!\n",
        "import numpy as np\n",
        "# Make this a numpy array of V and V, fill of zeros.\n",
        "Nij_np = np.zeros((V, V))\n",
        "for tup in df.itertuples():\n",
        "    # Fill in with the int token for the term in tup.\n",
        "    i = vocab[tup.term]\n",
        "    # Fill in with the int token for the context in tup.\n",
        "    j = vocab[tup.context]\n",
        "    # Fill in with the count in tup.\n",
        "    Nij_np[i, j] = tup.Nij"
      ]
    },
    {
      "cell_type": "code",
      "execution_count": 17,
      "metadata": {
        "id": "6ynEXuVWHZiS"
      },
      "outputs": [],
      "source": [
        "# NOTE: The data was a collection has a small issue so the row and column sums are not quite equal. This is fine.\n",
        "\n",
        "Nij = torch.tensor(Nij_np, dtype=torch.float32)\n",
        "# marginalize to get the unigram counts\n",
        "N = torch.sum(Nij)\n",
        "\n",
        "# col sums\n",
        "Ni = torch.sum(Nij, axis=1)\n",
        "\n",
        "# row sum\n",
        "Nj = torch.sum(Nij, axis=0)"
      ]
    },
    {
      "cell_type": "code",
      "execution_count": 18,
      "metadata": {
        "id": "7zr8FsaNfDz9"
      },
      "outputs": [],
      "source": [
        "# Get the PMI matrix. Don't use einsum, but the _check version is one way to get what you want.\n",
        "PMI_np_check = np.array(torch.log((N * Nij) / (torch.einsum('i,j->ij', Ni, Nj))))\n",
        "\n",
        "PMI_np = np.array(torch.log((N * Nij) / (torch.outer(Ni, Nj))))"
      ]
    },
    {
      "cell_type": "code",
      "execution_count": 20,
      "metadata": {
        "id": "mYKkSiIyHZiT"
      },
      "outputs": [],
      "source": [
        "# Check the denominators are equal.\n",
        "assert(torch.all(\n",
        "    torch.eq(\n",
        "        torch.einsum('i,j->ij', Ni, Nj),\n",
        "        torch.outer(Ni, Nj)\n",
        ")).item())"
      ]
    },
    {
      "cell_type": "code",
      "execution_count": null,
      "metadata": {
        "id": "oeIU3EpZHZiT"
      },
      "outputs": [],
      "source": []
    },
    {
      "cell_type": "markdown",
      "metadata": {
        "id": "H-yluEf3n_rN"
      },
      "source": [
        "Let's do a sanity check and examine the count statistics with some cool matplotlib visualizations.\n",
        "\n",
        "You should see about 75% of the M matrix is zero."
      ]
    },
    {
      "cell_type": "code",
      "execution_count": 21,
      "metadata": {
        "colab": {
          "base_uri": "https://localhost:8080/",
          "height": 1000
        },
        "id": "qTJ6-Urun-_G",
        "outputId": "1ce97bef-427f-42f9-8f27-f0e6de5ea68e"
      },
      "outputs": [
        {
          "output_type": "stream",
          "name": "stdout",
          "text": [
            "Percent -infinities in the PMI matrix: 75.0882%\n",
            "Statistics of PMIs: \n",
            "0.1404 mean, 1.0461 std\n"
          ]
        },
        {
          "output_type": "stream",
          "name": "stderr",
          "text": [
            "<ipython-input-21-c05fa80da895>:29: MatplotlibDeprecationWarning: The get_cmap function was deprecated in Matplotlib 3.7 and will be removed two minor releases later. Use ``matplotlib.colormaps[name]`` or ``matplotlib.colormaps.get_cmap(obj)`` instead.\n",
            "  cm = plt.cm.get_cmap(\"coolwarm\")\n"
          ]
        },
        {
          "output_type": "display_data",
          "data": {
            "text/plain": [
              "<Figure size 640x480 with 2 Axes>"
            ],
            "image/png": "[encoded data removed]"
          },
          "metadata": {}
        },
        {
          "output_type": "display_data",
          "data": {
            "text/plain": [
              "<Figure size 640x480 with 1 Axes>"
            ],
            "image/png": "[encoded data removed]"
          },
          "metadata": {}
        }
      ],
      "source": [
        "from matplotlib import pyplot as plt\n",
        "# Investigate some of the statistics.\n",
        "flat_PMI_np = PMI_np.reshape(-1)\n",
        "pmi_negativeinf = np.sum(flat_PMI_np == -np.inf)\n",
        "total = np.prod(PMI_np.shape)\n",
        "print('Percent -infinities in the PMI matrix: {:.4f}%'.format(\n",
        "    100 * pmi_negativeinf / total))\n",
        "\n",
        "# Visualize the matrix!\n",
        "_ = plt.figure()\n",
        "_ = plt.imshow(PMI_np, cmap=\"coolwarm\")\n",
        "_ = plt.xlabel(\"term index\")\n",
        "_ = plt.colorbar()\n",
        "\n",
        "# Turn the -infinities to something easier to work with.\n",
        "PMI_np[PMI_np == -np.inf] = -4\n",
        "PMI_np[np.isnan(PMI_np)] = -4\n",
        "hist_pmis = flat_PMI_np[flat_PMI_np != -4]\n",
        "_ = plt.figure()\n",
        "n, bins, patches = plt.hist(hist_pmis,\n",
        "                            bins=100,\n",
        "                            color=\"b\",\n",
        "                            alpha=1)\n",
        "print(\"Statistics of PMIs: \")\n",
        "print(\"{:0.4f} mean, {:0.4f} std\".format(np.mean(hist_pmis),\n",
        "                                         np.std(hist_pmis)))\n",
        "\n",
        "# Add shading to the histogram.\n",
        "cm = plt.cm.get_cmap(\"coolwarm\")\n",
        "bin_centers = 0.5 * (bins[:-1] + bins[1:])\n",
        "col = bin_centers - min(bin_centers)\n",
        "col /= max(col)\n",
        "for c, p in zip(col, patches):\n",
        "    plt.setp(p, 'facecolor', cm(c))\n",
        "_ = plt.xlabel(\"PMI value\")\n",
        "_ = plt.ylabel(\"probability mass\")\n",
        "_ = plt.title(\"Histogram of PMIs (excluding -infinities)\")"
      ]
    },
    {
      "cell_type": "code",
      "execution_count": 22,
      "metadata": {
        "colab": {
          "base_uri": "https://localhost:8080/"
        },
        "id": "lXPxYsVkwiOV",
        "outputId": "65ae20bb-7411-494a-9e01-ec2ab94988a3"
      },
      "outputs": [
        {
          "output_type": "stream",
          "name": "stdout",
          "text": [
            "--- Word pairs with the notable PMIs ---\n",
            "\n",
            "|        |              (PMI = 9.3956)\n",
            "rico     puerto         (PMI = 8.9204)\n",
            "puerto   rico           (PMI = 8.9190)\n",
            "vegas    las            (PMI = 8.6999)\n",
            "las      vegas          (PMI = 8.6943)\n",
            "laden    bin            (PMI = 8.3082)\n",
            "trim     optional       (PMI = 8.3080)\n",
            "optional trim           (PMI = 8.3073)\n",
            "bin      laden          (PMI = 8.2968)\n",
            "lanka    sri            (PMI = 8.1912)\n",
            "sri      lanka          (PMI = 8.1661)\n",
            "chirac   jacques        (PMI = 8.1148)\n",
            "jacques  chirac         (PMI = 8.0813)\n",
            "racial   makeup         (PMI = 8.0538)\n",
            "makeup   racial         (PMI = 8.0533)\n",
            "nasdaq   composite      (PMI = 8.0437)\n",
            "composite nasdaq         (PMI = 8.0282)\n"
          ]
        }
      ],
      "source": [
        "\"\"\"\n",
        "Note that there was a slight bug when extracting corpus statistics,\n",
        "since the context window (w=5) is symmetric, PMI(i,j) should always equal\n",
        "PMI(j,i); however, due to improper handling of context during the first 5 words\n",
        "of a document, the statistics are ever-so-slightly distorted.\n",
        "\"\"\"\n",
        "# look at the biggest PMIs\n",
        "sorted_ind = np.argsort(PMI_np, axis=None)\n",
        "\n",
        "print('--- Word pairs with the notable PMIs ---\\n')\n",
        "for i in range(1, 18):\n",
        "    ind = np.unravel_index(sorted_ind[-i], PMI_np.shape)\n",
        "    term, context = invocab[ind[0]], invocab[ind[1]]\n",
        "    print('{:8} {:14} (PMI = {:0.4f})'.format(term, context, float(PMI_np[ind])))"
      ]
    },
    {
      "cell_type": "code",
      "execution_count": 23,
      "metadata": {
        "id": "0ynz7WgiHZiT"
      },
      "outputs": [],
      "source": [
        "# Create the object representing the loss function. Use SGNSLoss with K = 1.\n",
        "criterion = SGNSLoss(Nij, Ni, Nj, N, K=1)\n",
        "\n",
        "# desired embedding dimensionality\n",
        "E = 50\n",
        "\n",
        "# Create the MF model!\n",
        "model = MFEmbedder(V, E)\n",
        "\n",
        "# Instantiate optimizer using Adam and learning rate 0.1\n",
        "optimizer = torch.optim.Adam(model.parameters(), lr=0.1)\n"
      ]
    },
    {
      "cell_type": "markdown",
      "metadata": {
        "id": "YsuDyr30HZiT"
      },
      "source": [
        "Here we want to do the unconstrained optimization."
      ]
    },
    {
      "cell_type": "code",
      "execution_count": 24,
      "metadata": {
        "id": "l06WRh4-HZiT"
      },
      "outputs": [],
      "source": [
        "def train_step(model, optimizer, n=1000):\n",
        "    \"Training loop for torch model.\"\n",
        "    losses = []\n",
        "    optimizer.zero_grad()\n",
        "    # This is B @ A.t().\n",
        "    BA = model.B @ model.A.t()\n",
        "    loss = criterion(BA)\n",
        "    loss.backward()\n",
        "    optimizer.step()\n",
        "    return loss.item()"
      ]
    },
    {
      "cell_type": "code",
      "execution_count": null,
      "metadata": {
        "id": "cYHXu4StHZiT"
      },
      "outputs": [],
      "source": []
    },
    {
      "cell_type": "code",
      "execution_count": 25,
      "metadata": {
        "id": "-M1u6d7lhX77"
      },
      "outputs": [],
      "source": [
        "# Grabs the most similar words to the current term. We scale the vectors and then do an inner product.\n",
        "def most_similar(term):\n",
        "    # Grab the token index for the term.\n",
        "    i = vocab[term]\n",
        "    # Grab the vector for the token i from the B matrix.\n",
        "    emb = model.B[i, :]\n",
        "    # Normalize the embeddings.\n",
        "    embs = nn.functional.normalize(input=model.B, p=2, dim=1)\n",
        "    # Get all the cosine similarities between the emb and embs.\n",
        "    cossims = nn.CosineSimilarity(dim=1, eps=1e-6)(emb, embs)\n",
        "    # Find the clostest words, sort by cossims.\n",
        "    wordsims = torch.argsort(cossims, descending=True)\n",
        "    # Get the top 6 words. Use invvoc.\n",
        "    return [invocab[torch.argsort(cossims, descending=True)[k]] for k in range(1, 7)] # first is the word itself"
      ]
    },
    {
      "cell_type": "code",
      "execution_count": 29,
      "metadata": {
        "colab": {
          "base_uri": "https://localhost:8080/"
        },
        "id": "qeFvqnruhVYy",
        "outputId": "b63fa1c0-acfc-4518-9fec-3fdf506546db"
      },
      "outputs": [
        {
          "output_type": "stream",
          "name": "stdout",
          "text": [
            "\n",
            "step    0 - loss: 60263464960.0 (1.5330 seconds)\n",
            "\t similar to \"money\": driving devoted bed jack appeared recovered\n",
            "\t similar to \"peace\": tennessee treaty power military terrorism figures\n",
            "\n",
            "step   50 - loss: 60188536832.0 (44.4770 seconds)\n",
            "\t similar to \"money\": driving devoted bed jack attention recovered\n",
            "\t similar to \"peace\": tennessee treaty military power terrorism figures\n",
            "\n",
            "step  100 - loss: 60124581888.0 (44.4561 seconds)\n",
            "\t similar to \"money\": driving devoted bed attention check jack\n",
            "\t similar to \"peace\": tennessee treaty military power terrorism broadcasting\n",
            "\n",
            "step  150 - loss: 60068519936.0 (45.4374 seconds)\n",
            "\t similar to \"money\": driving devoted bed attention check jack\n",
            "\t similar to \"peace\": tennessee treaty military terrorism power decision\n",
            "\n",
            "step  200 - loss: 60018429952.0 (46.1620 seconds)\n",
            "\t similar to \"money\": driving devoted attention bed check controlled\n",
            "\t similar to \"peace\": tennessee military treaty terrorism power decision\n",
            "\n",
            "step  250 - loss: 59973079040.0 (45.8758 seconds)\n",
            "\t similar to \"money\": driving devoted attention bed check controlled\n",
            "\t similar to \"peace\": tennessee military terrorism treaty power decision\n",
            "\n",
            "step  300 - loss: 59931557888.0 (46.0224 seconds)\n",
            "\t similar to \"money\": driving devoted attention bed check controlled\n",
            "\t similar to \"peace\": tennessee terrorism military power treaty decision\n",
            "\n",
            "step  350 - loss: 59893354496.0 (47.8370 seconds)\n",
            "\t similar to \"money\": driving devoted attention bed check controlled\n",
            "\t similar to \"peace\": tennessee terrorism power military treaty decision\n",
            "\n",
            "step  400 - loss: 59858051072.0 (48.5961 seconds)\n",
            "\t similar to \"money\": driving attention devoted bed check controlled\n",
            "\t similar to \"peace\": tennessee terrorism power military treaty decision\n",
            "\n",
            "step  450 - loss: 59825270784.0 (48.4571 seconds)\n",
            "\t similar to \"money\": driving attention devoted bed check controlled\n",
            "\t similar to \"peace\": tennessee terrorism power treaty military decision\n",
            "\n",
            "step  500 - loss: 59794825216.0 (48.4762 seconds)\n",
            "\t similar to \"money\": driving attention bed check devoted controlled\n",
            "\t similar to \"peace\": tennessee terrorism power treaty military decision\n",
            "\n",
            "step  550 - loss: 59766534144.0 (48.6066 seconds)\n",
            "\t similar to \"money\": driving attention bed check controlled devoted\n",
            "\t similar to \"peace\": tennessee terrorism power treaty military decision\n",
            "\n",
            "step  600 - loss: 59739860992.0 (48.0183 seconds)\n",
            "\t similar to \"money\": driving attention check bed controlled devoted\n",
            "\t similar to \"peace\": tennessee terrorism treaty power military decision\n",
            "\n",
            "step  650 - loss: 59714809856.0 (48.6118 seconds)\n",
            "\t similar to \"money\": driving attention check bed controlled jack\n",
            "\t similar to \"peace\": tennessee terrorism treaty power military decision\n",
            "\n",
            "step  700 - loss: 59691212800.0 (48.2198 seconds)\n",
            "\t similar to \"money\": driving attention check bed controlled jack\n",
            "\t similar to \"peace\": tennessee terrorism treaty power decision military\n",
            "\n",
            "step  750 - loss: 59668946944.0 (48.2159 seconds)\n",
            "\t similar to \"money\": driving attention check bed controlled jack\n",
            "\t similar to \"peace\": tennessee terrorism treaty power decision military\n",
            "\n",
            "step  800 - loss: 59647635456.0 (49.1836 seconds)\n",
            "\t similar to \"money\": driving attention check bed controlled jack\n",
            "\t similar to \"peace\": terrorism tennessee treaty power decision military\n",
            "\n",
            "step  850 - loss: 59627614208.0 (48.8558 seconds)\n",
            "\t similar to \"money\": driving attention check bed ten puts\n",
            "\t similar to \"peace\": terrorism tennessee treaty power decision military\n",
            "\n",
            "step  900 - loss: 59608150016.0 (48.5944 seconds)\n",
            "\t similar to \"money\": driving attention check puts ten last\n",
            "\t similar to \"peace\": terrorism tennessee treaty military decision free\n",
            "\n",
            "step  950 - loss: 59589660672.0 (64.9602 seconds)\n",
            "\t similar to \"money\": driving attention puts ten check help\n",
            "\t similar to \"peace\": terrorism tennessee treaty free military decision\n",
            "\n",
            "step 1000 - loss: 59571970048.0 (48.4392 seconds)\n",
            "\t similar to \"money\": driving attention puts ten help stanley\n",
            "\t similar to \"peace\": terrorism tennessee treaty free military decision\n",
            "\n",
            "Total time: 969.2309 seconds.\n"
          ]
        }
      ],
      "source": [
        "# Now run a training loop! Note that these embeddings will be trained in less\n",
        "# than 15 minutes - much much much faster than it would take for the original\n",
        "# implementation. But, the speed of this is dependent on the vocabulary size.\n",
        "import time\n",
        "\n",
        "start = time.process_time()\n",
        "estart = time.process_time()\n",
        "results = []\n",
        "\n",
        "n_iters = 1000 + 1\n",
        "print_every = 50\n",
        "\n",
        "for i in range(n_iters):\n",
        "    loss = train_step(model, optimizer)\n",
        "    results.append(loss)\n",
        "    if i % print_every == 0:\n",
        "        print('\\nstep {:4} - loss: {} ({:0.4f} seconds)'.format(\n",
        "            i, results[-1], time.process_time()  - estart)\n",
        "             )\n",
        "        print('\\t similar to \\\"money\\\": '+\" \".join(most_similar(\"money\")))\n",
        "        print('\\t similar to \\\"peace\\\": '+\" \".join(most_similar(\"peace\")))\n",
        "\n",
        "        estart = time.process_time()\n",
        "\n",
        "print('\\nTotal time: {:0.4f} seconds.'.format(time.process_time()  - start))"
      ]
    },
    {
      "cell_type": "code",
      "execution_count": 30,
      "metadata": {
        "colab": {
          "base_uri": "https://localhost:8080/",
          "height": 465
        },
        "id": "4a8pjCQQmA8S",
        "outputId": "6cb96b50-1285-4abb-f3f4-d3f9d329c032"
      },
      "outputs": [
        {
          "output_type": "display_data",
          "data": {
            "text/plain": [
              "<Figure size 640x480 with 1 Axes>"
            ],
            "image/png": "[encoded data removed]"
          },
          "metadata": {}
        }
      ],
      "source": [
        "# Let's look at the loss over time.\n",
        "from matplotlib import pyplot as plt\n",
        "x = np.array(list(range(len(results))))\n",
        "y = np.array(results)\n",
        "\n",
        "# use the underscore to avoid printing to colab\n",
        "_ = plt.figure()\n",
        "_ = plt.plot(x, y, '--r', label=\"loss\")\n",
        "_ = plt.xlabel(\"Iteration\")\n",
        "_ = plt.ylabel(\"Loss value\")\n",
        "# _ = plt.title(\"MF-SGNS loss over time\")\n",
        "_ = plt.legend()"
      ]
    },
    {
      "cell_type": "markdown",
      "metadata": {
        "id": "k_uJxoYpjVuP"
      },
      "source": [
        "Training is finished, and it looks like the model is learning to produce vectors with desirable semantic qualities! The loss is descreasing as well. As a final sanity check, let's do a manual inspection of a few more words, just to double check."
      ]
    },
    {
      "cell_type": "code",
      "execution_count": 31,
      "metadata": {
        "colab": {
          "base_uri": "https://localhost:8080/"
        },
        "id": "ixnafiNliM6k",
        "outputId": "b5ed1395-041e-48c4-cb05-c554347cdb85"
      },
      "outputs": [
        {
          "output_type": "stream",
          "name": "stdout",
          "text": [
            "drive     : dodgers caribbean painting ahead balance shared\n",
            "america   : spain am korea peak van taste\n",
            "east      : waters society pennsylvania them church threat\n",
            "soviet    : territories rivals producing farms arm documents\n",
            "belgium   : territories 1971 giant 1915 1952 v\n",
            "brussels  : indonesian southwest verdict attract defended dole\n",
            "1914      : 1955 1918 scholars milk advisory painting\n"
          ]
        }
      ],
      "source": [
        "# More maual inspection.\n",
        "# You should see that this makes sense as below.\n",
        "for w in [\"drive\", \"america\", \"east\", \"soviet\", \"belgium\", \"brussels\", \"1914\"]:\n",
        "    print(\"{:10}: {}\".format(w, \" \".join(most_similar(w))))"
      ]
    },
    {
      "cell_type": "code",
      "source": [
        "# More maual inspection.\n",
        "# You should see that this makes sense as below.\n",
        "for w in [\"drive\", \"america\", \"east\", \"soviet\", \"belgium\", \"brussels\", \"1914\"]:\n",
        "    print(\"{:10}: {}\".format(w, \" \".join(most_similar(w))))"
      ],
      "metadata": {
        "colab": {
          "base_uri": "https://localhost:8080/"
        },
        "id": "n563d8Ngtm4F",
        "outputId": "09508fce-b761-45cc-8f38-e48e59c8fbfe"
      },
      "execution_count": 32,
      "outputs": [
        {
          "output_type": "stream",
          "name": "stdout",
          "text": [
            "drive     : dodgers caribbean painting ahead balance shared\n",
            "america   : spain am korea peak van taste\n",
            "east      : waters society pennsylvania them church threat\n",
            "soviet    : territories rivals producing farms arm documents\n",
            "belgium   : territories 1971 giant 1915 1952 v\n",
            "brussels  : indonesian southwest verdict attract defended dole\n",
            "1914      : 1955 1918 scholars milk advisory painting\n"
          ]
        }
      ]
    },
    {
      "cell_type": "code",
      "source": [],
      "metadata": {
        "id": "BhQdbAKRtoEk"
      },
      "execution_count": null,
      "outputs": []
    }
  ],
  "metadata": {
    "colab": {
      "provenance": []
    },
    "kernelspec": {
      "display_name": "Python 3 (ipykernel)",
      "language": "python",
      "name": "python3"
    },
    "language_info": {
      "codemirror_mode": {
        "name": "ipython",
        "version": 3
      },
      "file_extension": ".py",
      "mimetype": "text/x-python",
      "name": "python",
      "nbconvert_exporter": "python",
      "pygments_lexer": "ipython3",
      "version": "3.8.15"
    }
  },
  "nbformat": 4,
  "nbformat_minor": 0
}