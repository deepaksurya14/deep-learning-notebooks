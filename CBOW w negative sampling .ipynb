{
  "cells": [
    {
      "cell_type": "code",
      "execution_count": 16,
      "id": "080d50fc",
      "metadata": {
        "id": "080d50fc"
      },
      "outputs": [],
      "source": [
        "import time\n",
        "import torch\n",
        "from torch.utils.data import DataLoader, TensorDataset\n",
        "from torchtext.data.utils import get_tokenizer\n",
        "from torchtext.datasets import DATASETS\n",
        "from torchtext.vocab import build_vocab_from_iterator\n",
        "import torch.nn as nn\n",
        "from tqdm import tqdm\n",
        "import pickle\n",
        "import random\n",
        "import numpy as np\n",
        "from collections import Counter, defaultdict\n",
        "import numpy as np\n",
        "import matplotlib.pyplot as plt\n",
        "from sklearn.decomposition import PCA\n",
        "from gensim.test.utils import datapath, get_tmpfile\n",
        "from gensim.models import KeyedVectors\n",
        "import gensim.downloader\n",
        "from torch import FloatTensor as FT\n",
        "\n",
        "# Get the interactive Tools for Matplotlib\n",
        "%matplotlib notebook\n",
        "%matplotlib inline\n",
        "\n",
        "plt.style.use('ggplot')"
      ]
    },
    {
      "cell_type": "code",
      "execution_count": 16,
      "id": "f5419c32",
      "metadata": {
        "id": "f5419c32"
      },
      "outputs": [],
      "source": []
    },
    {
      "cell_type": "markdown",
      "id": "66eb271d",
      "metadata": {
        "id": "66eb271d"
      },
      "source": [
        "### Instructions\n",
        "For this part, fill in the required code and make the notebook work. This wll be very similar to the Skip-Gram model, but a little more difficult. Look for the \"\"\" FILL IN \"\"\" string to guide you."
      ]
    },
    {
      "cell_type": "code",
      "execution_count": 17,
      "id": "31b412ca",
      "metadata": {
        "id": "31b412ca"
      },
      "outputs": [],
      "source": [
        "# Where do I want to run my job. You can do \"cuda\" on linux machines\n",
        "DEVICE = \"mps\" if torch.backends.mps.is_available() else  \"cpu\"\n",
        "# DEVICE = \"cuda\" if torch.cuda.is_available() else  \"cpu\"\n",
        "\n",
        "# The batch size in Adam or SGD\n",
        "BATCH_SIZE = 512\n",
        "\n",
        "# Number of epochs\n",
        "NUM_EPOCHS = 10\n",
        "\n",
        "# Predict from 2 words the inner word for CBOW\n",
        "# I.e. I'll have a window like [\"a\", \"b\", \"c\"] of continuous text (each is a word)\n",
        "# We'll predict each of wc = [\"a\", \"c\"] from \"b\" = wc for Skip-Gram\n",
        "# For CBOW, we'll use [\"a\", \"c\"] to predict \"b\" = wo\n",
        "WINDOW = 1\n",
        "\n",
        "# Negative samples.\n",
        "K = 4"
      ]
    },
    {
      "cell_type": "markdown",
      "id": "3ec9f90a",
      "metadata": {
        "id": "3ec9f90a"
      },
      "source": [
        "The text8 Wikipedia corpus. 100M characters."
      ]
    },
    {
      "cell_type": "code",
      "execution_count": 18,
      "id": "3217b67b",
      "metadata": {
        "id": "3217b67b",
        "outputId": "0787e065-a28f-45d1-f145-ab366c577c7d",
        "colab": {
          "base_uri": "https://localhost:8080/",
          "height": 0
        }
      },
      "outputs": [
        {
          "output_type": "stream",
          "name": "stdout",
          "text": [
            "Drive already mounted at /content/drive; to attempt to forcibly remount, call drive.mount(\"/content/drive\", force_remount=True).\n"
          ]
        }
      ],
      "source": [
        "# Put the data in your Google Drive\n",
        "# You ca get the data here: https://www.kaggle.com/competitions/titanic/data\n",
        "from google.colab import drive\n",
        "drive.mount('/content/drive')\n",
        "\n"
      ]
    },
    {
      "cell_type": "code",
      "source": [],
      "metadata": {
        "id": "aMDiRBac9HAn"
      },
      "id": "aMDiRBac9HAn",
      "execution_count": 18,
      "outputs": []
    },
    {
      "cell_type": "code",
      "source": [
        "!du -h text8\n"
      ],
      "metadata": {
        "colab": {
          "base_uri": "https://localhost:8080/",
          "height": 0
        },
        "id": "yi5HQjWo_IYf",
        "outputId": "2cd1c6ae-7adc-4b05-a63f-2dd7bb9255ac"
      },
      "id": "yi5HQjWo_IYf",
      "execution_count": 19,
      "outputs": [
        {
          "output_type": "stream",
          "name": "stdout",
          "text": [
            "du: cannot access 'text8': No such file or directory\n"
          ]
        }
      ]
    },
    {
      "cell_type": "code",
      "source": [
        "\n",
        "f = open('/content/drive/MyDrive/titanic/text8 (1)', 'r')\n",
        "text = f.read()\n",
        "# One big string of size 100M\n",
        "print(len(text))"
      ],
      "metadata": {
        "colab": {
          "base_uri": "https://localhost:8080/",
          "height": 0
        },
        "id": "-ssu4dwb_F1_",
        "outputId": "a4781f4e-9b6b-4299-c3af-e080ee721a70"
      },
      "id": "-ssu4dwb_F1_",
      "execution_count": 20,
      "outputs": [
        {
          "output_type": "stream",
          "name": "stdout",
          "text": [
            "100000000\n"
          ]
        }
      ]
    },
    {
      "cell_type": "code",
      "execution_count": 21,
      "id": "6c1bf892",
      "metadata": {
        "id": "6c1bf892"
      },
      "outputs": [],
      "source": [
        "punc = '!\"#$%&()*+,-./:;<=>?@[\\\\]^_\\'{|}~\\t\\n'\n",
        "\n",
        "# Can do regular expressions here too\n",
        "for c in punc:\n",
        "    if c in text:\n",
        "        text.replace(c, ' ')"
      ]
    },
    {
      "cell_type": "code",
      "execution_count": 21,
      "id": "451bf3ab",
      "metadata": {
        "id": "451bf3ab"
      },
      "outputs": [],
      "source": []
    },
    {
      "cell_type": "code",
      "execution_count": 22,
      "id": "0bc19b0c",
      "metadata": {
        "id": "0bc19b0c"
      },
      "outputs": [],
      "source": [
        "# A very crude tokenizer you get for free: lower case and also split on spaces\n",
        "TOKENIZER = get_tokenizer(\"basic_english\")"
      ]
    },
    {
      "cell_type": "code",
      "source": [
        "#text= text[0:int(len(text)/4)]"
      ],
      "metadata": {
        "id": "ArBV_ndw_dGj"
      },
      "id": "ArBV_ndw_dGj",
      "execution_count": 23,
      "outputs": []
    },
    {
      "cell_type": "code",
      "execution_count": 24,
      "id": "ff8fd598",
      "metadata": {
        "id": "ff8fd598"
      },
      "outputs": [],
      "source": [
        "words = TOKENIZER(text)\n",
        "f = Counter(words)"
      ]
    },
    {
      "cell_type": "code",
      "execution_count": 25,
      "id": "ba7f72f8",
      "metadata": {
        "id": "ba7f72f8",
        "outputId": "8c0442a4-2463-4a9e-8f42-f471e69a3c88",
        "colab": {
          "base_uri": "https://localhost:8080/",
          "height": 0
        }
      },
      "outputs": [
        {
          "output_type": "execute_result",
          "data": {
            "text/plain": [
              "17005207"
            ]
          },
          "metadata": {},
          "execution_count": 25
        }
      ],
      "source": [
        "len(words)"
      ]
    },
    {
      "cell_type": "code",
      "execution_count": 26,
      "id": "16b736a4",
      "metadata": {
        "id": "16b736a4"
      },
      "outputs": [],
      "source": [
        "# Do a very crude filter on the text which removes all very popular words\n",
        "text = [word for word in words if f[word] > 5]"
      ]
    },
    {
      "cell_type": "code",
      "execution_count": 27,
      "id": "6916a763",
      "metadata": {
        "id": "6916a763",
        "outputId": "546d4a96-cb18-43c8-a5de-339e0966261d",
        "colab": {
          "base_uri": "https://localhost:8080/",
          "height": 0
        }
      },
      "outputs": [
        {
          "output_type": "execute_result",
          "data": {
            "text/plain": [
              "['anarchism', 'originated', 'as', 'a', 'term']"
            ]
          },
          "metadata": {},
          "execution_count": 27
        }
      ],
      "source": [
        "text[0:5]"
      ]
    },
    {
      "cell_type": "code",
      "execution_count": 28,
      "id": "10ad817a",
      "metadata": {
        "id": "10ad817a"
      },
      "outputs": [],
      "source": [
        "VOCAB = build_vocab_from_iterator([text])"
      ]
    },
    {
      "cell_type": "code",
      "execution_count": 29,
      "id": "a7f69fc9",
      "metadata": {
        "id": "a7f69fc9"
      },
      "outputs": [],
      "source": [
        "# word -> int hash map\n",
        "stoi = VOCAB.get_stoi()\n",
        "# int -> word hash map\n",
        "itos = VOCAB.get_itos()"
      ]
    },
    {
      "cell_type": "code",
      "execution_count": 30,
      "id": "9991f9ab",
      "metadata": {
        "id": "9991f9ab",
        "outputId": "bd97932a-e4cb-4845-93f3-486a8feef42f",
        "colab": {
          "base_uri": "https://localhost:8080/",
          "height": 0
        }
      },
      "outputs": [
        {
          "output_type": "execute_result",
          "data": {
            "text/plain": [
              "11"
            ]
          },
          "metadata": {},
          "execution_count": 30
        }
      ],
      "source": [
        "stoi['as']"
      ]
    },
    {
      "cell_type": "code",
      "source": [
        "itos[11]"
      ],
      "metadata": {
        "colab": {
          "base_uri": "https://localhost:8080/",
          "height": 35
        },
        "id": "3iln-foCAfmk",
        "outputId": "a159132a-95a1-4854-9cb4-7a3dff1ca77c"
      },
      "id": "3iln-foCAfmk",
      "execution_count": 31,
      "outputs": [
        {
          "output_type": "execute_result",
          "data": {
            "text/plain": [
              "'as'"
            ],
            "application/vnd.google.colaboratory.intrinsic+json": {
              "type": "string"
            }
          },
          "metadata": {},
          "execution_count": 31
        }
      ]
    },
    {
      "cell_type": "code",
      "execution_count": 32,
      "id": "0f49f5fa",
      "metadata": {
        "id": "0f49f5fa",
        "outputId": "fdc15980-e987-4057-c32c-654865294d37",
        "colab": {
          "base_uri": "https://localhost:8080/",
          "height": 0
        }
      },
      "outputs": [
        {
          "output_type": "execute_result",
          "data": {
            "text/plain": [
              "63641"
            ]
          },
          "metadata": {},
          "execution_count": 32
        }
      ],
      "source": [
        "# Total number of words\n",
        "len(stoi)"
      ]
    },
    {
      "cell_type": "code",
      "execution_count": 33,
      "id": "6c5c415a",
      "metadata": {
        "id": "6c5c415a"
      },
      "outputs": [],
      "source": [
        "f = Counter(text)\n",
        "# This is the probability that we pick a word in the corpus\n",
        "z = {word: f[word] / len(text) for word in f}"
      ]
    },
    {
      "cell_type": "code",
      "execution_count": 34,
      "id": "1e543e1e",
      "metadata": {
        "id": "1e543e1e"
      },
      "outputs": [],
      "source": [
        "threshold = 1e-5\n",
        "# Probability that word is kept while subsampling\n",
        "# This is explained here and sightly differet from the paper: http://mccormickml.com/2017/01/11/word2vec-tutorial-part-2-negative-sampling/\n",
        "p_keep = {word: (np.sqrt(z[word] / 0.001) + 1)*(0.0001 / z[word]) for word in f}"
      ]
    },
    {
      "cell_type": "code",
      "execution_count": 35,
      "id": "dd22119d",
      "metadata": {
        "id": "dd22119d"
      },
      "outputs": [],
      "source": [
        "# This is in the integer space\n",
        "train_dataset = [word for word in text if random.random() < p_keep[word]]\n",
        "\n",
        "# Rebuild the vocabulary\n",
        "VOCAB = build_vocab_from_iterator([train_dataset])"
      ]
    },
    {
      "cell_type": "code",
      "execution_count": 36,
      "id": "a2d695da",
      "metadata": {
        "id": "a2d695da",
        "outputId": "759d902e-cd9c-4a67-c041-6109a55e512e",
        "colab": {
          "base_uri": "https://localhost:8080/",
          "height": 0
        }
      },
      "outputs": [
        {
          "output_type": "execute_result",
          "data": {
            "text/plain": [
              "7848473"
            ]
          },
          "metadata": {},
          "execution_count": 36
        }
      ],
      "source": [
        "len(train_dataset)"
      ]
    },
    {
      "cell_type": "code",
      "execution_count": 37,
      "id": "30d67549",
      "metadata": {
        "id": "30d67549"
      },
      "outputs": [],
      "source": [
        "# word -> int mapping\n",
        "stoi = VOCAB.get_stoi()\n",
        "# int -> word mapping\n",
        "itos = VOCAB.get_itos()"
      ]
    },
    {
      "cell_type": "code",
      "execution_count": 38,
      "id": "b46337b8",
      "metadata": {
        "id": "b46337b8",
        "outputId": "465ac0b0-a5d0-42c4-d8ea-6ce8a75be16e",
        "colab": {
          "base_uri": "https://localhost:8080/",
          "height": 0
        }
      },
      "outputs": [
        {
          "output_type": "execute_result",
          "data": {
            "text/plain": [
              "63641"
            ]
          },
          "metadata": {},
          "execution_count": 38
        }
      ],
      "source": [
        "# The vocabulary size after we do all the filters\n",
        "len(VOCAB)"
      ]
    },
    {
      "cell_type": "code",
      "execution_count": 39,
      "id": "c9346f36",
      "metadata": {
        "id": "c9346f36"
      },
      "outputs": [],
      "source": [
        "# The probability we draw something for negative sampling\n",
        "f = Counter(train_dataset)\n",
        "p = torch.zeros(len(VOCAB))\n",
        "\n",
        "# Downsample frequent words and upsample less frequent\n",
        "s = sum([np.power(freq, 0.75) for word, freq in f.items()])\n",
        "\n",
        "for word in f:\n",
        "    p[stoi[word]] = np.power(f[word], 0.75) / s"
      ]
    },
    {
      "cell_type": "code",
      "source": [
        "p"
      ],
      "metadata": {
        "id": "AJgifBNOA5oK"
      },
      "id": "AJgifBNOA5oK",
      "execution_count": null,
      "outputs": []
    },
    {
      "cell_type": "code",
      "source": [
        "stoi[\"as\"]"
      ],
      "metadata": {
        "id": "XRZbOfhWbqJM"
      },
      "id": "XRZbOfhWbqJM",
      "execution_count": null,
      "outputs": []
    },
    {
      "cell_type": "code",
      "source": [
        "# Map everything to integers\n",
        "train_dataset = [stoi[word] for word in text]"
      ],
      "metadata": {
        "id": "Xv8lRuYca2hi"
      },
      "id": "Xv8lRuYca2hi",
      "execution_count": null,
      "outputs": []
    },
    {
      "cell_type": "markdown",
      "source": [
        "\n"
      ],
      "metadata": {
        "id": "dd713c15"
      },
      "id": "dd713c15"
    },
    {
      "cell_type": "code",
      "source": [
        "train_dataset"
      ],
      "metadata": {
        "id": "pHnmVbdBTikT"
      },
      "id": "pHnmVbdBTikT",
      "execution_count": null,
      "outputs": []
    },
    {
      "cell_type": "code",
      "source": [
        "def get_tokenized_dataset(dataset, verbose=False):\n",
        "    x_list = []\n",
        "\n",
        "    for i, token in enumerate(dataset):\n",
        "      m = 1\n",
        "\n",
        "      # Get the left and right tokens\n",
        "      start = max(i - m, 0)\n",
        "      left_tokens = dataset[start:i]\n",
        "\n",
        "      end = min(i + m + 1, len(dataset))\n",
        "      right_tokens = dataset[i + 1:end]\n",
        "\n",
        "      # Check these are the same length, and if so use them to add a row of data. This should be a list like\n",
        "      # [a, c, b] where b is the center word\n",
        "      if len(left_tokens) == len(right_tokens):\n",
        "\n",
        "          w_context = [left_tokens[0], right_tokens[0]]\n",
        "\n",
        "\n",
        "          wc = dataset[i]\n",
        "          #print(wc)\n",
        "\n",
        "          w_context.append(wc)\n",
        "\n",
        "          print(w_context)\n",
        "\n",
        "          x_list.extend(\n",
        "              [w_context]\n",
        "          )\n",
        "\n",
        "    return x_list\n"
      ],
      "metadata": {
        "id": "ve8SMEicQf2t"
      },
      "id": "ve8SMEicQf2t",
      "execution_count": 33,
      "outputs": []
    },
    {
      "cell_type": "code",
      "execution_count": 34,
      "id": "3eb82aad",
      "metadata": {
        "id": "3eb82aad",
        "colab": {
          "base_uri": "https://localhost:8080/",
          "height": 0
        },
        "outputId": "13ccb2a0-ef6d-4e9d-9bde-615ca5a7feaa"
      },
      "outputs": [
        {
          "output_type": "stream",
          "name": "stdout",
          "text": [
            "\u001b[1;30;43mStreaming output truncated to the last 5000 lines.\u001b[0m\n",
            "[57447, 1880, 6699]\n",
            "[6699, 157, 1880]\n",
            "[1880, 33, 157]\n",
            "[157, 2854, 33]\n",
            "[33, 159, 2854]\n",
            "[2854, 114, 159]\n",
            "[159, 35, 114]\n",
            "[114, 1299, 35]\n",
            "[35, 29, 1299]\n",
            "[1299, 663, 29]\n",
            "[29, 820, 663]\n",
            "[663, 48, 820]\n",
            "[820, 881, 48]\n",
            "[48, 4, 881]\n",
            "[881, 527, 4]\n",
            "[4, 3, 527]\n",
            "[527, 8, 3]\n",
            "[3, 17, 8]\n",
            "[8, 15, 17]\n",
            "[17, 2, 15]\n",
            "[15, 817, 2]\n",
            "[2, 6, 817]\n",
            "[817, 6699, 6]\n",
            "[6, 16, 6699]\n",
            "[6699, 330, 16]\n",
            "[16, 449, 330]\n",
            "[330, 1, 449]\n",
            "[449, 57447, 1]\n",
            "[1, 4, 57447]\n",
            "[57447, 534, 4]\n",
            "[4, 748, 534]\n",
            "[534, 62, 748]\n",
            "[748, 35, 62]\n",
            "[62, 6149, 35]\n",
            "[35, 4, 6149]\n",
            "[6149, 3, 4]\n",
            "[4, 8, 3]\n",
            "[3, 17, 8]\n",
            "[8, 17, 17]\n",
            "[17, 6699, 17]\n",
            "[17, 1232, 6699]\n",
            "[6699, 0, 1232]\n",
            "[1232, 15092, 0]\n",
            "[0, 4, 15092]\n",
            "[15092, 3, 4]\n",
            "[4, 8, 3]\n",
            "[3, 17, 8]\n",
            "[8, 9, 17]\n",
            "[17, 33, 9]\n",
            "[9, 0, 33]\n",
            "[33, 244, 0]\n",
            "[0, 1, 244]\n",
            "[244, 9, 1]\n",
            "[1, 3, 9]\n",
            "[9, 4, 3]\n",
            "[3, 3, 4]\n",
            "[4, 8, 3]\n",
            "[3, 22, 8]\n",
            "[8, 22, 22]\n",
            "[22, 33, 22]\n",
            "[22, 244, 33]\n",
            "[33, 15, 244]\n",
            "[244, 17, 15]\n",
            "[15, 35, 17]\n",
            "[17, 2280, 35]\n",
            "[35, 5, 2280]\n",
            "[2280, 4626, 5]\n",
            "[5, 919, 4626]\n",
            "[4626, 11, 919]\n",
            "[919, 31, 11]\n",
            "[11, 5103, 31]\n",
            "[31, 25, 5103]\n",
            "[5103, 0, 25]\n",
            "[25, 2084, 0]\n",
            "[0, 1023, 2084]\n",
            "[2084, 29, 1023]\n",
            "[1023, 783, 29]\n",
            "[29, 817, 783]\n",
            "[783, 1804, 817]\n",
            "[817, 2340, 1804]\n",
            "[1804, 2, 2340]\n",
            "[2340, 4, 2]\n",
            "[2, 3, 4]\n",
            "[4, 8, 3]\n",
            "[3, 21, 8]\n",
            "[8, 7, 21]\n",
            "[21, 35, 7]\n",
            "[7, 18, 35]\n",
            "[35, 1124, 18]\n",
            "[18, 46, 1124]\n",
            "[1124, 1505, 46]\n",
            "[46, 13, 1505]\n",
            "[1505, 1675, 13]\n",
            "[13, 2, 1675]\n",
            "[1675, 0, 2]\n",
            "[2, 236, 0]\n",
            "[0, 152, 236]\n",
            "[236, 99, 152]\n",
            "[152, 5, 99]\n",
            "[99, 474, 5]\n",
            "[5, 1, 474]\n",
            "[474, 0, 1]\n",
            "[1, 252, 0]\n",
            "[0, 1125, 252]\n",
            "[252, 4, 1125]\n",
            "[1125, 3, 4]\n",
            "[4, 8, 3]\n",
            "[3, 21, 8]\n",
            "[8, 9, 21]\n",
            "[21, 35, 9]\n",
            "[9, 3088, 35]\n",
            "[35, 5, 3088]\n",
            "[3088, 401, 5]\n",
            "[5, 10653, 401]\n",
            "[401, 6, 10653]\n",
            "[10653, 2463, 6]\n",
            "[6, 2, 2463]\n",
            "[2463, 9, 2]\n",
            "[2, 84, 9]\n",
            "[9, 111, 84]\n",
            "[84, 4, 111]\n",
            "[111, 3, 4]\n",
            "[4, 8, 3]\n",
            "[3, 21, 8]\n",
            "[8, 20, 21]\n",
            "[21, 35, 20]\n",
            "[20, 18, 35]\n",
            "[35, 99, 18]\n",
            "[18, 5, 99]\n",
            "[99, 3091, 5]\n",
            "[5, 6, 3091]\n",
            "[3091, 0, 6]\n",
            "[6, 1350, 0]\n",
            "[0, 401, 1350]\n",
            "[1350, 2, 401]\n",
            "[401, 2840, 2]\n",
            "[2, 1, 2840]\n",
            "[2840, 0, 1]\n",
            "[1, 2078, 0]\n",
            "[0, 1513, 2078]\n",
            "[2078, 23, 1513]\n",
            "[1513, 2495, 23]\n",
            "[23, 1702, 2495]\n",
            "[2495, 4, 1702]\n",
            "[1702, 3, 4]\n",
            "[4, 8, 3]\n",
            "[3, 21, 8]\n",
            "[8, 8, 21]\n",
            "[21, 6699, 8]\n",
            "[8, 18, 6699]\n",
            "[6699, 3706, 18]\n",
            "[18, 6, 3706]\n",
            "[3706, 0, 6]\n",
            "[6, 13874, 0]\n",
            "[0, 60, 13874]\n",
            "[13874, 35, 60]\n",
            "[60, 613, 35]\n",
            "[35, 0, 613]\n",
            "[613, 12037, 0]\n",
            "[0, 1, 12037]\n",
            "[12037, 14258, 1]\n",
            "[1, 31007, 14258]\n",
            "[14258, 499, 31007]\n",
            "[31007, 1, 499]\n",
            "[499, 0, 1]\n",
            "[1, 9160, 0]\n",
            "[0, 2, 9160]\n",
            "[9160, 37, 2]\n",
            "[2, 5, 37]\n",
            "[37, 879, 5]\n",
            "[5, 1, 879]\n",
            "[879, 57447, 1]\n",
            "[1, 2, 57447]\n",
            "[57447, 18, 2]\n",
            "[2, 3706, 18]\n",
            "[18, 78, 3706]\n",
            "[3706, 31007, 78]\n",
            "[78, 16, 31007]\n",
            "[31007, 2208, 16]\n",
            "[16, 66, 2208]\n",
            "[2208, 11, 66]\n",
            "[66, 688, 11]\n",
            "[11, 1, 688]\n",
            "[688, 0, 1]\n",
            "[1, 179, 0]\n",
            "[0, 145, 179]\n",
            "[179, 31007, 145]\n",
            "[145, 16, 31007]\n",
            "[31007, 178, 16]\n",
            "[16, 4, 178]\n",
            "[178, 3, 4]\n",
            "[4, 8, 3]\n",
            "[3, 12, 8]\n",
            "[8, 20, 12]\n",
            "[12, 24, 20]\n",
            "[20, 3062, 24]\n",
            "[24, 79, 3062]\n",
            "[3062, 3545, 79]\n",
            "[79, 741, 3545]\n",
            "[3545, 422, 741]\n",
            "[741, 24, 422]\n",
            "[422, 31007, 24]\n",
            "[24, 9, 31007]\n",
            "[31007, 7, 9]\n",
            "[9, 1929, 7]\n",
            "[7, 1, 1929]\n",
            "[1929, 0, 1]\n",
            "[1, 552, 0]\n",
            "[0, 18800, 552]\n",
            "[552, 1, 18800]\n",
            "[18800, 112, 1]\n",
            "[1, 2160, 112]\n",
            "[112, 2, 2160]\n",
            "[2160, 1315, 2]\n",
            "[2, 4167, 1315]\n",
            "[1315, 39, 4167]\n",
            "[4167, 901, 39]\n",
            "[39, 96, 901]\n",
            "[901, 24, 96]\n",
            "[96, 2409, 24]\n",
            "[24, 315, 2409]\n",
            "[2409, 78, 315]\n",
            "[315, 32, 78]\n",
            "[78, 66, 32]\n",
            "[32, 36586, 66]\n",
            "[66, 29196, 36586]\n",
            "[36586, 12515, 29196]\n",
            "[29196, 2, 12515]\n",
            "[12515, 39, 2]\n",
            "[2, 6560, 39]\n",
            "[39, 0, 6560]\n",
            "[6560, 866, 0]\n",
            "[0, 9, 866]\n",
            "[866, 741, 9]\n",
            "[9, 1626, 741]\n",
            "[741, 24, 1626]\n",
            "[1626, 6699, 24]\n",
            "[24, 23, 6699]\n",
            "[6699, 1902, 23]\n",
            "[23, 23, 1902]\n",
            "[1902, 3545, 23]\n",
            "[23, 35, 3545]\n",
            "[3545, 18, 35]\n",
            "[35, 37, 18]\n",
            "[18, 675, 37]\n",
            "[37, 6, 675]\n",
            "[675, 17527, 6]\n",
            "[6, 24262, 17527]\n",
            "[17527, 31007, 24262]\n",
            "[24262, 16, 31007]\n",
            "[31007, 2533, 16]\n",
            "[16, 2524, 2533]\n",
            "[2533, 11, 2524]\n",
            "[2524, 190, 11]\n",
            "[11, 1505, 190]\n",
            "[190, 29, 1505]\n",
            "[1505, 1840, 29]\n",
            "[29, 207, 1840]\n",
            "[1840, 0, 207]\n",
            "[207, 55, 0]\n",
            "[0, 15092, 55]\n",
            "[55, 425, 15092]\n",
            "[15092, 50, 425]\n",
            "[425, 5601, 50]\n",
            "[50, 6, 5601]\n",
            "[5601, 1567, 6]\n",
            "[6, 4331, 1567]\n",
            "[1567, 2, 4331]\n",
            "[4331, 32, 2]\n",
            "[2, 74, 32]\n",
            "[32, 15168, 74]\n",
            "[74, 3576, 15168]\n",
            "[15168, 29, 3576]\n",
            "[3576, 208, 29]\n",
            "[29, 2, 208]\n",
            "[208, 339, 2]\n",
            "[2, 1363, 339]\n",
            "[339, 4, 1363]\n",
            "[1363, 0, 4]\n",
            "[4, 663, 0]\n",
            "[0, 11, 663]\n",
            "[663, 688, 11]\n",
            "[11, 1, 688]\n",
            "[688, 0, 1]\n",
            "[1, 173, 0]\n",
            "[0, 4, 173]\n",
            "[173, 3, 4]\n",
            "[4, 8, 3]\n",
            "[3, 21, 8]\n",
            "[8, 17, 21]\n",
            "[21, 35, 17]\n",
            "[17, 243, 35]\n",
            "[35, 5, 243]\n",
            "[243, 10653, 5]\n",
            "[5, 6, 10653]\n",
            "[10653, 225, 6]\n",
            "[6, 340, 225]\n",
            "[225, 2, 340]\n",
            "[340, 4, 2]\n",
            "[2, 3, 4]\n",
            "[4, 8, 3]\n",
            "[3, 12, 8]\n",
            "[8, 15, 12]\n",
            "[12, 35, 15]\n",
            "[15, 3088, 35]\n",
            "[35, 5, 3088]\n",
            "[3088, 401, 5]\n",
            "[5, 10653, 401]\n",
            "[401, 6, 10653]\n",
            "[10653, 488, 6]\n",
            "[6, 6, 488]\n",
            "[488, 1956, 6]\n",
            "[6, 24, 1956]\n",
            "[1956, 546, 24]\n",
            "[24, 458, 546]\n",
            "[546, 2937, 458]\n",
            "[458, 13346, 2937]\n",
            "[2937, 2, 13346]\n",
            "[13346, 233, 2]\n",
            "[2, 1, 233]\n",
            "[233, 0, 1]\n",
            "[1, 648, 0]\n",
            "[0, 313, 648]\n",
            "[648, 1, 313]\n",
            "[313, 3515, 1]\n",
            "[1, 2, 3515]\n",
            "[3515, 1609, 2]\n",
            "[2, 4, 1609]\n",
            "[1609, 3, 4]\n",
            "[4, 8, 3]\n",
            "[3, 12, 8]\n",
            "[8, 20, 12]\n",
            "[12, 35, 20]\n",
            "[20, 5804, 35]\n",
            "[35, 6, 5804]\n",
            "[5804, 0, 6]\n",
            "[6, 87, 0]\n",
            "[0, 366, 87]\n",
            "[87, 114, 366]\n",
            "[366, 35, 114]\n",
            "[114, 1299, 35]\n",
            "[35, 24, 1299]\n",
            "[1299, 546, 24]\n",
            "[24, 458, 546]\n",
            "[546, 3762, 458]\n",
            "[458, 6089, 3762]\n",
            "[3762, 138, 6089]\n",
            "[6089, 1505, 138]\n",
            "[138, 1, 1505]\n",
            "[1505, 0, 1]\n",
            "[1, 15092, 0]\n",
            "[0, 444, 15092]\n",
            "[15092, 0, 444]\n",
            "[444, 178, 0]\n",
            "[0, 1, 178]\n",
            "[178, 17527, 1]\n",
            "[1, 24262, 17527]\n",
            "[17527, 6791, 24262]\n",
            "[24262, 6699, 6791]\n",
            "[6791, 33, 6699]\n",
            "[6699, 244, 33]\n",
            "[33, 17, 244]\n",
            "[244, 20, 17]\n",
            "[17, 18, 20]\n",
            "[20, 692, 18]\n",
            "[18, 138, 692]\n",
            "[692, 1505, 138]\n",
            "[138, 1, 1505]\n",
            "[1505, 0, 1]\n",
            "[1, 1117, 0]\n",
            "[0, 179, 1117]\n",
            "[1117, 23, 179]\n",
            "[179, 424, 23]\n",
            "[23, 3, 424]\n",
            "[424, 3, 3]\n",
            "[3, 3, 3]\n",
            "[3, 8, 3]\n",
            "[3, 12, 8]\n",
            "[8, 17, 12]\n",
            "[12, 35, 17]\n",
            "[17, 126, 35]\n",
            "[35, 0, 126]\n",
            "[126, 179, 0]\n",
            "[0, 16, 179]\n",
            "[179, 46, 16]\n",
            "[16, 688, 46]\n",
            "[46, 6, 688]\n",
            "[688, 38, 6]\n",
            "[6, 57, 38]\n",
            "[38, 297, 57]\n",
            "[57, 59, 297]\n",
            "[297, 0, 59]\n",
            "[59, 572, 0]\n",
            "[0, 854, 572]\n",
            "[572, 1, 854]\n",
            "[854, 3, 1]\n",
            "[1, 8, 3]\n",
            "[3, 3, 8]\n",
            "[8, 21, 3]\n",
            "[3, 11, 21]\n",
            "[21, 153, 11]\n",
            "[11, 5535, 153]\n",
            "[153, 2880, 5535]\n",
            "[5535, 1, 2880]\n",
            "[2880, 0, 1]\n",
            "[1, 401, 0]\n",
            "[0, 283, 401]\n",
            "[401, 35, 283]\n",
            "[283, 1747, 35]\n",
            "[35, 6, 1747]\n",
            "[1747, 1422, 6]\n",
            "[6, 0, 1422]\n",
            "[1422, 62728, 0]\n",
            "[0, 1117, 62728]\n",
            "[62728, 179, 1117]\n",
            "[1117, 2, 179]\n",
            "[179, 0, 2]\n",
            "[2, 97, 0]\n",
            "[0, 549, 97]\n",
            "[97, 14, 549]\n",
            "[549, 5598, 14]\n",
            "[14, 20953, 5598]\n",
            "[5598, 15588, 20953]\n",
            "[20953, 22386, 15588]\n",
            "[15588, 14738, 22386]\n",
            "[22386, 2, 14738]\n",
            "[14738, 5452, 2]\n",
            "[2, 1, 5452]\n",
            "[5452, 325, 1]\n",
            "[1, 274, 325]\n",
            "[325, 34, 274]\n",
            "[274, 39, 34]\n",
            "[34, 1923, 39]\n",
            "[39, 33, 1923]\n",
            "[1923, 0, 33]\n",
            "[33, 9, 0]\n",
            "[0, 21, 9]\n",
            "[9, 90, 21]\n",
            "[21, 945, 90]\n",
            "[90, 1, 945]\n",
            "[945, 0, 1]\n",
            "[1, 15092, 0]\n",
            "[0, 4, 15092]\n",
            "[15092, 545, 4]\n",
            "[4, 3, 545]\n",
            "[545, 8, 3]\n",
            "[3, 12, 8]\n",
            "[8, 22, 12]\n",
            "[12, 2609, 22]\n",
            "[22, 2, 2609]\n",
            "[2609, 26336, 2]\n",
            "[2, 6699, 26336]\n",
            "[26336, 4, 6699]\n",
            "[6699, 3, 4]\n",
            "[4, 23, 3]\n",
            "[3, 3, 23]\n",
            "[23, 4960, 3]\n",
            "[3, 24, 4960]\n",
            "[4960, 143, 24]\n",
            "[24, 16, 143]\n",
            "[143, 216, 16]\n",
            "[16, 4923, 216]\n",
            "[216, 4972, 4923]\n",
            "[4923, 1543, 4972]\n",
            "[4972, 2609, 1543]\n",
            "[1543, 19579, 2609]\n",
            "[2609, 6699, 19579]\n",
            "[19579, 3314, 6699]\n",
            "[6699, 325, 3314]\n",
            "[3314, 2609, 325]\n",
            "[325, 19, 2609]\n",
            "[2609, 35, 19]\n",
            "[19, 5725, 35]\n",
            "[35, 74, 5725]\n",
            "[5725, 2947, 74]\n",
            "[74, 476, 2947]\n",
            "[2947, 1305, 476]\n",
            "[476, 2, 1305]\n",
            "[1305, 5483, 2]\n",
            "[2, 9375, 5483]\n",
            "[5483, 11, 9375]\n",
            "[9375, 119, 11]\n",
            "[11, 1, 119]\n",
            "[119, 29, 1]\n",
            "[1, 22386, 29]\n",
            "[29, 435, 22386]\n",
            "[22386, 75, 435]\n",
            "[435, 51, 75]\n",
            "[75, 1, 51]\n",
            "[51, 29, 1]\n",
            "[1, 2609, 29]\n",
            "[29, 39, 2609]\n",
            "[2609, 254, 39]\n",
            "[39, 2422, 254]\n",
            "[254, 33, 2422]\n",
            "[2422, 0, 33]\n",
            "[33, 66, 0]\n",
            "[0, 14, 66]\n",
            "[66, 1041, 14]\n",
            "[14, 4, 1041]\n",
            "[1041, 0, 4]\n",
            "[4, 401, 0]\n",
            "[0, 112, 401]\n",
            "[401, 4, 112]\n",
            "[112, 3, 4]\n",
            "[4, 8, 3]\n",
            "[3, 12, 8]\n",
            "[8, 17, 12]\n",
            "[12, 6699, 17]\n",
            "[17, 1421, 6699]\n",
            "[6699, 19, 1421]\n",
            "[1421, 0, 19]\n",
            "[19, 401, 0]\n",
            "[0, 549, 401]\n",
            "[401, 18, 549]\n",
            "[549, 18703, 18]\n",
            "[18, 2, 18703]\n",
            "[18703, 19, 2]\n",
            "[2, 17363, 19]\n",
            "[19, 18, 17363]\n",
            "[17363, 1261, 18]\n",
            "[18, 1449, 1261]\n",
            "[1261, 29, 1449]\n",
            "[1449, 2609, 29]\n",
            "[29, 39, 2609]\n",
            "[2609, 93, 39]\n",
            "[39, 5452, 93]\n",
            "[93, 41, 5452]\n",
            "[5452, 111, 41]\n",
            "[41, 0, 111]\n",
            "[111, 183, 0]\n",
            "[0, 22386, 183]\n",
            "[183, 4710, 22386]\n",
            "[22386, 126, 4710]\n",
            "[4710, 144, 126]\n",
            "[126, 50, 144]\n",
            "[144, 226, 50]\n",
            "[50, 0, 226]\n",
            "[226, 46, 0]\n",
            "[0, 1422, 46]\n",
            "[46, 707, 1422]\n",
            "[1422, 103, 707]\n",
            "[707, 6699, 103]\n",
            "[103, 18, 6699]\n",
            "[6699, 0, 18]\n",
            "[18, 3, 0]\n",
            "[0, 8, 3]\n",
            "[3, 12, 8]\n",
            "[8, 17, 12]\n",
            "[12, 2161, 17]\n",
            "[17, 1422, 2161]\n",
            "[2161, 34, 1422]\n",
            "[1422, 18, 34]\n",
            "[34, 696, 18]\n",
            "[18, 6, 696]\n",
            "[696, 1786, 6]\n",
            "[6, 795, 1786]\n",
            "[1786, 1345, 795]\n",
            "[795, 9504, 1345]\n",
            "[1345, 4, 9504]\n",
            "[9504, 0, 4]\n",
            "[4, 401, 0]\n",
            "[0, 283, 401]\n",
            "[401, 2498, 283]\n",
            "[283, 23, 2498]\n",
            "[2498, 21452, 23]\n",
            "[23, 3104, 21452]\n",
            "[21452, 2, 3104]\n",
            "[3104, 2529, 2]\n",
            "[2, 39, 2529]\n",
            "[2529, 8458, 39]\n",
            "[39, 2, 8458]\n",
            "[8458, 44, 2]\n",
            "[2, 2544, 44]\n",
            "[44, 39, 2544]\n",
            "[2544, 3302, 39]\n",
            "[39, 91, 3302]\n",
            "[3302, 58, 91]\n",
            "[91, 39, 58]\n",
            "[58, 3717, 39]\n",
            "[39, 8448, 3717]\n",
            "[3717, 33, 8448]\n",
            "[8448, 142, 33]\n",
            "[33, 28, 142]\n",
            "[142, 4, 28]\n",
            "[28, 258, 4]\n",
            "[4, 39, 258]\n",
            "[258, 14885, 39]\n",
            "[39, 4025, 14885]\n",
            "[14885, 23, 4025]\n",
            "[4025, 206, 23]\n",
            "[23, 1240, 206]\n",
            "[206, 4091, 1240]\n",
            "[1240, 2, 4091]\n",
            "[4091, 4, 2]\n",
            "[2, 258, 4]\n",
            "[4, 1132, 258]\n",
            "[258, 18, 1132]\n",
            "[1132, 3447, 18]\n",
            "[18, 51, 3447]\n",
            "[3447, 373, 51]\n",
            "[51, 47065, 373]\n",
            "[373, 39, 47065]\n",
            "[47065, 1616, 39]\n",
            "[39, 3433, 1616]\n",
            "[1616, 1, 3433]\n",
            "[3433, 2161, 1]\n",
            "[1, 2591, 2161]\n",
            "[2161, 39, 2591]\n",
            "[2591, 1236, 39]\n",
            "[39, 106, 1236]\n",
            "[1236, 25, 106]\n",
            "[106, 0, 25]\n",
            "[25, 1676, 0]\n",
            "[0, 0, 1676]\n",
            "[1676, 1422, 0]\n",
            "[0, 214, 1422]\n",
            "[1422, 36, 214]\n",
            "[214, 38, 36]\n",
            "[36, 101, 38]\n",
            "[38, 681, 101]\n",
            "[101, 540, 681]\n",
            "[681, 23, 540]\n",
            "[540, 0, 23]\n",
            "[23, 9504, 0]\n",
            "[0, 4, 9504]\n",
            "[9504, 0, 4]\n",
            "[4, 173, 0]\n",
            "[0, 41, 173]\n",
            "[173, 6420, 41]\n",
            "[41, 27, 6420]\n",
            "[6420, 18, 27]\n",
            "[27, 5, 18]\n",
            "[18, 683, 5]\n",
            "[5, 3441, 683]\n",
            "[683, 2, 3441]\n",
            "[3441, 5, 2]\n",
            "[2, 1441, 5]\n",
            "[5, 4579, 1441]\n",
            "[1441, 6, 4579]\n",
            "[4579, 0, 6]\n",
            "[6, 97, 0]\n",
            "[0, 2541, 97]\n",
            "[97, 5, 2541]\n",
            "[2541, 1267, 5]\n",
            "[5, 1, 1267]\n",
            "[1267, 1121, 1]\n",
            "[1, 3, 1121]\n",
            "[1121, 7, 3]\n",
            "[3, 7, 7]\n",
            "[7, 1203, 7]\n",
            "[7, 52922, 1203]\n",
            "[1203, 238, 52922]\n",
            "[52922, 6, 238]\n",
            "[238, 897, 6]\n",
            "[6, 37410, 897]\n",
            "[897, 59, 37410]\n",
            "[37410, 2161, 59]\n",
            "[59, 492, 2161]\n",
            "[2161, 8783, 492]\n",
            "[492, 6, 8783]\n",
            "[8783, 372, 6]\n",
            "[6, 617, 372]\n",
            "[372, 549, 617]\n",
            "[617, 2161, 549]\n",
            "[549, 1422, 2161]\n",
            "[2161, 18, 1422]\n",
            "[1422, 3, 18]\n",
            "[18, 1, 3]\n",
            "[3, 0, 1]\n",
            "[1, 1501, 0]\n",
            "[0, 16441, 1501]\n",
            "[1501, 19, 16441]\n",
            "[16441, 856, 19]\n",
            "[19, 5, 856]\n",
            "[856, 1951, 5]\n",
            "[5, 1, 1951]\n",
            "[1951, 589, 1]\n",
            "[1, 19, 589]\n",
            "[589, 1388, 19]\n",
            "[19, 24, 1388]\n",
            "[1388, 0, 24]\n",
            "[24, 3164, 0]\n",
            "[0, 1, 3164]\n",
            "[3164, 0, 1]\n",
            "[1, 401, 0]\n",
            "[0, 283, 401]\n",
            "[401, 2, 283]\n",
            "[283, 1461, 2]\n",
            "[2, 11443, 1461]\n",
            "[1461, 2059, 11443]\n",
            "[11443, 4, 2059]\n",
            "[2059, 0, 4]\n",
            "[4, 2628, 0]\n",
            "[0, 662, 2628]\n",
            "[2628, 11832, 662]\n",
            "[662, 22, 11832]\n",
            "[11832, 84, 22]\n",
            "[22, 111, 84]\n",
            "[84, 12072, 111]\n",
            "[111, 1261, 12072]\n",
            "[12072, 0, 1261]\n",
            "[1261, 157, 0]\n",
            "[0, 23, 157]\n",
            "[157, 32058, 23]\n",
            "[23, 7101, 32058]\n",
            "[32058, 4, 7101]\n",
            "[7101, 71, 4]\n",
            "[4, 3, 71]\n",
            "[71, 8, 3]\n",
            "[3, 12, 8]\n",
            "[8, 12, 12]\n",
            "[12, 18, 12]\n",
            "[12, 827, 18]\n",
            "[18, 0, 827]\n",
            "[827, 53, 0]\n",
            "[0, 2422, 53]\n",
            "[53, 1, 2422]\n",
            "[2422, 0, 1]\n",
            "[1, 325, 0]\n",
            "[0, 2609, 325]\n",
            "[325, 78, 2609]\n",
            "[2609, 0, 78]\n",
            "[78, 125, 0]\n",
            "[0, 119, 125]\n",
            "[125, 1, 119]\n",
            "[119, 0, 1]\n",
            "[1, 6699, 0]\n",
            "[0, 839, 6699]\n",
            "[6699, 13, 839]\n",
            "[839, 0, 13]\n",
            "[13, 46, 0]\n",
            "[0, 66, 46]\n",
            "[46, 132, 66]\n",
            "[66, 5474, 132]\n",
            "[132, 3906, 5474]\n",
            "[5474, 16, 3906]\n",
            "[3906, 55, 16]\n",
            "[16, 325, 55]\n",
            "[55, 738, 325]\n",
            "[325, 0, 738]\n",
            "[738, 157, 0]\n",
            "[0, 3534, 157]\n",
            "[157, 818, 3534]\n",
            "[3534, 3290, 818]\n",
            "[818, 1, 3290]\n",
            "[3290, 4163, 1]\n",
            "[1, 4, 4163]\n",
            "[4163, 0, 4]\n",
            "[4, 699, 0]\n",
            "[0, 2620, 699]\n",
            "[699, 2, 2620]\n",
            "[2620, 500, 2]\n",
            "[2, 537, 500]\n",
            "[500, 5125, 537]\n",
            "[537, 0, 5125]\n",
            "[5125, 157, 0]\n",
            "[0, 1449, 157]\n",
            "[157, 4514, 1449]\n",
            "[1449, 170, 4514]\n",
            "[4514, 3928, 170]\n",
            "[170, 2, 3928]\n",
            "[3928, 3832, 2]\n",
            "[2, 3322, 3832]\n",
            "[3832, 41, 3322]\n",
            "[3322, 67, 41]\n",
            "[41, 39, 67]\n",
            "[67, 111, 39]\n",
            "[39, 3639, 111]\n",
            "[111, 6, 3639]\n",
            "[3639, 1698, 6]\n",
            "[6, 31201, 1698]\n",
            "[1698, 818, 31201]\n",
            "[31201, 2023, 818]\n",
            "[818, 1253, 2023]\n",
            "[2023, 103, 1253]\n",
            "[1253, 32, 103]\n",
            "[103, 6375, 32]\n",
            "[32, 10218, 6375]\n",
            "[6375, 5114, 10218]\n",
            "[10218, 6971, 5114]\n",
            "[5114, 2, 6971]\n",
            "[6971, 3395, 2]\n",
            "[2, 126, 3395]\n",
            "[3395, 119, 126]\n",
            "[126, 1, 119]\n",
            "[119, 0, 1]\n",
            "[1, 401, 0]\n",
            "[0, 1574, 401]\n",
            "[401, 6699, 1574]\n",
            "[1574, 16, 6699]\n",
            "[6699, 1115, 16]\n",
            "[16, 1, 1115]\n",
            "[1115, 20953, 1]\n",
            "[1, 774, 20953]\n",
            "[20953, 55, 774]\n",
            "[774, 7437, 55]\n",
            "[55, 6, 7437]\n",
            "[7437, 0, 6]\n",
            "[6, 91, 0]\n",
            "[0, 52, 91]\n",
            "[91, 11, 52]\n",
            "[52, 5, 11]\n",
            "[11, 750, 5]\n",
            "[5, 1065, 750]\n",
            "[750, 1, 1065]\n",
            "[1065, 1157, 1]\n",
            "[1, 32, 1157]\n",
            "[1157, 18, 32]\n",
            "[32, 5, 18]\n",
            "[18, 2422, 5]\n",
            "[5, 495, 2422]\n",
            "[2422, 11, 495]\n",
            "[495, 284, 11]\n",
            "[11, 1, 284]\n",
            "[284, 1157, 1]\n",
            "[1, 2, 1157]\n",
            "[1157, 8037, 2]\n",
            "[2, 1, 8037]\n",
            "[8037, 112, 1]\n",
            "[1, 1612, 112]\n",
            "[112, 49, 1612]\n",
            "[1612, 1257, 49]\n",
            "[49, 57, 1257]\n",
            "[1257, 5, 57]\n",
            "[57, 252, 5]\n",
            "[5, 119, 252]\n",
            "[252, 1, 119]\n",
            "[119, 0, 1]\n",
            "[1, 401, 0]\n",
            "[0, 95, 401]\n",
            "[401, 0, 95]\n",
            "[95, 386, 0]\n",
            "[0, 126, 386]\n",
            "[386, 442, 126]\n",
            "[126, 257, 442]\n",
            "[442, 1466, 257]\n",
            "[257, 2, 1466]\n",
            "[1466, 1673, 2]\n",
            "[2, 1, 1673]\n",
            "[1673, 208, 1]\n",
            "[1, 3535, 208]\n",
            "[208, 2, 3535]\n",
            "[3535, 51, 2]\n",
            "[2, 16876, 51]\n",
            "[51, 39, 16876]\n",
            "[16876, 482, 39]\n",
            "[39, 6699, 482]\n",
            "[482, 16, 6699]\n",
            "[6699, 1595, 16]\n",
            "[16, 4, 1595]\n",
            "[1595, 14909, 4]\n",
            "[4, 20953, 14909]\n",
            "[14909, 18, 20953]\n",
            "[20953, 6, 18]\n",
            "[18, 1024, 6]\n",
            "[6, 4831, 1024]\n",
            "[1024, 207, 4831]\n",
            "[4831, 0, 207]\n",
            "[207, 15092, 0]\n",
            "[0, 58, 15092]\n",
            "[15092, 1346, 58]\n",
            "[58, 29, 1346]\n",
            "[1346, 1830, 29]\n",
            "[29, 1, 1830]\n",
            "[1830, 325, 1]\n",
            "[1, 14738, 325]\n",
            "[325, 2, 14738]\n",
            "[14738, 35, 2]\n",
            "[2, 37, 35]\n",
            "[35, 5725, 37]\n",
            "[37, 19, 5725]\n",
            "[5725, 130, 19]\n",
            "[19, 185, 130]\n",
            "[130, 3625, 185]\n",
            "[185, 1, 3625]\n",
            "[3625, 15588, 1]\n",
            "[1, 1503, 15588]\n",
            "[15588, 2, 1503]\n",
            "[1503, 3629, 2]\n",
            "[2, 0, 3629]\n",
            "[3629, 401, 0]\n",
            "[0, 91, 401]\n",
            "[401, 74, 91]\n",
            "[91, 285, 74]\n",
            "[74, 29, 285]\n",
            "[285, 1422, 29]\n",
            "[29, 10064, 1422]\n",
            "[1422, 4, 10064]\n",
            "[10064, 437, 4]\n",
            "[4, 3, 437]\n",
            "[437, 8, 3]\n",
            "[3, 12, 8]\n",
            "[8, 21, 12]\n",
            "[12, 6699, 21]\n",
            "[21, 93, 6699]\n",
            "[6699, 13, 93]\n",
            "[93, 26336, 13]\n",
            "[13, 0, 26336]\n",
            "[26336, 18594, 0]\n",
            "[0, 1, 18594]\n",
            "[18594, 969, 1]\n",
            "[1, 594, 969]\n",
            "[969, 52, 594]\n",
            "[594, 11, 52]\n",
            "[52, 2171, 11]\n",
            "[11, 2252, 2171]\n",
            "[2171, 920, 2252]\n",
            "[2252, 61, 920]\n",
            "[920, 0, 61]\n",
            "[61, 401, 0]\n",
            "[0, 208, 401]\n",
            "[401, 403, 208]\n",
            "[208, 4, 403]\n",
            "[403, 539, 4]\n",
            "[4, 3, 539]\n",
            "[539, 8, 3]\n",
            "[3, 12, 8]\n",
            "[8, 12, 12]\n",
            "[12, 33, 12]\n",
            "[12, 0, 33]\n",
            "[33, 15092, 0]\n",
            "[0, 16, 15092]\n",
            "[15092, 4632, 16]\n",
            "[16, 179, 4632]\n",
            "[4632, 1523, 179]\n",
            "[179, 6699, 1523]\n",
            "[1523, 1923, 6699]\n",
            "[6699, 2422, 1923]\n",
            "[1923, 2609, 2422]\n",
            "[2422, 1671, 2609]\n",
            "[2609, 6, 1671]\n",
            "[1671, 2101, 6]\n",
            "[6, 179, 2101]\n",
            "[2101, 284, 179]\n",
            "[179, 1, 284]\n",
            "[284, 0, 1]\n",
            "[1, 112, 0]\n",
            "[0, 7407, 112]\n",
            "[112, 4, 7407]\n",
            "[7407, 484, 4]\n",
            "[4, 3, 484]\n",
            "[484, 8, 3]\n",
            "[3, 12, 8]\n",
            "[8, 12, 12]\n",
            "[12, 0, 12]\n",
            "[12, 1350, 0]\n",
            "[0, 401, 1350]\n",
            "[1350, 2800, 401]\n",
            "[401, 0, 2800]\n",
            "[2800, 2509, 0]\n",
            "[0, 1, 2509]\n",
            "[2509, 5, 1]\n",
            "[1, 945, 5]\n",
            "[5, 1, 945]\n",
            "[945, 91, 1]\n",
            "[1, 16, 91]\n",
            "[91, 7614, 16]\n",
            "[16, 34, 7614]\n",
            "[7614, 1764, 34]\n",
            "[34, 9265, 1764]\n",
            "[1764, 49, 9265]\n",
            "[9265, 416, 49]\n",
            "[49, 11, 416]\n",
            "[416, 0, 11]\n",
            "[11, 401, 0]\n",
            "[0, 283, 401]\n",
            "[401, 16, 283]\n",
            "[283, 55, 16]\n",
            "[16, 2015, 55]\n",
            "[55, 395, 2015]\n",
            "[2015, 920, 395]\n",
            "[395, 6, 920]\n",
            "[920, 0, 6]\n",
            "[6, 945, 0]\n",
            "[0, 39, 945]\n",
            "[945, 329, 39]\n",
            "[39, 563, 329]\n",
            "[329, 0, 563]\n",
            "[563, 4267, 0]\n",
            "[0, 4, 4267]\n",
            "[4267, 424, 4]\n",
            "[4, 2, 424]\n",
            "[424, 516, 2]\n",
            "[2, 3, 516]\n",
            "[516, 8, 3]\n",
            "[3, 12, 8]\n",
            "[8, 8, 12]\n",
            "[12, 23, 8]\n",
            "[8, 424, 23]\n",
            "[23, 3, 424]\n",
            "[424, 17, 3]\n",
            "[3, 3, 17]\n",
            "[17, 8, 3]\n",
            "[3, 8, 8]\n",
            "[8, 7, 8]\n",
            "[8, 6699, 7]\n",
            "[7, 18, 6699]\n",
            "[6699, 692, 18]\n",
            "[18, 11, 692]\n",
            "[692, 0, 11]\n",
            "[11, 46, 0]\n",
            "[0, 1256, 46]\n",
            "[46, 216, 1256]\n",
            "[1256, 1, 216]\n",
            "[216, 0, 1]\n",
            "[1, 401, 0]\n",
            "[0, 283, 401]\n",
            "[401, 66, 283]\n",
            "[283, 1069, 66]\n",
            "[66, 1289, 1069]\n",
            "[1069, 1, 1289]\n",
            "[1289, 437, 1]\n",
            "[1, 20, 437]\n",
            "[437, 3, 20]\n",
            "[20, 8, 3]\n",
            "[3, 12, 8]\n",
            "[8, 12, 12]\n",
            "[12, 2315, 12]\n",
            "[12, 6699, 2315]\n",
            "[2315, 11, 6699]\n",
            "[6699, 268, 11]\n",
            "[11, 1, 268]\n",
            "[268, 0, 1]\n",
            "[1, 152, 0]\n",
            "[0, 55, 152]\n",
            "[152, 2856, 55]\n",
            "[55, 4331, 2856]\n",
            "[2856, 4, 4331]\n",
            "[4331, 212, 4]\n",
            "[4, 1702, 212]\n",
            "[212, 6699, 1702]\n",
            "[1702, 2124, 6699]\n",
            "[6699, 6, 2124]\n",
            "[2124, 2947, 6]\n",
            "[6, 764, 2947]\n",
            "[2947, 2, 764]\n",
            "[764, 537, 2]\n",
            "[2, 24, 537]\n",
            "[537, 0, 24]\n",
            "[24, 225, 0]\n",
            "[0, 35, 225]\n",
            "[225, 416, 35]\n",
            "[35, 675, 416]\n",
            "[416, 2512, 675]\n",
            "[675, 24, 2512]\n",
            "[2512, 155, 24]\n",
            "[24, 318, 155]\n",
            "[155, 1250, 318]\n",
            "[318, 52, 1250]\n",
            "[1250, 11, 52]\n",
            "[52, 3762, 11]\n",
            "[11, 6089, 3762]\n",
            "[3762, 58, 6089]\n",
            "[6089, 5008, 58]\n",
            "[58, 9429, 5008]\n",
            "[5008, 70, 9429]\n",
            "[9429, 136, 70]\n",
            "[70, 1970, 136]\n",
            "[136, 6699, 1970]\n",
            "[1970, 202, 6699]\n",
            "[6699, 47, 202]\n",
            "[202, 162, 47]\n",
            "[47, 632, 162]\n",
            "[162, 422, 632]\n",
            "[632, 225, 422]\n",
            "[422, 175, 225]\n",
            "[225, 3804, 175]\n",
            "[175, 18369, 3804]\n",
            "[3804, 26477, 18369]\n",
            "[18369, 2, 26477]\n",
            "[26477, 143, 2]\n",
            "[2, 16, 143]\n",
            "[143, 216, 16]\n",
            "[16, 4923, 216]\n",
            "[216, 4972, 4923]\n",
            "[4923, 23, 4972]\n",
            "[4972, 575, 23]\n",
            "[23, 3, 575]\n",
            "[575, 3, 3]\n",
            "[3, 3, 3]\n",
            "[3, 8, 3]\n",
            "[3, 12, 8]\n",
            "[8, 22, 12]\n",
            "[12, 6699, 22]\n",
            "[22, 2, 6699]\n",
            "[6699, 4972, 2]\n",
            "[2, 1299, 4972]\n",
            "[4972, 4, 1299]\n",
            "[1299, 23640, 4]\n",
            "[4, 249, 23640]\n",
            "[23640, 4459, 249]\n",
            "[249, 6, 4459]\n",
            "[4459, 5557, 6]\n",
            "[6, 3410, 5557]\n",
            "[5557, 4604, 3410]\n",
            "[3410, 504, 4604]\n",
            "[4604, 977, 504]\n",
            "[504, 1300, 977]\n",
            "[977, 4, 1300]\n",
            "[1300, 289, 4]\n",
            "[4, 32, 289]\n",
            "[289, 243, 32]\n",
            "[32, 6, 243]\n",
            "[243, 0, 6]\n",
            "[6, 4858, 0]\n",
            "[0, 1, 4858]\n",
            "[4858, 0, 1]\n",
            "[1, 4604, 0]\n",
            "[0, 504, 4604]\n",
            "[4604, 977, 504]\n",
            "[504, 353, 977]\n",
            "[977, 868, 353]\n",
            "[353, 33251, 868]\n",
            "[868, 4, 33251]\n",
            "[33251, 3, 4]\n",
            "[4, 8, 3]\n",
            "[3, 12, 8]\n",
            "[8, 21, 12]\n",
            "[12, 4, 21]\n",
            "[21, 545, 4]\n",
            "[4, 3, 545]\n",
            "[545, 8, 3]\n",
            "[3, 12, 8]\n",
            "[8, 12, 12]\n",
            "[12, 6699, 12]\n",
            "[12, 1421, 6699]\n",
            "[6699, 0, 1421]\n",
            "[1421, 4432, 0]\n",
            "[0, 1, 4432]\n",
            "[4432, 401, 1]\n",
            "[1, 353, 401]\n",
            "[401, 25, 353]\n",
            "[353, 1632, 25]\n",
            "[25, 0, 1632]\n",
            "[1632, 4432, 0]\n",
            "[0, 18, 4432]\n",
            "[4432, 1530, 18]\n",
            "[18, 0, 1530]\n",
            "[1530, 236, 0]\n",
            "[0, 152, 236]\n",
            "[236, 139, 152]\n",
            "[152, 0, 139]\n",
            "[139, 486, 0]\n",
            "[0, 80, 486]\n",
            "[486, 560, 80]\n",
            "[80, 11, 560]\n",
            "[560, 0, 11]\n",
            "[11, 36924, 0]\n",
            "[0, 5025, 36924]\n",
            "[36924, 6, 5025]\n",
            "[5025, 7345, 6]\n",
            "[6, 0, 7345]\n",
            "[7345, 1704, 0]\n",
            "[0, 401, 1704]\n",
            "[1704, 18634, 401]\n",
            "[401, 2549, 18634]\n",
            "[18634, 31, 2549]\n",
            "[2549, 1681, 31]\n",
            "[31, 3, 1681]\n",
            "[1681, 17, 3]\n",
            "[3, 7, 17]\n",
            "[17, 7, 7]\n",
            "[7, 7, 7]\n",
            "[7, 5303, 7]\n",
            "[7, 39, 5303]\n",
            "[5303, 782, 39]\n",
            "[39, 81, 782]\n",
            "[782, 3, 81]\n",
            "[81, 8, 3]\n",
            "[3, 21, 8]\n",
            "[8, 8, 21]\n",
            "[21, 2, 8]\n",
            "[8, 3, 2]\n",
            "[2, 8, 3]\n",
            "[3, 12, 8]\n",
            "[8, 8, 12]\n",
            "[12, 11, 8]\n",
            "[8, 5, 11]\n",
            "[11, 341, 5]\n",
            "[5, 1, 341]\n",
            "[341, 0, 1]\n",
            "[1, 1216, 0]\n",
            "[0, 63, 1216]\n",
            "[1216, 401, 63]\n",
            "[63, 80, 401]\n",
            "[401, 4, 80]\n",
            "[80, 1632, 4]\n",
            "[4, 37, 1632]\n",
            "[1632, 78, 37]\n",
            "[37, 3, 78]\n",
            "[78, 8, 3]\n",
            "[3, 12, 8]\n",
            "[8, 12, 12]\n",
            "[12, 6699, 12]\n",
            "[12, 1421, 6699]\n",
            "[6699, 19, 1421]\n",
            "[1421, 0, 19]\n",
            "[19, 401, 0]\n",
            "[0, 283, 401]\n",
            "[401, 74, 283]\n",
            "[283, 8761, 74]\n",
            "[74, 0, 8761]\n",
            "[8761, 24679, 0]\n",
            "[0, 1707, 24679]\n",
            "[24679, 2, 1707]\n",
            "[1707, 887, 2]\n",
            "[2, 0, 887]\n",
            "[887, 542, 0]\n",
            "[0, 7843, 542]\n",
            "[542, 568, 7843]\n",
            "[7843, 6, 568]\n",
            "[568, 2021, 6]\n",
            "[6, 44, 2021]\n",
            "[2021, 171, 44]\n",
            "[44, 1183, 171]\n",
            "[171, 1702, 1183]\n",
            "[1183, 32, 1702]\n",
            "[1702, 1473, 32]\n",
            "[32, 6, 1473]\n",
            "[1473, 30, 6]\n",
            "[6, 0, 30]\n",
            "[30, 53, 0]\n",
            "[0, 442, 53]\n",
            "[53, 3231, 442]\n",
            "[442, 1, 3231]\n",
            "[3231, 6699, 1]\n",
            "[1, 16, 6699]\n",
            "[6699, 500, 16]\n",
            "[16, 738, 500]\n",
            "[500, 2609, 738]\n",
            "[738, 24, 2609]\n",
            "[2609, 29, 24]\n",
            "[24, 500, 29]\n",
            "[29, 2471, 500]\n",
            "[500, 14751, 2471]\n",
            "[2471, 17940, 14751]\n",
            "[14751, 2754, 17940]\n",
            "[17940, 29, 2754]\n",
            "[2754, 55, 29]\n",
            "[29, 1707, 55]\n",
            "[55, 0, 1707]\n",
            "[1707, 6355, 0]\n",
            "[0, 1707, 6355]\n",
            "[6355, 2854, 1707]\n",
            "[1707, 16, 2854]\n",
            "[2854, 11907, 16]\n",
            "[16, 1, 11907]\n",
            "[11907, 0, 1]\n",
            "[1, 24679, 0]\n",
            "[0, 1707, 24679]\n",
            "[24679, 243, 1707]\n",
            "[1707, 6, 243]\n",
            "[243, 5, 6]\n",
            "[6, 1433, 5]\n",
            "[5, 1, 1433]\n",
            "[1433, 9702, 1]\n",
            "[1, 4, 9702]\n",
            "[9702, 542, 4]\n",
            "[4, 289, 542]\n",
            "[542, 563, 289]\n",
            "[289, 3, 563]\n",
            "[563, 8, 3]\n",
            "[3, 12, 8]\n",
            "[8, 8, 12]\n",
            "[12, 4, 8]\n",
            "[8, 34, 4]\n",
            "[4, 3245, 34]\n",
            "[34, 7097, 3245]\n",
            "[3245, 24, 7097]\n",
            "[7097, 0, 24]\n",
            "[24, 2350, 0]\n",
            "[0, 1, 2350]\n",
            "[2350, 3677, 1]\n",
            "[1, 0, 3677]\n",
            "[3677, 226, 0]\n",
            "[0, 28585, 226]\n",
            "[226, 163, 28585]\n",
            "[28585, 0, 163]\n",
            "[163, 1704, 0]\n",
            "[0, 401, 1704]\n",
            "[1704, 1117, 401]\n",
            "[401, 7922, 1117]\n",
            "[1117, 39, 7922]\n",
            "[7922, 54, 39]\n",
            "[39, 5638, 54]\n",
            "[54, 1579, 5638]\n",
            "[5638, 63, 1579]\n",
            "[1579, 9702, 63]\n",
            "[63, 1, 9702]\n",
            "[9702, 3, 1]\n",
            "[1, 8, 3]\n",
            "[3, 12, 8]\n",
            "[8, 8, 12]\n",
            "[12, 0, 8]\n",
            "[8, 34419, 0]\n",
            "[0, 1, 34419]\n",
            "[34419, 401, 1]\n",
            "[1, 17722, 401]\n",
            "[401, 79, 17722]\n",
            "[17722, 542, 79]\n",
            "[79, 289, 542]\n",
            "[542, 2430, 289]\n",
            "[289, 1388, 2430]\n",
            "[2430, 0, 1388]\n",
            "[1388, 1251, 0]\n",
            "[0, 80, 1251]\n",
            "[1251, 2, 80]\n",
            "[80, 13, 2]\n",
            "[2, 32, 13]\n",
            "[13, 6699, 32]\n",
            "[32, 18, 6699]\n",
            "[6699, 1921, 18]\n",
            "[18, 0, 1921]\n",
            "[1921, 1070, 0]\n",
            "[0, 791, 1070]\n",
            "[1070, 809, 791]\n",
            "[791, 23, 809]\n",
            "[809, 575, 23]\n",
            "[23, 3, 575]\n",
            "[575, 17, 3]\n",
            "[3, 3, 17]\n",
            "[17, 8, 3]\n",
            "[3, 8, 8]\n",
            "[8, 7, 8]\n",
            "[8, 0, 7]\n",
            "[7, 55, 0]\n",
            "[0, 8817, 55]\n",
            "[55, 8210, 8817]\n",
            "[8817, 5893, 8210]\n",
            "[8210, 8739, 5893]\n",
            "[5893, 6699, 8739]\n",
            "[8739, 0, 6699]\n",
            "[6699, 345, 0]\n",
            "[0, 53, 345]\n",
            "[345, 248, 53]\n",
            "[53, 25337, 248]\n",
            "[248, 1, 25337]\n",
            "[25337, 5, 1]\n",
            "[1, 166, 5]\n",
            "[5, 1, 166]\n",
            "[166, 589, 1]\n",
            "[1, 4, 589]\n",
            "[589, 324, 4]\n",
            "[4, 3, 324]\n",
            "[324, 8, 3]\n",
            "[3, 12, 8]\n",
            "[8, 8, 12]\n",
            "[12, 2, 8]\n",
            "[8, 3, 2]\n",
            "[2, 8, 3]\n",
            "[3, 8, 8]\n",
            "[8, 7, 8]\n",
            "[8, 19, 7]\n",
            "[7, 4978, 19]\n",
            "[19, 0, 4978]\n",
            "[4978, 208, 0]\n",
            "[0, 8691, 208]\n",
            "[208, 1, 8691]\n",
            "[8691, 289, 1]\n",
            "[1, 2, 289]\n",
            "[289, 1790, 2]\n",
            "[2, 0, 1790]\n",
            "[1790, 687, 0]\n",
            "[0, 1, 687]\n",
            "[687, 0, 1]\n",
            "[1, 188, 0]\n",
            "[0, 1, 188]\n",
            "[188, 0, 1]\n",
            "[1, 1251, 0]\n",
            "[0, 80, 1251]\n",
            "[1251, 4923, 80]\n",
            "[80, 4972, 4923]\n",
            "[4923, 9588, 4972]\n",
            "[4972, 4972, 9588]\n",
            "[9588, 2, 4972]\n",
            "[4972, 6791, 2]\n",
            "[2, 6699, 6791]\n",
            "[6791, 484, 6699]\n",
            "[6699, 12, 484]\n",
            "[484, 3, 12]\n",
            "[12, 8, 3]\n",
            "[3, 12, 8]\n",
            "[8, 21, 12]\n",
            "[12, 2479, 21]\n",
            "[21, 2, 2479]\n",
            "[2479, 3164, 2]\n",
            "[2, 94, 3164]\n",
            "[3164, 6699, 94]\n",
            "[94, 16, 6699]\n",
            "[6699, 208, 16]\n",
            "[16, 10064, 208]\n",
            "[208, 39, 10064]\n",
            "[10064, 1425, 39]\n",
            "[39, 13, 1425]\n",
            "[1425, 1065, 13]\n",
            "[13, 2, 1065]\n",
            "[1065, 1739, 2]\n",
            "[2, 4, 1739]\n",
            "[1739, 0, 4]\n",
            "[4, 401, 0]\n",
            "[0, 283, 401]\n",
            "[401, 2, 283]\n",
            "[283, 542, 2]\n",
            "[2, 289, 542]\n",
            "[542, 0, 289]\n",
            "[289, 325, 0]\n",
            "[0, 738, 325]\n",
            "[325, 1, 738]\n",
            "[738, 29, 1]\n",
            "[1, 112, 29]\n",
            "[29, 2573, 112]\n",
            "[112, 753, 2573]\n",
            "[2573, 0, 753]\n",
            "[753, 173, 0]\n",
            "[0, 675, 173]\n",
            "[173, 6, 675]\n",
            "[675, 3441, 6]\n",
            "[6, 14, 3441]\n",
            "[3441, 0, 14]\n",
            "[14, 188, 0]\n",
            "[0, 1, 188]\n",
            "[188, 3, 1]\n",
            "[1, 8, 3]\n",
            "[3, 12, 8]\n",
            "[8, 7, 12]\n",
            "[12, 16, 7]\n",
            "[7, 2239, 16]\n",
            "[16, 12728, 2239]\n",
            "[2239, 1, 12728]\n",
            "[12728, 610, 1]\n",
            "[1, 598, 610]\n",
            "[610, 4206, 598]\n",
            "[598, 2910, 4206]\n",
            "[4206, 3018, 2910]\n",
            "[2910, 243, 3018]\n",
            "[3018, 6, 243]\n",
            "[243, 29933, 6]\n",
            "[6, 1, 29933]\n",
            "[29933, 0, 1]\n",
            "[1, 80, 0]\n",
            "[0, 66, 80]\n",
            "[80, 95, 66]\n",
            "[66, 1, 95]\n",
            "[95, 1230, 1]\n",
            "[1, 205, 1230]\n",
            "[1230, 598, 205]\n",
            "[205, 1542, 598]\n",
            "[598, 19, 1542]\n",
            "[1542, 751, 19]\n",
            "[19, 169, 751]\n",
            "[751, 3263, 169]\n",
            "[169, 6, 3263]\n",
            "[3263, 5, 6]\n",
            "[6, 406, 5]\n",
            "[5, 908, 406]\n",
            "[406, 1, 908]\n",
            "[908, 944, 1]\n",
            "[1, 480, 944]\n",
            "[944, 1338, 480]\n",
            "[480, 1427, 1338]\n",
            "[1338, 6, 1427]\n",
            "[1427, 3, 6]\n",
            "[6, 8, 3]\n",
            "[3, 12, 8]\n",
            "[8, 17, 12]\n",
            "[12, 97, 17]\n",
            "[17, 7244, 97]\n",
            "[97, 1779, 7244]\n",
            "[7244, 25, 1779]\n",
            "[1779, 7, 25]\n",
            "[25, 6, 7]\n",
            "[7, 3, 6]\n",
            "[6, 7, 3]\n",
            "[3, 8, 7]\n",
            "[7, 1203, 8]\n",
            "[8, 52922, 1203]\n",
            "[1203, 1076, 52922]\n",
            "[52922, 3238, 1076]\n",
            "[1076, 6580, 3238]\n",
            "[3238, 25, 6580]\n",
            "[6580, 9, 25]\n",
            "[25, 7, 9]\n",
            "[9, 7, 7]\n",
            "[7, 7, 7]\n",
            "[7, 6, 7]\n",
            "[7, 9, 6]\n",
            "[6, 7, 9]\n",
            "[9, 7, 7]\n",
            "[7, 2, 7]\n",
            "[7, 200, 2]\n",
            "[2, 3224, 200]\n",
            "[200, 1779, 3224]\n",
            "[3224, 25, 1779]\n",
            "[1779, 7, 25]\n",
            "[25, 6, 7]\n",
            "[7, 3, 6]\n",
            "[6, 9, 3]\n",
            "[3, 7, 9]\n",
            "[9, 1203, 7]\n",
            "[7, 3643, 1203]\n",
            "[1203, 2750, 3643]\n",
            "[3643, 0, 2750]\n",
            "[2750, 26336, 0]\n",
            "[0, 1, 26336]\n",
            "[26336, 0, 1]\n",
            "[1, 4267, 0]\n",
            "[0, 2, 4267]\n",
            "[4267, 542, 2]\n",
            "[2, 289, 542]\n",
            "[542, 49, 289]\n",
            "[289, 13347, 49]\n",
            "[49, 0, 13347]\n",
            "[13347, 176, 0]\n",
            "[0, 1, 176]\n",
            "[176, 0, 1]\n",
            "[1, 15092, 0]\n",
            "[0, 2, 15092]\n",
            "[15092, 6699, 2]\n",
            "[2, 417, 6699]\n",
            "[6699, 6699, 417]\n",
            "[417, 16, 6699]\n",
            "[6699, 14128, 16]\n",
            "[16, 1, 14128]\n",
            "[14128, 5715, 1]\n",
            "[1, 2, 5715]\n",
            "[5715, 1371, 2]\n",
            "[2, 6, 1371]\n",
            "[1371, 984, 6]\n",
            "[6, 50, 984]\n",
            "[984, 208, 50]\n",
            "[50, 15588, 208]\n",
            "[208, 49, 15588]\n",
            "[15588, 0, 49]\n",
            "[49, 20281, 0]\n",
            "[0, 540, 20281]\n",
            "[20281, 1, 540]\n",
            "[540, 555, 1]\n",
            "[1, 11822, 555]\n",
            "[555, 206, 11822]\n",
            "[11822, 6872, 206]\n",
            "[206, 4038, 6872]\n",
            "[6872, 2, 4038]\n",
            "[4038, 583, 2]\n",
            "[2, 572, 583]\n",
            "[583, 5917, 572]\n",
            "[572, 4, 5917]\n",
            "[5917, 0, 4]\n",
            "[4, 401, 0]\n",
            "[0, 6333, 401]\n",
            "[401, 2447, 6333]\n",
            "[6333, 13, 2447]\n",
            "[2447, 750, 13]\n",
            "[13, 716, 750]\n",
            "[750, 25, 716]\n",
            "[716, 2854, 25]\n",
            "[25, 16, 2854]\n",
            "[2854, 576, 16]\n",
            "[16, 1779, 576]\n",
            "[576, 18615, 1779]\n",
            "[1779, 378, 18615]\n",
            "[18615, 4, 378]\n",
            "[378, 0, 4]\n",
            "[4, 2818, 0]\n",
            "[0, 6333, 2818]\n",
            "[2818, 1, 6333]\n",
            "[6333, 4374, 1]\n",
            "[1, 3004, 4374]\n",
            "[4374, 2, 3004]\n",
            "[3004, 3542, 2]\n",
            "[2, 34, 3542]\n",
            "[3542, 49, 34]\n",
            "[34, 57, 49]\n",
            "[49, 5670, 57]\n",
            "[57, 61, 5670]\n",
            "[5670, 0, 61]\n",
            "[61, 401, 0]\n",
            "[0, 283, 401]\n",
            "[401, 14, 283]\n",
            "[283, 2580, 14]\n",
            "[14, 4, 2580]\n",
            "[2580, 3, 4]\n",
            "[4, 8, 3]\n",
            "[3, 20, 8]\n",
            "[8, 7, 20]\n",
            "[20, 4038, 7]\n",
            "[7, 4311, 4038]\n",
            "[4038, 37, 4311]\n",
            "[4311, 358, 37]\n",
            "[37, 1075, 358]\n",
            "[358, 4, 1075]\n",
            "[1075, 0, 4]\n",
            "[4, 401, 0]\n",
            "[0, 6333, 401]\n",
            "[401, 1, 6333]\n",
            "[6333, 2489, 1]\n",
            "[1, 4520, 2489]\n",
            "[2489, 6670, 4520]\n",
            "[4520, 2, 6670]\n",
            "[6670, 6948, 2]\n",
            "[2, 6699, 6948]\n",
            "[6948, 49, 6699]\n",
            "[6699, 22873, 49]\n",
            "[49, 5, 22873]\n",
            "[22873, 314, 5]\n",
            "[5, 19, 314]\n",
            "[314, 74, 19]\n",
            "[19, 2071, 74]\n",
            "[74, 3673, 2071]\n",
            "[2071, 0, 3673]\n",
            "[3673, 401, 0]\n",
            "[0, 283, 401]\n",
            "[401, 6699, 283]\n",
            "[283, 16, 6699]\n",
            "[6699, 1142, 16]\n",
            "[16, 6, 1142]\n",
            "[1142, 1389, 6]\n",
            "[6, 407, 1389]\n",
            "[1389, 26636, 407]\n",
            "[407, 18, 26636]\n",
            "[26636, 6, 18]\n",
            "[18, 2606, 6]\n",
            "[6, 109, 2606]\n",
            "[2606, 5, 109]\n",
            "[109, 55, 5]\n",
            "[5, 868, 55]\n",
            "[55, 1, 868]\n",
            "[868, 283, 1]\n",
            "[1, 34, 283]\n",
            "[283, 74, 34]\n",
            "[34, 38, 74]\n",
            "[74, 425, 38]\n",
            "[38, 5, 425]\n",
            "[425, 4159, 5]\n",
            "[5, 5708, 4159]\n",
            "[4159, 2474, 5708]\n",
            "[5708, 4, 2474]\n",
            "[2474, 31, 4]\n",
            "[4, 1577, 31]\n",
            "[31, 4267, 1577]\n",
            "[1577, 0, 4267]\n",
            "[4267, 55, 0]\n",
            "[0, 868, 55]\n",
            "[55, 18, 868]\n",
            "[868, 2128, 18]\n",
            "[18, 1164, 2128]\n",
            "[2128, 14, 1164]\n",
            "[1164, 0, 14]\n",
            "[14, 252, 0]\n",
            "[0, 1912, 252]\n",
            "[252, 6333, 1912]\n",
            "[1912, 58, 6333]\n",
            "[6333, 1261, 58]\n",
            "[58, 0, 1261]\n",
            "[1261, 325, 0]\n",
            "[0, 176, 325]\n",
            "[325, 2, 176]\n",
            "[176, 2653, 2]\n",
            "[2, 1, 2653]\n",
            "[2653, 0, 1]\n",
            "[1, 401, 0]\n",
            "[0, 283, 401]\n",
            "[401, 6, 283]\n",
            "[283, 16962, 6]\n",
            "[6, 75, 16962]\n",
            "[16962, 0, 75]\n",
            "[75, 50, 0]\n",
            "[0, 2422, 50]\n",
            "[50, 44038, 2422]\n",
            "[2422, 52, 44038]\n",
            "[44038, 11, 52]\n",
            "[52, 572, 11]\n",
            "[11, 42094, 572]\n",
            "[572, 216, 42094]\n",
            "[42094, 8531, 216]\n",
            "[216, 7888, 8531]\n",
            "[8531, 39, 7888]\n",
            "[7888, 1577, 39]\n",
            "[39, 4766, 1577]\n",
            "[1577, 19, 4766]\n",
            "[4766, 5, 19]\n",
            "[19, 2492, 5]\n",
            "[5, 2925, 2492]\n",
            "[2492, 6, 2925]\n",
            "[2925, 5, 6]\n",
            "[6, 617, 5]\n",
            "[5, 549, 617]\n",
            "[617, 18, 549]\n",
            "[549, 722, 18]\n",
            "[18, 2, 722]\n",
            "[722, 39, 2]\n",
            "[2, 50, 39]\n",
            "[39, 68, 50]\n",
            "[50, 3982, 68]\n",
            "[68, 6, 3982]\n",
            "[3982, 23408, 6]\n",
            "[6, 0, 23408]\n",
            "[23408, 21231, 0]\n",
            "[0, 1, 21231]\n",
            "[21231, 0, 1]\n",
            "[1, 4267, 0]\n",
            "[0, 88, 4267]\n",
            "[4267, 19, 88]\n",
            "[88, 18, 19]\n",
            "[19, 722, 18]\n",
            "[18, 6, 722]\n",
            "[722, 2566, 6]\n",
            "[6, 44, 2566]\n",
            "[2566, 5985, 44]\n",
            "[44, 6699, 5985]\n",
            "[5985, 2739, 6699]\n",
            "[6699, 8531, 2739]\n",
            "[2739, 7888, 8531]\n",
            "[8531, 29, 7888]\n",
            "[7888, 260, 29]\n",
            "[29, 3652, 260]\n",
            "[260, 2, 3652]\n",
            "[3652, 748, 2]\n",
            "[2, 16, 748]\n",
            "[748, 46, 16]\n",
            "[16, 689, 46]\n",
            "[46, 401, 689]\n",
            "[689, 216, 401]\n",
            "[401, 1, 216]\n",
            "[216, 23273, 1]\n",
            "[1, 0, 23273]\n",
            "[23273, 173, 0]\n",
            "[0, 2332, 173]\n",
            "[173, 106, 2332]\n",
            "[2332, 1, 106]\n",
            "[106, 5, 1]\n",
            "[1, 2813, 5]\n",
            "[5, 6, 2813]\n",
            "[2813, 2599, 6]\n",
            "[6, 29, 2599]\n",
            "[2599, 171, 29]\n",
            "[29, 685, 171]\n",
            "[171, 2256, 685]\n",
            "[685, 4, 2256]\n",
            "[2256, 1592, 4]\n",
            "[4, 6, 1592]\n",
            "[1592, 0, 6]\n",
            "[6, 13767, 0]\n",
            "[0, 36825, 13767]\n",
            "[13767, 1223, 36825]\n",
            "[36825, 6, 1223]\n",
            "[1223, 0, 6]\n",
            "[6, 55, 0]\n",
            "[0, 868, 55]\n",
            "[55, 0, 868]\n",
            "[868, 973, 0]\n",
            "[0, 263, 973]\n",
            "[973, 180, 263]\n",
            "[263, 577, 180]\n",
            "[180, 207, 577]\n",
            "[577, 0, 207]\n",
            "[207, 15092, 0]\n",
            "[0, 2, 15092]\n",
            "[15092, 219, 2]\n",
            "[2, 2509, 219]\n",
            "[219, 39, 2509]\n",
            "[2509, 1264, 39]\n",
            "[39, 1346, 1264]\n",
            "[1264, 6, 1346]\n",
            "[1346, 1963, 6]\n",
            "[6, 34, 1963]\n",
            "[1963, 514, 34]\n",
            "[34, 714, 514]\n",
            "[514, 6, 714]\n",
            "[714, 14042, 6]\n",
            "[6, 1, 14042]\n",
            "[14042, 0, 1]\n",
            "[1, 401, 0]\n",
            "[0, 29072, 401]\n",
            "[401, 23, 29072]\n",
            "[29072, 0, 23]\n",
            "[23, 4135, 0]\n",
            "[0, 1, 4135]\n",
            "[4135, 0, 1]\n",
            "[1, 868, 0]\n",
            "[0, 16, 868]\n",
            "[868, 4858, 16]\n",
            "[16, 0, 4858]\n",
            "[4858, 48274, 0]\n",
            "[0, 3985, 48274]\n",
            "[48274, 973, 3985]\n",
            "[3985, 29017, 973]\n",
            "[973, 4, 29017]\n",
            "[29017, 0, 4]\n",
            "[4, 401, 0]\n",
            "[0, 1712, 401]\n",
            "[401, 1923, 1712]\n",
            "[1712, 0, 1923]\n",
            "[1923, 548, 0]\n",
            "[0, 2479, 548]\n",
            "[548, 4, 2479]\n",
            "[2479, 3, 4]\n",
            "[4, 8, 3]\n",
            "[3, 8, 8]\n",
            "[8, 3, 8]\n",
            "[8, 4, 3]\n",
            "[3, 31, 4]\n",
            "[4, 850, 31]\n",
            "[31, 6, 850]\n",
            "[850, 3173, 6]\n",
            "[6, 6699, 3173]\n",
            "[3173, 25, 6699]\n",
            "[6699, 176, 25]\n",
            "[25, 2, 176]\n",
            "[176, 1440, 2]\n",
            "[2, 0, 1440]\n",
            "[1440, 4858, 0]\n",
            "[0, 1, 4858]\n",
            "[4858, 0, 1]\n",
            "[1, 55, 0]\n",
            "[0, 283, 55]\n",
            "[55, 868, 283]\n",
            "[283, 78, 868]\n",
            "[868, 32, 78]\n",
            "[78, 66, 32]\n",
            "[32, 6699, 66]\n",
            "[66, 1765, 6699]\n",
            "[6699, 15, 1765]\n",
            "[1765, 414, 15]\n",
            "[15, 548, 414]\n",
            "[414, 3, 548]\n",
            "[548, 8, 3]\n",
            "[3, 6, 8]\n",
            "[8, 9, 6]\n",
            "[6, 3, 9]\n",
            "[9, 103, 3]\n",
            "[3, 313, 103]\n",
            "[103, 4745, 313]\n",
            "[313, 33, 4745]\n",
            "[4745, 5, 33]\n",
            "[33, 4, 5]\n",
            "[5, 0, 4]\n",
            "[4, 19023, 0]\n",
            "[0, 145, 19023]\n",
            "[19023, 117, 145]\n",
            "[145, 6859, 117]\n",
            "[117, 2, 6859]\n",
            "[6859, 3685, 2]\n",
            "[2, 6, 3685]\n",
            "[3685, 176, 6]\n",
            "[6, 75, 176]\n",
            "[176, 444, 75]\n",
            "[75, 29, 444]\n",
            "[444, 686, 29]\n",
            "[29, 6699, 686]\n",
            "[686, 210, 6699]\n",
            "[6699, 19, 210]\n",
            "[210, 1927, 19]\n",
            "[19, 283, 1927]\n",
            "[1927, 1344, 283]\n",
            "[283, 572, 1344]\n",
            "[1344, 176, 572]\n",
            "[572, 1580, 176]\n",
            "[176, 43293, 1580]\n",
            "[1580, 29, 43293]\n",
            "[43293, 4615, 29]\n",
            "[29, 11, 4615]\n",
            "[4615, 285, 11]\n",
            "[11, 49, 285]\n",
            "[285, 22845, 49]\n",
            "[49, 79, 22845]\n",
            "[22845, 6, 79]\n",
            "[79, 7888, 6]\n",
            "[6, 597, 7888]\n",
            "[7888, 16874, 597]\n",
            "[597, 49, 16874]\n",
            "[16874, 243, 49]\n",
            "[49, 6, 243]\n",
            "[243, 0, 6]\n",
            "[6, 2479, 0]\n",
            "[0, 16, 2479]\n",
            "[2479, 3164, 16]\n",
            "[16, 2750, 3164]\n",
            "[3164, 6699, 2750]\n",
            "[2750, 18, 6699]\n",
            "[6699, 1129, 18]\n",
            "[18, 6, 1129]\n",
            "[1129, 660, 6]\n",
            "[6, 177, 660]\n",
            "[660, 420, 177]\n",
            "[177, 1, 420]\n",
            "[420, 29, 1]\n",
            "[1, 13874, 29]\n",
            "[29, 2, 13874]\n",
            "[13874, 4, 2]\n",
            "[2, 155, 4]\n",
            "[4, 592, 155]\n",
            "[155, 4745, 592]\n",
            "[592, 107, 4745]\n",
            "[4745, 151, 107]\n",
            "[107, 3514, 151]\n",
            "[151, 13, 3514]\n",
            "[3514, 170, 13]\n",
            "[13, 7605, 170]\n",
            "[170, 194, 7605]\n",
            "[7605, 0, 194]\n",
            "[194, 7105, 0]\n",
            "[0, 1, 7105]\n",
            "[7105, 12, 1]\n",
            "[1, 19, 12]\n",
            "[12, 49, 19]\n",
            "[19, 243, 49]\n",
            "[49, 0, 243]\n",
            "[243, 2479, 0]\n",
            "[0, 6699, 2479]\n",
            "[2479, 49, 6699]\n",
            "[6699, 3943, 49]\n",
            "[49, 6, 3943]\n",
            "[3943, 1836, 6]\n",
            "[6, 0, 1836]\n",
            "[1836, 15092, 0]\n",
            "[0, 11, 15092]\n",
            "[15092, 5, 11]\n",
            "[11, 87, 5]\n",
            "[5, 179, 87]\n",
            "[87, 41, 179]\n",
            "[179, 983, 41]\n",
            "[41, 27, 983]\n",
            "[983, 4, 27]\n",
            "[27, 0, 4]\n",
            "[4, 1242, 0]\n",
            "[0, 1, 1242]\n",
            "[1242, 339, 1]\n",
            "[1, 1739, 339]\n",
            "[339, 0, 1739]\n",
            "[1739, 6135, 0]\n",
            "[0, 14956, 6135]\n",
            "[6135, 4, 14956]\n",
            "[14956, 32, 4]\n",
            "[4, 1223, 32]\n",
            "[32, 25470, 1223]\n",
            "[1223, 3906, 25470]\n",
            "[25470, 40585, 3906]\n",
            "[3906, 1660, 40585]\n",
            "[40585, 16, 1660]\n",
            "[1660, 339, 16]\n",
            "[16, 551, 339]\n",
            "[339, 2, 551]\n",
            "[551, 3631, 2]\n",
            "[2, 6, 3631]\n",
            "[3631, 1836, 6]\n",
            "[6, 0, 1836]\n",
            "[1836, 7541, 0]\n",
            "[0, 1, 7541]\n",
            "[7541, 0, 1]\n",
            "[1, 2818, 0]\n",
            "[0, 86, 2818]\n",
            "[2818, 14, 86]\n",
            "[86, 219, 14]\n",
            "[14, 314, 219]\n",
            "[219, 39, 314]\n",
            "[314, 928, 39]\n",
            "[39, 888, 928]\n",
            "[928, 41, 888]\n",
            "[888, 62, 41]\n",
            "[41, 0, 62]\n",
            "[62, 15092, 0]\n",
            "[0, 18, 15092]\n",
            "[15092, 23210, 18]\n",
            "[18, 59, 23210]\n",
            "[23210, 0, 59]\n",
            "[59, 548, 0]\n",
            "[0, 2479, 548]\n",
            "[548, 6699, 2479]\n",
            "[2479, 18, 6699]\n",
            "[6699, 237, 18]\n",
            "[18, 24, 237]\n",
            "[237, 72, 24]\n",
            "[24, 1490, 72]\n",
            "[72, 176, 1490]\n",
            "[1490, 604, 176]\n",
            "[176, 1208, 604]\n",
            "[604, 0, 1208]\n",
            "[1208, 1414, 0]\n",
            "[0, 353, 1414]\n",
            "[1414, 4, 353]\n",
            "[353, 0, 4]\n",
            "[4, 188, 0]\n",
            "[0, 7888, 188]\n",
            "[188, 571, 7888]\n",
            "[7888, 107, 571]\n",
            "[571, 1188, 107]\n",
            "[107, 570, 1188]\n",
            "[1188, 24, 570]\n",
            "[570, 8470, 24]\n",
            "[24, 1, 8470]\n",
            "[8470, 50, 1]\n",
            "[1, 814, 50]\n",
            "[50, 6699, 814]\n",
            "[814, 642, 6699]\n",
            "[6699, 3993, 642]\n",
            "[642, 23, 3993]\n",
            "[3993, 484, 23]\n",
            "[23, 9, 484]\n",
            "[484, 17, 9]\n",
            "[9, 3, 17]\n",
            "[17, 8, 3]\n",
            "[3, 8, 8]\n",
            "[8, 3, 8]\n",
            "[8, 11, 3]\n",
            "[3, 0, 11]\n",
            "[11, 4267, 0]\n",
            "[0, 18, 4267]\n",
            "[4267, 1564, 18]\n",
            "[18, 5191, 1564]\n",
            "[1564, 6699, 5191]\n",
            "[5191, 10, 6699]\n",
            "[6699, 392, 10]\n",
            "[10, 110, 392]\n",
            "[392, 1206, 110]\n",
            "[110, 4, 1206]\n",
            "[1206, 0, 4]\n",
            "[4, 225, 0]\n",
            "[0, 13, 225]\n",
            "[225, 321, 13]\n",
            "[13, 1388, 321]\n",
            "[321, 0, 1388]\n",
            "[1388, 1251, 0]\n",
            "[0, 80, 1251]\n",
            "[1251, 75, 80]\n",
            "[80, 4, 75]\n",
            "[75, 748, 4]\n",
            "[4, 29, 748]\n",
            "[748, 2396, 29]\n",
            "[29, 10, 2396]\n",
            "[2396, 141, 10]\n",
            "[10, 439, 141]\n",
            "[141, 122, 439]\n",
            "[439, 35, 122]\n",
            "[122, 10, 35]\n",
            "[35, 2776, 10]\n",
            "[10, 6, 2776]\n",
            "[2776, 38, 6]\n",
            "[6, 753, 38]\n",
            "[38, 89, 753]\n",
            "[753, 0, 89]\n",
            "[89, 3164, 0]\n",
            "[0, 1, 3164]\n",
            "[3164, 0, 1]\n",
            "[1, 173, 0]\n",
            "[0, 2, 173]\n",
            "[173, 10, 2]\n",
            "[2, 329, 10]\n",
            "[10, 1341, 329]\n",
            "[329, 13, 1341]\n",
            "[1341, 0, 13]\n",
            "[13, 325, 0]\n",
            "[0, 19135, 325]\n",
            "[325, 19, 19135]\n",
            "[19135, 665, 19]\n",
            "[19, 2069, 665]\n",
            "[665, 10324, 2069]\n",
            "[2069, 2195, 10324]\n",
            "[10324, 19, 2195]\n",
            "[2195, 5, 19]\n",
            "[19, 733, 5]\n",
            "[5, 1, 733]\n",
            "[733, 5854, 1]\n",
            "[1, 26, 5854]\n",
            "[5854, 12113, 26]\n",
            "[26, 24, 12113]\n",
            "[12113, 0, 24]\n",
            "[24, 341, 0]\n",
            "[0, 1, 341]\n",
            "[341, 0, 1]\n",
            "[1, 579, 0]\n",
            "[0, 5985, 579]\n",
            "[579, 1, 5985]\n",
            "[5985, 22386, 1]\n",
            "[1, 6699, 22386]\n",
            "[22386, 16, 6699]\n",
            "[6699, 792, 16]\n",
            "[16, 2015, 792]\n",
            "[792, 2908, 2015]\n",
            "[2015, 2, 2908]\n",
            "[2908, 0, 2]\n",
            "[2, 1065, 0]\n",
            "[0, 19, 1065]\n",
            "[1065, 448, 19]\n",
            "[19, 89, 448]\n",
            "[448, 11, 89]\n",
            "[89, 5, 11]\n",
            "[11, 341, 5]\n",
            "[5, 1344, 341]\n",
            "[341, 10, 1344]\n",
            "[1344, 35, 10]\n",
            "[10, 254, 35]\n",
            "[35, 14, 254]\n",
            "[254, 54, 14]\n",
            "[14, 6, 54]\n",
            "[54, 30, 6]\n",
            "[6, 0, 30]\n",
            "[30, 4104, 0]\n",
            "[0, 890, 4104]\n",
            "[4104, 0, 890]\n",
            "[890, 1251, 0]\n",
            "[0, 80, 1251]\n",
            "[1251, 1388, 80]\n",
            "[80, 11, 1388]\n",
            "[1388, 27, 11]\n",
            "[11, 214, 27]\n",
            "[27, 0, 214]\n",
            "[214, 80, 0]\n",
            "[0, 4, 80]\n",
            "[80, 1632, 4]\n",
            "[4, 49, 1632]\n",
            "[1632, 57, 49]\n",
            "[49, 1343, 57]\n",
            "[57, 23, 1343]\n",
            "[1343, 132, 23]\n",
            "[23, 0, 132]\n",
            "[132, 324, 0]\n",
            "[0, 3, 324]\n",
            "[324, 8, 3]\n",
            "[3, 21, 8]\n",
            "[8, 7, 21]\n",
            "[21, 16, 7]\n",
            "[7, 19050, 16]\n",
            "[16, 401, 19050]\n",
            "[19050, 1049, 401]\n",
            "[401, 32, 1049]\n",
            "[1049, 2, 32]\n",
            "[32, 51, 2]\n",
            "[2, 1895, 51]\n",
            "[51, 1818, 1895]\n",
            "[1895, 4, 1818]\n",
            "[1818, 401, 4]\n",
            "[4, 1939, 401]\n",
            "[401, 86, 1939]\n",
            "[1939, 110, 86]\n",
            "[86, 5755, 110]\n",
            "[110, 2, 5755]\n",
            "[5755, 5333, 2]\n",
            "[2, 14, 5333]\n",
            "[5333, 1081, 14]\n",
            "[14, 25, 1081]\n",
            "[1081, 0, 25]\n",
            "[25, 225, 0]\n",
            "[0, 53, 225]\n",
            "[225, 1224, 53]\n",
            "[53, 1632, 1224]\n",
            "[1224, 2, 1632]\n",
            "[1632, 1292, 2]\n",
            "[2, 358, 1292]\n",
            "[1292, 5, 358]\n",
            "[358, 2119, 5]\n",
            "[5, 6711, 2119]\n",
            "[2119, 23, 6711]\n",
            "[6711, 0, 23]\n",
            "[23, 283, 0]\n",
            "[0, 16, 283]\n",
            "[283, 1116, 16]\n",
            "[16, 6, 1116]\n",
            "[1116, 1361, 6]\n",
            "[6, 189, 1361]\n",
            "[1361, 2, 189]\n",
            "[189, 3090, 2]\n",
            "[2, 11, 3090]\n",
            "[3090, 5, 11]\n",
            "[11, 112, 5]\n",
            "[5, 11648, 112]\n",
            "[112, 4, 11648]\n",
            "[11648, 0, 4]\n",
            "[4, 225, 0]\n",
            "[0, 37, 225]\n",
            "[225, 6480, 37]\n",
            "[37, 4425, 6480]\n",
            "[6480, 219, 4425]\n",
            "[4425, 4849, 219]\n",
            "[219, 19, 4849]\n",
            "[4849, 62, 19]\n",
            "[19, 761, 62]\n",
            "[62, 6, 761]\n",
            "[761, 4849, 6]\n",
            "[6, 4, 4849]\n",
            "[4849, 1632, 4]\n",
            "[4, 160, 1632]\n",
            "[1632, 36, 160]\n",
            "[160, 30, 36]\n",
            "[36, 2304, 30]\n",
            "[30, 401, 2304]\n",
            "[2304, 549, 401]\n",
            "[401, 3476, 549]\n",
            "[549, 18, 3476]\n",
            "[3476, 4, 18]\n",
            "[18, 1441, 4]\n",
            "[4, 4676, 1441]\n",
            "[1441, 14, 4676]\n",
            "[4676, 3, 14]\n",
            "[14, 8, 3]\n",
            "[3, 12, 8]\n",
            "[8, 17, 12]\n",
            "[12, 62, 17]\n",
            "[17, 6699, 62]\n",
            "[62, 358, 6699]\n",
            "[6699, 633, 358]\n",
            "[358, 2, 633]\n",
            "[633, 67, 2]\n",
            "[2, 589, 67]\n",
            "[67, 74, 589]\n",
            "[589, 38, 74]\n",
            "[74, 49, 38]\n",
            "[38, 5, 49]\n",
            "[49, 2119, 5]\n",
            "[5, 1599, 2119]\n",
            "[2119, 23, 1599]\n",
            "[1599, 6699, 23]\n",
            "[23, 16, 6699]\n",
            "[6699, 3034, 16]\n",
            "[16, 6, 3034]\n",
            "[3034, 43548, 6]\n",
            "[6, 4, 43548]\n",
            "[43548, 0, 4]\n",
            "[4, 188, 0]\n",
            "[0, 67, 188]\n",
            "[188, 1371, 67]\n",
            "[67, 6, 1371]\n",
            "[1371, 376, 6]\n",
            "[6, 0, 376]\n",
            "[376, 401, 0]\n",
            "[0, 283, 401]\n",
            "[401, 39, 283]\n",
            "[283, 570, 39]\n",
            "[39, 360, 570]\n",
            "[570, 570, 360]\n",
            "[360, 324, 570]\n",
            "[570, 2, 324]\n",
            "[324, 1939, 2]\n",
            "[2, 568, 1939]\n",
            "[1939, 5158, 568]\n",
            "[568, 5711, 5158]\n",
            "[5158, 2150, 5711]\n",
            "[5711, 5, 2150]\n",
            "[2150, 930, 5]\n",
            "[5, 17, 930]\n",
            "[930, 7, 17]\n",
            "[17, 152, 7]\n",
            "[7, 22461, 152]\n",
            "[152, 81, 22461]\n",
            "[22461, 234, 81]\n",
            "[81, 2, 234]\n",
            "[234, 225, 2]\n",
            "[2, 208, 225]\n",
            "[225, 1253, 208]\n",
            "[208, 59, 1253]\n",
            "[1253, 6770, 59]\n",
            "[59, 6699, 6770]\n",
            "[6770, 734, 6699]\n",
            "[6699, 0, 734]\n",
            "[734, 6699, 0]\n",
            "[0, 1302, 6699]\n",
            "[6699, 4, 1302]\n",
            "[1302, 3, 4]\n",
            "[4, 8, 3]\n",
            "[3, 8, 8]\n",
            "[8, 9, 8]\n",
            "[8, 4, 9]\n",
            "[9, 3, 4]\n",
            "[4, 8, 3]\n",
            "[3, 8, 8]\n",
            "[8, 15, 8]\n",
            "[8, 35, 15]\n",
            "[15, 37, 35]\n",
            "[35, 734, 37]\n",
            "[37, 828, 734]\n",
            "[734, 706, 828]\n",
            "[828, 212, 706]\n",
            "[706, 1, 212]\n",
            "[212, 34, 1]\n",
            "[1, 35, 34]\n",
            "[34, 18, 35]\n",
            "[35, 3, 18]\n",
            "[18, 1, 3]\n",
            "[3, 15, 1]\n",
            "[1, 161, 15]\n",
            "[15, 13338, 161]\n",
            "[161, 1, 13338]\n",
            "[13338, 0, 1]\n",
            "[1, 352, 0]\n",
            "[0, 3229, 352]\n",
            "[352, 35, 3229]\n",
            "[3229, 37, 35]\n",
            "[35, 126, 37]\n",
            "[37, 5, 126]\n",
            "[126, 474, 5]\n",
            "[5, 1, 474]\n",
            "[474, 0, 1]\n",
            "[1, 921, 0]\n",
            "[0, 1, 921]\n",
            "[921, 937, 1]\n",
            "[1, 4, 937]\n",
            "[937, 3, 4]\n",
            "[4, 8, 3]\n",
            "[3, 8, 8]\n",
            "[8, 22, 8]\n",
            "[8, 6699, 22]\n",
            "[22, 555, 6699]\n",
            "[6699, 2293, 555]\n",
            "[555, 13, 2293]\n",
            "[2293, 216, 13]\n",
            "[13, 4, 216]\n",
            "[216, 748, 4]\n",
            "[4, 41, 748]\n",
            "[748, 65, 41]\n",
            "[41, 613, 65]\n",
            "[65, 89, 613]\n",
            "[613, 3, 89]\n",
            "[89, 1, 3]\n",
            "[3, 0, 1]\n",
            "[1, 1271, 0]\n",
            "[0, 53, 1271]\n",
            "[1271, 911, 53]\n",
            "[53, 271, 911]\n",
            "[911, 6, 271]\n",
            "[271, 29, 6]\n",
            "[6, 20578, 29]\n",
            "[29, 236, 20578]\n",
            "[20578, 0, 236]\n",
            "[236, 401, 0]\n",
            "[0, 283, 401]\n",
            "[401, 16, 283]\n",
            "[283, 3164, 16]\n",
            "[16, 4, 3164]\n",
            "[3164, 3, 4]\n",
            "[4, 8, 3]\n",
            "[3, 8, 8]\n",
            "[8, 21, 8]\n",
            "[8, 6699, 21]\n",
            "[21, 5052, 6699]\n",
            "[6699, 4, 5052]\n",
            "[5052, 5, 4]\n",
            "[4, 12716, 5]\n",
            "[5, 16715, 12716]\n",
            "[12716, 860, 16715]\n",
            "[16715, 99, 860]\n",
            "[860, 13, 99]\n",
            "[99, 0, 13]\n",
            "[13, 1163, 0]\n",
            "[0, 6, 1163]\n",
            "[1163, 3868, 6]\n",
            "[6, 814, 3868]\n",
            "[3868, 13, 814]\n",
            "[814, 0, 13]\n",
            "[13, 22386, 0]\n",
            "[0, 4941, 22386]\n",
            "[22386, 23, 4941]\n",
            "[4941, 467, 23]\n",
            "[23, 9, 467]\n",
            "[467, 22, 9]\n",
            "[9, 9, 22]\n",
            "[22, 7, 9]\n",
            "[9, 7, 7]\n",
            "[7, 3, 7]\n",
            "[7, 6699, 3]\n",
            "[3, 37, 6699]\n",
            "[6699, 734, 37]\n",
            "[37, 0, 734]\n",
            "[734, 339, 0]\n",
            "[0, 969, 339]\n",
            "[339, 179, 969]\n",
            "[969, 1, 179]\n",
            "[179, 748, 1]\n",
            "[1, 34, 748]\n",
            "[748, 10, 34]\n",
            "[34, 5, 10]\n",
            "[10, 283, 5]\n",
            "[5, 81, 283]\n",
            "[283, 155, 81]\n",
            "[81, 572, 155]\n",
            "[155, 339, 572]\n",
            "[572, 6041, 339]\n",
            "[339, 806, 6041]\n",
            "[6041, 35, 806]\n",
            "[806, 3993, 35]\n",
            "[35, 11, 3993]\n",
            "[3993, 179, 11]\n",
            "[11, 688, 179]\n",
            "[179, 4, 688]\n",
            "[688, 71, 4]\n",
            "[4, 9, 71]\n",
            "[71, 7, 9]\n",
            "[9, 7, 7]\n",
            "[7, 20, 7]\n",
            "[7, 79, 20]\n",
            "[20, 5, 79]\n",
            "[79, 8411, 5]\n",
            "[5, 24, 8411]\n",
            "[8411, 0, 24]\n",
            "[24, 179, 0]\n",
            "[0, 16, 179]\n",
            "[179, 2840, 16]\n",
            "[16, 79, 2840]\n",
            "[2840, 0, 79]\n",
            "[79, 1242, 0]\n",
            "[0, 554, 1242]\n",
            "[1242, 4, 554]\n",
            "[554, 0, 4]\n",
            "[4, 484, 0]\n",
            "[0, 9, 484]\n",
            "[484, 7, 9]\n",
            "[9, 7, 7]\n",
            "[7, 15, 7]\n",
            "[7, 743, 15]\n",
            "[15, 1229, 743]\n",
            "[743, 4, 1229]\n",
            "[1229, 125, 4]\n",
            "[4, 9, 125]\n",
            "[125, 7, 9]\n",
            "[9, 7, 7]\n",
            "[7, 20, 7]\n",
            "[7, 6699, 20]\n",
            "[20, 817, 6699]\n",
            "[6699, 6, 817]\n",
            "[817, 5179, 6]\n",
            "[6, 29, 5179]\n",
            "[5179, 373, 29]\n",
            "[29, 1234, 373]\n",
            "[373, 3104, 1234]\n",
            "[1234, 59, 3104]\n",
            "[3104, 5, 59]\n",
            "[59, 21452, 5]\n",
            "[5, 334, 21452]\n",
            "[21452, 1311, 334]\n",
            "[334, 0, 1311]\n",
            "[1311, 941, 0]\n",
            "[0, 23, 941]\n",
            "[941, 7277, 23]\n",
            "[23, 1, 7277]\n",
            "[7277, 3, 1]\n",
            "[1, 1, 3]\n",
            "[3, 44, 1]\n",
            "[1, 6885, 44]\n",
            "[44, 6, 6885]\n",
            "[6885, 20607, 6]\n",
            "[6, 23, 20607]\n",
            "[20607, 43, 23]\n",
            "[23, 1838, 43]\n",
            "[43, 0, 1838]\n",
            "[1838, 334, 0]\n",
            "[0, 149, 334]\n",
            "[334, 72, 149]\n",
            "[149, 778, 72]\n",
            "[72, 566, 778]\n",
            "[778, 0, 566]\n",
            "[566, 5179, 0]\n",
            "[0, 6699, 5179]\n",
            "[5179, 6, 6699]\n",
            "[6699, 5179, 6]\n",
            "[6, 29, 5179]\n",
            "[5179, 19612, 29]\n",
            "[29, 4, 19612]\n",
            "[19612, 539, 4]\n",
            "[4, 9, 539]\n",
            "[539, 7, 9]\n",
            "[9, 7, 7]\n",
            "[7, 20, 7]\n",
            "[7, 6699, 20]\n",
            "[20, 1391, 6699]\n",
            "[6699, 748, 1391]\n",
            "[1391, 33, 748]\n",
            "[748, 0, 33]\n",
            "[33, 4130, 0]\n",
            "[0, 1, 4130]\n",
            "[4130, 4923, 1]\n",
            "[1, 4972, 4923]\n",
            "[4923, 4, 4972]\n",
            "[4972, 527, 4]\n",
            "[4, 9, 527]\n",
            "[527, 7, 9]\n",
            "[9, 7, 7]\n",
            "[7, 20, 7]\n",
            "[7, 236, 20]\n",
            "[20, 11159, 236]\n",
            "[236, 8351, 11159]\n",
            "[11159, 1436, 8351]\n",
            "[8351, 759, 1436]\n",
            "[1436, 748, 759]\n",
            "[759, 216, 748]\n",
            "[748, 5474, 216]\n",
            "[216, 21386, 5474]\n",
            "[5474, 1923, 21386]\n",
            "[21386, 31, 1923]\n",
            "[1923, 5279, 31]\n",
            "[31, 6, 5279]\n",
            "[5279, 2796, 6]\n",
            "[6, 0, 2796]\n",
            "[2796, 743, 0]\n",
            "[0, 1, 743]\n",
            "[743, 1315, 1]\n",
            "[1, 4167, 1315]\n",
            "[1315, 24, 4167]\n",
            "[4167, 5, 24]\n",
            "[24, 95, 5]\n",
            "[5, 6091, 95]\n",
            "[95, 48, 6091]\n",
            "[6091, 74, 48]\n",
            "[48, 30, 74]\n",
            "[74, 851, 30]\n",
            "[30, 1124, 851]\n",
            "[851, 14, 1124]\n",
            "[1124, 0, 14]\n",
            "[14, 216, 0]\n",
            "[0, 2, 216]\n",
            "[216, 2800, 2]\n",
            "[2, 14, 2800]\n",
            "[2800, 1315, 14]\n",
            "[14, 16555, 1315]\n",
            "[1315, 6699, 16555]\n",
            "[16555, 422, 6699]\n",
            "[6699, 24, 422]\n",
            "[422, 8531, 24]\n",
            "[24, 7888, 8531]\n",
            "[8531, 3326, 7888]\n",
            "[7888, 21386, 3326]\n",
            "[3326, 16, 21386]\n",
            "[21386, 1522, 16]\n",
            "[16, 11, 1522]\n",
            "[1522, 5, 11]\n",
            "[11, 1725, 5]\n",
            "[5, 719, 1725]\n",
            "[1725, 25, 719]\n",
            "[719, 1739, 25]\n",
            "[25, 4, 1739]\n",
            "[1739, 9, 4]\n",
            "[4, 7, 9]\n",
            "[9, 7, 7]\n",
            "[7, 17, 7]\n",
            "[7, 6699, 17]\n",
            "[17, 18, 6699]\n",
            "[6699, 1921, 18]\n",
            "[18, 0, 1921]\n",
            "[1921, 222, 0]\n",
            "[0, 2181, 222]\n",
            "[222, 809, 2181]\n",
            "[2181, 13, 809]\n",
            "[809, 29, 13]\n",
            "[13, 446, 29]\n",
            "[29, 4, 446]\n",
            "[446, 2513, 4]\n",
            "[4, 175, 2513]\n",
            "[2513, 10136, 175]\n",
            "[175, 35, 10136]\n",
            "[10136, 37, 35]\n",
            "[35, 613, 37]\n",
            "[37, 31, 613]\n",
            "[613, 6163, 31]\n",
            "[31, 9840, 6163]\n",
            "[6163, 25, 9840]\n",
            "[9840, 0, 25]\n",
            "[25, 159, 0]\n",
            "[0, 1, 159]\n",
            "[159, 118, 1]\n",
            "[1, 23177, 118]\n",
            "[118, 35, 23177]\n",
            "[23177, 739, 35]\n",
            "[35, 12048, 739]\n",
            "[739, 4, 12048]\n",
            "[12048, 2854, 4]\n",
            "[4, 3986, 2854]\n",
            "[2854, 4, 3986]\n",
            "[3986, 0, 4]\n",
            "[4, 225, 0]\n",
            "[0, 6699, 225]\n",
            "[225, 18, 6699]\n",
            "[6699, 11162, 18]\n",
            "[18, 76, 11162]\n",
            "[11162, 11, 76]\n",
            "[76, 4, 11]\n",
            "[11, 119, 4]\n",
            "[4, 122, 119]\n",
            "[119, 1, 122]\n",
            "[122, 5, 1]\n",
            "[1, 3695, 5]\n",
            "[5, 19, 3695]\n",
            "[3695, 35, 19]\n",
            "[19, 18, 35]\n",
            "[35, 257, 18]\n",
            "[18, 23768, 257]\n",
            "[257, 68, 23768]\n",
            "[23768, 29, 68]\n",
            "[68, 8080, 29]\n",
            "[29, 4, 8080]\n",
            "[8080, 3, 4]\n",
            "[4, 8, 3]\n",
            "[3, 12, 8]\n",
            "[8, 21, 12]\n",
            "[12, 6699, 21]\n",
            "[21, 5730, 6699]\n",
            "[6699, 19, 5730]\n",
            "[5730, 29, 19]\n",
            "[19, 51936, 29]\n",
            "[29, 1830, 51936]\n",
            "[51936, 1, 1830]\n",
            "[1830, 20953, 1]\n",
            "[1, 2, 20953]\n",
            "[20953, 22386, 2]\n",
            "[2, 12110, 22386]\n",
            "[22386, 5, 12110]\n",
            "[12110, 221, 5]\n",
            "[5, 1380, 221]\n",
            "[221, 6, 1380]\n",
            "[1380, 897, 6]\n",
            "[6, 14967, 897]\n",
            "[897, 15107, 14967]\n",
            "[14967, 16, 15107]\n",
            "[15107, 4382, 16]\n",
            "[16, 24, 4382]\n",
            "[4382, 5, 24]\n",
            "[24, 213, 5]\n",
            "[5, 1248, 213]\n",
            "[213, 62, 1248]\n",
            "[1248, 1650, 62]\n",
            "[62, 204, 1650]\n",
            "[1650, 0, 204]\n",
            "[204, 1298, 0]\n",
            "[0, 18, 1298]\n",
            "[1298, 81, 18]\n",
            "[18, 0, 81]\n",
            "[81, 6223, 0]\n",
            "[0, 1877, 6223]\n",
            "[6223, 2, 1877]\n",
            "[1877, 29, 2]\n",
            "[2, 171, 29]\n",
            "[29, 2609, 171]\n",
            "[171, 6699, 2609]\n",
            "[2609, 7694, 6699]\n",
            "[6699, 10022, 7694]\n",
            "[7694, 84, 10022]\n",
            "[10022, 4, 84]\n",
            "[84, 3, 4]\n",
            "[4, 8, 3]\n",
            "[3, 12, 8]\n",
            "[8, 8, 12]\n",
            "[12, 23, 8]\n",
            "[8, 31, 23]\n",
            "[23, 304, 31]\n",
            "[31, 2233, 304]\n",
            "[304, 6, 2233]\n",
            "[2233, 517, 6]\n",
            "[6, 78, 517]\n",
            "[517, 0, 78]\n",
            "[78, 7676, 0]\n",
            "[0, 4, 7676]\n",
            "[7676, 21119, 4]\n",
            "[4, 1072, 21119]\n",
            "[21119, 1858, 1072]\n",
            "[1072, 145, 1858]\n",
            "[1858, 0, 145]\n",
            "[145, 16541, 0]\n",
            "[0, 1, 16541]\n",
            "[16541, 2781, 1]\n",
            "[1, 157, 2781]\n",
            "[2781, 4, 157]\n",
            "[157, 3878, 4]\n",
            "[4, 6699, 3878]\n",
            "[3878, 18, 6699]\n",
            "[6699, 1650, 18]\n",
            "[18, 13, 1650]\n",
            "[1650, 29, 13]\n",
            "[13, 2413, 29]\n",
            "[29, 23, 2413]\n",
            "[2413, 0, 23]\n",
            "[23, 221, 0]\n",
            "[0, 1635, 221]\n",
            "[221, 1, 1635]\n",
            "[1635, 517, 1]\n",
            "[1, 27, 517]\n",
            "[517, 16, 27]\n",
            "[27, 5, 16]\n",
            "[16, 141, 5]\n",
            "[5, 3022, 141]\n",
            "[141, 142, 3022]\n",
            "[3022, 35, 142]\n",
            "[142, 7694, 35]\n",
            "[35, 41, 7694]\n",
            "[7694, 60, 41]\n",
            "[41, 26, 60]\n",
            "[60, 829, 26]\n",
            "[26, 570, 829]\n",
            "[829, 51, 570]\n",
            "[570, 2632, 51]\n",
            "[51, 81, 2632]\n",
            "[2632, 91, 81]\n",
            "[81, 5, 91]\n",
            "[91, 3593, 5]\n",
            "[5, 1650, 3593]\n",
            "[3593, 131, 1650]\n",
            "[1650, 74, 131]\n",
            "[131, 203, 74]\n",
            "[74, 136, 203]\n",
            "[203, 0, 136]\n",
            "[136, 1359, 0]\n",
            "[0, 1635, 1359]\n",
            "[1359, 6, 1635]\n",
            "[1635, 30, 6]\n",
            "[6, 554, 30]\n",
            "[30, 256, 554]\n",
            "[554, 6699, 256]\n",
            "[256, 7694, 6699]\n",
            "[6699, 141, 7694]\n",
            "[7694, 4248, 141]\n",
            "[141, 1245, 4248]\n",
            "[4248, 36, 1245]\n",
            "[1245, 6699, 36]\n",
            "[36, 18, 6699]\n",
            "[6699, 3181, 18]\n",
            "[18, 8, 3181]\n",
            "[3181, 17, 8]\n",
            "[8, 23, 17]\n",
            "[17, 870, 23]\n",
            "[23, 230, 870]\n",
            "[870, 6844, 230]\n",
            "[230, 16, 6844]\n",
            "[6844, 186, 16]\n",
            "[16, 1, 186]\n",
            "[186, 0, 1]\n",
            "[1, 53, 0]\n",
            "[0, 2025, 53]\n",
            "[53, 1569, 2025]\n",
            "[2025, 4, 1569]\n",
            "[1569, 92, 4]\n",
            "[4, 6699, 92]\n",
            "[92, 10, 6699]\n",
            "[6699, 0, 10]\n",
            "[10, 9969, 0]\n",
            "[0, 6, 9969]\n",
            "[9969, 5, 6]\n",
            "[6, 246, 5]\n",
            "[5, 18480, 246]\n",
            "[246, 285, 18480]\n",
            "[18480, 164, 285]\n",
            "[285, 4, 164]\n",
            "[164, 2109, 4]\n",
            "[4, 76, 2109]\n",
            "[2109, 11, 76]\n",
            "[76, 2, 11]\n",
            "[11, 3182, 2]\n",
            "[2, 11, 3182]\n",
            "[3182, 5, 11]\n",
            "[11, 1262, 5]\n",
            "[5, 1, 1262]\n",
            "[1262, 44, 1]\n",
            "[1, 3204, 44]\n",
            "[44, 2, 3204]\n",
            "[3204, 561, 2]\n",
            "[2, 13, 561]\n",
            "[561, 718, 13]\n",
            "[13, 748, 718]\n",
            "[718, 35, 748]\n",
            "[748, 10, 35]\n",
            "[35, 37, 10]\n",
            "[10, 5, 37]\n",
            "[37, 6448, 5]\n",
            "[5, 7263, 6448]\n",
            "[6448, 4, 7263]\n",
            "[7263, 51, 4]\n",
            "[4, 1, 51]\n",
            "[51, 44, 1]\n",
            "[1, 294, 44]\n",
            "[44, 624, 294]\n",
            "[294, 637, 624]\n",
            "[624, 6699, 637]\n",
            "[637, 835, 6699]\n",
            "[6699, 5, 835]\n",
            "[835, 10046, 5]\n",
            "[5, 7263, 10046]\n",
            "[10046, 4, 7263]\n",
            "[7263, 0, 4]\n",
            "[4, 7609, 0]\n",
            "[0, 167, 7609]\n",
            "[7609, 979, 167]\n",
            "[167, 3383, 979]\n",
            "[979, 228, 3383]\n",
            "[3383, 4, 228]\n",
            "[228, 16, 4]\n",
            "[4, 1507, 16]\n",
            "[16, 1557, 1507]\n",
            "[1507, 6699, 1557]\n",
            "[1557, 23, 6699]\n",
            "[6699, 29, 23]\n",
            "[23, 1507, 29]\n",
            "[29, 2, 1507]\n",
            "[1507, 100, 2]\n",
            "[2, 2511, 100]\n",
            "[100, 11676, 2511]\n",
            "[2511, 348, 11676]\n",
            "[11676, 4, 348]\n",
            "[348, 5, 4]\n",
            "[4, 25756, 5]\n",
            "[5, 1140, 25756]\n",
            "[25756, 399, 1140]\n",
            "[1140, 10523, 399]\n",
            "[399, 7893, 10523]\n",
            "[10523, 4, 7893]\n",
            "[7893, 0, 4]\n",
            "[4, 572, 0]\n",
            "[0, 1041, 572]\n",
            "[572, 235, 1041]\n",
            "[1041, 11, 235]\n",
            "[235, 5, 11]\n",
            "[11, 995, 5]\n",
            "[5, 6699, 995]\n",
            "[995, 10, 6699]\n",
            "[6699, 31, 10]\n",
            "[10, 7638, 31]\n",
            "[31, 35, 7638]\n",
            "[7638, 3900, 35]\n",
            "[35, 1822, 3900]\n",
            "[3900, 13, 1822]\n",
            "[1822, 0, 13]\n",
            "[13, 9896, 0]\n",
            "[0, 1, 9896]\n",
            "[9896, 91, 1]\n",
            "[1, 1, 91]\n",
            "[91, 54, 1]\n",
            "[1, 2135, 54]\n",
            "[54, 11, 2135]\n",
            "[2135, 11998, 11]\n",
            "[11, 14, 11998]\n",
            "[11998, 29, 14]\n",
            "[14, 801, 29]\n",
            "[29, 446, 801]\n",
            "[801, 4, 446]\n",
            "[446, 0, 4]\n",
            "[4, 2509, 0]\n",
            "[0, 1, 2509]\n",
            "[2509, 1065, 1]\n",
            "[1, 1, 1065]\n",
            "[1065, 725, 1]\n",
            "[1, 619, 725]\n",
            "[725, 4, 619]\n",
            "[619, 0, 4]\n",
            "[4, 361, 0]\n",
            "[0, 401, 361]\n",
            "[361, 283, 401]\n",
            "[401, 6699, 283]\n",
            "[283, 10, 6699]\n",
            "[6699, 0, 10]\n",
            "[10, 53, 0]\n",
            "[0, 373, 53]\n",
            "[53, 418, 373]\n",
            "[373, 4, 418]\n",
            "[418, 181, 4]\n",
            "[4, 245, 181]\n",
            "[181, 24, 245]\n",
            "[245, 2260, 24]\n",
            "[24, 0, 2260]\n",
            "[2260, 8996, 0]\n",
            "[0, 23, 8996]\n",
            "[8996, 0, 23]\n",
            "[23, 552, 0]\n",
            "[0, 1, 552]\n",
            "[552, 29, 1]\n",
            "[1, 12457, 29]\n",
            "[29, 499, 12457]\n",
            "[12457, 18, 499]\n",
            "[499, 0, 18]\n",
            "[18, 459, 0]\n",
            "[0, 1, 459]\n",
            "[459, 144, 1]\n",
            "[1, 8393, 144]\n",
            "[144, 196, 8393]\n",
            "[8393, 1296, 196]\n",
            "[196, 2, 1296]\n",
            "[1296, 18072, 2]\n",
            "[2, 63, 18072]\n",
            "[18072, 37, 63]\n",
            "[63, 401, 37]\n",
            "[37, 283, 401]\n",
            "[401, 352, 283]\n",
            "[283, 3229, 352]\n",
            "[352, 820, 3229]\n",
            "[3229, 1, 820]\n",
            "[820, 6791, 1]\n",
            "[1, 524, 6791]\n",
            "[6791, 1, 524]\n",
            "[524, 13956, 1]\n",
            "[1, 3, 13956]\n",
            "[13956, 8, 3]\n",
            "[3, 8, 8]\n",
            "[8, 8, 8]\n",
            "[8, 14258, 8]\n",
            "[8, 6699, 14258]\n",
            "[14258, 373, 6699]\n",
            "[6699, 572, 373]\n",
            "[373, 64, 572]\n",
            "[572, 2460, 64]\n",
            "[64, 2, 2460]\n",
            "[2460, 7883, 2]\n",
            "[2, 6863, 7883]\n",
            "[7883, 1, 6863]\n",
            "[6863, 6791, 1]\n",
            "[1, 6699, 6791]\n",
            "[6791, 897, 6699]\n",
            "[6699, 35645, 897]\n",
            "[897, 37410, 35645]\n",
            "[35645, 630, 37410]\n",
            "[37410, 6699, 630]\n",
            "[630, 8850, 6699]\n",
            "[6699, 2, 8850]\n",
            "[8850, 6173, 2]\n",
            "[2, 15243, 6173]\n",
            "[6173, 44179, 15243]\n",
            "[15243, 3303, 44179]\n",
            "[44179, 6699, 3303]\n",
            "[3303, 458, 6699]\n",
            "[6699, 2, 458]\n",
            "[458, 6173, 2]\n",
            "[2, 0, 6173]\n",
            "[6173, 6699, 0]\n",
            "[0, 40, 6699]\n",
            "[6699, 23, 40]\n",
            "[40, 29, 23]\n",
            "[23, 19612, 29]\n",
            "[29, 200, 19612]\n",
            "[19612, 174, 200]\n",
            "[200, 1347, 174]\n",
            "[174, 0, 1347]\n",
            "[1347, 6699, 0]\n",
            "[0, 1302, 6699]\n",
            "[6699, 258, 1302]\n",
            "[1302, 2413, 258]\n",
            "[258, 89, 2413]\n",
            "[2413, 6699, 89]\n",
            "[89, 0, 6699]\n",
            "[6699, 1393, 0]\n",
            "[0, 1, 1393]\n",
            "[1393, 6743, 1]\n",
            "[1, 25, 6743]\n",
            "[6743, 34, 25]\n",
            "[25, 479, 34]\n",
            "[34, 1, 479]\n",
            "[479, 32, 1]\n",
            "[1, 275, 32]\n",
            "[32, 38, 275]\n",
            "[275, 57, 38]\n",
            "[38, 554, 57]\n",
            "[57, 828, 554]\n",
            "[554, 706, 828]\n",
            "[828, 212, 706]\n",
            "[706, 304, 212]\n",
            "[212, 450, 304]\n",
            "[304, 6791, 450]\n",
            "[450, 16, 6791]\n",
            "[6791, 6699, 16]\n",
            "[16, 1365, 6699]\n",
            "[6699, 4, 1365]\n",
            "[1365, 572, 4]\n",
            "[4, 106, 572]\n",
            "[572, 4, 106]\n",
            "[106, 0, 4]\n",
            "[4, 1251, 0]\n",
            "[0, 4406, 1251]\n",
            "[1251, 2408, 4406]\n",
            "[4406, 424, 2408]\n",
            "[2408, 12, 424]\n",
            "[424, 9, 12]\n",
            "[12, 7, 9]\n",
            "[9, 7, 7]\n",
            "[7, 17, 7]\n",
            "[7, 66, 17]\n",
            "[17, 3, 66]\n",
            "[66, 7, 3]\n",
            "[3, 7, 7]\n",
            "[7, 13, 7]\n",
            "[7, 9, 13]\n",
            "[13, 7, 9]\n",
            "[9, 7, 7]\n",
            "[7, 20, 7]\n",
            "[7, 6791, 20]\n",
            "[20, 6699, 6791]\n",
            "[6791, 9943, 6699]\n",
            "[6699, 1251, 9943]\n",
            "[9943, 80, 1251]\n",
            "[1251, 2872, 80]\n",
            "[80, 6791, 2872]\n",
            "[2872, 6699, 6791]\n",
            "[6791, 25, 6699]\n",
            "[6699, 0, 25]\n",
            "[25, 3, 0]\n",
            "[0, 8, 3]\n",
            "[3, 8, 8]\n",
            "[8, 12, 8]\n",
            "[8, 166, 12]\n",
            "[12, 527, 166]\n",
            "[166, 3, 527]\n",
            "[527, 8, 3]\n",
            "[3, 8, 8]\n",
            "[8, 21, 8]\n",
            "[8, 2408, 21]\n",
            "[21, 1365, 2408]\n",
            "[2408, 5178, 1365]\n",
            "[1365, 18475, 5178]\n",
            "[5178, 2, 18475]\n",
            "[18475, 4409, 2]\n",
            "[2, 620, 4409]\n",
            "[4409, 13364, 620]\n",
            "[620, 18, 13364]\n",
            "[13364, 6, 18]\n",
            "[18, 51958, 6]\n",
            "[6, 3245, 51958]\n",
            "[51958, 2408, 3245]\n",
            "[3245, 24, 2408]\n",
            "[2408, 6699, 24]\n",
            "[24, 4, 6699]\n",
            "[6699, 14786, 4]\n",
            "[4, 6791, 14786]\n",
            "[14786, 6699, 6791]\n",
            "[6791, 16, 6699]\n",
            "[6699, 490, 16]\n",
            "[16, 15489, 490]\n",
            "[490, 5481, 15489]\n",
            "[15489, 5201, 5481]\n",
            "[5481, 10413, 5201]\n",
            "[5201, 5131, 10413]\n",
            "[10413, 6791, 5131]\n",
            "[5131, 6699, 6791]\n",
            "[6791, 7761, 6699]\n",
            "[6699, 2408, 7761]\n",
            "[7761, 516, 2408]\n",
            "[2408, 9, 516]\n",
            "[516, 7, 9]\n",
            "[9, 7, 7]\n",
            "[7, 3, 7]\n",
            "[7, 429, 3]\n",
            "[3, 1192, 429]\n",
            "[429, 6791, 1192]\n",
            "[1192, 6699, 6791]\n",
            "[6791, 22386, 6699]\n",
            "[6699, 55, 22386]\n",
            "[22386, 2856, 55]\n",
            "[55, 13, 2856]\n",
            "[2856, 489, 13]\n",
            "[13, 173, 489]\n",
            "[489, 2, 173]\n",
            "[173, 0, 2]\n",
            "[2, 73, 0]\n",
            "[0, 12926, 73]\n",
            "[73, 832, 12926]\n",
            "[12926, 7496, 832]\n",
            "[832, 3600, 7496]\n",
            "[7496, 3, 3600]\n",
            "[3600, 8, 3]\n",
            "[3, 12, 8]\n",
            "[8, 12, 12]\n",
            "[12, 278, 12]\n",
            "[12, 7, 278]\n",
            "[278, 7, 7]\n",
            "[7, 22, 7]\n",
            "[7, 7, 22]\n",
            "[22, 8, 7]\n",
            "[7, 3, 8]\n",
            "[8, 17, 3]\n",
            "[3, 9, 17]\n",
            "[17, 12, 9]\n",
            "[9, 17, 12]\n",
            "[12, 6791, 17]\n",
            "[17, 6699, 6791]\n",
            "[6791, 7422, 6699]\n",
            "[6699, 13584, 7422]\n",
            "[7422, 3, 13584]\n",
            "[13584, 8, 3]\n",
            "[3, 8, 8]\n",
            "[8, 22, 8]\n",
            "[8, 278, 22]\n",
            "[22, 7, 278]\n",
            "[278, 15, 7]\n",
            "[7, 12, 15]\n",
            "[15, 17, 12]\n",
            "[12, 20, 17]\n",
            "[17, 12, 20]\n",
            "[20, 7, 12]\n",
            "[12, 3, 7]\n",
            "[7, 8, 3]\n",
            "[3, 8, 8]\n",
            "[8, 15514, 8]\n",
            "[8, 1197, 15514]\n",
            "[15514, 0, 1197]\n",
            "[1197, 6699, 0]\n",
            "[0, 1989, 6699]\n",
            "[6699, 1358, 1989]\n",
            "[1989, 159, 1358]\n",
            "[1358, 386, 159]\n",
            "[159, 3, 386]\n",
            "[386, 8, 3]\n",
            "[3, 8, 8]\n",
            "[8, 21, 8]\n",
            "[8, 278, 21]\n",
            "[21, 7, 278]\n",
            "[278, 3, 7]\n",
            "[7, 8, 3]\n",
            "[3, 9, 8]\n",
            "[8, 12, 9]\n",
            "[9, 12, 12]\n",
            "[12, 7, 12]\n",
            "[12, 17, 7]\n",
            "[7, 9, 17]\n",
            "[17, 21, 9]\n",
            "[9, 1781, 21]\n",
            "[21, 12698, 1781]\n",
            "[1781, 1, 12698]\n",
            "[12698, 0, 1]\n",
            "[1, 3279, 0]\n",
            "[0, 123, 3279]\n",
            "[3279, 24, 123]\n",
            "[123, 34302, 24]\n",
            "[24, 3, 34302]\n",
            "[34302, 8, 3]\n",
            "[3, 15, 8]\n",
            "[8, 3, 15]\n",
            "[15, 677, 3]\n",
            "[3, 7574, 677]\n",
            "[677, 2666, 7574]\n",
            "[7574, 1, 2666]\n",
            "[2666, 97, 1]\n",
            "[1, 1, 97]\n",
            "[97, 0, 1]\n",
            "[1, 401, 0]\n",
            "[0, 283, 401]\n",
            "[401, 476, 283]\n",
            "[283, 91, 476]\n",
            "[476, 1070, 91]\n",
            "[91, 791, 1070]\n",
            "[1070, 809, 791]\n",
            "[791, 3590, 809]\n",
            "[809, 179, 3590]\n",
            "[3590, 1250, 179]\n",
            "[179, 1, 1250]\n",
            "[1250, 0, 1]\n",
            "[1, 401, 0]\n",
            "[0, 283, 401]\n",
            "[401, 572, 283]\n",
            "[283, 1070, 572]\n",
            "[572, 809, 1070]\n",
            "[1070, 3590, 809]\n",
            "[809, 572, 3590]\n",
            "[3590, 3638, 572]\n",
            "[572, 66, 3638]\n",
            "[3638, 1069, 66]\n",
            "[66, 418, 1069]\n",
            "[1069, 1, 418]\n",
            "[418, 0, 1]\n",
            "[1, 152, 0]\n",
            "[0, 16187, 152]\n",
            "[152, 29065, 16187]\n",
            "[16187, 3052, 29065]\n",
            "[29065, 182, 3052]\n",
            "[3052, 5590, 182]\n",
            "[182, 33400, 5590]\n",
            "[5590, 10, 33400]\n",
            "[33400, 5, 10]\n",
            "[10, 120, 5]\n",
            "[5, 224, 120]\n",
            "[120, 6, 224]\n",
            "[224, 233, 6]\n",
            "[6, 1, 233]\n",
            "[233, 0, 1]\n",
            "[1, 5849, 0]\n",
            "[0, 1, 5849]\n",
            "[5849, 0, 1]\n",
            "[1, 64, 0]\n",
            "[0, 2241, 64]\n",
            "[64, 58, 2241]\n",
            "[2241, 74, 58]\n",
            "[58, 30, 74]\n",
            "[74, 3737, 30]\n",
            "[30, 13, 3737]\n",
            "[3737, 380, 13]\n",
            "[13, 4, 380]\n",
            "[380, 5, 4]\n",
            "[4, 3077, 5]\n",
            "[5, 16, 3077]\n",
            "[3077, 4427, 16]\n",
            "[16, 0, 4427]\n",
            "[4427, 183, 0]\n",
            "[0, 33400, 183]\n",
            "[183, 40, 33400]\n",
            "[33400, 37, 40]\n",
            "[40, 57, 37]\n",
            "[37, 1053, 57]\n",
            "[57, 6, 1053]\n",
            "[1053, 287, 6]\n",
            "[6, 111, 287]\n",
            "[287, 87, 111]\n",
            "[111, 86, 87]\n",
            "[87, 219, 86]\n",
            "[86, 1004, 219]\n",
            "[219, 6, 1004]\n",
            "[1004, 7692, 6]\n",
            "[6, 0, 7692]\n",
            "[7692, 781, 0]\n",
            "[0, 2, 781]\n",
            "[781, 16397, 2]\n",
            "[2, 1, 16397]\n",
            "[16397, 0, 1]\n",
            "[1, 18421, 0]\n",
            "[0, 63, 18421]\n",
            "[18421, 33400, 63]\n",
            "[63, 92, 33400]\n",
            "[33400, 11, 92]\n",
            "[92, 125, 11]\n",
            "[11, 11, 125]\n",
            "[125, 3, 11]\n",
            "[11, 22, 3]\n",
            "[3, 20, 22]\n",
            "[22, 17, 20]\n",
            "[20, 4, 17]\n",
            "[17, 0, 4]\n",
            "[4, 2375, 0]\n",
            "[0, 1477, 2375]\n",
            "[2375, 2379, 1477]\n",
            "[1477, 45, 2379]\n",
            "[2379, 315, 45]\n",
            "[45, 39, 315]\n",
            "[315, 2001, 39]\n",
            "[39, 25, 2001]\n",
            "[2001, 0, 25]\n",
            "[25, 138, 0]\n",
            "[0, 4610, 138]\n",
            "[138, 1, 4610]\n",
            "[4610, 622, 1]\n",
            "[1, 191, 622]\n",
            "[622, 1313, 191]\n",
            "[191, 2427, 1313]\n",
            "[1313, 6, 2427]\n",
            "[2427, 30, 6]\n",
            "[6, 3737, 30]\n",
            "[30, 13, 3737]\n",
            "[3737, 2492, 13]\n",
            "[13, 8610, 2492]\n",
            "[2492, 0, 8610]\n",
            "[8610, 5849, 0]\n",
            "[0, 4, 5849]\n",
            "[5849, 0, 4]\n",
            "[4, 1217, 0]\n",
            "[0, 1, 1217]\n",
            "[1217, 2375, 1]\n",
            "[1, 49, 2375]\n",
            "[2375, 5, 49]\n",
            "[49, 206, 5]\n",
            "[5, 92, 206]\n",
            "[206, 1, 92]\n",
            "[92, 1420, 1]\n",
            "[1, 1216, 1420]\n",
            "[1420, 63, 1216]\n",
            "[1216, 147, 63]\n",
            "[63, 2472, 147]\n",
            "[147, 16, 2472]\n",
            "[2472, 80, 16]\n",
            "[16, 124, 80]\n",
            "[80, 2, 124]\n",
            "[124, 731, 2]\n",
            "[2, 1185, 731]\n",
            "[731, 2, 1185]\n",
            "[1185, 380, 2]\n",
            "[2, 1, 380]\n",
            "[380, 16187, 1]\n",
            "[1, 2, 16187]\n",
            "[16187, 12312, 2]\n",
            "[2, 307, 12312]\n",
            "[12312, 1381, 307]\n",
            "[307, 1, 1381]\n",
            "[1381, 55, 1]\n",
            "[1, 49, 55]\n",
            "[55, 76, 49]\n",
            "[49, 1572, 76]\n",
            "[76, 307, 1572]\n",
            "[1572, 622, 307]\n",
            "[307, 49, 622]\n",
            "[622, 5, 49]\n",
            "[49, 5849, 5]\n",
            "[5, 2, 5849]\n",
            "[5849, 307, 2]\n",
            "[2, 268, 307]\n",
            "[307, 81, 268]\n",
            "[268, 3, 81]\n",
            "[81, 22, 3]\n",
            "[3, 2, 22]\n",
            "[22, 22, 2]\n",
            "[2, 7, 22]\n",
            "[22, 84, 7]\n",
            "[7, 1, 84]\n",
            "[84, 244, 1]\n",
            "[1, 18, 244]\n",
            "[244, 1650, 18]\n",
            "[18, 6, 1650]\n",
            "[1650, 2520, 6]\n",
            "[6, 53, 2520]\n",
            "[2520, 1, 53]\n",
            "[53, 67, 1]\n",
            "[1, 315, 67]\n",
            "[67, 39, 315]\n",
            "[315, 4650, 39]\n",
            "[39, 51, 4650]\n",
            "[4650, 39, 51]\n",
            "[51, 3127, 39]\n",
            "[39, 1, 3127]\n",
            "[3127, 0, 1]\n",
            "[1, 301, 0]\n",
            "[0, 262, 301]\n",
            "[301, 4017, 262]\n",
            "[262, 1, 4017]\n",
            "[4017, 169, 1]\n",
            "[1, 622, 169]\n",
            "[169, 2, 622]\n",
            "[622, 83, 2]\n",
            "[2, 27, 83]\n",
            "[83, 18, 27]\n",
            "[27, 141, 18]\n",
            "[18, 150, 141]\n",
            "[141, 6, 150]\n",
            "[150, 30, 6]\n",
            "[6, 1572, 30]\n",
            "[30, 4127, 1572]\n",
            "[1572, 11089, 4127]\n",
            "[4127, 2, 11089]\n",
            "[11089, 4, 2]\n",
            "[2, 619, 4]\n",
            "[4, 45, 619]\n",
            "[619, 1973, 45]\n",
            "[45, 4, 1973]\n",
            "[1973, 2375, 4]\n",
            "[4, 49, 2375]\n",
            "[2375, 5, 49]\n",
            "[49, 206, 5]\n",
            "[5, 92, 206]\n",
            "[206, 1, 92]\n",
            "[92, 23857, 1]\n",
            "[1, 5, 23857]\n",
            "[23857, 2257, 5]\n",
            "[5, 1, 2257]\n",
            "[2257, 44, 1]\n",
            "[1, 5849, 44]\n",
            "[44, 11, 5849]\n",
            "[5849, 33400, 11]\n",
            "[11, 41, 33400]\n",
            "[33400, 288, 41]\n",
            "[41, 56796, 288]\n",
            "[288, 6, 56796]\n",
            "[56796, 1361, 6]\n",
            "[6, 44, 1361]\n",
            "[1361, 950, 44]\n",
            "[44, 5849, 950]\n",
            "[950, 4, 5849]\n",
            "[5849, 5, 4]\n",
            "[4, 345, 5]\n",
            "[5, 938, 345]\n",
            "[345, 59, 938]\n",
            "[938, 0, 59]\n",
            "[59, 5283, 0]\n",
            "[0, 14500, 5283]\n",
            "[5283, 4, 14500]\n",
            "[14500, 0, 4]\n",
            "[4, 998, 0]\n",
            "[0, 1, 998]\n",
            "[998, 3, 1]\n",
            "[1, 21, 3]\n",
            "[3, 21, 21]\n",
            "[21, 20, 21]\n",
            "[21, 11707, 20]\n",
            "[20, 1250, 11707]\n",
            "[11707, 4, 1250]\n",
            "[1250, 0, 4]\n",
            "[4, 2628, 0]\n",
            "[0, 662, 2628]\n",
            "[2628, 2375, 662]\n",
            "[662, 4349, 2375]\n",
            "[2375, 945, 4349]\n",
            "[4349, 4257, 945]\n",
            "[945, 19, 4257]\n",
            "[4257, 54, 19]\n",
            "[19, 12705, 54]\n",
            "[54, 1379, 12705]\n",
            "[12705, 3077, 1379]\n",
            "[1379, 825, 3077]\n",
            "[3077, 468, 825]\n",
            "[825, 1004, 468]\n",
            "[468, 207, 1004]\n",
            "[1004, 0, 207]\n",
            "[207, 5849, 0]\n",
            "[0, 95, 5849]\n",
            "[5849, 597, 95]\n",
            "[95, 233, 597]\n",
            "[597, 8145, 233]\n",
            "[233, 1058, 8145]\n",
            "[8145, 1313, 1058]\n",
            "[1058, 2, 1313]\n",
            "[1313, 6, 2]\n",
            "[2, 1075, 6]\n",
            "[6, 541, 1075]\n",
            "[1075, 3737, 541]\n",
            "[541, 6, 3737]\n",
            "[3737, 869, 6]\n",
            "[6, 106, 869]\n",
            "[869, 1107, 106]\n",
            "[106, 33, 1107]\n",
            "[1107, 5, 33]\n",
            "[33, 3077, 5]\n",
            "[5, 16, 3077]\n",
            "[3077, 4427, 16]\n",
            "[16, 13, 4427]\n",
            "[4427, 20379, 13]\n",
            "[13, 45, 20379]\n",
            "[20379, 1973, 45]\n",
            "[45, 665, 1973]\n",
            "[1973, 32, 665]\n",
            "[665, 9169, 32]\n",
            "[32, 2, 9169]\n",
            "[9169, 4924, 2]\n",
            "[2, 44, 4924]\n",
            "[4924, 938, 44]\n",
            "[44, 1580, 938]\n",
            "[938, 41, 1580]\n",
            "[1580, 45, 41]\n",
            "[41, 358, 45]\n",
            "[45, 72, 358]\n",
            "[358, 578, 72]\n",
            "[72, 0, 578]\n",
            "[578, 33400, 0]\n",
            "[0, 39, 33400]\n",
            "[33400, 201, 39]\n",
            "[39, 9, 201]\n",
            "[201, 17, 9]\n",
            "[9, 84, 17]\n",
            "[17, 1, 84]\n",
            "[84, 244, 1]\n",
            "[1, 28, 244]\n",
            "[244, 2409, 28]\n",
            "[28, 2, 2409]\n",
            "[2409, 48, 2]\n",
            "[2, 39, 48]\n",
            "[48, 1842, 39]\n",
            "[39, 13, 1842]\n",
            "[1842, 44, 13]\n",
            "[13, 10291, 44]\n",
            "[44, 7986, 10291]\n",
            "[10291, 2, 7986]\n",
            "[7986, 1962, 2]\n",
            "[2, 48, 1962]\n",
            "[1962, 39, 48]\n",
            "[48, 0, 39]\n",
            "[39, 46, 0]\n",
            "[0, 1414, 46]\n",
            "[46, 5849, 1414]\n",
            "[1414, 6, 5849]\n",
            "[5849, 6471, 6]\n",
            "[6, 28, 6471]\n",
            "[6471, 22183, 28]\n",
            "[28, 5, 22183]\n",
            "[22183, 380, 5]\n",
            "[5, 2530, 380]\n",
            "[380, 39, 2530]\n",
            "[2530, 692, 39]\n",
            "[39, 14, 692]\n",
            "[692, 226, 14]\n",
            "[14, 1271, 226]\n",
            "[226, 2, 1271]\n",
            "[1271, 169, 2]\n",
            "[2, 938, 169]\n",
            "[169, 8414, 938]\n",
            "[938, 5, 8414]\n",
            "[8414, 1320, 5]\n",
            "[5, 309, 1320]\n",
            "[1320, 4684, 309]\n",
            "[309, 6, 4684]\n",
            "[4684, 30, 6]\n",
            "[6, 1198, 30]\n",
            "[30, 444, 1198]\n",
            "[1198, 37862, 444]\n",
            "[444, 48, 37862]\n",
            "[37862, 644, 48]\n",
            "[48, 6227, 644]\n",
            "[644, 20, 6227]\n",
            "[6227, 245, 20]\n",
            "[20, 480, 245]\n",
            "[245, 152, 480]\n",
            "[480, 13, 152]\n",
            "[152, 1313, 13]\n",
            "[13, 78, 1313]\n",
            "[1313, 16767, 78]\n",
            "[78, 27, 16767]\n",
            "[16767, 18, 27]\n",
            "[27, 150, 18]\n",
            "[18, 240, 150]\n",
            "[150, 156, 240]\n",
            "[240, 4, 156]\n",
            "[156, 0, 4]\n",
            "[4, 507, 0]\n",
            "[0, 1, 507]\n",
            "[507, 380, 1]\n",
            "[1, 13, 380]\n",
            "[380, 2530, 13]\n",
            "[13, 6, 2530]\n",
            "[2530, 273, 6]\n",
            "[6, 3034, 273]\n",
            "[273, 130, 3034]\n",
            "[3034, 11986, 130]\n",
            "[130, 24, 11986]\n",
            "[11986, 44, 24]\n",
            "[24, 315, 44]\n",
            "[44, 11, 315]\n",
            "[315, 1346, 11]\n",
            "[11, 6, 1346]\n",
            "[1346, 1416, 6]\n",
            "[6, 2034, 1416]\n",
            "[1416, 6, 2034]\n",
            "[2034, 30, 6]\n",
            "[6, 665, 30]\n",
            "[30, 247, 665]\n",
            "[665, 1042, 247]\n",
            "[247, 226, 1042]\n",
            "[1042, 6567, 226]\n",
            "[226, 1, 6567]\n",
            "[6567, 0, 1]\n",
            "[1, 380, 0]\n",
            "[0, 1, 380]\n",
            "[380, 16187, 1]\n",
            "[1, 2, 16187]\n",
            "[16187, 12312, 2]\n",
            "[2, 4, 12312]\n",
            "[12312, 3, 4]\n",
            "[4, 21, 3]\n",
            "[3, 21, 21]\n",
            "[21, 17, 21]\n",
            "[21, 0, 17]\n",
            "[17, 46, 0]\n",
            "[0, 380, 46]\n",
            "[46, 1, 380]\n",
            "[380, 0, 1]\n",
            "[1, 64, 0]\n",
            "[0, 1895, 64]\n",
            "[64, 80, 1895]\n",
            "[1895, 38, 80]\n",
            "[80, 96, 38]\n",
            "[38, 8739, 96]\n",
            "[96, 54, 8739]\n",
            "[8739, 0, 54]\n",
            "[54, 27017, 0]\n",
            "[0, 23, 27017]\n",
            "[27017, 0, 23]\n",
            "[23, 64, 0]\n",
            "[0, 379, 64]\n",
            "[64, 11, 379]\n",
            "[379, 33400, 11]\n",
            "[11, 53, 33400]\n",
            "[33400, 1224, 53]\n",
            "[53, 1913, 1224]\n",
            "[1224, 182, 1913]\n",
            "[1913, 5590, 182]\n",
            "[182, 16, 5590]\n",
            "[5590, 16187, 16]\n",
            "[16, 5849, 16187]\n",
            "[16187, 41, 5849]\n",
            "[5849, 33, 41]\n",
            "[41, 0, 33]\n",
            "[33, 66, 0]\n",
            "[0, 1, 66]\n",
            "[66, 0, 1]\n",
            "[1, 380, 0]\n",
            "[0, 54, 380]\n",
            "[380, 1, 54]\n",
            "[54, 16187, 1]\n",
            "[1, 16, 16187]\n",
            "[16187, 29062, 16]\n",
            "[16, 39, 29062]\n",
            "[29062, 1815, 39]\n",
            "[39, 61, 1815]\n",
            "[1815, 5, 61]\n",
            "[61, 345, 5]\n",
            "[5, 177, 345]\n",
            "[345, 938, 177]\n",
            "[177, 2, 938]\n",
            "[938, 39, 2]\n",
            "[2, 180, 39]\n",
            "[39, 93, 180]\n",
            "[180, 14, 93]\n",
            "[93, 0, 14]\n",
            "[14, 7183, 0]\n",
            "[0, 120, 7183]\n",
            "[7183, 1, 120]\n",
            "[120, 622, 1]\n",
            "[1, 1313, 622]\n",
            "[622, 509, 1313]\n",
            "[1313, 42, 509]\n",
            "[509, 2241, 42]\n",
            "[42, 3200, 2241]\n",
            "[2241, 24, 3200]\n",
            "[3200, 300, 24]\n",
            "[24, 626, 300]\n",
            "[300, 49, 626]\n",
            "[626, 1815, 49]\n",
            "[49, 300, 1815]\n",
            "[1815, 3077, 300]\n",
            "[300, 825, 3077]\n",
            "[3077, 79, 825]\n",
            "[825, 66, 79]\n",
            "[79, 33400, 66]\n",
            "[66, 126, 33400]\n",
            "[33400, 5, 126]\n",
            "[126, 4651, 5]\n",
            "[5, 183, 4651]\n",
            "[4651, 13, 183]\n",
            "[183, 101, 13]\n",
            "[13, 64, 101]\n",
            "[101, 5849, 64]\n",
            "[64, 7111, 5849]\n",
            "[5849, 0, 7111]\n",
            "[7111, 55, 0]\n",
            "[0, 291, 55]\n",
            "[55, 622, 291]\n",
            "[291, 1821, 622]\n",
            "[622, 478, 1821]\n",
            "[1821, 1, 478]\n",
            "[478, 355, 1]\n",
            "[1, 1356, 355]\n",
            "[355, 396, 1356]\n",
            "[1356, 4, 396]\n",
            "[396, 1701, 4]\n",
            "[4, 24, 1701]\n",
            "[1701, 0, 24]\n",
            "[24, 2344, 0]\n",
            "[0, 3974, 2344]\n",
            "[2344, 1671, 3974]\n",
            "[3974, 19, 1671]\n",
            "[1671, 13, 19]\n",
            "[19, 930, 13]\n",
            "[13, 54, 930]\n",
            "[930, 895, 54]\n",
            "[54, 1, 895]\n",
            "[895, 112, 1]\n",
            "[1, 67, 112]\n",
            "[112, 315, 67]\n",
            "[67, 49, 315]\n",
            "[315, 829, 49]\n",
            "[49, 2706, 829]\n",
            "[829, 4086, 2706]\n",
            "[2706, 1, 4086]\n",
            "[4086, 487, 1]\n",
            "[1, 576, 487]\n",
            "[487, 156, 576]\n",
            "[576, 217, 156]\n",
            "[156, 53, 217]\n",
            "[217, 1, 53]\n",
            "[53, 107, 1]\n",
            "[1, 160, 107]\n",
            "[107, 36, 160]\n",
            "[160, 2433, 36]\n",
            "[36, 20723, 2433]\n",
            "[2433, 12051, 20723]\n",
            "[20723, 89, 12051]\n",
            "[12051, 0, 89]\n",
            "[89, 440, 0]\n",
            "[0, 1, 440]\n",
            "[440, 268, 1]\n",
            "[1, 2, 268]\n",
            "[268, 0, 2]\n",
            "[2, 1954, 0]\n",
            "[0, 1, 1954]\n",
            "[1954, 112, 1]\n",
            "[1, 48, 112]\n",
            "[112, 3094, 48]\n",
            "[48, 19, 3094]\n",
            "[3094, 0, 19]\n",
            "[19, 135, 0]\n",
            "[0, 134, 135]\n",
            "[135, 370, 134]\n",
            "[134, 1, 370]\n",
            "[370, 1035, 1]\n",
            "[1, 1715, 1035]\n",
            "[1035, 58, 1715]\n",
            "[1715, 49, 58]\n",
            "[58, 461, 49]\n",
            "[49, 2238, 461]\n",
            "[461, 24, 2238]\n",
            "[2238, 107, 24]\n",
            "[24, 163, 107]\n",
            "[107, 5, 163]\n",
            "[163, 150, 5]\n",
            "[5, 1977, 150]\n",
            "[150, 18, 1977]\n",
            "[1977, 149, 18]\n",
            "[18, 4, 149]\n",
            "[149, 44, 4]\n",
            "[4, 281, 44]\n",
            "[44, 6, 281]\n",
            "[281, 369, 6]\n",
            "[6, 1043, 369]\n",
            "[369, 248, 1043]\n",
            "[1043, 719, 248]\n",
            "[248, 25, 719]\n",
            "[719, 107, 25]\n",
            "[25, 3, 107]\n",
            "[107, 2375, 3]\n",
            "[3, 268, 2375]\n",
            "[2375, 56, 268]\n",
            "[268, 0, 56]\n",
            "[56, 2196, 0]\n",
            "[0, 31, 2196]\n",
            "[2196, 17691, 31]\n",
            "[31, 16, 17691]\n",
            "[17691, 330, 16]\n",
            "[16, 10, 330]\n",
            "[330, 29, 10]\n",
            "[10, 2226, 29]\n",
            "[29, 62, 2226]\n",
            "[2226, 35, 62]\n",
            "[62, 2741, 35]\n",
            "[35, 6, 2741]\n",
            "[2741, 29, 6]\n",
            "[6, 1400, 29]\n",
            "[29, 1245, 1400]\n",
            "[1400, 35, 1245]\n",
            "[1245, 49, 35]\n",
            "[35, 417, 49]\n",
            "[49, 1014, 417]\n",
            "[417, 29, 1014]\n",
            "[1014, 926, 29]\n",
            "[29, 2928, 926]\n",
            "[926, 6, 2928]\n",
            "[2928, 1786, 6]\n",
            "[6, 0, 1786]\n",
            "[1786, 134, 0]\n",
            "[0, 370, 134]\n",
            "[134, 11, 370]\n",
            "[370, 27, 11]\n",
            "[11, 1118, 27]\n",
            "[27, 14, 1118]\n",
            "[1118, 78, 14]\n",
            "[14, 0, 78]\n",
            "[78, 543, 0]\n",
            "[0, 1668, 543]\n",
            "[543, 1, 1668]\n",
            "[1668, 0, 1]\n",
            "[1, 380, 0]\n",
            "[0, 1, 380]\n",
            "[380, 16187, 1]\n",
            "[1, 2, 16187]\n",
            "[16187, 12312, 2]\n",
            "[2, 0, 12312]\n",
            "[12312, 1584, 0]\n",
            "[0, 579, 1584]\n",
            "[1584, 64, 579]\n",
            "[579, 11707, 64]\n",
            "[64, 4, 11707]\n",
            "[11707, 2375, 4]\n",
            "[4, 2238, 2375]\n",
            "[2375, 13, 2238]\n",
            "[2238, 5, 13]\n",
            "[13, 208, 5]\n",
            "[5, 684, 208]\n",
            "[208, 156, 684]\n",
            "[684, 33, 156]\n",
            "[156, 32, 33]\n",
            "[33, 46, 32]\n",
            "[32, 1057, 46]\n",
            "[46, 1, 1057]\n",
            "[1057, 0, 1]\n",
            "[1, 80, 0]\n",
            "[0, 62, 80]\n",
            "[80, 716, 62]\n",
            "[62, 25, 716]\n",
            "[716, 221, 25]\n",
            "[25, 711, 221]\n",
            "[221, 18, 711]\n",
            "[711, 36, 18]\n",
            "[18, 729, 36]\n",
            "[36, 5, 729]\n",
            "[729, 150, 5]\n",
            "[5, 8519, 150]\n",
            "[150, 1412, 8519]\n",
            "[8519, 1313, 1412]\n",
            "[1412, 2, 1313]\n",
            "[1313, 4249, 2]\n",
            "[2, 53, 4249]\n",
            "[4249, 2344, 53]\n",
            "[53, 5849, 2344]\n",
            "[2344, 1004, 5849]\n",
            "[5849, 39, 1004]\n",
            "[1004, 893, 39]\n",
            "[39, 1927, 893]\n",
            "[893, 1546, 1927]\n",
            "[1927, 1344, 1546]\n",
            "[1546, 8713, 1344]\n",
            "[1344, 2, 8713]\n",
            "[8713, 83, 2]\n",
            "[2, 49, 83]\n",
            "[83, 6, 49]\n",
            "[49, 24757, 6]\n",
            "[6, 541, 24757]\n",
            "[24757, 51, 541]\n",
            "[541, 703, 51]\n",
            "[51, 6486, 703]\n",
            "[703, 44, 6486]\n",
            "[6486, 171, 44]\n",
            "[44, 4650, 171]\n",
            "[171, 28, 4650]\n",
            "[4650, 7490, 28]\n",
            "[28, 94, 7490]\n",
            "[7490, 288, 94]\n",
            "[94, 49, 288]\n",
            "[288, 58766, 49]\n",
            "[49, 3912, 58766]\n",
            "[58766, 29111, 3912]\n",
            "[3912, 45, 29111]\n",
            "[29111, 761, 45]\n",
            "[45, 731, 761]\n",
            "[761, 478, 731]\n",
            "[731, 13664, 478]\n",
            "[478, 6, 13664]\n",
            "[13664, 33271, 6]\n",
            "[6, 0, 33271]\n",
            "[33271, 1977, 0]\n",
            "[0, 156, 1977]\n",
            "[1977, 115, 156]\n",
            "[156, 80, 115]\n",
            "[115, 5819, 80]\n",
            "[80, 53, 5819]\n",
            "[5819, 56, 53]\n",
            "[53, 3912, 56]\n",
            "[56, 6068, 3912]\n",
            "[3912, 34, 6068]\n",
            "[6068, 214, 34]\n",
            "[34, 36, 214]\n",
            "[214, 38, 36]\n",
            "[36, 44817, 38]\n",
            "[38, 41, 44817]\n",
            "[44817, 39, 41]\n",
            "[41, 2672, 39]\n",
            "[39, 33, 2672]\n",
            "[2672, 206, 33]\n",
            "[33, 504, 206]\n",
            "[206, 0, 504]\n",
            "[504, 2212, 0]\n",
            "[0, 370, 2212]\n",
            "[2212, 22789, 370]\n",
            "[370, 613, 22789]\n",
            "[22789, 242, 613]\n",
            "[613, 478, 242]\n",
            "[242, 219, 478]\n",
            "[478, 1313, 219]\n",
            "[219, 111, 1313]\n",
            "[1313, 4, 111]\n",
            "[111, 0, 4]\n",
            "[4, 64, 0]\n",
            "[0, 1895, 64]\n",
            "[64, 80, 1895]\n",
            "[1895, 41, 80]\n",
            "[80, 0, 41]\n",
            "[41, 12705, 0]\n",
            "[0, 214, 12705]\n",
            "[12705, 36, 214]\n",
            "[214, 674, 36]\n",
            "[36, 144, 674]\n",
            "[674, 1, 144]\n",
            "[144, 32, 1]\n",
            "[1, 333, 32]\n",
            "[32, 68, 333]\n",
            "[333, 1786, 68]\n",
            "[68, 1320, 1786]\n",
            "[1786, 3084, 1320]\n",
            "[1320, 4, 3084]\n",
            "[3084, 0, 4]\n",
            "[4, 553, 0]\n",
            "[0, 6055, 553]\n",
            "[553, 821, 6055]\n",
            "[6055, 2, 821]\n",
            "[821, 5778, 2]\n",
            "[2, 48, 5778]\n",
            "[5778, 39, 48]\n",
            "[48, 799, 39]\n",
            "[39, 62, 799]\n",
            "[799, 56, 62]\n",
            "[62, 11, 56]\n",
            "[56, 27017, 11]\n",
            "[11, 1031, 27017]\n",
            "[27017, 11, 1031]\n",
            "[1031, 57344, 11]\n",
            "[11, 2, 57344]\n",
            "[57344, 44, 2]\n",
            "[2, 1027, 44]\n",
            "[44, 6241, 1027]\n",
            "[1027, 6491, 6241]\n",
            "[6241, 2526, 6491]\n",
            "[6491, 53, 2526]\n",
            "[2526, 39, 53]\n",
            "[53, 3115, 39]\n",
            "[39, 24, 3115]\n",
            "[3115, 4537, 24]\n",
            "[24, 3912, 4537]\n",
            "[4537, 0, 3912]\n",
            "[3912, 731, 0]\n",
            "[0, 1185, 731]\n",
            "[731, 2, 1185]\n",
            "[1185, 378, 2]\n",
            "[2, 0, 378]\n",
            "[378, 608, 0]\n",
            "[0, 124, 608]\n",
            "[608, 2, 124]\n",
            "[124, 731, 2]\n",
            "[2, 80, 731]\n",
            "[731, 49, 80]\n",
            "[80, 2117, 49]\n",
            "[49, 98, 2117]\n",
            "[2117, 0, 98]\n",
            "[98, 315, 0]\n",
            "[0, 2, 315]\n",
            "[315, 2530, 2]\n",
            "[2, 0, 2530]\n",
            "[2530, 588, 0]\n",
            "[0, 1, 588]\n",
            "[588, 6491, 1]\n",
            "[1, 2526, 6491]\n",
            "[6491, 94, 2526]\n",
            "[2526, 51, 94]\n",
            "[94, 134, 51]\n",
            "[51, 1036, 134]\n",
            "[134, 3668, 1036]\n",
            "[1036, 25, 3668]\n",
            "[3668, 289, 25]\n",
            "[25, 39, 289]\n",
            "[289, 257, 39]\n",
            "[39, 3115, 257]\n",
            "[257, 24, 3115]\n",
            "[3115, 32, 24]\n",
            "[24, 0, 32]\n",
            "[32, 8256, 0]\n",
            "[0, 4181, 8256]\n",
            "[8256, 19, 4181]\n",
            "[4181, 3041, 19]\n",
            "[19, 319, 3041]\n",
            "[3041, 1208, 319]\n",
            "[319, 51, 1208]\n",
            "[1208, 2344, 51]\n",
            "[51, 1973, 2344]\n",
            "[2344, 141, 1973]\n",
            "[1973, 3115, 141]\n",
            "[141, 6, 3115]\n",
            "[3115, 0, 6]\n",
            "[6, 355, 0]\n",
            "[0, 29065, 355]\n",
            "[355, 5753, 29065]\n",
            "[29065, 32, 5753]\n",
            "[5753, 478, 32]\n",
            "[32, 1, 478]\n",
            "[478, 1700, 1]\n",
            "[1, 0, 1700]\n",
            "[1700, 38580, 0]\n",
            "[0, 28365, 38580]\n",
            "[38580, 56, 28365]\n",
            "[28365, 14, 56]\n",
            "[56, 53, 14]\n",
            "[14, 33400, 53]\n",
            "[53, 18, 33400]\n",
            "[33400, 37, 18]\n",
            "[18, 110, 37]\n",
            "[37, 6241, 110]\n",
            "[110, 6, 6241]\n",
            "[6241, 32, 6]\n",
            "[6, 446, 32]\n",
            "[32, 0, 446]\n",
            "[446, 40172, 0]\n",
            "[0, 19083, 40172]\n",
            "[40172, 1319, 19083]\n",
            "[19083, 0, 1319]\n",
            "[1319, 4984, 0]\n",
            "[0, 774, 4984]\n",
            "[4984, 27, 774]\n",
            "[774, 5, 27]\n",
            "[27, 144, 5]\n",
            "[5, 750, 144]\n",
            "[144, 504, 750]\n",
            "[750, 68, 504]\n",
            "[504, 0, 68]\n",
            "[68, 28365, 0]\n",
            "[0, 139, 28365]\n",
            "[28365, 27, 139]\n",
            "[139, 358, 27]\n",
            "[27, 144, 358]\n",
            "[358, 778, 144]\n",
            "[144, 6, 778]\n",
            "[778, 4728, 6]\n",
            "[6, 122, 4728]\n",
            "[4728, 1, 122]\n",
            "[122, 0, 1]\n",
            "[1, 638, 0]\n",
            "[0, 532, 638]\n",
            "[638, 1, 532]\n",
            "[532, 660, 1]\n",
            "[1, 6068, 660]\n",
            "[660, 14159, 6068]\n",
            "[6068, 165, 14159]\n",
            "[14159, 56, 165]\n",
            "[165, 14, 56]\n",
            "[56, 1269, 14]\n",
            "[14, 2770, 1269]\n",
            "[1269, 41, 2770]\n",
            "[2770, 39, 41]\n",
            "[41, 2795, 39]\n",
            "[39, 13, 2795]\n",
            "[2795, 3912, 13]\n",
            "[13, 62, 3912]\n",
            "[3912, 3158, 62]\n",
            "[62, 11, 3158]\n",
            "[3158, 57344, 11]\n",
            "[11, 0, 57344]\n",
            "[57344, 33400, 0]\n",
            "[0, 160, 33400]\n",
            "[33400, 660, 160]\n",
            "[160, 2, 660]\n",
            "[660, 998, 2]\n",
            "[2, 296, 998]\n",
            "[998, 1014, 296]\n",
            "[296, 1289, 1014]\n",
            "[1014, 28, 1289]\n",
            "[1289, 42, 28]\n",
            "[28, 1036, 42]\n",
            "[42, 145, 1036]\n",
            "[1036, 0, 145]\n",
            "[145, 134, 0]\n",
            "[0, 160, 134]\n",
            "[134, 674, 160]\n",
            "[160, 61, 674]\n",
            "[674, 504, 61]\n",
            "[61, 0, 504]\n",
            "[504, 976, 0]\n",
            "[0, 504, 976]\n",
            "[976, 2, 504]\n",
            "[504, 3918, 2]\n",
            "[2, 1, 3918]\n",
            "[3918, 0, 1]\n",
            "[1, 4114, 0]\n",
            "[0, 368, 4114]\n",
            "[4114, 24, 368]\n",
            "[368, 5, 24]\n",
            "[24, 3573, 5]\n",
            "[5, 1, 3573]\n",
            "[3573, 3912, 1]\n",
            "[1, 6, 3912]\n",
            "[3912, 1691, 6]\n",
            "[6, 39831, 1691]\n",
            "[1691, 3501, 39831]\n",
            "[39831, 33400, 3501]\n",
            "[3501, 5, 33400]\n",
            "[33400, 8857, 5]\n",
            "[5, 2396, 8857]\n",
            "[8857, 5403, 2396]\n",
            "[2396, 2, 5403]\n",
            "[5403, 4206, 2]\n",
            "[2, 39, 4206]\n",
            "[4206, 36, 39]\n",
            "[39, 65, 36]\n",
            "[36, 4, 65]\n",
            "[65, 294, 4]\n",
            "[4, 2277, 294]\n",
            "[294, 41, 2277]\n",
            "[2277, 39, 41]\n",
            "[41, 5089, 39]\n",
            "[39, 117, 5089]\n",
            "[5089, 5618, 117]\n",
            "[117, 14, 5618]\n",
            "[5618, 134, 14]\n",
            "[14, 24937, 134]\n",
            "[134, 11, 24937]\n",
            "[24937, 5, 11]\n",
            "[11, 24957, 5]\n",
            "[5, 67, 24957]\n",
            "[24957, 2307, 67]\n",
            "[67, 39, 2307]\n",
            "[2307, 96, 39]\n",
            "[39, 3699, 96]\n",
            "[96, 28, 3699]\n",
            "[3699, 237, 28]\n",
            "[28, 1014, 237]\n",
            "[237, 14, 1014]\n",
            "[1014, 33400, 14]\n",
            "[14, 4, 33400]\n",
            "[33400, 1312, 4]\n",
            "[4, 28, 1312]\n",
            "[1312, 19216, 28]\n",
            "[28, 522, 19216]\n",
            "[19216, 42, 522]\n",
            "[522, 226, 42]\n",
            "[42, 21547, 226]\n",
            "[226, 962, 21547]\n",
            "[21547, 39, 962]\n",
            "[962, 6, 39]\n",
            "[39, 7557, 6]\n",
            "[6, 2307, 7557]\n",
            "[7557, 10851, 2307]\n",
            "[2307, 4, 10851]\n",
            "[10851, 2037, 4]\n",
            "[4, 2, 2037]\n",
            "[2037, 33889, 2]\n",
            "[2, 2908, 33889]\n",
            "[33889, 12312, 2908]\n",
            "[2908, 29065, 12312]\n",
            "[12312, 4, 29065]\n",
            "[29065, 14054, 4]\n",
            "[4, 1, 14054]\n",
            "[14054, 0, 1]\n",
            "[1, 23388, 0]\n",
            "[0, 1, 23388]\n",
            "[23388, 0, 1]\n",
            "[1, 46, 0]\n",
            "[0, 841, 46]\n",
            "[46, 1414, 841]\n",
            "[841, 1857, 1414]\n",
            "[1414, 6, 1857]\n",
            "[1857, 134, 6]\n",
            "[6, 353, 134]\n",
            "[134, 2273, 353]\n",
            "[353, 11662, 2273]\n",
            "[2273, 124, 11662]\n",
            "[11662, 4, 124]\n",
            "[124, 29, 4]\n",
            "[4, 46, 29]\n",
            "[29, 161, 46]\n",
            "[46, 1513, 161]\n",
            "[161, 456, 1513]\n",
            "[1513, 3, 456]\n",
            "[456, 1, 3]\n",
            "[3, 29, 1]\n",
            "[1, 53, 29]\n",
            "[29, 110, 53]\n",
            "[53, 76, 110]\n",
            "[110, 8931, 76]\n",
            "[76, 368, 8931]\n",
            "[8931, 24, 368]\n",
            "[368, 0, 24]\n",
            "[24, 1573, 0]\n",
            "[0, 2864, 1573]\n",
            "[1573, 0, 2864]\n",
            "[2864, 12312, 0]\n",
            "[0, 29065, 12312]\n",
            "[12312, 10735, 29065]\n",
            "[29065, 23, 10735]\n",
            "[10735, 0, 23]\n",
            "[23, 32510, 0]\n",
            "[0, 10, 32510]\n",
            "[32510, 0, 10]\n",
            "[10, 1760, 0]\n",
            "[0, 15050, 1760]\n",
            "[1760, 1, 15050]\n",
            "[15050, 6019, 1]\n",
            "[1, 24612, 6019]\n",
            "[6019, 12084, 24612]\n",
            "[24612, 16, 12084]\n",
            "[12084, 3, 16]\n",
            "[16, 12, 3]\n",
            "[3, 15, 12]\n",
            "[12, 21, 15]\n",
            "[15, 12312, 21]\n",
            "[21, 8544, 12312]\n",
            "[12312, 24, 8544]\n",
            "[8544, 0, 24]\n",
            "[24, 8779, 0]\n",
            "[0, 413, 8779]\n",
            "[8779, 1339, 413]\n",
            "[413, 2476, 1339]\n",
            "[1339, 1188, 2476]\n",
            "[2476, 0, 1188]\n",
            "[1188, 73, 0]\n",
            "[0, 1453, 73]\n",
            "[73, 0, 1453]\n",
            "[1453, 3507, 0]\n",
            "[0, 16, 3507]\n",
            "[3507, 14700, 16]\n",
            "[16, 10, 14700]\n",
            "[14700, 293, 10]\n",
            "[10, 6, 293]\n",
            "[293, 30, 6]\n",
            "[6, 191, 30]\n",
            "[30, 23, 191]\n",
            "[191, 3503, 23]\n",
            "[23, 2390, 3503]\n",
            "[3503, 0, 2390]\n",
            "[2390, 1913, 0]\n",
            "[0, 1, 1913]\n",
            "[1913, 0, 1]\n",
            "[1, 36086, 0]\n",
            "[0, 5849, 36086]\n",
            "[36086, 2, 5849]\n",
            "[5849, 46, 2]\n",
            "[2, 6, 46]\n",
            "[46, 30, 6]\n",
            "[6, 782, 30]\n",
            "[30, 4, 782]\n",
            "[782, 12312, 4]\n",
            "[4, 78, 12312]\n",
            "[12312, 0, 78]\n",
            "[78, 3, 0]\n",
            "[0, 21, 3]\n",
            "[3, 21, 21]\n",
            "[21, 17, 21]\n",
            "[21, 380, 17]\n",
            "[17, 428, 380]\n",
            "[380, 574, 428]\n",
            "[428, 22057, 574]\n",
            "[574, 16, 22057]\n",
            "[22057, 5269, 16]\n",
            "[16, 14, 5269]\n",
            "[5269, 567, 14]\n",
            "[14, 20415, 567]\n",
            "[567, 10813, 20415]\n",
            "[20415, 278, 10813]\n",
            "[10813, 7, 278]\n",
            "[278, 3, 7]\n",
            "[7, 8, 3]\n",
            "[3, 17, 8]\n",
            "[8, 7, 17]\n",
            "[17, 12, 7]\n",
            "[7, 12, 12]\n",
            "[12, 20, 12]\n",
            "[12, 21, 20]\n",
            "[20, 22, 21]\n",
            "[21, 0, 22]\n",
            "[22, 1393, 0]\n",
            "[0, 1, 1393]\n",
            "[1393, 219, 1]\n",
            "[1, 92, 219]\n",
            "[219, 25, 92]\n",
            "[92, 15, 25]\n",
            "[25, 17, 15]\n",
            "[15, 7, 17]\n",
            "[17, 7, 7]\n",
            "[7, 77, 7]\n",
            "[7, 121, 77]\n",
            "[77, 6, 121]\n",
            "[121, 0, 6]\n",
            "[6, 348, 0]\n",
            "[0, 14, 348]\n",
            "[348, 229, 14]\n",
            "[14, 59498, 229]\n",
            "[229, 2, 59498]\n",
            "[59498, 13666, 2]\n",
            "[2, 154, 13666]\n",
            "[13666, 59498, 154]\n",
            "[154, 278, 59498]\n",
            "[59498, 7, 278]\n",
            "[278, 7, 7]\n",
            "[7, 22, 7]\n",
            "[7, 9, 22]\n",
            "[22, 21, 9]\n",
            "[9, 7, 21]\n",
            "[21, 7, 7]\n",
            "[7, 17, 7]\n",
            "[7, 22, 17]\n",
            "[17, 3, 22]\n",
            "[22, 200, 3]\n",
            "[3, 174, 200]\n",
            "[200, 58, 174]\n",
            "[174, 39, 58]\n",
            "[58, 0, 39]\n",
            "[39, 33400, 0]\n",
            "[0, 1347, 33400]\n",
            "[33400, 708, 1347]\n",
            "[1347, 1, 708]\n",
            "[708, 0, 1]\n",
            "[1, 3077, 0]\n",
            "[0, 315, 3077]\n",
            "[3077, 64, 315]\n",
            "[315, 1895, 64]\n",
            "[64, 80, 1895]\n",
            "[1895, 12705, 80]\n",
            "[80, 28338, 12705]\n",
            "[12705, 10, 28338]\n",
            "[28338, 5, 10]\n",
            "[10, 502, 5]\n",
            "[5, 3905, 502]\n",
            "[502, 1, 3905]\n",
            "[3905, 0, 1]\n",
            "[1, 1136, 0]\n",
            "[0, 120, 1136]\n",
            "[1136, 1052, 120]\n",
            "[120, 25, 1052]\n",
            "[1052, 0, 25]\n",
            "[25, 251, 0]\n",
            "[0, 427, 251]\n",
            "[251, 6584, 427]\n",
            "[427, 27, 6584]\n",
            "[6584, 10, 27]\n",
            "[27, 0, 10]\n",
            "[10, 450, 0]\n",
            "[0, 1, 450]\n",
            "[450, 491, 1]\n",
            "[1, 13758, 491]\n",
            "[491, 2, 13758]\n",
            "[13758, 11449, 2]\n",
            "[2, 4, 11449]\n",
            "[11449, 650, 4]\n",
            "[4, 23, 650]\n",
            "[650, 552, 23]\n",
            "[23, 1, 552]\n",
            "[552, 31, 1]\n",
            "[1, 3379, 31]\n",
            "[31, 565, 3379]\n",
            "[3379, 4772, 565]\n",
            "[565, 23, 4772]\n",
            "[4772, 0, 23]\n",
            "[23, 542, 0]\n",
            "[0, 2261, 542]\n",
            "[542, 1, 2261]\n",
            "[2261, 0, 1]\n",
            "[1, 27633, 0]\n",
            "[0, 2288, 27633]\n",
            "[27633, 14722, 2288]\n",
            "[2288, 0, 14722]\n",
            "[14722, 830, 0]\n",
            "[0, 344, 830]\n",
            "[830, 28338, 344]\n",
            "[344, 126, 28338]\n",
            "[28338, 373, 126]\n",
            "[126, 13, 373]\n",
            "[373, 0, 13]\n",
            "[13, 21, 0]\n",
            "[0, 15, 21]\n",
            "[21, 3361, 15]\n",
            "[15, 380, 3361]\n",
            "[3361, 3, 380]\n",
            "[380, 1, 3]\n",
            "[3, 0, 1]\n",
            "[1, 255, 0]\n",
            "[0, 4, 255]\n",
            "[255, 0, 4]\n",
            "[4, 221, 0]\n",
            "[0, 408, 221]\n",
            "[221, 4469, 408]\n",
            "[408, 81, 4469]\n",
            "[4469, 0, 81]\n",
            "[81, 450, 0]\n",
            "[0, 16, 450]\n",
            "[450, 408, 16]\n",
            "[16, 7434, 408]\n",
            "[408, 2, 7434]\n",
            "[7434, 26242, 2]\n",
            "[2, 231, 26242]\n",
            "[26242, 1036, 231]\n",
            "[231, 78, 1036]\n",
            "[1036, 34, 78]\n",
            "[78, 354, 34]\n",
            "[34, 54, 354]\n",
            "[354, 3481, 54]\n",
            "[54, 7434, 3481]\n",
            "[3481, 2466, 7434]\n",
            "[7434, 656, 2466]\n",
            "[2466, 2618, 656]\n",
            "[656, 62, 2618]\n",
            "[2618, 1785, 62]\n",
            "[62, 126, 1785]\n",
            "[1785, 13600, 126]\n",
            "[126, 1390, 13600]\n",
            "[13600, 28338, 1390]\n",
            "[1390, 452, 28338]\n",
            "[28338, 25, 452]\n",
            "[452, 0, 25]\n",
            "[25, 234, 0]\n",
            "[0, 33, 234]\n",
            "[234, 28338, 33]\n",
            "[33, 114, 28338]\n",
            "[28338, 6416, 114]\n",
            "[114, 39, 6416]\n",
            "[6416, 775, 39]\n",
            "[39, 2661, 775]\n",
            "[775, 0, 2661]\n",
            "[2661, 16946, 0]\n",
            "[0, 38, 16946]\n",
            "[16946, 57, 38]\n",
            "[38, 1092, 57]\n",
            "[57, 6, 1092]\n",
            "[1092, 30, 6]\n",
            "[6, 570, 30]\n",
            "[30, 246, 570]\n",
            "[570, 13, 246]\n",
            "[246, 26025, 13]\n",
            "[13, 6, 26025]\n",
            "[26025, 2641, 6]\n",
            "[6, 0, 2641]\n",
            "[2641, 11588, 0]\n",
            "[0, 23, 11588]\n",
            "[11588, 0, 23]\n",
            "[23, 234, 0]\n",
            "[0, 2261, 234]\n",
            "[234, 1, 2261]\n",
            "[2261, 28338, 1]\n",
            "[1, 26, 28338]\n",
            "[28338, 89, 26]\n",
            "[26, 20, 89]\n",
            "[89, 17, 20]\n",
            "[20, 7, 17]\n",
            "[17, 2582, 7]\n",
            "[7, 170, 2582]\n",
            "[2582, 8653, 170]\n",
            "[170, 303, 8653]\n",
            "[8653, 6, 303]\n",
            "[303, 0, 6]\n",
            "[6, 830, 0]\n",
            "[0, 344, 830]\n",
            "[830, 2, 344]\n",
            "[344, 0, 2]\n",
            "[2, 11588, 0]\n",
            "[0, 23, 11588]\n",
            "[11588, 0, 23]\n",
            "[23, 225, 0]\n",
            "[0, 26, 225]\n",
            "[225, 89, 26]\n",
            "[26, 3, 89]\n",
            "[89, 7, 3]\n",
            "[3, 7, 7]\n",
            "[7, 2582, 7]\n",
            "[7, 170, 2582]\n",
            "[2582, 0, 170]\n",
            "[170, 375, 0]\n",
            "[0, 4007, 375]\n",
            "[375, 6, 4007]\n",
            "[4007, 0, 6]\n",
            "[6, 8493, 0]\n",
            "[0, 552, 8493]\n",
            "[8493, 26, 552]\n",
            "[552, 141, 26]\n",
            "[26, 928, 141]\n",
            "[141, 0, 928]\n",
            "[928, 552, 0]\n",
            "[0, 1, 552]\n",
            "[552, 0, 1]\n",
            "[1, 4772, 0]\n",
            "[0, 10, 4772]\n",
            "[4772, 2177, 10]\n",
            "[10, 2, 2177]\n",
            "[2177, 3000, 2]\n",
            "[2, 1121, 3000]\n",
            "[3000, 22, 1121]\n",
            "[1121, 7, 22]\n",
            "[22, 7, 7]\n",
            "[7, 14, 7]\n",
            "[7, 15, 14]\n",
            "[14, 7, 15]\n",
            "[15, 7, 7]\n",
            "[7, 2582, 7]\n",
            "[7, 60, 2582]\n",
            "[2582, 18, 60]\n",
            "[60, 5, 18]\n",
            "[18, 58879, 5]\n",
            "[5, 1635, 58879]\n",
            "[58879, 198, 1635]\n",
            "[1635, 0, 198]\n",
            "[198, 552, 0]\n",
            "[0, 1, 552]\n",
            "[552, 0, 1]\n",
            "[1, 4772, 0]\n",
            "[0, 19730, 4772]\n",
            "[4772, 3, 19730]\n",
            "[19730, 20, 3]\n",
            "[3, 7, 20]\n",
            "[20, 7, 7]\n",
            "[7, 2582, 7]\n",
            "[7, 206, 2582]\n",
            "[2582, 2, 206]\n",
            "[206, 20, 2]\n",
            "[2, 2582, 20]\n",
            "[20, 5361, 2582]\n",
            "[2582, 24, 5361]\n",
            "[5361, 51, 24]\n",
            "[24, 6774, 51]\n",
            "[51, 2, 6774]\n",
            "[6774, 0, 2]\n",
            "[2, 6584, 0]\n",
            "[0, 512, 6584]\n",
            "[6584, 49618, 512]\n",
            "[512, 19, 49618]\n",
            "[49618, 39, 19]\n",
            "[19, 62154, 39]\n",
            "[39, 14, 62154]\n",
            "[62154, 28435, 14]\n",
            "[14, 13261, 28435]\n",
            "[28435, 13758, 13261]\n",
            "[13261, 2, 13758]\n",
            "[13758, 31, 2]\n",
            "[2, 32855, 31]\n",
            "[31, 15, 32855]\n",
            "[32855, 2852, 15]\n",
            "[15, 18736, 2852]\n",
            "[2852, 6897, 18736]\n",
            "[18736, 243, 6897]\n",
            "[6897, 25, 243]\n",
            "[243, 529, 25]\n",
            "[25, 6, 529]\n",
            "[529, 10946, 6]\n",
            "[6, 3488, 10946]\n",
            "[10946, 1213, 3488]\n",
            "[3488, 92, 1213]\n",
            "[1213, 238, 92]\n",
            "[92, 6, 238]\n",
            "[238, 17704, 6]\n",
            "[6, 8502, 17704]\n",
            "[17704, 5, 8502]\n",
            "[8502, 3, 5]\n",
            "[5, 305, 3]\n",
            "[3, 123, 305]\n",
            "[305, 408, 123]\n",
            "[123, 2441, 408]\n",
            "[408, 15418, 2441]\n",
            "[2441, 0, 15418]\n",
            "[15418, 221, 0]\n",
            "[0, 10946, 221]\n",
            "[221, 28338, 10946]\n",
            "[10946, 81, 28338]\n",
            "[28338, 15, 81]\n",
            "[81, 21, 15]\n",
            "[15, 2, 21]\n",
            "[21, 15, 2]\n",
            "[2, 3, 15]\n",
            "[15, 2677, 3]\n",
            "[3, 11, 2677]\n",
            "[2677, 5, 11]\n",
            "[11, 6205, 5]\n",
            "[5, 13, 6205]\n",
            "[6205, 417, 13]\n",
            "[13, 342, 417]\n",
            "[417, 29, 342]\n",
            "[342, 408, 29]\n",
            "[29, 2407, 408]\n",
            "[408, 1074, 2407]\n",
            "[2407, 109, 1074]\n",
            "[1074, 163, 109]\n",
            "[109, 131, 163]\n",
            "[163, 4, 131]\n",
            "[131, 22, 4]\n",
            "[4, 22, 22]\n",
            "[22, 3361, 22]\n",
            "[22, 33, 3361]\n",
            "[3361, 0, 33]\n",
            "[33, 687, 0]\n",
            "[0, 1, 687]\n",
            "[687, 0, 1]\n",
            "[1, 221, 0]\n",
            "[0, 408, 221]\n",
            "[221, 4469, 408]\n",
            "[408, 163, 4469]\n",
            "[4469, 0, 163]\n",
            "[163, 2450, 0]\n",
            "[0, 5, 2450]\n",
            "[2450, 164, 5]\n",
            "[5, 1, 164]\n",
            "[164, 408, 1]\n",
            "[1, 6157, 408]\n",
            "[408, 93, 6157]\n",
            "[6157, 0, 93]\n",
            "[93, 34944, 0]\n",
            "[0, 25876, 34944]\n",
            "[34944, 16181, 25876]\n",
            "[25876, 7753, 16181]\n",
            "[16181, 6004, 7753]\n",
            "[7753, 15141, 6004]\n",
            "[6004, 1579, 15141]\n",
            "[15141, 5349, 1579]\n",
            "[1579, 14, 5349]\n",
            "[5349, 54903, 14]\n",
            "[14, 2806, 54903]\n",
            "[54903, 11278, 2806]\n",
            "[2806, 7972, 11278]\n",
            "[11278, 358, 7972]\n",
            "[7972, 28338, 358]\n",
            "[358, 25, 28338]\n",
            "[28338, 0, 25]\n",
            "[25, 231, 0]\n",
            "[0, 7617, 231]\n",
            "[231, 9119, 7617]\n",
            "[7617, 60, 9119]\n",
            "[9119, 4, 60]\n",
            "[60, 21, 4]\n",
            "[4, 7, 21]\n",
            "[21, 3361, 7]\n",
            "[7, 48, 3361]\n",
            "[3361, 39, 48]\n",
            "[48, 1232, 39]\n",
            "[39, 14, 1232]\n",
            "[1232, 1058, 14]\n",
            "[14, 34944, 1058]\n",
            "[1058, 2, 34944]\n",
            "[34944, 44, 2]\n",
            "[2, 1397, 44]\n",
            "[44, 58, 1397]\n",
            "[1397, 39, 58]\n",
            "[58, 4963, 39]\n",
            "[39, 25, 4963]\n",
            "[4963, 1560, 25]\n",
            "[25, 14, 1560]\n",
            "[1560, 0, 14]\n",
            "[14, 42, 0]\n",
            "[0, 625, 42]\n",
            "[42, 476, 625]\n",
            "[625, 60, 476]\n",
            "[476, 1858, 60]\n",
            "[60, 145, 1858]\n",
            "[1858, 0, 145]\n",
            "[145, 2189, 0]\n",
            "[0, 1, 2189]\n",
            "[2189, 1560, 1]\n",
            "[1, 2, 1560]\n",
            "[1560, 13, 2]\n",
            "[2, 0, 13]\n",
            "[13, 419, 0]\n",
            "[0, 9, 419]\n",
            "[419, 84, 9]\n",
            "[9, 56, 84]\n",
            "[84, 28338, 56]\n",
            "[56, 11, 28338]\n",
            "[28338, 44, 11]\n",
            "[11, 604, 44]\n",
            "[44, 13, 604]\n",
            "[604, 19956, 13]\n",
            "[13, 2, 19956]\n",
            "[19956, 35375, 2]\n",
            "[2, 231, 35375]\n",
            "[35375, 2, 231]\n",
            "[231, 408, 2]\n",
            "[2, 3837, 408]\n",
            "[408, 7088, 3837]\n",
            "[3837, 7797, 7088]\n",
            "[7088, 1, 7797]\n",
            "[7797, 3, 1]\n",
            "[1, 1, 3]\n",
            "[3, 155, 1]\n",
            "[1, 45863, 155]\n",
            "[155, 3282, 45863]\n",
            "[45863, 33, 3282]\n",
            "[3282, 28338, 33]\n",
            "[33, 319, 28338]\n",
            "[28338, 657, 319]\n",
            "[319, 0, 657]\n",
            "[657, 1635, 0]\n",
            "[0, 34, 1635]\n",
            "[1635, 47, 34]\n",
            "[34, 30, 47]\n",
            "[47, 452, 30]\n",
            "[30, 419, 452]\n",
            "[452, 6, 419]\n",
            "[419, 27, 6]\n",
            "[6, 100, 27]\n",
            "[27, 4, 100]\n",
            "[100, 21, 4]\n",
            "[4, 9, 21]\n",
            "[21, 3361, 9]\n",
            "[9, 0, 3361]\n",
            "[3361, 231, 0]\n",
            "[0, 1094, 231]\n",
            "[231, 1, 1094]\n",
            "[1094, 55701, 1]\n",
            "[1, 1217, 55701]\n",
            "[55701, 10819, 1217]\n",
            "[1217, 17704, 10819]\n",
            "[10819, 16611, 17704]\n",
            "[17704, 8621, 16611]\n",
            "[16611, 163, 8621]\n",
            "[8621, 28338, 163]\n",
            "[163, 24, 28338]\n",
            "[28338, 0, 24]\n",
            "[24, 231, 0]\n",
            "[0, 5901, 231]\n",
            "[231, 128, 5901]\n",
            "[5901, 2, 128]\n",
            "[128, 3012, 2]\n",
            "[2, 3546, 3012]\n",
            "[3012, 6, 3546]\n",
            "[3546, 0, 6]\n",
            "[6, 6584, 0]\n",
            "[0, 59, 6584]\n",
            "[6584, 1336, 59]\n",
            "[59, 1371, 1336]\n",
            "[1336, 6, 1371]\n",
            "[1371, 9349, 6]\n",
            "[6, 0, 9349]\n",
            "[9349, 1635, 0]\n",
            "[0, 48, 1635]\n",
            "[1635, 464, 48]\n",
            "[48, 5, 464]\n",
            "[464, 1635, 5]\n",
            "[5, 2, 1635]\n",
            "[1635, 100, 2]\n",
            "[2, 5, 100]\n",
            "[100, 35772, 5]\n",
            "[5, 163, 35772]\n",
            "[35772, 0, 163]\n",
            "[163, 318, 0]\n",
            "[0, 1248, 318]\n",
            "[318, 1, 1248]\n",
            "[1248, 0, 1]\n",
            "[1, 4772, 0]\n",
            "[0, 205, 4772]\n",
            "[4772, 1673, 205]\n",
            "[205, 1, 1673]\n",
            "[1673, 5418, 1]\n",
            "[1, 1, 5418]\n",
            "[5418, 4081, 1]\n",
            "[1, 2, 4081]\n",
            "[4081, 9936, 2]\n",
            "[2, 352, 9936]\n",
            "[9936, 8502, 352]\n",
            "[352, 265, 8502]\n",
            "[8502, 36, 265]\n",
            "[265, 636, 36]\n",
            "[36, 101, 636]\n",
            "[636, 161, 101]\n",
            "[101, 1371, 161]\n",
            "[161, 14, 1371]\n",
            "[1371, 0, 14]\n",
            "[14, 34944, 0]\n",
            "[0, 6, 34944]\n",
            "[34944, 28097, 6]\n",
            "[6, 0, 28097]\n",
            "[28097, 78, 0]\n",
            "[0, 32, 78]\n",
            "[78, 403, 32]\n",
            "[32, 5, 403]\n",
            "[403, 681, 5]\n",
            "[5, 1298, 681]\n",
            "[681, 25, 1298]\n",
            "[1298, 29, 25]\n",
            "[25, 2126, 29]\n",
            "[29, 1, 2126]\n",
            "[2126, 42, 1]\n",
            "[1, 28502, 42]\n",
            "[42, 163, 28502]\n",
            "[28502, 408, 163]\n",
            "[163, 21261, 408]\n",
            "[408, 5514, 21261]\n",
            "[21261, 19, 5514]\n",
            "[5514, 827, 19]\n",
            "[19, 0, 827]\n",
            "[827, 34944, 0]\n",
            "[0, 7249, 34944]\n",
            "[34944, 0, 7249]\n",
            "[7249, 1412, 0]\n",
            "[0, 28, 1412]\n",
            "[1412, 2830, 28]\n",
            "[28, 6, 2830]\n",
            "[2830, 1786, 6]\n",
            "[6, 0, 1786]\n",
            "[1786, 231, 0]\n",
            "[0, 5901, 231]\n",
            "[231, 27, 5901]\n",
            "[5901, 10, 27]\n",
            "[27, 705, 10]\n",
            "[10, 14, 705]\n",
            "[705, 51, 14]\n",
            "[14, 19, 51]\n",
            "[51, 0, 19]\n",
            "[19, 2450, 0]\n",
            "[0, 56, 2450]\n",
            "[2450, 408, 56]\n",
            "[56, 3304, 408]\n",
            "[408, 6, 3304]\n",
            "[3304, 1869, 6]\n",
            "[6, 0, 1869]\n",
            "[1869, 35772, 0]\n",
            "[0, 880, 35772]\n",
            "[35772, 0, 880]\n",
            "[880, 34944, 0]\n",
            "[0, 39, 34944]\n",
            "[34944, 7987, 39]\n",
            "[39, 6, 7987]\n",
            "[7987, 2250, 6]\n",
            "[6, 122, 2250]\n",
            "[2250, 1, 122]\n",
            "[122, 44, 1]\n",
            "[1, 1757, 44]\n",
            "[44, 5, 1757]\n",
            "[1757, 1339, 5]\n",
            "[5, 1, 1339]\n",
            "[1339, 0, 1]\n",
            "[1, 19430, 0]\n",
            "[0, 25, 19430]\n",
            "[19430, 0, 25]\n",
            "[25, 552, 0]\n",
            "[0, 0, 552]\n",
            "[552, 19430, 0]\n",
            "[0, 18, 19430]\n",
            "[19430, 683, 18]\n",
            "[18, 4, 683]\n",
            "[683, 0, 4]\n",
            "[4, 1877, 0]\n",
            "[0, 1, 1877]\n",
            "[1877, 21, 1]\n",
            "[1, 15, 21]\n",
            "[21, 3361, 15]\n",
            "[15, 59, 3361]\n",
            "[3361, 1121, 59]\n",
            "[59, 9, 1121]\n",
            "[1121, 6, 9]\n",
            "[9, 15, 6]\n",
            "[6, 811, 15]\n",
            "[15, 1, 811]\n",
            "[811, 3546, 1]\n",
            "[1, 1489, 3546]\n",
            "[3546, 0, 1489]\n",
            "[1489, 2450, 0]\n",
            "[0, 6, 2450]\n",
            "[2450, 957, 6]\n",
            "[6, 9349, 957]\n",
            "[957, 0, 9349]\n",
            "[9349, 1635, 0]\n",
            "[0, 1, 1635]\n",
            "[1635, 0, 1]\n",
            "[1, 6584, 0]\n",
            "[0, 24, 6584]\n",
            "[6584, 5, 24]\n",
            "[24, 42626, 5]\n",
            "[5, 3844, 42626]\n",
            "[42626, 62, 3844]\n",
            "[3844, 48, 62]\n",
            "[62, 1624, 48]\n",
            "[48, 0, 1624]\n",
            "[1624, 6584, 0]\n",
            "[0, 75, 6584]\n",
            "[6584, 0, 75]\n",
            "[75, 2450, 0]\n",
            "[0, 1003, 2450]\n",
            "[2450, 19, 1003]\n",
            "[1003, 43, 19]\n",
            "[19, 1121, 43]\n",
            "[43, 3, 1121]\n",
            "[1121, 2337, 3]\n",
            "[3, 7434, 2337]\n",
            "[2337, 49, 7434]\n",
            "[7434, 184, 49]\n",
            "[49, 54, 184]\n",
            "[184, 0, 54]\n",
            "[54, 1661, 0]\n",
            "[0, 41, 1661]\n",
            "[1661, 0, 41]\n",
            "[41, 598, 0]\n",
            "[0, 33805, 598]\n",
            "[598, 2, 33805]\n",
            "[33805, 2466, 2]\n",
            "[2, 656, 2466]\n",
            "[2466, 2618, 656]\n",
            "[656, 333, 2618]\n",
            "[2618, 68, 333]\n",
            "[333, 1248, 68]\n",
            "[68, 406, 1248]\n",
            "[1248, 2703, 406]\n",
            "[406, 28, 2703]\n",
            "[2703, 1785, 28]\n",
            "[28, 14, 1785]\n",
            "[1785, 44, 14]\n",
            "[14, 3174, 44]\n",
            "[44, 122, 3174]\n",
            "[3174, 0, 122]\n",
            "[122, 408, 0]\n",
            "[0, 725, 408]\n",
            "[408, 34078, 725]\n",
            "[725, 0, 34078]\n",
            "[34078, 457, 0]\n",
            "[0, 1, 457]\n",
            "[457, 2618, 1]\n",
            "[1, 75, 2618]\n",
            "[2618, 0, 75]\n",
            "[75, 7434, 0]\n",
            "[0, 39, 7434]\n",
            "[7434, 1283, 39]\n",
            "[39, 6, 1283]\n",
            "[1283, 38, 6]\n",
            "[6, 2289, 38]\n",
            "[38, 7856, 2289]\n",
            "[2289, 2, 7856]\n",
            "[7856, 11349, 2]\n",
            "[2, 169, 11349]\n",
            "[11349, 42, 169]\n",
            "[169, 4, 42]\n",
            "[42, 869, 4]\n",
            "[4, 256, 869]\n",
            "[869, 6, 256]\n",
            "[256, 0, 6]\n",
            "[6, 255, 0]\n",
            "[0, 268, 255]\n",
            "[255, 58, 268]\n",
            "[268, 74, 58]\n",
            "[58, 30, 74]\n",
            "[74, 0, 30]\n",
            "[30, 65, 0]\n",
            "[0, 3, 65]\n",
            "[65, 6, 3]\n",
            "[3, 628, 6]\n",
            "[6, 369, 628]\n",
            "[628, 29, 369]\n",
            "[369, 171, 29]\n",
            "[29, 108, 171]\n",
            "[171, 11, 108]\n",
            "[108, 480, 11]\n",
            "[11, 8502, 480]\n",
            "[480, 1028, 8502]\n",
            "[8502, 0, 1028]\n",
            "[1028, 1355, 0]\n",
            "[0, 10, 1355]\n",
            "[1355, 99, 10]\n",
            "[10, 19, 99]\n",
            "[99, 0, 19]\n",
            "[19, 39, 0]\n",
            "[0, 237, 39]\n",
            "[39, 2078, 237]\n",
            "[237, 6, 2078]\n",
            "[2078, 385, 6]\n",
            "[6, 19, 385]\n",
            "[385, 0, 19]\n",
            "[19, 7434, 0]\n",
            "[0, 3375, 7434]\n",
            "[7434, 0, 3375]\n",
            "[3375, 1116, 0]\n",
            "[0, 6, 1116]\n",
            "[1116, 431, 6]\n",
            "[6, 2, 431]\n",
            "[431, 3250, 2]\n",
            "[2, 0, 3250]\n",
            "[3250, 66, 0]\n",
            "[0, 1, 66]\n",
            "[66, 44, 1]\n",
            "[1, 178, 44]\n",
            "[44, 32, 178]\n",
            "[178, 1028, 32]\n",
            "[32, 1, 1028]\n",
            "[1028, 0, 1]\n",
            "[1, 3546, 0]\n",
            "[0, 1, 3546]\n",
            "[3546, 28338, 1]\n",
            "[1, 18, 28338]\n",
            "[28338, 2043, 18]\n",
            "[18, 432, 2043]\n",
            "[2043, 6, 432]\n",
            "[432, 8502, 6]\n",
            "[6, 14, 8502]\n",
            "[8502, 9, 14]\n",
            "[14, 441, 9]\n",
            "[9, 58, 441]\n",
            "[441, 3033, 58]\n",
            "[58, 0, 3033]\n",
            "[3033, 2618, 0]\n",
            "[0, 14, 2618]\n",
            "[2618, 9898, 14]\n",
            "[14, 1319, 9898]\n",
            "[9898, 5, 1319]\n",
            "[1319, 45010, 5]\n",
            "[5, 368, 45010]\n",
            "[45010, 24, 368]\n",
            "[368, 17, 24]\n",
            "[24, 404, 17]\n",
            "[17, 2, 404]\n",
            "[404, 3275, 2]\n",
            "[2, 54903, 3275]\n",
            "[3275, 2806, 54903]\n",
            "[54903, 16, 2806]\n",
            "[2806, 543, 16]\n",
            "[16, 6, 543]\n",
            "[543, 29, 6]\n",
            "[6, 2985, 29]\n",
            "[29, 1294, 2985]\n",
            "[2985, 6, 1294]\n",
            "[1294, 0, 6]\n",
            "[6, 656, 0]\n",
            "[0, 2618, 656]\n",
            "[656, 30063, 2618]\n",
            "[2618, 6, 30063]\n",
            "[30063, 0, 6]\n",
            "[6, 2450, 0]\n",
            "[0, 0, 2450]\n",
            "[2450, 450, 0]\n",
            "[0, 356, 450]\n",
            "[450, 2804, 356]\n",
            "[356, 912, 2804]\n",
            "[2804, 6, 912]\n",
            "[912, 0, 6]\n",
            "[6, 6584, 0]\n",
            "[0, 0, 6584]\n",
            "[6584, 450, 0]\n",
            "[0, 1, 450]\n",
            "[450, 28338, 1]\n",
            "[1, 18, 28338]\n",
            "[28338, 1758, 18]\n",
            "[18, 4, 1758]\n",
            "[1758, 3, 4]\n",
            "[4, 12, 3]\n",
            "[3, 20, 12]\n",
            "[12, 9, 20]\n",
            "[20, 2, 9]\n",
            "[9, 3973, 2]\n",
            "[2, 13934, 3973]\n",
            "[3973, 4, 13934]\n",
            "[13934, 3, 4]\n",
            "[4, 8, 3]\n",
            "[3, 22, 8]\n",
            "[8, 15, 22]\n",
            "[22, 3, 15]\n",
            "[15, 8, 3]\n",
            "[3, 22, 8]\n",
            "[8, 17, 22]\n",
            "[22, 77, 17]\n"
          ]
        }
      ],
      "source": [
        "train_x_list = get_tokenized_dataset(train_dataset, verbose=False)"
      ]
    },
    {
      "cell_type": "code",
      "source": [
        "\n",
        "type(train_dataset)"
      ],
      "metadata": {
        "id": "vtHKsVumHDu8"
      },
      "id": "vtHKsVumHDu8",
      "execution_count": null,
      "outputs": []
    },
    {
      "cell_type": "code",
      "source": [
        "train_x_list"
      ],
      "metadata": {
        "colab": {
          "base_uri": "https://localhost:8080/",
          "height": 0
        },
        "id": "zY3mbhT9BlPo",
        "outputId": "1c97d52b-b4ef-4ab3-f27e-a6efb25468a8"
      },
      "id": "zY3mbhT9BlPo",
      "execution_count": 35,
      "outputs": [
        {
          "output_type": "execute_result",
          "data": {
            "text/plain": [
              "[[5233, 11, 3083],\n",
              " [3083, 5, 11],\n",
              " [11, 183, 5],\n",
              " [5, 1, 183],\n",
              " [183, 3133, 1],\n",
              " [1, 46, 3133],\n",
              " [3133, 56, 46],\n",
              " [46, 163, 56],\n",
              " [56, 125, 163],\n",
              " [163, 741, 125],\n",
              " [125, 523, 741],\n",
              " [741, 10619, 523],\n",
              " [523, 115, 10619],\n",
              " [10619, 0, 115],\n",
              " [115, 27497, 0],\n",
              " [0, 1, 27497],\n",
              " [27497, 0, 1],\n",
              " [1, 113, 0],\n",
              " [0, 854, 113],\n",
              " [113, 2, 854],\n",
              " [854, 0, 2],\n",
              " [2, 15177, 0],\n",
              " [0, 59203, 15177],\n",
              " [15177, 1, 59203],\n",
              " [59203, 0, 1],\n",
              " [1, 124, 0],\n",
              " [0, 854, 124],\n",
              " [124, 3583, 854],\n",
              " [854, 0, 3583],\n",
              " [3583, 183, 0],\n",
              " [0, 10, 183],\n",
              " [183, 180, 10],\n",
              " [10, 56, 180],\n",
              " [180, 4, 56],\n",
              " [56, 5, 4],\n",
              " [4, 10751, 5],\n",
              " [5, 218, 10751],\n",
              " [10751, 6, 218],\n",
              " [218, 1324, 6],\n",
              " [6, 101, 1324],\n",
              " [1324, 457, 101],\n",
              " [101, 19, 457],\n",
              " [457, 56, 19],\n",
              " [19, 2733, 56],\n",
              " [56, 327, 2733],\n",
              " [2733, 6, 327],\n",
              " [327, 3673, 6],\n",
              " [6, 0, 3673],\n",
              " [3673, 708, 0],\n",
              " [0, 1, 708],\n",
              " [708, 398, 1],\n",
              " [1, 27, 398],\n",
              " [398, 40, 27],\n",
              " [27, 37, 40],\n",
              " [40, 57, 37],\n",
              " [37, 554, 57],\n",
              " [57, 109, 554],\n",
              " [554, 11, 109],\n",
              " [109, 5, 11],\n",
              " [11, 1425, 5],\n",
              " [5, 2760, 1425],\n",
              " [1425, 14, 2760],\n",
              " [2760, 487, 14],\n",
              " [14, 651, 487],\n",
              " [487, 7089, 651],\n",
              " [651, 0, 7089],\n",
              " [7089, 251, 0],\n",
              " [0, 5233, 251],\n",
              " [251, 10, 5233],\n",
              " [5233, 1052, 10],\n",
              " [10, 25, 1052],\n",
              " [1052, 0, 25],\n",
              " [25, 337, 0],\n",
              " [0, 247, 337],\n",
              " [337, 44740, 247],\n",
              " [247, 2880, 44740],\n",
              " [44740, 792, 2880],\n",
              " [2880, 147, 792],\n",
              " [792, 5233, 147],\n",
              " [147, 11, 5233],\n",
              " [5233, 5, 11],\n",
              " [11, 208, 5],\n",
              " [5, 667, 208],\n",
              " [208, 10, 667],\n",
              " [667, 0, 10],\n",
              " [10, 1134, 0],\n",
              " [0, 19, 1134],\n",
              " [1134, 2622, 19],\n",
              " [19, 26, 2622],\n",
              " [2622, 9031, 26],\n",
              " [26, 2, 9031],\n",
              " [9031, 342, 2],\n",
              " [2, 30, 342],\n",
              " [342, 4147, 30],\n",
              " [30, 139, 4147],\n",
              " [4147, 60, 139],\n",
              " [139, 26, 60],\n",
              " [60, 6440, 26],\n",
              " [26, 4190, 6440],\n",
              " [6440, 1, 4190],\n",
              " [4190, 204, 1],\n",
              " [1, 32, 204],\n",
              " [204, 327, 32],\n",
              " [32, 5233, 327],\n",
              " [327, 37, 5233],\n",
              " [5233, 1137, 37],\n",
              " [37, 6, 1137],\n",
              " [1137, 432, 6],\n",
              " [6, 339, 432],\n",
              " [432, 1818, 339],\n",
              " [339, 19, 1818],\n",
              " [1818, 4860, 19],\n",
              " [19, 0, 4860],\n",
              " [4860, 6765, 0],\n",
              " [0, 1, 6765],\n",
              " [6765, 7575, 1],\n",
              " [1, 1775, 7575],\n",
              " [7575, 605, 1775],\n",
              " [1775, 0, 605],\n",
              " [605, 97, 0],\n",
              " [0, 0, 97],\n",
              " [97, 251, 0],\n",
              " [0, 11066, 251],\n",
              " [251, 11, 11066],\n",
              " [11066, 53, 11],\n",
              " [11, 7089, 53],\n",
              " [53, 85, 7089],\n",
              " [7089, 27, 85],\n",
              " [85, 265, 27],\n",
              " [27, 36, 265],\n",
              " [265, 5958, 36],\n",
              " [36, 4864, 5958],\n",
              " [5958, 20463, 4864],\n",
              " [4864, 28, 20463],\n",
              " [20463, 53895, 28],\n",
              " [28, 41, 53895],\n",
              " [53895, 333, 41],\n",
              " [41, 5, 333],\n",
              " [333, 25871, 5],\n",
              " [5, 583, 25871],\n",
              " [25871, 7575, 583],\n",
              " [583, 398, 7575],\n",
              " [7575, 4, 398],\n",
              " [398, 250, 4],\n",
              " [4, 1, 250],\n",
              " [250, 204, 1],\n",
              " [1, 26, 204],\n",
              " [204, 1206, 26],\n",
              " [26, 11, 1206],\n",
              " [1206, 7575, 11],\n",
              " [11, 208, 7575],\n",
              " [7575, 1580, 208],\n",
              " [208, 2, 1580],\n",
              " [1580, 15224, 2],\n",
              " [2, 325, 15224],\n",
              " [15224, 1775, 325],\n",
              " [325, 7089, 1775],\n",
              " [1775, 4860, 7089],\n",
              " [7089, 339, 4860],\n",
              " [4860, 764, 339],\n",
              " [339, 191, 764],\n",
              " [764, 444, 191],\n",
              " [191, 5708, 444],\n",
              " [444, 755, 5708],\n",
              " [5708, 1, 755],\n",
              " [755, 4105, 1],\n",
              " [1, 1131, 4105],\n",
              " [4105, 4340, 1131],\n",
              " [1131, 1536, 4340],\n",
              " [4340, 2, 1536],\n",
              " [1536, 487, 2],\n",
              " [2, 8126, 487],\n",
              " [487, 94, 8126],\n",
              " [8126, 5233, 94],\n",
              " [94, 10, 5233],\n",
              " [5233, 53, 10],\n",
              " [10, 1408, 53],\n",
              " [53, 651, 1408],\n",
              " [1408, 14, 651],\n",
              " [651, 204, 14],\n",
              " [14, 27, 204],\n",
              " [204, 10, 27],\n",
              " [27, 163, 10],\n",
              " [10, 7089, 163],\n",
              " [163, 37, 7089],\n",
              " [7089, 2033, 37],\n",
              " [37, 1425, 2033],\n",
              " [2033, 8198, 1425],\n",
              " [1425, 1, 8198],\n",
              " [8198, 204, 1],\n",
              " [1, 48, 204],\n",
              " [204, 676, 48],\n",
              " [48, 6, 676],\n",
              " [676, 30, 6],\n",
              " [6, 5, 30],\n",
              " [30, 4159, 5],\n",
              " [5, 232, 4159],\n",
              " [4159, 398, 232],\n",
              " [232, 75, 398],\n",
              " [398, 948, 75],\n",
              " [75, 89, 948],\n",
              " [948, 350, 89],\n",
              " [89, 31, 350],\n",
              " [350, 4780, 31],\n",
              " [31, 398, 4780],\n",
              " [4780, 514, 398],\n",
              " [398, 142, 514],\n",
              " [514, 2314, 142],\n",
              " [142, 3554, 2314],\n",
              " [2314, 378, 3554],\n",
              " [3554, 24, 378],\n",
              " [378, 1822, 24],\n",
              " [24, 6, 1822],\n",
              " [1822, 1902, 6],\n",
              " [6, 60, 1902],\n",
              " [1902, 10, 60],\n",
              " [60, 37, 10],\n",
              " [10, 8411, 37],\n",
              " [37, 89, 8411],\n",
              " [8411, 350, 89],\n",
              " [89, 5, 350],\n",
              " [350, 232, 5],\n",
              " [5, 398, 232],\n",
              " [232, 514, 398],\n",
              " [398, 30, 514],\n",
              " [514, 753, 30],\n",
              " [30, 89, 753],\n",
              " [753, 1737, 89],\n",
              " [89, 2, 1737],\n",
              " [1737, 8080, 2],\n",
              " [2, 24411, 8080],\n",
              " [8080, 2, 24411],\n",
              " [24411, 288, 2],\n",
              " [2, 1693, 288],\n",
              " [288, 19, 1693],\n",
              " [1693, 145, 19],\n",
              " [19, 1034, 145],\n",
              " [145, 92, 1034],\n",
              " [1034, 213, 92],\n",
              " [92, 398, 213],\n",
              " [213, 18, 398],\n",
              " [398, 1815, 18],\n",
              " [18, 23, 1815],\n",
              " [1815, 4780, 23],\n",
              " [23, 1556, 4780],\n",
              " [4780, 53, 1556],\n",
              " [1556, 8118, 53],\n",
              " [53, 1467, 8118],\n",
              " [8118, 24411, 1467],\n",
              " [1467, 2, 24411],\n",
              " [24411, 12778, 2],\n",
              " [2, 4, 12778],\n",
              " [12778, 6130, 4],\n",
              " [4, 19, 6130],\n",
              " [6130, 4187, 19],\n",
              " [19, 21267, 4187],\n",
              " [4187, 2427, 21267],\n",
              " [21267, 39, 2427],\n",
              " [2427, 16505, 39],\n",
              " [39, 2, 16505],\n",
              " [16505, 7249, 2],\n",
              " [2, 861, 7249],\n",
              " [7249, 1, 861],\n",
              " [861, 1193, 1],\n",
              " [1, 10207, 1193],\n",
              " [1193, 2515, 10207],\n",
              " [10207, 28, 2515],\n",
              " [2515, 15099, 28],\n",
              " [28, 157, 15099],\n",
              " [15099, 2, 157],\n",
              " [157, 49, 2],\n",
              " [2, 1123, 49],\n",
              " [49, 912, 1123],\n",
              " [1123, 6, 912],\n",
              " [912, 1049, 6],\n",
              " [6, 463, 1049],\n",
              " [1049, 12326, 463],\n",
              " [463, 7089, 12326],\n",
              " [12326, 115, 7089],\n",
              " [7089, 0, 115],\n",
              " [115, 0, 0],\n",
              " [0, 11066, 0],\n",
              " [0, 3059, 11066],\n",
              " [11066, 2, 3059],\n",
              " [3059, 12121, 2],\n",
              " [2, 721, 12121],\n",
              " [12121, 4780, 721],\n",
              " [721, 6598, 4780],\n",
              " [4780, 4, 6598],\n",
              " [6598, 14758, 4],\n",
              " [4, 25, 14758],\n",
              " [14758, 491, 25],\n",
              " [25, 517, 491],\n",
              " [491, 24411, 517],\n",
              " [517, 210, 24411],\n",
              " [24411, 300, 210],\n",
              " [210, 948, 300],\n",
              " [300, 4, 948],\n",
              " [948, 20257, 4],\n",
              " [4, 20563, 20257],\n",
              " [20257, 1, 20563],\n",
              " [20563, 54443, 1],\n",
              " [1, 238, 54443],\n",
              " [54443, 6, 238],\n",
              " [238, 24411, 6],\n",
              " [6, 20563, 24411],\n",
              " [24411, 16596, 20563],\n",
              " [20563, 0, 16596],\n",
              " [16596, 30655, 0],\n",
              " [0, 1, 30655],\n",
              " [30655, 0, 1],\n",
              " [1, 97, 0],\n",
              " [0, 43, 97],\n",
              " [97, 3834, 43],\n",
              " [43, 2, 3834],\n",
              " [3834, 56968, 2],\n",
              " [2, 2, 56968],\n",
              " [56968, 3815, 2],\n",
              " [2, 0, 3815],\n",
              " [3815, 3417, 0],\n",
              " [0, 1, 3417],\n",
              " [3417, 0, 1],\n",
              " [1, 1781, 0],\n",
              " [0, 157, 1781],\n",
              " [1781, 1, 157],\n",
              " [157, 0, 1],\n",
              " [1, 579, 0],\n",
              " [0, 0, 579],\n",
              " [579, 13146, 0],\n",
              " [0, 1, 13146],\n",
              " [13146, 3, 1],\n",
              " [1, 22, 3],\n",
              " [3, 90, 22],\n",
              " [22, 123, 90],\n",
              " [90, 289, 123],\n",
              " [123, 26, 289],\n",
              " [289, 240, 26],\n",
              " [26, 254, 240],\n",
              " [240, 6, 254],\n",
              " [254, 30, 6],\n",
              " [6, 399, 30],\n",
              " [30, 26399, 399],\n",
              " [399, 1, 26399],\n",
              " [26399, 181, 1],\n",
              " [1, 5233, 181],\n",
              " [181, 7705, 5233],\n",
              " [5233, 2537, 7705],\n",
              " [7705, 4, 2537],\n",
              " [2537, 29, 4],\n",
              " [4, 92, 29],\n",
              " [29, 1, 92],\n",
              " [92, 318, 1],\n",
              " [1, 667, 318],\n",
              " [318, 4318, 667],\n",
              " [667, 19, 4318],\n",
              " [4318, 0, 19],\n",
              " [19, 13146, 0],\n",
              " [0, 16596, 13146],\n",
              " [13146, 54, 16596],\n",
              " [16596, 157, 54],\n",
              " [54, 132, 157],\n",
              " [157, 48, 132],\n",
              " [132, 329, 48],\n",
              " [48, 19, 329],\n",
              " [329, 0, 19],\n",
              " [19, 393, 0],\n",
              " [0, 268, 393],\n",
              " [393, 82, 268],\n",
              " [268, 30, 82],\n",
              " [82, 5239, 30],\n",
              " [30, 33, 5239],\n",
              " [5239, 307, 33],\n",
              " [33, 2727, 307],\n",
              " [307, 14, 2727],\n",
              " [2727, 0, 14],\n",
              " [14, 838, 0],\n",
              " [0, 1378, 838],\n",
              " [838, 25, 1378],\n",
              " [1378, 32, 25],\n",
              " [25, 8786, 32],\n",
              " [32, 48, 8786],\n",
              " [8786, 6471, 48],\n",
              " [48, 33, 6471],\n",
              " [6471, 3245, 33],\n",
              " [33, 0, 3245],\n",
              " [3245, 27497, 0],\n",
              " [0, 28, 27497],\n",
              " [27497, 547, 28],\n",
              " [28, 43544, 547],\n",
              " [547, 39, 43544],\n",
              " [43544, 31, 39],\n",
              " [39, 125, 31],\n",
              " [31, 54504, 125],\n",
              " [125, 451, 54504],\n",
              " [54504, 78, 451],\n",
              " [451, 0, 78],\n",
              " [78, 66, 0],\n",
              " [0, 1, 66],\n",
              " [66, 0, 1],\n",
              " [1, 113, 0],\n",
              " [0, 486, 113],\n",
              " [113, 80, 486],\n",
              " [486, 2, 80],\n",
              " [80, 26, 2],\n",
              " [2, 254, 26],\n",
              " [26, 14, 254],\n",
              " [254, 45, 14],\n",
              " [14, 11, 45],\n",
              " [45, 26399, 11],\n",
              " [11, 1, 26399],\n",
              " [26399, 181, 1],\n",
              " [1, 5233, 181],\n",
              " [181, 4, 5233],\n",
              " [5233, 0, 4],\n",
              " [4, 181, 0],\n",
              " [0, 839, 181],\n",
              " [181, 0, 839],\n",
              " [839, 46, 0],\n",
              " [0, 6, 46],\n",
              " [46, 85, 6],\n",
              " [6, 0, 85],\n",
              " [85, 183, 0],\n",
              " [0, 6, 183],\n",
              " [183, 1015, 6],\n",
              " [6, 1043, 1015],\n",
              " [1015, 42, 1043],\n",
              " [1043, 68, 42],\n",
              " [42, 4864, 68],\n",
              " [68, 18, 4864],\n",
              " [4864, 936, 18],\n",
              " [18, 14931, 936],\n",
              " [936, 4572, 14931],\n",
              " [14931, 153, 4572],\n",
              " [4572, 4, 153],\n",
              " [153, 29, 4],\n",
              " [4, 41775, 29],\n",
              " [29, 11905, 41775],\n",
              " [41775, 23001, 11905],\n",
              " [11905, 267, 23001],\n",
              " [23001, 1225, 267],\n",
              " [267, 62258, 1225],\n",
              " [1225, 3, 62258],\n",
              " [62258, 21, 3],\n",
              " [3, 7, 21],\n",
              " [21, 15, 7],\n",
              " [7, 114, 15],\n",
              " [15, 35, 114],\n",
              " [114, 584, 35],\n",
              " [35, 0, 584],\n",
              " [584, 2663, 0],\n",
              " [0, 64, 2663],\n",
              " [2663, 398, 64],\n",
              " [64, 34, 398],\n",
              " [398, 49, 34],\n",
              " [34, 72, 49],\n",
              " [49, 97, 72],\n",
              " [72, 619, 97],\n",
              " [97, 14883, 619],\n",
              " [619, 4050, 14883],\n",
              " [14883, 28, 4050],\n",
              " [4050, 818, 28],\n",
              " [28, 917, 818],\n",
              " [818, 11, 917],\n",
              " [917, 117, 11],\n",
              " [11, 4, 117],\n",
              " [117, 11066, 4],\n",
              " [4, 2537, 11066],\n",
              " [11066, 327, 2537],\n",
              " [2537, 5, 327],\n",
              " [327, 6061, 5],\n",
              " [5, 2, 6061],\n",
              " [6061, 688, 2],\n",
              " [2, 4, 688],\n",
              " [688, 0, 4],\n",
              " [4, 64, 0],\n",
              " [0, 731, 64],\n",
              " [64, 451, 731],\n",
              " [731, 40, 451],\n",
              " [451, 4223, 40],\n",
              " [40, 1290, 4223],\n",
              " [4223, 19, 1290],\n",
              " [1290, 35, 19],\n",
              " [19, 10, 35],\n",
              " [35, 31, 10],\n",
              " [10, 4780, 31],\n",
              " [31, 2, 4780],\n",
              " [4780, 83, 2],\n",
              " [2, 26, 83],\n",
              " [83, 54, 26],\n",
              " [26, 29, 54],\n",
              " [54, 5214, 29],\n",
              " [29, 4, 5214],\n",
              " [5214, 3, 4],\n",
              " [4, 21, 3],\n",
              " [3, 8, 21],\n",
              " [21, 15, 8],\n",
              " [8, 4, 15],\n",
              " [15, 0, 4],\n",
              " [4, 5361, 0],\n",
              " [0, 1, 5361],\n",
              " [5361, 0, 1],\n",
              " [1, 124, 0],\n",
              " [0, 854, 124],\n",
              " [124, 463, 854],\n",
              " [854, 12326, 463],\n",
              " [463, 351, 12326],\n",
              " [12326, 31, 351],\n",
              " [351, 17274, 31],\n",
              " [31, 2434, 17274],\n",
              " [17274, 208, 2434],\n",
              " [2434, 1293, 208],\n",
              " [208, 139, 1293],\n",
              " [1293, 12326, 139],\n",
              " [139, 214, 12326],\n",
              " [12326, 36, 214],\n",
              " [214, 85, 36],\n",
              " [36, 0, 85],\n",
              " [85, 251, 0],\n",
              " [0, 5233, 251],\n",
              " [251, 51, 5233],\n",
              " [5233, 111, 51],\n",
              " [51, 7089, 111],\n",
              " [111, 38, 7089],\n",
              " [7089, 1206, 38],\n",
              " [38, 32, 1206],\n",
              " [1206, 211, 32],\n",
              " [32, 11, 211],\n",
              " [211, 0, 11],\n",
              " [11, 46, 0],\n",
              " [0, 161, 46],\n",
              " [46, 4780, 161],\n",
              " [161, 569, 4780],\n",
              " [4780, 2, 569],\n",
              " [569, 12326, 2],\n",
              " [2, 11, 12326],\n",
              " [12326, 0, 11],\n",
              " [11, 1834, 0],\n",
              " [0, 1, 1834],\n",
              " [1834, 1915, 1],\n",
              " [1, 5233, 1915],\n",
              " [1915, 41, 5233],\n",
              " [5233, 33, 41],\n",
              " [41, 32, 33],\n",
              " [33, 222, 32],\n",
              " [32, 72, 222],\n",
              " [222, 4780, 72],\n",
              " [72, 451, 4780],\n",
              " [4780, 729, 451],\n",
              " [451, 2402, 729],\n",
              " [729, 2, 2402],\n",
              " [2402, 0, 2],\n",
              " [2, 183, 0],\n",
              " [0, 18, 183],\n",
              " [183, 76, 18],\n",
              " [18, 1073, 76],\n",
              " [76, 11, 1073],\n",
              " [1073, 31, 11],\n",
              " [11, 14088, 31],\n",
              " [31, 30456, 14088],\n",
              " [14088, 14, 30456],\n",
              " [30456, 0, 14],\n",
              " [14, 12068, 0],\n",
              " [0, 59991, 12068],\n",
              " [12068, 33, 59991],\n",
              " [59991, 50, 33],\n",
              " [33, 2422, 50],\n",
              " [50, 594, 2422],\n",
              " [2422, 4, 594],\n",
              " [594, 0, 4],\n",
              " [4, 124, 0],\n",
              " [0, 854, 124],\n",
              " [124, 0, 854],\n",
              " [854, 46, 0],\n",
              " [0, 487, 46],\n",
              " [46, 8739, 487],\n",
              " [487, 4780, 8739],\n",
              " [8739, 2937, 4780],\n",
              " [4780, 1033, 2937],\n",
              " [2937, 14583, 1033],\n",
              " [1033, 27, 14583],\n",
              " [14583, 10, 27],\n",
              " [27, 661, 10],\n",
              " [10, 329, 661],\n",
              " [661, 19, 329],\n",
              " [329, 27, 19],\n",
              " [19, 5400, 27],\n",
              " [27, 165, 5400],\n",
              " [5400, 158, 165],\n",
              " [165, 2937, 158],\n",
              " [158, 1033, 2937],\n",
              " [2937, 14583, 1033],\n",
              " [1033, 351, 14583],\n",
              " [14583, 204, 351],\n",
              " [351, 10, 204],\n",
              " [204, 917, 10],\n",
              " [10, 4, 917],\n",
              " [917, 3, 4],\n",
              " [4, 12, 3],\n",
              " [3, 20, 12],\n",
              " [12, 7, 20],\n",
              " [20, 19, 7],\n",
              " [7, 0, 19],\n",
              " [19, 183, 0],\n",
              " [0, 4780, 183],\n",
              " [183, 18, 4780],\n",
              " [4780, 989, 18],\n",
              " [18, 11, 989],\n",
              " [989, 5, 11],\n",
              " [11, 487, 5],\n",
              " [5, 1607, 487],\n",
              " [487, 27, 1607],\n",
              " [1607, 10, 27],\n",
              " [27, 13, 10],\n",
              " [10, 32, 13],\n",
              " [13, 890, 32],\n",
              " [32, 19, 890],\n",
              " [890, 45, 19],\n",
              " [19, 848, 45],\n",
              " [45, 14583, 848],\n",
              " [848, 11, 14583],\n",
              " [14583, 0, 11],\n",
              " [11, 1834, 0],\n",
              " [0, 1, 1834],\n",
              " [1834, 181, 1],\n",
              " [1, 4780, 181],\n",
              " [181, 195, 4780],\n",
              " [4780, 4, 195],\n",
              " [195, 204, 4],\n",
              " [4, 10, 204],\n",
              " [204, 917, 10],\n",
              " [10, 14583, 917],\n",
              " [917, 5463, 14583],\n",
              " [14583, 24, 5463],\n",
              " [5463, 0, 24],\n",
              " [24, 373, 0],\n",
              " [0, 12953, 373],\n",
              " [373, 917, 12953],\n",
              " [12953, 10, 917],\n",
              " [917, 6904, 10],\n",
              " [10, 4, 6904],\n",
              " [6904, 32, 4],\n",
              " [4, 142, 32],\n",
              " [32, 35, 142],\n",
              " [142, 1346, 35],\n",
              " [35, 0, 1346],\n",
              " [1346, 2879, 0],\n",
              " [0, 1, 2879],\n",
              " [2879, 15099, 1],\n",
              " [1, 917, 15099],\n",
              " [15099, 165, 917],\n",
              " [917, 114, 165],\n",
              " [165, 3468, 114],\n",
              " [114, 38, 3468],\n",
              " [3468, 683, 38],\n",
              " [38, 440, 683],\n",
              " [683, 6, 440],\n",
              " [440, 85, 6],\n",
              " [6, 2, 85],\n",
              " [85, 3133, 2],\n",
              " [2, 44, 3133],\n",
              " [3133, 917, 44],\n",
              " [44, 11, 917],\n",
              " [917, 48, 11],\n",
              " [11, 3597, 48],\n",
              " [48, 52, 3597],\n",
              " [3597, 11, 52],\n",
              " [52, 15399, 11],\n",
              " [11, 1555, 15399],\n",
              " [15399, 13, 1555],\n",
              " [1555, 2967, 13],\n",
              " [13, 4, 2967],\n",
              " [2967, 43, 4],\n",
              " [4, 250, 43],\n",
              " [43, 14583, 250],\n",
              " [250, 1164, 14583],\n",
              " [14583, 204, 1164],\n",
              " [1164, 35, 204],\n",
              " [204, 93, 35],\n",
              " [35, 3226, 93],\n",
              " [93, 1131, 3226],\n",
              " [3226, 47, 1131],\n",
              " [1131, 38, 47],\n",
              " [47, 751, 38],\n",
              " [38, 440, 751],\n",
              " [751, 6, 440],\n",
              " [440, 85, 6],\n",
              " [6, 1049, 85],\n",
              " [85, 530, 1049],\n",
              " [1049, 2, 530],\n",
              " [530, 1791, 2],\n",
              " [2, 4, 1791],\n",
              " [1791, 5805, 4],\n",
              " [4, 24, 5805],\n",
              " [5805, 1556, 24],\n",
              " [24, 1, 1556],\n",
              " [1556, 5128, 1],\n",
              " [1, 2, 5128],\n",
              " [5128, 1293, 2],\n",
              " [2, 14583, 1293],\n",
              " [1293, 16, 14583],\n",
              " [14583, 2657, 16],\n",
              " [16, 1, 2657],\n",
              " [2657, 11066, 1],\n",
              " [1, 34, 11066],\n",
              " [11066, 35, 34],\n",
              " [34, 93, 35],\n",
              " [35, 29824, 93],\n",
              " [93, 966, 29824],\n",
              " [29824, 31, 966],\n",
              " [966, 1334, 31],\n",
              " [31, 549, 1334],\n",
              " [1334, 114, 549],\n",
              " [549, 1131, 114],\n",
              " [114, 2, 1131],\n",
              " [1131, 343, 2],\n",
              " [2, 160, 343],\n",
              " [343, 537, 160],\n",
              " [160, 0, 537],\n",
              " [537, 807, 0],\n",
              " [0, 1, 807],\n",
              " [807, 44, 1],\n",
              " [1, 1258, 44],\n",
              " [44, 205, 1258],\n",
              " [1258, 1258, 205],\n",
              " [205, 1037, 1258],\n",
              " [1258, 34, 1037],\n",
              " [1037, 1391, 34],\n",
              " [34, 0, 1391],\n",
              " [1391, 908, 0],\n",
              " [0, 1, 908],\n",
              " [908, 741, 1],\n",
              " [1, 66, 741],\n",
              " [741, 966, 66],\n",
              " [66, 4, 966],\n",
              " [966, 492, 4],\n",
              " [4, 32, 492],\n",
              " [492, 74, 32],\n",
              " [32, 2915, 74],\n",
              " [74, 19, 2915],\n",
              " [2915, 72, 19],\n",
              " [19, 3, 72],\n",
              " [72, 74, 3],\n",
              " [3, 2967, 74],\n",
              " [74, 25, 2967],\n",
              " [2967, 0, 25],\n",
              " [25, 1258, 0],\n",
              " [0, 1, 1258],\n",
              " [1258, 288, 1],\n",
              " [1, 1555, 288],\n",
              " [288, 160, 1555],\n",
              " [1555, 4324, 160],\n",
              " [160, 2520, 4324],\n",
              " [4324, 422, 2520],\n",
              " [2520, 4, 422],\n",
              " [422, 720, 4],\n",
              " [4, 10692, 720],\n",
              " [720, 18963, 10692],\n",
              " [10692, 31, 18963],\n",
              " [18963, 762, 31],\n",
              " [31, 232, 762],\n",
              " [762, 986, 232],\n",
              " [232, 74, 986],\n",
              " [986, 30, 74],\n",
              " [74, 184, 30],\n",
              " [30, 109, 184],\n",
              " [184, 6, 109],\n",
              " [109, 740, 6],\n",
              " [6, 3272, 740],\n",
              " [740, 24, 3272],\n",
              " [3272, 912, 24],\n",
              " [24, 6, 912],\n",
              " [912, 0, 6],\n",
              " [6, 327, 0],\n",
              " [0, 1, 327],\n",
              " [327, 492, 1],\n",
              " [1, 14583, 492],\n",
              " [492, 16, 14583],\n",
              " [14583, 948, 16],\n",
              " [16, 39, 948],\n",
              " [948, 2025, 39],\n",
              " [39, 207, 2025],\n",
              " [2025, 124, 207],\n",
              " [207, 741, 124],\n",
              " [124, 523, 741],\n",
              " [741, 1818, 523],\n",
              " [523, 2, 1818],\n",
              " [1818, 29, 2],\n",
              " [2, 2985, 29],\n",
              " [29, 39, 2985],\n",
              " [2985, 1021, 39],\n",
              " [39, 4, 1021],\n",
              " [1021, 0, 4],\n",
              " [4, 854, 0],\n",
              " [0, 1, 854],\n",
              " [854, 3, 1],\n",
              " [1, 12, 3],\n",
              " [3, 20, 12],\n",
              " [12, 12, 20],\n",
              " [20, 4, 12],\n",
              " [12, 279, 4],\n",
              " [4, 14583, 279],\n",
              " [279, 16, 14583],\n",
              " [14583, 667, 16],\n",
              " [16, 1, 667],\n",
              " [667, 917, 1],\n",
              " [1, 10, 917],\n",
              " [917, 600, 10],\n",
              " [10, 27, 600],\n",
              " [600, 18, 27],\n",
              " [27, 338, 18],\n",
              " [18, 4, 338],\n",
              " [338, 5, 4],\n",
              " [4, 116, 5],\n",
              " [5, 1, 116],\n",
              " [116, 295, 1],\n",
              " [1, 79, 295],\n",
              " [295, 29, 79],\n",
              " [79, 3573, 29],\n",
              " [29, 2, 3573],\n",
              " [3573, 60, 2],\n",
              " [2, 26, 60],\n",
              " [60, 6440, 26],\n",
              " [26, 4190, 6440],\n",
              " [6440, 1, 4190],\n",
              " [4190, 45, 1],\n",
              " [1, 1, 45],\n",
              " [45, 29, 1],\n",
              " [1, 948, 29],\n",
              " [29, 13, 948],\n",
              " [948, 50, 13],\n",
              " [13, 2159, 50],\n",
              " [50, 1589, 2159],\n",
              " [2159, 63, 1589],\n",
              " [1589, 673, 63],\n",
              " [63, 2752, 673],\n",
              " [673, 26669, 2752],\n",
              " [2752, 16, 26669],\n",
              " [26669, 15683, 16],\n",
              " [16, 4, 15683],\n",
              " [15683, 29, 4],\n",
              " [4, 0, 29],\n",
              " [29, 10479, 0],\n",
              " [0, 2, 10479],\n",
              " [10479, 43, 2],\n",
              " [2, 171, 43],\n",
              " [43, 26669, 171],\n",
              " [171, 1460, 26669],\n",
              " [26669, 19, 1460],\n",
              " [1460, 53, 19],\n",
              " [19, 661, 53],\n",
              " [53, 1045, 661],\n",
              " [661, 339, 1045],\n",
              " [1045, 1775, 339],\n",
              " [339, 115, 1775],\n",
              " [1775, 0, 115],\n",
              " [115, 2583, 0],\n",
              " [0, 1, 2583],\n",
              " [2583, 97, 1],\n",
              " [1, 917, 97],\n",
              " [97, 11, 917],\n",
              " [917, 5, 11],\n",
              " [11, 282, 5],\n",
              " [5, 375, 282],\n",
              " [282, 440, 375],\n",
              " [375, 4, 440],\n",
              " [440, 138, 4],\n",
              " [4, 2, 138],\n",
              " [138, 0, 2],\n",
              " [2, 141, 0],\n",
              " [0, 2583, 141],\n",
              " [141, 1, 2583],\n",
              " [2583, 398, 1],\n",
              " [1, 39, 398],\n",
              " [398, 4589, 39],\n",
              " [39, 20968, 4589],\n",
              " [4589, 28, 20968],\n",
              " [20968, 9233, 28],\n",
              " [28, 4, 9233],\n",
              " [9233, 0, 4],\n",
              " [4, 940, 0],\n",
              " [0, 1976, 940],\n",
              " [940, 1, 1976],\n",
              " [1976, 398, 1],\n",
              " [1, 19, 398],\n",
              " [398, 0, 19],\n",
              " [19, 1131, 0],\n",
              " [0, 26, 1131],\n",
              " [1131, 43, 26],\n",
              " [26, 1728, 43],\n",
              " [43, 35, 1728],\n",
              " [1728, 5212, 35],\n",
              " [35, 15683, 5212],\n",
              " [5212, 2, 15683],\n",
              " [15683, 5, 2],\n",
              " [2, 137, 5],\n",
              " [5, 1, 137],\n",
              " [137, 4, 1],\n",
              " [1, 34, 4],\n",
              " [4, 1131, 34],\n",
              " [34, 74, 1131],\n",
              " [1131, 9767, 74],\n",
              " [74, 4, 9767],\n",
              " [9767, 5827, 4],\n",
              " [4, 1, 5827],\n",
              " [5827, 51081, 1],\n",
              " [1, 65, 51081],\n",
              " [51081, 62, 65],\n",
              " [65, 27, 62],\n",
              " [62, 18, 27],\n",
              " [27, 4, 18],\n",
              " [18, 44, 4],\n",
              " [4, 487, 44],\n",
              " [44, 762, 487],\n",
              " [487, 6, 762],\n",
              " [762, 162, 6],\n",
              " [6, 83, 162],\n",
              " [162, 13, 83],\n",
              " [83, 131, 13],\n",
              " [13, 917, 131],\n",
              " [131, 703, 917],\n",
              " [917, 1145, 703],\n",
              " [703, 89, 1145],\n",
              " [1145, 130, 89],\n",
              " [89, 514, 130],\n",
              " [130, 13140, 514],\n",
              " [514, 5573, 13140],\n",
              " [13140, 350, 5573],\n",
              " [5573, 6, 350],\n",
              " [350, 369, 6],\n",
              " [6, 6, 369],\n",
              " [369, 4109, 6],\n",
              " [6, 0, 4109],\n",
              " [4109, 1798, 0],\n",
              " [0, 6, 1798],\n",
              " [1798, 131, 6],\n",
              " [6, 5464, 131],\n",
              " [131, 917, 5464],\n",
              " [5464, 2, 917],\n",
              " [917, 204, 2],\n",
              " [2, 70, 204],\n",
              " [204, 38, 70],\n",
              " [70, 4, 38],\n",
              " [38, 620, 4],\n",
              " [4, 176, 620],\n",
              " [620, 19, 176],\n",
              " [176, 10, 19],\n",
              " [19, 620, 10],\n",
              " [10, 171, 620],\n",
              " [620, 83, 171],\n",
              " [171, 206, 83],\n",
              " [83, 11, 206],\n",
              " [206, 70, 11],\n",
              " [11, 6188, 70],\n",
              " [70, 9065, 6188],\n",
              " [6188, 11, 9065],\n",
              " [9065, 7192, 11],\n",
              " [11, 70, 7192],\n",
              " [7192, 1225, 70],\n",
              " [70, 0, 1225],\n",
              " [1225, 34607, 0],\n",
              " [0, 1, 34607],\n",
              " [34607, 0, 1],\n",
              " [1, 1798, 0],\n",
              " [0, 26669, 1798],\n",
              " [1798, 335, 26669],\n",
              " [26669, 93, 335],\n",
              " [335, 417, 93],\n",
              " [93, 31, 417],\n",
              " [417, 4780, 31],\n",
              " [31, 35, 4780],\n",
              " [4780, 1045, 35],\n",
              " [35, 65, 1045],\n",
              " [1045, 0, 65],\n",
              " [65, 2760, 0],\n",
              " [0, 43032, 2760],\n",
              " [2760, 2069, 43032],\n",
              " [43032, 29, 2069],\n",
              " [2069, 948, 29],\n",
              " [29, 39, 948],\n",
              " [948, 2025, 39],\n",
              " [39, 23, 2025],\n",
              " [2025, 51, 23],\n",
              " [23, 9961, 51],\n",
              " [51, 7089, 9961],\n",
              " [9961, 139, 7089],\n",
              " [7089, 4190, 139],\n",
              " [139, 1, 4190],\n",
              " [4190, 29, 1],\n",
              " [1, 526, 29],\n",
              " [29, 26, 526],\n",
              " [526, 3236, 26],\n",
              " [26, 64, 3236],\n",
              " [3236, 10304, 64],\n",
              " [64, 5233, 10304],\n",
              " [10304, 3244, 5233],\n",
              " [5233, 9653, 3244],\n",
              " [3244, 4, 9653],\n",
              " [9653, 3, 4],\n",
              " [4, 12, 3],\n",
              " [3, 9, 12],\n",
              " ...]"
            ]
          },
          "metadata": {},
          "execution_count": 35
        }
      ]
    },
    {
      "cell_type": "code",
      "execution_count": 36,
      "id": "8412ee4d",
      "metadata": {
        "id": "8412ee4d"
      },
      "outputs": [],
      "source": [
        "pickle.dump(train_x_list, open('train_x_list.pkl', 'wb'))"
      ]
    },
    {
      "cell_type": "markdown",
      "source": [
        "HERE"
      ],
      "metadata": {
        "id": "4crq3gYB9Txb"
      },
      "id": "4crq3gYB9Txb"
    },
    {
      "cell_type": "code",
      "execution_count": 5,
      "id": "3fd54caf",
      "metadata": {
        "id": "3fd54caf"
      },
      "outputs": [],
      "source": [
        "train_x_list = pickle.load(open('/content/drive/MyDrive/train_x_list.pkl', 'rb'))"
      ]
    },
    {
      "cell_type": "code",
      "source": [
        "train_x_list"
      ],
      "metadata": {
        "colab": {
          "base_uri": "https://localhost:8080/",
          "height": 0
        },
        "id": "ThDx6fvl_4kk",
        "outputId": "679554c9-7ac6-4d79-c19c-2ca3b9abddfb"
      },
      "id": "ThDx6fvl_4kk",
      "execution_count": 6,
      "outputs": [
        {
          "output_type": "execute_result",
          "data": {
            "text/plain": [
              "[[5233, 11, 3083],\n",
              " [3083, 5, 11],\n",
              " [11, 183, 5],\n",
              " [5, 1, 183],\n",
              " [183, 3133, 1],\n",
              " [1, 46, 3133],\n",
              " [3133, 56, 46],\n",
              " [46, 163, 56],\n",
              " [56, 125, 163],\n",
              " [163, 741, 125],\n",
              " [125, 523, 741],\n",
              " [741, 10619, 523],\n",
              " [523, 115, 10619],\n",
              " [10619, 0, 115],\n",
              " [115, 27497, 0],\n",
              " [0, 1, 27497],\n",
              " [27497, 0, 1],\n",
              " [1, 113, 0],\n",
              " [0, 854, 113],\n",
              " [113, 2, 854],\n",
              " [854, 0, 2],\n",
              " [2, 15177, 0],\n",
              " [0, 59203, 15177],\n",
              " [15177, 1, 59203],\n",
              " [59203, 0, 1],\n",
              " [1, 124, 0],\n",
              " [0, 854, 124],\n",
              " [124, 3583, 854],\n",
              " [854, 0, 3583],\n",
              " [3583, 183, 0],\n",
              " [0, 10, 183],\n",
              " [183, 180, 10],\n",
              " [10, 56, 180],\n",
              " [180, 4, 56],\n",
              " [56, 5, 4],\n",
              " [4, 10751, 5],\n",
              " [5, 218, 10751],\n",
              " [10751, 6, 218],\n",
              " [218, 1324, 6],\n",
              " [6, 101, 1324],\n",
              " [1324, 457, 101],\n",
              " [101, 19, 457],\n",
              " [457, 56, 19],\n",
              " [19, 2733, 56],\n",
              " [56, 327, 2733],\n",
              " [2733, 6, 327],\n",
              " [327, 3673, 6],\n",
              " [6, 0, 3673],\n",
              " [3673, 708, 0],\n",
              " [0, 1, 708],\n",
              " [708, 398, 1],\n",
              " [1, 27, 398],\n",
              " [398, 40, 27],\n",
              " [27, 37, 40],\n",
              " [40, 57, 37],\n",
              " [37, 554, 57],\n",
              " [57, 109, 554],\n",
              " [554, 11, 109],\n",
              " [109, 5, 11],\n",
              " [11, 1425, 5],\n",
              " [5, 2760, 1425],\n",
              " [1425, 14, 2760],\n",
              " [2760, 487, 14],\n",
              " [14, 651, 487],\n",
              " [487, 7089, 651],\n",
              " [651, 0, 7089],\n",
              " [7089, 251, 0],\n",
              " [0, 5233, 251],\n",
              " [251, 10, 5233],\n",
              " [5233, 1052, 10],\n",
              " [10, 25, 1052],\n",
              " [1052, 0, 25],\n",
              " [25, 337, 0],\n",
              " [0, 247, 337],\n",
              " [337, 44740, 247],\n",
              " [247, 2880, 44740],\n",
              " [44740, 792, 2880],\n",
              " [2880, 147, 792],\n",
              " [792, 5233, 147],\n",
              " [147, 11, 5233],\n",
              " [5233, 5, 11],\n",
              " [11, 208, 5],\n",
              " [5, 667, 208],\n",
              " [208, 10, 667],\n",
              " [667, 0, 10],\n",
              " [10, 1134, 0],\n",
              " [0, 19, 1134],\n",
              " [1134, 2622, 19],\n",
              " [19, 26, 2622],\n",
              " [2622, 9031, 26],\n",
              " [26, 2, 9031],\n",
              " [9031, 342, 2],\n",
              " [2, 30, 342],\n",
              " [342, 4147, 30],\n",
              " [30, 139, 4147],\n",
              " [4147, 60, 139],\n",
              " [139, 26, 60],\n",
              " [60, 6440, 26],\n",
              " [26, 4190, 6440],\n",
              " [6440, 1, 4190],\n",
              " [4190, 204, 1],\n",
              " [1, 32, 204],\n",
              " [204, 327, 32],\n",
              " [32, 5233, 327],\n",
              " [327, 37, 5233],\n",
              " [5233, 1137, 37],\n",
              " [37, 6, 1137],\n",
              " [1137, 432, 6],\n",
              " [6, 339, 432],\n",
              " [432, 1818, 339],\n",
              " [339, 19, 1818],\n",
              " [1818, 4860, 19],\n",
              " [19, 0, 4860],\n",
              " [4860, 6765, 0],\n",
              " [0, 1, 6765],\n",
              " [6765, 7575, 1],\n",
              " [1, 1775, 7575],\n",
              " [7575, 605, 1775],\n",
              " [1775, 0, 605],\n",
              " [605, 97, 0],\n",
              " [0, 0, 97],\n",
              " [97, 251, 0],\n",
              " [0, 11066, 251],\n",
              " [251, 11, 11066],\n",
              " [11066, 53, 11],\n",
              " [11, 7089, 53],\n",
              " [53, 85, 7089],\n",
              " [7089, 27, 85],\n",
              " [85, 265, 27],\n",
              " [27, 36, 265],\n",
              " [265, 5958, 36],\n",
              " [36, 4864, 5958],\n",
              " [5958, 20463, 4864],\n",
              " [4864, 28, 20463],\n",
              " [20463, 53895, 28],\n",
              " [28, 41, 53895],\n",
              " [53895, 333, 41],\n",
              " [41, 5, 333],\n",
              " [333, 25871, 5],\n",
              " [5, 583, 25871],\n",
              " [25871, 7575, 583],\n",
              " [583, 398, 7575],\n",
              " [7575, 4, 398],\n",
              " [398, 250, 4],\n",
              " [4, 1, 250],\n",
              " [250, 204, 1],\n",
              " [1, 26, 204],\n",
              " [204, 1206, 26],\n",
              " [26, 11, 1206],\n",
              " [1206, 7575, 11],\n",
              " [11, 208, 7575],\n",
              " [7575, 1580, 208],\n",
              " [208, 2, 1580],\n",
              " [1580, 15224, 2],\n",
              " [2, 325, 15224],\n",
              " [15224, 1775, 325],\n",
              " [325, 7089, 1775],\n",
              " [1775, 4860, 7089],\n",
              " [7089, 339, 4860],\n",
              " [4860, 764, 339],\n",
              " [339, 191, 764],\n",
              " [764, 444, 191],\n",
              " [191, 5708, 444],\n",
              " [444, 755, 5708],\n",
              " [5708, 1, 755],\n",
              " [755, 4105, 1],\n",
              " [1, 1131, 4105],\n",
              " [4105, 4340, 1131],\n",
              " [1131, 1536, 4340],\n",
              " [4340, 2, 1536],\n",
              " [1536, 487, 2],\n",
              " [2, 8126, 487],\n",
              " [487, 94, 8126],\n",
              " [8126, 5233, 94],\n",
              " [94, 10, 5233],\n",
              " [5233, 53, 10],\n",
              " [10, 1408, 53],\n",
              " [53, 651, 1408],\n",
              " [1408, 14, 651],\n",
              " [651, 204, 14],\n",
              " [14, 27, 204],\n",
              " [204, 10, 27],\n",
              " [27, 163, 10],\n",
              " [10, 7089, 163],\n",
              " [163, 37, 7089],\n",
              " [7089, 2033, 37],\n",
              " [37, 1425, 2033],\n",
              " [2033, 8198, 1425],\n",
              " [1425, 1, 8198],\n",
              " [8198, 204, 1],\n",
              " [1, 48, 204],\n",
              " [204, 676, 48],\n",
              " [48, 6, 676],\n",
              " [676, 30, 6],\n",
              " [6, 5, 30],\n",
              " [30, 4159, 5],\n",
              " [5, 232, 4159],\n",
              " [4159, 398, 232],\n",
              " [232, 75, 398],\n",
              " [398, 948, 75],\n",
              " [75, 89, 948],\n",
              " [948, 350, 89],\n",
              " [89, 31, 350],\n",
              " [350, 4780, 31],\n",
              " [31, 398, 4780],\n",
              " [4780, 514, 398],\n",
              " [398, 142, 514],\n",
              " [514, 2314, 142],\n",
              " [142, 3554, 2314],\n",
              " [2314, 378, 3554],\n",
              " [3554, 24, 378],\n",
              " [378, 1822, 24],\n",
              " [24, 6, 1822],\n",
              " [1822, 1902, 6],\n",
              " [6, 60, 1902],\n",
              " [1902, 10, 60],\n",
              " [60, 37, 10],\n",
              " [10, 8411, 37],\n",
              " [37, 89, 8411],\n",
              " [8411, 350, 89],\n",
              " [89, 5, 350],\n",
              " [350, 232, 5],\n",
              " [5, 398, 232],\n",
              " [232, 514, 398],\n",
              " [398, 30, 514],\n",
              " [514, 753, 30],\n",
              " [30, 89, 753],\n",
              " [753, 1737, 89],\n",
              " [89, 2, 1737],\n",
              " [1737, 8080, 2],\n",
              " [2, 24411, 8080],\n",
              " [8080, 2, 24411],\n",
              " [24411, 288, 2],\n",
              " [2, 1693, 288],\n",
              " [288, 19, 1693],\n",
              " [1693, 145, 19],\n",
              " [19, 1034, 145],\n",
              " [145, 92, 1034],\n",
              " [1034, 213, 92],\n",
              " [92, 398, 213],\n",
              " [213, 18, 398],\n",
              " [398, 1815, 18],\n",
              " [18, 23, 1815],\n",
              " [1815, 4780, 23],\n",
              " [23, 1556, 4780],\n",
              " [4780, 53, 1556],\n",
              " [1556, 8118, 53],\n",
              " [53, 1467, 8118],\n",
              " [8118, 24411, 1467],\n",
              " [1467, 2, 24411],\n",
              " [24411, 12778, 2],\n",
              " [2, 4, 12778],\n",
              " [12778, 6130, 4],\n",
              " [4, 19, 6130],\n",
              " [6130, 4187, 19],\n",
              " [19, 21267, 4187],\n",
              " [4187, 2427, 21267],\n",
              " [21267, 39, 2427],\n",
              " [2427, 16505, 39],\n",
              " [39, 2, 16505],\n",
              " [16505, 7249, 2],\n",
              " [2, 861, 7249],\n",
              " [7249, 1, 861],\n",
              " [861, 1193, 1],\n",
              " [1, 10207, 1193],\n",
              " [1193, 2515, 10207],\n",
              " [10207, 28, 2515],\n",
              " [2515, 15099, 28],\n",
              " [28, 157, 15099],\n",
              " [15099, 2, 157],\n",
              " [157, 49, 2],\n",
              " [2, 1123, 49],\n",
              " [49, 912, 1123],\n",
              " [1123, 6, 912],\n",
              " [912, 1049, 6],\n",
              " [6, 463, 1049],\n",
              " [1049, 12326, 463],\n",
              " [463, 7089, 12326],\n",
              " [12326, 115, 7089],\n",
              " [7089, 0, 115],\n",
              " [115, 0, 0],\n",
              " [0, 11066, 0],\n",
              " [0, 3059, 11066],\n",
              " [11066, 2, 3059],\n",
              " [3059, 12121, 2],\n",
              " [2, 721, 12121],\n",
              " [12121, 4780, 721],\n",
              " [721, 6598, 4780],\n",
              " [4780, 4, 6598],\n",
              " [6598, 14758, 4],\n",
              " [4, 25, 14758],\n",
              " [14758, 491, 25],\n",
              " [25, 517, 491],\n",
              " [491, 24411, 517],\n",
              " [517, 210, 24411],\n",
              " [24411, 300, 210],\n",
              " [210, 948, 300],\n",
              " [300, 4, 948],\n",
              " [948, 20257, 4],\n",
              " [4, 20563, 20257],\n",
              " [20257, 1, 20563],\n",
              " [20563, 54443, 1],\n",
              " [1, 238, 54443],\n",
              " [54443, 6, 238],\n",
              " [238, 24411, 6],\n",
              " [6, 20563, 24411],\n",
              " [24411, 16596, 20563],\n",
              " [20563, 0, 16596],\n",
              " [16596, 30655, 0],\n",
              " [0, 1, 30655],\n",
              " [30655, 0, 1],\n",
              " [1, 97, 0],\n",
              " [0, 43, 97],\n",
              " [97, 3834, 43],\n",
              " [43, 2, 3834],\n",
              " [3834, 56968, 2],\n",
              " [2, 2, 56968],\n",
              " [56968, 3815, 2],\n",
              " [2, 0, 3815],\n",
              " [3815, 3417, 0],\n",
              " [0, 1, 3417],\n",
              " [3417, 0, 1],\n",
              " [1, 1781, 0],\n",
              " [0, 157, 1781],\n",
              " [1781, 1, 157],\n",
              " [157, 0, 1],\n",
              " [1, 579, 0],\n",
              " [0, 0, 579],\n",
              " [579, 13146, 0],\n",
              " [0, 1, 13146],\n",
              " [13146, 3, 1],\n",
              " [1, 22, 3],\n",
              " [3, 90, 22],\n",
              " [22, 123, 90],\n",
              " [90, 289, 123],\n",
              " [123, 26, 289],\n",
              " [289, 240, 26],\n",
              " [26, 254, 240],\n",
              " [240, 6, 254],\n",
              " [254, 30, 6],\n",
              " [6, 399, 30],\n",
              " [30, 26399, 399],\n",
              " [399, 1, 26399],\n",
              " [26399, 181, 1],\n",
              " [1, 5233, 181],\n",
              " [181, 7705, 5233],\n",
              " [5233, 2537, 7705],\n",
              " [7705, 4, 2537],\n",
              " [2537, 29, 4],\n",
              " [4, 92, 29],\n",
              " [29, 1, 92],\n",
              " [92, 318, 1],\n",
              " [1, 667, 318],\n",
              " [318, 4318, 667],\n",
              " [667, 19, 4318],\n",
              " [4318, 0, 19],\n",
              " [19, 13146, 0],\n",
              " [0, 16596, 13146],\n",
              " [13146, 54, 16596],\n",
              " [16596, 157, 54],\n",
              " [54, 132, 157],\n",
              " [157, 48, 132],\n",
              " [132, 329, 48],\n",
              " [48, 19, 329],\n",
              " [329, 0, 19],\n",
              " [19, 393, 0],\n",
              " [0, 268, 393],\n",
              " [393, 82, 268],\n",
              " [268, 30, 82],\n",
              " [82, 5239, 30],\n",
              " [30, 33, 5239],\n",
              " [5239, 307, 33],\n",
              " [33, 2727, 307],\n",
              " [307, 14, 2727],\n",
              " [2727, 0, 14],\n",
              " [14, 838, 0],\n",
              " [0, 1378, 838],\n",
              " [838, 25, 1378],\n",
              " [1378, 32, 25],\n",
              " [25, 8786, 32],\n",
              " [32, 48, 8786],\n",
              " [8786, 6471, 48],\n",
              " [48, 33, 6471],\n",
              " [6471, 3245, 33],\n",
              " [33, 0, 3245],\n",
              " [3245, 27497, 0],\n",
              " [0, 28, 27497],\n",
              " [27497, 547, 28],\n",
              " [28, 43544, 547],\n",
              " [547, 39, 43544],\n",
              " [43544, 31, 39],\n",
              " [39, 125, 31],\n",
              " [31, 54504, 125],\n",
              " [125, 451, 54504],\n",
              " [54504, 78, 451],\n",
              " [451, 0, 78],\n",
              " [78, 66, 0],\n",
              " [0, 1, 66],\n",
              " [66, 0, 1],\n",
              " [1, 113, 0],\n",
              " [0, 486, 113],\n",
              " [113, 80, 486],\n",
              " [486, 2, 80],\n",
              " [80, 26, 2],\n",
              " [2, 254, 26],\n",
              " [26, 14, 254],\n",
              " [254, 45, 14],\n",
              " [14, 11, 45],\n",
              " [45, 26399, 11],\n",
              " [11, 1, 26399],\n",
              " [26399, 181, 1],\n",
              " [1, 5233, 181],\n",
              " [181, 4, 5233],\n",
              " [5233, 0, 4],\n",
              " [4, 181, 0],\n",
              " [0, 839, 181],\n",
              " [181, 0, 839],\n",
              " [839, 46, 0],\n",
              " [0, 6, 46],\n",
              " [46, 85, 6],\n",
              " [6, 0, 85],\n",
              " [85, 183, 0],\n",
              " [0, 6, 183],\n",
              " [183, 1015, 6],\n",
              " [6, 1043, 1015],\n",
              " [1015, 42, 1043],\n",
              " [1043, 68, 42],\n",
              " [42, 4864, 68],\n",
              " [68, 18, 4864],\n",
              " [4864, 936, 18],\n",
              " [18, 14931, 936],\n",
              " [936, 4572, 14931],\n",
              " [14931, 153, 4572],\n",
              " [4572, 4, 153],\n",
              " [153, 29, 4],\n",
              " [4, 41775, 29],\n",
              " [29, 11905, 41775],\n",
              " [41775, 23001, 11905],\n",
              " [11905, 267, 23001],\n",
              " [23001, 1225, 267],\n",
              " [267, 62258, 1225],\n",
              " [1225, 3, 62258],\n",
              " [62258, 21, 3],\n",
              " [3, 7, 21],\n",
              " [21, 15, 7],\n",
              " [7, 114, 15],\n",
              " [15, 35, 114],\n",
              " [114, 584, 35],\n",
              " [35, 0, 584],\n",
              " [584, 2663, 0],\n",
              " [0, 64, 2663],\n",
              " [2663, 398, 64],\n",
              " [64, 34, 398],\n",
              " [398, 49, 34],\n",
              " [34, 72, 49],\n",
              " [49, 97, 72],\n",
              " [72, 619, 97],\n",
              " [97, 14883, 619],\n",
              " [619, 4050, 14883],\n",
              " [14883, 28, 4050],\n",
              " [4050, 818, 28],\n",
              " [28, 917, 818],\n",
              " [818, 11, 917],\n",
              " [917, 117, 11],\n",
              " [11, 4, 117],\n",
              " [117, 11066, 4],\n",
              " [4, 2537, 11066],\n",
              " [11066, 327, 2537],\n",
              " [2537, 5, 327],\n",
              " [327, 6061, 5],\n",
              " [5, 2, 6061],\n",
              " [6061, 688, 2],\n",
              " [2, 4, 688],\n",
              " [688, 0, 4],\n",
              " [4, 64, 0],\n",
              " [0, 731, 64],\n",
              " [64, 451, 731],\n",
              " [731, 40, 451],\n",
              " [451, 4223, 40],\n",
              " [40, 1290, 4223],\n",
              " [4223, 19, 1290],\n",
              " [1290, 35, 19],\n",
              " [19, 10, 35],\n",
              " [35, 31, 10],\n",
              " [10, 4780, 31],\n",
              " [31, 2, 4780],\n",
              " [4780, 83, 2],\n",
              " [2, 26, 83],\n",
              " [83, 54, 26],\n",
              " [26, 29, 54],\n",
              " [54, 5214, 29],\n",
              " [29, 4, 5214],\n",
              " [5214, 3, 4],\n",
              " [4, 21, 3],\n",
              " [3, 8, 21],\n",
              " [21, 15, 8],\n",
              " [8, 4, 15],\n",
              " [15, 0, 4],\n",
              " [4, 5361, 0],\n",
              " [0, 1, 5361],\n",
              " [5361, 0, 1],\n",
              " [1, 124, 0],\n",
              " [0, 854, 124],\n",
              " [124, 463, 854],\n",
              " [854, 12326, 463],\n",
              " [463, 351, 12326],\n",
              " [12326, 31, 351],\n",
              " [351, 17274, 31],\n",
              " [31, 2434, 17274],\n",
              " [17274, 208, 2434],\n",
              " [2434, 1293, 208],\n",
              " [208, 139, 1293],\n",
              " [1293, 12326, 139],\n",
              " [139, 214, 12326],\n",
              " [12326, 36, 214],\n",
              " [214, 85, 36],\n",
              " [36, 0, 85],\n",
              " [85, 251, 0],\n",
              " [0, 5233, 251],\n",
              " [251, 51, 5233],\n",
              " [5233, 111, 51],\n",
              " [51, 7089, 111],\n",
              " [111, 38, 7089],\n",
              " [7089, 1206, 38],\n",
              " [38, 32, 1206],\n",
              " [1206, 211, 32],\n",
              " [32, 11, 211],\n",
              " [211, 0, 11],\n",
              " [11, 46, 0],\n",
              " [0, 161, 46],\n",
              " [46, 4780, 161],\n",
              " [161, 569, 4780],\n",
              " [4780, 2, 569],\n",
              " [569, 12326, 2],\n",
              " [2, 11, 12326],\n",
              " [12326, 0, 11],\n",
              " [11, 1834, 0],\n",
              " [0, 1, 1834],\n",
              " [1834, 1915, 1],\n",
              " [1, 5233, 1915],\n",
              " [1915, 41, 5233],\n",
              " [5233, 33, 41],\n",
              " [41, 32, 33],\n",
              " [33, 222, 32],\n",
              " [32, 72, 222],\n",
              " [222, 4780, 72],\n",
              " [72, 451, 4780],\n",
              " [4780, 729, 451],\n",
              " [451, 2402, 729],\n",
              " [729, 2, 2402],\n",
              " [2402, 0, 2],\n",
              " [2, 183, 0],\n",
              " [0, 18, 183],\n",
              " [183, 76, 18],\n",
              " [18, 1073, 76],\n",
              " [76, 11, 1073],\n",
              " [1073, 31, 11],\n",
              " [11, 14088, 31],\n",
              " [31, 30456, 14088],\n",
              " [14088, 14, 30456],\n",
              " [30456, 0, 14],\n",
              " [14, 12068, 0],\n",
              " [0, 59991, 12068],\n",
              " [12068, 33, 59991],\n",
              " [59991, 50, 33],\n",
              " [33, 2422, 50],\n",
              " [50, 594, 2422],\n",
              " [2422, 4, 594],\n",
              " [594, 0, 4],\n",
              " [4, 124, 0],\n",
              " [0, 854, 124],\n",
              " [124, 0, 854],\n",
              " [854, 46, 0],\n",
              " [0, 487, 46],\n",
              " [46, 8739, 487],\n",
              " [487, 4780, 8739],\n",
              " [8739, 2937, 4780],\n",
              " [4780, 1033, 2937],\n",
              " [2937, 14583, 1033],\n",
              " [1033, 27, 14583],\n",
              " [14583, 10, 27],\n",
              " [27, 661, 10],\n",
              " [10, 329, 661],\n",
              " [661, 19, 329],\n",
              " [329, 27, 19],\n",
              " [19, 5400, 27],\n",
              " [27, 165, 5400],\n",
              " [5400, 158, 165],\n",
              " [165, 2937, 158],\n",
              " [158, 1033, 2937],\n",
              " [2937, 14583, 1033],\n",
              " [1033, 351, 14583],\n",
              " [14583, 204, 351],\n",
              " [351, 10, 204],\n",
              " [204, 917, 10],\n",
              " [10, 4, 917],\n",
              " [917, 3, 4],\n",
              " [4, 12, 3],\n",
              " [3, 20, 12],\n",
              " [12, 7, 20],\n",
              " [20, 19, 7],\n",
              " [7, 0, 19],\n",
              " [19, 183, 0],\n",
              " [0, 4780, 183],\n",
              " [183, 18, 4780],\n",
              " [4780, 989, 18],\n",
              " [18, 11, 989],\n",
              " [989, 5, 11],\n",
              " [11, 487, 5],\n",
              " [5, 1607, 487],\n",
              " [487, 27, 1607],\n",
              " [1607, 10, 27],\n",
              " [27, 13, 10],\n",
              " [10, 32, 13],\n",
              " [13, 890, 32],\n",
              " [32, 19, 890],\n",
              " [890, 45, 19],\n",
              " [19, 848, 45],\n",
              " [45, 14583, 848],\n",
              " [848, 11, 14583],\n",
              " [14583, 0, 11],\n",
              " [11, 1834, 0],\n",
              " [0, 1, 1834],\n",
              " [1834, 181, 1],\n",
              " [1, 4780, 181],\n",
              " [181, 195, 4780],\n",
              " [4780, 4, 195],\n",
              " [195, 204, 4],\n",
              " [4, 10, 204],\n",
              " [204, 917, 10],\n",
              " [10, 14583, 917],\n",
              " [917, 5463, 14583],\n",
              " [14583, 24, 5463],\n",
              " [5463, 0, 24],\n",
              " [24, 373, 0],\n",
              " [0, 12953, 373],\n",
              " [373, 917, 12953],\n",
              " [12953, 10, 917],\n",
              " [917, 6904, 10],\n",
              " [10, 4, 6904],\n",
              " [6904, 32, 4],\n",
              " [4, 142, 32],\n",
              " [32, 35, 142],\n",
              " [142, 1346, 35],\n",
              " [35, 0, 1346],\n",
              " [1346, 2879, 0],\n",
              " [0, 1, 2879],\n",
              " [2879, 15099, 1],\n",
              " [1, 917, 15099],\n",
              " [15099, 165, 917],\n",
              " [917, 114, 165],\n",
              " [165, 3468, 114],\n",
              " [114, 38, 3468],\n",
              " [3468, 683, 38],\n",
              " [38, 440, 683],\n",
              " [683, 6, 440],\n",
              " [440, 85, 6],\n",
              " [6, 2, 85],\n",
              " [85, 3133, 2],\n",
              " [2, 44, 3133],\n",
              " [3133, 917, 44],\n",
              " [44, 11, 917],\n",
              " [917, 48, 11],\n",
              " [11, 3597, 48],\n",
              " [48, 52, 3597],\n",
              " [3597, 11, 52],\n",
              " [52, 15399, 11],\n",
              " [11, 1555, 15399],\n",
              " [15399, 13, 1555],\n",
              " [1555, 2967, 13],\n",
              " [13, 4, 2967],\n",
              " [2967, 43, 4],\n",
              " [4, 250, 43],\n",
              " [43, 14583, 250],\n",
              " [250, 1164, 14583],\n",
              " [14583, 204, 1164],\n",
              " [1164, 35, 204],\n",
              " [204, 93, 35],\n",
              " [35, 3226, 93],\n",
              " [93, 1131, 3226],\n",
              " [3226, 47, 1131],\n",
              " [1131, 38, 47],\n",
              " [47, 751, 38],\n",
              " [38, 440, 751],\n",
              " [751, 6, 440],\n",
              " [440, 85, 6],\n",
              " [6, 1049, 85],\n",
              " [85, 530, 1049],\n",
              " [1049, 2, 530],\n",
              " [530, 1791, 2],\n",
              " [2, 4, 1791],\n",
              " [1791, 5805, 4],\n",
              " [4, 24, 5805],\n",
              " [5805, 1556, 24],\n",
              " [24, 1, 1556],\n",
              " [1556, 5128, 1],\n",
              " [1, 2, 5128],\n",
              " [5128, 1293, 2],\n",
              " [2, 14583, 1293],\n",
              " [1293, 16, 14583],\n",
              " [14583, 2657, 16],\n",
              " [16, 1, 2657],\n",
              " [2657, 11066, 1],\n",
              " [1, 34, 11066],\n",
              " [11066, 35, 34],\n",
              " [34, 93, 35],\n",
              " [35, 29824, 93],\n",
              " [93, 966, 29824],\n",
              " [29824, 31, 966],\n",
              " [966, 1334, 31],\n",
              " [31, 549, 1334],\n",
              " [1334, 114, 549],\n",
              " [549, 1131, 114],\n",
              " [114, 2, 1131],\n",
              " [1131, 343, 2],\n",
              " [2, 160, 343],\n",
              " [343, 537, 160],\n",
              " [160, 0, 537],\n",
              " [537, 807, 0],\n",
              " [0, 1, 807],\n",
              " [807, 44, 1],\n",
              " [1, 1258, 44],\n",
              " [44, 205, 1258],\n",
              " [1258, 1258, 205],\n",
              " [205, 1037, 1258],\n",
              " [1258, 34, 1037],\n",
              " [1037, 1391, 34],\n",
              " [34, 0, 1391],\n",
              " [1391, 908, 0],\n",
              " [0, 1, 908],\n",
              " [908, 741, 1],\n",
              " [1, 66, 741],\n",
              " [741, 966, 66],\n",
              " [66, 4, 966],\n",
              " [966, 492, 4],\n",
              " [4, 32, 492],\n",
              " [492, 74, 32],\n",
              " [32, 2915, 74],\n",
              " [74, 19, 2915],\n",
              " [2915, 72, 19],\n",
              " [19, 3, 72],\n",
              " [72, 74, 3],\n",
              " [3, 2967, 74],\n",
              " [74, 25, 2967],\n",
              " [2967, 0, 25],\n",
              " [25, 1258, 0],\n",
              " [0, 1, 1258],\n",
              " [1258, 288, 1],\n",
              " [1, 1555, 288],\n",
              " [288, 160, 1555],\n",
              " [1555, 4324, 160],\n",
              " [160, 2520, 4324],\n",
              " [4324, 422, 2520],\n",
              " [2520, 4, 422],\n",
              " [422, 720, 4],\n",
              " [4, 10692, 720],\n",
              " [720, 18963, 10692],\n",
              " [10692, 31, 18963],\n",
              " [18963, 762, 31],\n",
              " [31, 232, 762],\n",
              " [762, 986, 232],\n",
              " [232, 74, 986],\n",
              " [986, 30, 74],\n",
              " [74, 184, 30],\n",
              " [30, 109, 184],\n",
              " [184, 6, 109],\n",
              " [109, 740, 6],\n",
              " [6, 3272, 740],\n",
              " [740, 24, 3272],\n",
              " [3272, 912, 24],\n",
              " [24, 6, 912],\n",
              " [912, 0, 6],\n",
              " [6, 327, 0],\n",
              " [0, 1, 327],\n",
              " [327, 492, 1],\n",
              " [1, 14583, 492],\n",
              " [492, 16, 14583],\n",
              " [14583, 948, 16],\n",
              " [16, 39, 948],\n",
              " [948, 2025, 39],\n",
              " [39, 207, 2025],\n",
              " [2025, 124, 207],\n",
              " [207, 741, 124],\n",
              " [124, 523, 741],\n",
              " [741, 1818, 523],\n",
              " [523, 2, 1818],\n",
              " [1818, 29, 2],\n",
              " [2, 2985, 29],\n",
              " [29, 39, 2985],\n",
              " [2985, 1021, 39],\n",
              " [39, 4, 1021],\n",
              " [1021, 0, 4],\n",
              " [4, 854, 0],\n",
              " [0, 1, 854],\n",
              " [854, 3, 1],\n",
              " [1, 12, 3],\n",
              " [3, 20, 12],\n",
              " [12, 12, 20],\n",
              " [20, 4, 12],\n",
              " [12, 279, 4],\n",
              " [4, 14583, 279],\n",
              " [279, 16, 14583],\n",
              " [14583, 667, 16],\n",
              " [16, 1, 667],\n",
              " [667, 917, 1],\n",
              " [1, 10, 917],\n",
              " [917, 600, 10],\n",
              " [10, 27, 600],\n",
              " [600, 18, 27],\n",
              " [27, 338, 18],\n",
              " [18, 4, 338],\n",
              " [338, 5, 4],\n",
              " [4, 116, 5],\n",
              " [5, 1, 116],\n",
              " [116, 295, 1],\n",
              " [1, 79, 295],\n",
              " [295, 29, 79],\n",
              " [79, 3573, 29],\n",
              " [29, 2, 3573],\n",
              " [3573, 60, 2],\n",
              " [2, 26, 60],\n",
              " [60, 6440, 26],\n",
              " [26, 4190, 6440],\n",
              " [6440, 1, 4190],\n",
              " [4190, 45, 1],\n",
              " [1, 1, 45],\n",
              " [45, 29, 1],\n",
              " [1, 948, 29],\n",
              " [29, 13, 948],\n",
              " [948, 50, 13],\n",
              " [13, 2159, 50],\n",
              " [50, 1589, 2159],\n",
              " [2159, 63, 1589],\n",
              " [1589, 673, 63],\n",
              " [63, 2752, 673],\n",
              " [673, 26669, 2752],\n",
              " [2752, 16, 26669],\n",
              " [26669, 15683, 16],\n",
              " [16, 4, 15683],\n",
              " [15683, 29, 4],\n",
              " [4, 0, 29],\n",
              " [29, 10479, 0],\n",
              " [0, 2, 10479],\n",
              " [10479, 43, 2],\n",
              " [2, 171, 43],\n",
              " [43, 26669, 171],\n",
              " [171, 1460, 26669],\n",
              " [26669, 19, 1460],\n",
              " [1460, 53, 19],\n",
              " [19, 661, 53],\n",
              " [53, 1045, 661],\n",
              " [661, 339, 1045],\n",
              " [1045, 1775, 339],\n",
              " [339, 115, 1775],\n",
              " [1775, 0, 115],\n",
              " [115, 2583, 0],\n",
              " [0, 1, 2583],\n",
              " [2583, 97, 1],\n",
              " [1, 917, 97],\n",
              " [97, 11, 917],\n",
              " [917, 5, 11],\n",
              " [11, 282, 5],\n",
              " [5, 375, 282],\n",
              " [282, 440, 375],\n",
              " [375, 4, 440],\n",
              " [440, 138, 4],\n",
              " [4, 2, 138],\n",
              " [138, 0, 2],\n",
              " [2, 141, 0],\n",
              " [0, 2583, 141],\n",
              " [141, 1, 2583],\n",
              " [2583, 398, 1],\n",
              " [1, 39, 398],\n",
              " [398, 4589, 39],\n",
              " [39, 20968, 4589],\n",
              " [4589, 28, 20968],\n",
              " [20968, 9233, 28],\n",
              " [28, 4, 9233],\n",
              " [9233, 0, 4],\n",
              " [4, 940, 0],\n",
              " [0, 1976, 940],\n",
              " [940, 1, 1976],\n",
              " [1976, 398, 1],\n",
              " [1, 19, 398],\n",
              " [398, 0, 19],\n",
              " [19, 1131, 0],\n",
              " [0, 26, 1131],\n",
              " [1131, 43, 26],\n",
              " [26, 1728, 43],\n",
              " [43, 35, 1728],\n",
              " [1728, 5212, 35],\n",
              " [35, 15683, 5212],\n",
              " [5212, 2, 15683],\n",
              " [15683, 5, 2],\n",
              " [2, 137, 5],\n",
              " [5, 1, 137],\n",
              " [137, 4, 1],\n",
              " [1, 34, 4],\n",
              " [4, 1131, 34],\n",
              " [34, 74, 1131],\n",
              " [1131, 9767, 74],\n",
              " [74, 4, 9767],\n",
              " [9767, 5827, 4],\n",
              " [4, 1, 5827],\n",
              " [5827, 51081, 1],\n",
              " [1, 65, 51081],\n",
              " [51081, 62, 65],\n",
              " [65, 27, 62],\n",
              " [62, 18, 27],\n",
              " [27, 4, 18],\n",
              " [18, 44, 4],\n",
              " [4, 487, 44],\n",
              " [44, 762, 487],\n",
              " [487, 6, 762],\n",
              " [762, 162, 6],\n",
              " [6, 83, 162],\n",
              " [162, 13, 83],\n",
              " [83, 131, 13],\n",
              " [13, 917, 131],\n",
              " [131, 703, 917],\n",
              " [917, 1145, 703],\n",
              " [703, 89, 1145],\n",
              " [1145, 130, 89],\n",
              " [89, 514, 130],\n",
              " [130, 13140, 514],\n",
              " [514, 5573, 13140],\n",
              " [13140, 350, 5573],\n",
              " [5573, 6, 350],\n",
              " [350, 369, 6],\n",
              " [6, 6, 369],\n",
              " [369, 4109, 6],\n",
              " [6, 0, 4109],\n",
              " [4109, 1798, 0],\n",
              " [0, 6, 1798],\n",
              " [1798, 131, 6],\n",
              " [6, 5464, 131],\n",
              " [131, 917, 5464],\n",
              " [5464, 2, 917],\n",
              " [917, 204, 2],\n",
              " [2, 70, 204],\n",
              " [204, 38, 70],\n",
              " [70, 4, 38],\n",
              " [38, 620, 4],\n",
              " [4, 176, 620],\n",
              " [620, 19, 176],\n",
              " [176, 10, 19],\n",
              " [19, 620, 10],\n",
              " [10, 171, 620],\n",
              " [620, 83, 171],\n",
              " [171, 206, 83],\n",
              " [83, 11, 206],\n",
              " [206, 70, 11],\n",
              " [11, 6188, 70],\n",
              " [70, 9065, 6188],\n",
              " [6188, 11, 9065],\n",
              " [9065, 7192, 11],\n",
              " [11, 70, 7192],\n",
              " [7192, 1225, 70],\n",
              " [70, 0, 1225],\n",
              " [1225, 34607, 0],\n",
              " [0, 1, 34607],\n",
              " [34607, 0, 1],\n",
              " [1, 1798, 0],\n",
              " [0, 26669, 1798],\n",
              " [1798, 335, 26669],\n",
              " [26669, 93, 335],\n",
              " [335, 417, 93],\n",
              " [93, 31, 417],\n",
              " [417, 4780, 31],\n",
              " [31, 35, 4780],\n",
              " [4780, 1045, 35],\n",
              " [35, 65, 1045],\n",
              " [1045, 0, 65],\n",
              " [65, 2760, 0],\n",
              " [0, 43032, 2760],\n",
              " [2760, 2069, 43032],\n",
              " [43032, 29, 2069],\n",
              " [2069, 948, 29],\n",
              " [29, 39, 948],\n",
              " [948, 2025, 39],\n",
              " [39, 23, 2025],\n",
              " [2025, 51, 23],\n",
              " [23, 9961, 51],\n",
              " [51, 7089, 9961],\n",
              " [9961, 139, 7089],\n",
              " [7089, 4190, 139],\n",
              " [139, 1, 4190],\n",
              " [4190, 29, 1],\n",
              " [1, 526, 29],\n",
              " [29, 26, 526],\n",
              " [526, 3236, 26],\n",
              " [26, 64, 3236],\n",
              " [3236, 10304, 64],\n",
              " [64, 5233, 10304],\n",
              " [10304, 3244, 5233],\n",
              " [5233, 9653, 3244],\n",
              " [3244, 4, 9653],\n",
              " [9653, 3, 4],\n",
              " [4, 12, 3],\n",
              " [3, 9, 12],\n",
              " ...]"
            ]
          },
          "metadata": {},
          "execution_count": 6
        }
      ]
    },
    {
      "cell_type": "code",
      "execution_count": 7,
      "id": "576765f3",
      "metadata": {
        "id": "576765f3",
        "outputId": "f246837c-7eb6-4c83-b149-503cb3b555ef",
        "colab": {
          "base_uri": "https://localhost:8080/",
          "height": 0
        }
      },
      "outputs": [
        {
          "output_type": "execute_result",
          "data": {
            "text/plain": [
              "[[5233, 11, 3083],\n",
              " [3083, 5, 11],\n",
              " [11, 183, 5],\n",
              " [5, 1, 183],\n",
              " [183, 3133, 1],\n",
              " [1, 46, 3133],\n",
              " [3133, 56, 46],\n",
              " [46, 163, 56],\n",
              " [56, 125, 163],\n",
              " [163, 741, 125],\n",
              " [125, 523, 741],\n",
              " [741, 10619, 523],\n",
              " [523, 115, 10619],\n",
              " [10619, 0, 115],\n",
              " [115, 27497, 0],\n",
              " [0, 1, 27497],\n",
              " [27497, 0, 1],\n",
              " [1, 113, 0],\n",
              " [0, 854, 113],\n",
              " [113, 2, 854],\n",
              " [854, 0, 2],\n",
              " [2, 15177, 0],\n",
              " [0, 59203, 15177],\n",
              " [15177, 1, 59203],\n",
              " [59203, 0, 1],\n",
              " [1, 124, 0],\n",
              " [0, 854, 124],\n",
              " [124, 3583, 854],\n",
              " [854, 0, 3583],\n",
              " [3583, 183, 0],\n",
              " [0, 10, 183],\n",
              " [183, 180, 10],\n",
              " [10, 56, 180],\n",
              " [180, 4, 56],\n",
              " [56, 5, 4],\n",
              " [4, 10751, 5],\n",
              " [5, 218, 10751],\n",
              " [10751, 6, 218],\n",
              " [218, 1324, 6],\n",
              " [6, 101, 1324],\n",
              " [1324, 457, 101],\n",
              " [101, 19, 457],\n",
              " [457, 56, 19],\n",
              " [19, 2733, 56],\n",
              " [56, 327, 2733],\n",
              " [2733, 6, 327],\n",
              " [327, 3673, 6],\n",
              " [6, 0, 3673],\n",
              " [3673, 708, 0],\n",
              " [0, 1, 708],\n",
              " [708, 398, 1],\n",
              " [1, 27, 398],\n",
              " [398, 40, 27],\n",
              " [27, 37, 40],\n",
              " [40, 57, 37],\n",
              " [37, 554, 57],\n",
              " [57, 109, 554],\n",
              " [554, 11, 109],\n",
              " [109, 5, 11],\n",
              " [11, 1425, 5],\n",
              " [5, 2760, 1425],\n",
              " [1425, 14, 2760],\n",
              " [2760, 487, 14],\n",
              " [14, 651, 487],\n",
              " [487, 7089, 651],\n",
              " [651, 0, 7089],\n",
              " [7089, 251, 0],\n",
              " [0, 5233, 251],\n",
              " [251, 10, 5233],\n",
              " [5233, 1052, 10],\n",
              " [10, 25, 1052],\n",
              " [1052, 0, 25],\n",
              " [25, 337, 0],\n",
              " [0, 247, 337],\n",
              " [337, 44740, 247],\n",
              " [247, 2880, 44740],\n",
              " [44740, 792, 2880],\n",
              " [2880, 147, 792],\n",
              " [792, 5233, 147],\n",
              " [147, 11, 5233],\n",
              " [5233, 5, 11],\n",
              " [11, 208, 5],\n",
              " [5, 667, 208],\n",
              " [208, 10, 667],\n",
              " [667, 0, 10],\n",
              " [10, 1134, 0],\n",
              " [0, 19, 1134],\n",
              " [1134, 2622, 19],\n",
              " [19, 26, 2622],\n",
              " [2622, 9031, 26],\n",
              " [26, 2, 9031],\n",
              " [9031, 342, 2],\n",
              " [2, 30, 342],\n",
              " [342, 4147, 30],\n",
              " [30, 139, 4147],\n",
              " [4147, 60, 139],\n",
              " [139, 26, 60],\n",
              " [60, 6440, 26],\n",
              " [26, 4190, 6440],\n",
              " [6440, 1, 4190],\n",
              " [4190, 204, 1],\n",
              " [1, 32, 204],\n",
              " [204, 327, 32],\n",
              " [32, 5233, 327],\n",
              " [327, 37, 5233],\n",
              " [5233, 1137, 37],\n",
              " [37, 6, 1137],\n",
              " [1137, 432, 6],\n",
              " [6, 339, 432],\n",
              " [432, 1818, 339],\n",
              " [339, 19, 1818],\n",
              " [1818, 4860, 19],\n",
              " [19, 0, 4860],\n",
              " [4860, 6765, 0],\n",
              " [0, 1, 6765],\n",
              " [6765, 7575, 1],\n",
              " [1, 1775, 7575],\n",
              " [7575, 605, 1775],\n",
              " [1775, 0, 605],\n",
              " [605, 97, 0],\n",
              " [0, 0, 97],\n",
              " [97, 251, 0],\n",
              " [0, 11066, 251],\n",
              " [251, 11, 11066],\n",
              " [11066, 53, 11],\n",
              " [11, 7089, 53],\n",
              " [53, 85, 7089],\n",
              " [7089, 27, 85],\n",
              " [85, 265, 27],\n",
              " [27, 36, 265],\n",
              " [265, 5958, 36],\n",
              " [36, 4864, 5958],\n",
              " [5958, 20463, 4864],\n",
              " [4864, 28, 20463],\n",
              " [20463, 53895, 28],\n",
              " [28, 41, 53895],\n",
              " [53895, 333, 41],\n",
              " [41, 5, 333],\n",
              " [333, 25871, 5],\n",
              " [5, 583, 25871],\n",
              " [25871, 7575, 583],\n",
              " [583, 398, 7575],\n",
              " [7575, 4, 398],\n",
              " [398, 250, 4],\n",
              " [4, 1, 250],\n",
              " [250, 204, 1],\n",
              " [1, 26, 204],\n",
              " [204, 1206, 26],\n",
              " [26, 11, 1206],\n",
              " [1206, 7575, 11],\n",
              " [11, 208, 7575],\n",
              " [7575, 1580, 208],\n",
              " [208, 2, 1580],\n",
              " [1580, 15224, 2],\n",
              " [2, 325, 15224],\n",
              " [15224, 1775, 325],\n",
              " [325, 7089, 1775],\n",
              " [1775, 4860, 7089],\n",
              " [7089, 339, 4860],\n",
              " [4860, 764, 339],\n",
              " [339, 191, 764],\n",
              " [764, 444, 191],\n",
              " [191, 5708, 444],\n",
              " [444, 755, 5708],\n",
              " [5708, 1, 755],\n",
              " [755, 4105, 1],\n",
              " [1, 1131, 4105],\n",
              " [4105, 4340, 1131],\n",
              " [1131, 1536, 4340],\n",
              " [4340, 2, 1536],\n",
              " [1536, 487, 2],\n",
              " [2, 8126, 487],\n",
              " [487, 94, 8126],\n",
              " [8126, 5233, 94],\n",
              " [94, 10, 5233],\n",
              " [5233, 53, 10],\n",
              " [10, 1408, 53],\n",
              " [53, 651, 1408],\n",
              " [1408, 14, 651],\n",
              " [651, 204, 14],\n",
              " [14, 27, 204],\n",
              " [204, 10, 27],\n",
              " [27, 163, 10],\n",
              " [10, 7089, 163],\n",
              " [163, 37, 7089],\n",
              " [7089, 2033, 37],\n",
              " [37, 1425, 2033],\n",
              " [2033, 8198, 1425],\n",
              " [1425, 1, 8198],\n",
              " [8198, 204, 1],\n",
              " [1, 48, 204],\n",
              " [204, 676, 48],\n",
              " [48, 6, 676],\n",
              " [676, 30, 6],\n",
              " [6, 5, 30],\n",
              " [30, 4159, 5],\n",
              " [5, 232, 4159],\n",
              " [4159, 398, 232],\n",
              " [232, 75, 398],\n",
              " [398, 948, 75],\n",
              " [75, 89, 948],\n",
              " [948, 350, 89],\n",
              " [89, 31, 350],\n",
              " [350, 4780, 31],\n",
              " [31, 398, 4780],\n",
              " [4780, 514, 398],\n",
              " [398, 142, 514],\n",
              " [514, 2314, 142],\n",
              " [142, 3554, 2314],\n",
              " [2314, 378, 3554],\n",
              " [3554, 24, 378],\n",
              " [378, 1822, 24],\n",
              " [24, 6, 1822],\n",
              " [1822, 1902, 6],\n",
              " [6, 60, 1902],\n",
              " [1902, 10, 60],\n",
              " [60, 37, 10],\n",
              " [10, 8411, 37],\n",
              " [37, 89, 8411],\n",
              " [8411, 350, 89],\n",
              " [89, 5, 350],\n",
              " [350, 232, 5],\n",
              " [5, 398, 232],\n",
              " [232, 514, 398],\n",
              " [398, 30, 514],\n",
              " [514, 753, 30],\n",
              " [30, 89, 753],\n",
              " [753, 1737, 89],\n",
              " [89, 2, 1737],\n",
              " [1737, 8080, 2],\n",
              " [2, 24411, 8080],\n",
              " [8080, 2, 24411],\n",
              " [24411, 288, 2],\n",
              " [2, 1693, 288],\n",
              " [288, 19, 1693],\n",
              " [1693, 145, 19],\n",
              " [19, 1034, 145],\n",
              " [145, 92, 1034],\n",
              " [1034, 213, 92],\n",
              " [92, 398, 213],\n",
              " [213, 18, 398],\n",
              " [398, 1815, 18],\n",
              " [18, 23, 1815],\n",
              " [1815, 4780, 23],\n",
              " [23, 1556, 4780],\n",
              " [4780, 53, 1556],\n",
              " [1556, 8118, 53],\n",
              " [53, 1467, 8118],\n",
              " [8118, 24411, 1467],\n",
              " [1467, 2, 24411],\n",
              " [24411, 12778, 2],\n",
              " [2, 4, 12778],\n",
              " [12778, 6130, 4],\n",
              " [4, 19, 6130],\n",
              " [6130, 4187, 19],\n",
              " [19, 21267, 4187],\n",
              " [4187, 2427, 21267],\n",
              " [21267, 39, 2427],\n",
              " [2427, 16505, 39],\n",
              " [39, 2, 16505],\n",
              " [16505, 7249, 2],\n",
              " [2, 861, 7249],\n",
              " [7249, 1, 861],\n",
              " [861, 1193, 1],\n",
              " [1, 10207, 1193],\n",
              " [1193, 2515, 10207],\n",
              " [10207, 28, 2515],\n",
              " [2515, 15099, 28],\n",
              " [28, 157, 15099],\n",
              " [15099, 2, 157],\n",
              " [157, 49, 2],\n",
              " [2, 1123, 49],\n",
              " [49, 912, 1123],\n",
              " [1123, 6, 912],\n",
              " [912, 1049, 6],\n",
              " [6, 463, 1049],\n",
              " [1049, 12326, 463],\n",
              " [463, 7089, 12326],\n",
              " [12326, 115, 7089],\n",
              " [7089, 0, 115],\n",
              " [115, 0, 0],\n",
              " [0, 11066, 0],\n",
              " [0, 3059, 11066],\n",
              " [11066, 2, 3059],\n",
              " [3059, 12121, 2],\n",
              " [2, 721, 12121],\n",
              " [12121, 4780, 721],\n",
              " [721, 6598, 4780],\n",
              " [4780, 4, 6598],\n",
              " [6598, 14758, 4],\n",
              " [4, 25, 14758],\n",
              " [14758, 491, 25],\n",
              " [25, 517, 491],\n",
              " [491, 24411, 517],\n",
              " [517, 210, 24411],\n",
              " [24411, 300, 210],\n",
              " [210, 948, 300],\n",
              " [300, 4, 948],\n",
              " [948, 20257, 4],\n",
              " [4, 20563, 20257],\n",
              " [20257, 1, 20563],\n",
              " [20563, 54443, 1],\n",
              " [1, 238, 54443],\n",
              " [54443, 6, 238],\n",
              " [238, 24411, 6],\n",
              " [6, 20563, 24411],\n",
              " [24411, 16596, 20563],\n",
              " [20563, 0, 16596],\n",
              " [16596, 30655, 0],\n",
              " [0, 1, 30655],\n",
              " [30655, 0, 1],\n",
              " [1, 97, 0],\n",
              " [0, 43, 97],\n",
              " [97, 3834, 43],\n",
              " [43, 2, 3834],\n",
              " [3834, 56968, 2],\n",
              " [2, 2, 56968],\n",
              " [56968, 3815, 2],\n",
              " [2, 0, 3815],\n",
              " [3815, 3417, 0],\n",
              " [0, 1, 3417],\n",
              " [3417, 0, 1],\n",
              " [1, 1781, 0],\n",
              " [0, 157, 1781],\n",
              " [1781, 1, 157],\n",
              " [157, 0, 1],\n",
              " [1, 579, 0],\n",
              " [0, 0, 579],\n",
              " [579, 13146, 0],\n",
              " [0, 1, 13146],\n",
              " [13146, 3, 1],\n",
              " [1, 22, 3],\n",
              " [3, 90, 22],\n",
              " [22, 123, 90],\n",
              " [90, 289, 123],\n",
              " [123, 26, 289],\n",
              " [289, 240, 26],\n",
              " [26, 254, 240],\n",
              " [240, 6, 254],\n",
              " [254, 30, 6],\n",
              " [6, 399, 30],\n",
              " [30, 26399, 399],\n",
              " [399, 1, 26399],\n",
              " [26399, 181, 1],\n",
              " [1, 5233, 181],\n",
              " [181, 7705, 5233],\n",
              " [5233, 2537, 7705],\n",
              " [7705, 4, 2537],\n",
              " [2537, 29, 4],\n",
              " [4, 92, 29],\n",
              " [29, 1, 92],\n",
              " [92, 318, 1],\n",
              " [1, 667, 318],\n",
              " [318, 4318, 667],\n",
              " [667, 19, 4318],\n",
              " [4318, 0, 19],\n",
              " [19, 13146, 0],\n",
              " [0, 16596, 13146],\n",
              " [13146, 54, 16596],\n",
              " [16596, 157, 54],\n",
              " [54, 132, 157],\n",
              " [157, 48, 132],\n",
              " [132, 329, 48],\n",
              " [48, 19, 329],\n",
              " [329, 0, 19],\n",
              " [19, 393, 0],\n",
              " [0, 268, 393],\n",
              " [393, 82, 268],\n",
              " [268, 30, 82],\n",
              " [82, 5239, 30],\n",
              " [30, 33, 5239],\n",
              " [5239, 307, 33],\n",
              " [33, 2727, 307],\n",
              " [307, 14, 2727],\n",
              " [2727, 0, 14],\n",
              " [14, 838, 0],\n",
              " [0, 1378, 838],\n",
              " [838, 25, 1378],\n",
              " [1378, 32, 25],\n",
              " [25, 8786, 32],\n",
              " [32, 48, 8786],\n",
              " [8786, 6471, 48],\n",
              " [48, 33, 6471],\n",
              " [6471, 3245, 33],\n",
              " [33, 0, 3245],\n",
              " [3245, 27497, 0],\n",
              " [0, 28, 27497],\n",
              " [27497, 547, 28],\n",
              " [28, 43544, 547],\n",
              " [547, 39, 43544],\n",
              " [43544, 31, 39],\n",
              " [39, 125, 31],\n",
              " [31, 54504, 125],\n",
              " [125, 451, 54504],\n",
              " [54504, 78, 451],\n",
              " [451, 0, 78],\n",
              " [78, 66, 0],\n",
              " [0, 1, 66],\n",
              " [66, 0, 1],\n",
              " [1, 113, 0],\n",
              " [0, 486, 113],\n",
              " [113, 80, 486],\n",
              " [486, 2, 80],\n",
              " [80, 26, 2],\n",
              " [2, 254, 26],\n",
              " [26, 14, 254],\n",
              " [254, 45, 14],\n",
              " [14, 11, 45],\n",
              " [45, 26399, 11],\n",
              " [11, 1, 26399],\n",
              " [26399, 181, 1],\n",
              " [1, 5233, 181],\n",
              " [181, 4, 5233],\n",
              " [5233, 0, 4],\n",
              " [4, 181, 0],\n",
              " [0, 839, 181],\n",
              " [181, 0, 839],\n",
              " [839, 46, 0],\n",
              " [0, 6, 46],\n",
              " [46, 85, 6],\n",
              " [6, 0, 85],\n",
              " [85, 183, 0],\n",
              " [0, 6, 183],\n",
              " [183, 1015, 6],\n",
              " [6, 1043, 1015],\n",
              " [1015, 42, 1043],\n",
              " [1043, 68, 42],\n",
              " [42, 4864, 68],\n",
              " [68, 18, 4864],\n",
              " [4864, 936, 18],\n",
              " [18, 14931, 936],\n",
              " [936, 4572, 14931],\n",
              " [14931, 153, 4572],\n",
              " [4572, 4, 153],\n",
              " [153, 29, 4],\n",
              " [4, 41775, 29],\n",
              " [29, 11905, 41775],\n",
              " [41775, 23001, 11905],\n",
              " [11905, 267, 23001],\n",
              " [23001, 1225, 267],\n",
              " [267, 62258, 1225],\n",
              " [1225, 3, 62258],\n",
              " [62258, 21, 3],\n",
              " [3, 7, 21],\n",
              " [21, 15, 7],\n",
              " [7, 114, 15],\n",
              " [15, 35, 114],\n",
              " [114, 584, 35],\n",
              " [35, 0, 584],\n",
              " [584, 2663, 0],\n",
              " [0, 64, 2663],\n",
              " [2663, 398, 64],\n",
              " [64, 34, 398],\n",
              " [398, 49, 34],\n",
              " [34, 72, 49],\n",
              " [49, 97, 72],\n",
              " [72, 619, 97],\n",
              " [97, 14883, 619],\n",
              " [619, 4050, 14883],\n",
              " [14883, 28, 4050],\n",
              " [4050, 818, 28],\n",
              " [28, 917, 818],\n",
              " [818, 11, 917],\n",
              " [917, 117, 11],\n",
              " [11, 4, 117],\n",
              " [117, 11066, 4],\n",
              " [4, 2537, 11066],\n",
              " [11066, 327, 2537],\n",
              " [2537, 5, 327],\n",
              " [327, 6061, 5],\n",
              " [5, 2, 6061],\n",
              " [6061, 688, 2],\n",
              " [2, 4, 688],\n",
              " [688, 0, 4],\n",
              " [4, 64, 0],\n",
              " [0, 731, 64],\n",
              " [64, 451, 731],\n",
              " [731, 40, 451],\n",
              " [451, 4223, 40],\n",
              " [40, 1290, 4223],\n",
              " [4223, 19, 1290],\n",
              " [1290, 35, 19],\n",
              " [19, 10, 35],\n",
              " [35, 31, 10],\n",
              " [10, 4780, 31],\n",
              " [31, 2, 4780],\n",
              " [4780, 83, 2],\n",
              " [2, 26, 83],\n",
              " [83, 54, 26],\n",
              " [26, 29, 54],\n",
              " [54, 5214, 29],\n",
              " [29, 4, 5214],\n",
              " [5214, 3, 4],\n",
              " [4, 21, 3],\n",
              " [3, 8, 21],\n",
              " [21, 15, 8],\n",
              " [8, 4, 15],\n",
              " [15, 0, 4],\n",
              " [4, 5361, 0],\n",
              " [0, 1, 5361],\n",
              " [5361, 0, 1],\n",
              " [1, 124, 0],\n",
              " [0, 854, 124],\n",
              " [124, 463, 854],\n",
              " [854, 12326, 463],\n",
              " [463, 351, 12326],\n",
              " [12326, 31, 351],\n",
              " [351, 17274, 31],\n",
              " [31, 2434, 17274],\n",
              " [17274, 208, 2434],\n",
              " [2434, 1293, 208],\n",
              " [208, 139, 1293],\n",
              " [1293, 12326, 139],\n",
              " [139, 214, 12326],\n",
              " [12326, 36, 214],\n",
              " [214, 85, 36],\n",
              " [36, 0, 85],\n",
              " [85, 251, 0],\n",
              " [0, 5233, 251],\n",
              " [251, 51, 5233],\n",
              " [5233, 111, 51],\n",
              " [51, 7089, 111],\n",
              " [111, 38, 7089],\n",
              " [7089, 1206, 38],\n",
              " [38, 32, 1206],\n",
              " [1206, 211, 32],\n",
              " [32, 11, 211],\n",
              " [211, 0, 11],\n",
              " [11, 46, 0],\n",
              " [0, 161, 46],\n",
              " [46, 4780, 161],\n",
              " [161, 569, 4780],\n",
              " [4780, 2, 569],\n",
              " [569, 12326, 2],\n",
              " [2, 11, 12326],\n",
              " [12326, 0, 11],\n",
              " [11, 1834, 0],\n",
              " [0, 1, 1834],\n",
              " [1834, 1915, 1],\n",
              " [1, 5233, 1915],\n",
              " [1915, 41, 5233],\n",
              " [5233, 33, 41],\n",
              " [41, 32, 33],\n",
              " [33, 222, 32],\n",
              " [32, 72, 222],\n",
              " [222, 4780, 72],\n",
              " [72, 451, 4780],\n",
              " [4780, 729, 451],\n",
              " [451, 2402, 729],\n",
              " [729, 2, 2402],\n",
              " [2402, 0, 2],\n",
              " [2, 183, 0],\n",
              " [0, 18, 183],\n",
              " [183, 76, 18],\n",
              " [18, 1073, 76],\n",
              " [76, 11, 1073],\n",
              " [1073, 31, 11],\n",
              " [11, 14088, 31],\n",
              " [31, 30456, 14088],\n",
              " [14088, 14, 30456],\n",
              " [30456, 0, 14],\n",
              " [14, 12068, 0],\n",
              " [0, 59991, 12068],\n",
              " [12068, 33, 59991],\n",
              " [59991, 50, 33],\n",
              " [33, 2422, 50],\n",
              " [50, 594, 2422],\n",
              " [2422, 4, 594],\n",
              " [594, 0, 4],\n",
              " [4, 124, 0],\n",
              " [0, 854, 124],\n",
              " [124, 0, 854],\n",
              " [854, 46, 0],\n",
              " [0, 487, 46],\n",
              " [46, 8739, 487],\n",
              " [487, 4780, 8739],\n",
              " [8739, 2937, 4780],\n",
              " [4780, 1033, 2937],\n",
              " [2937, 14583, 1033],\n",
              " [1033, 27, 14583],\n",
              " [14583, 10, 27],\n",
              " [27, 661, 10],\n",
              " [10, 329, 661],\n",
              " [661, 19, 329],\n",
              " [329, 27, 19],\n",
              " [19, 5400, 27],\n",
              " [27, 165, 5400],\n",
              " [5400, 158, 165],\n",
              " [165, 2937, 158],\n",
              " [158, 1033, 2937],\n",
              " [2937, 14583, 1033],\n",
              " [1033, 351, 14583],\n",
              " [14583, 204, 351],\n",
              " [351, 10, 204],\n",
              " [204, 917, 10],\n",
              " [10, 4, 917],\n",
              " [917, 3, 4],\n",
              " [4, 12, 3],\n",
              " [3, 20, 12],\n",
              " [12, 7, 20],\n",
              " [20, 19, 7],\n",
              " [7, 0, 19],\n",
              " [19, 183, 0],\n",
              " [0, 4780, 183],\n",
              " [183, 18, 4780],\n",
              " [4780, 989, 18],\n",
              " [18, 11, 989],\n",
              " [989, 5, 11],\n",
              " [11, 487, 5],\n",
              " [5, 1607, 487],\n",
              " [487, 27, 1607],\n",
              " [1607, 10, 27],\n",
              " [27, 13, 10],\n",
              " [10, 32, 13],\n",
              " [13, 890, 32],\n",
              " [32, 19, 890],\n",
              " [890, 45, 19],\n",
              " [19, 848, 45],\n",
              " [45, 14583, 848],\n",
              " [848, 11, 14583],\n",
              " [14583, 0, 11],\n",
              " [11, 1834, 0],\n",
              " [0, 1, 1834],\n",
              " [1834, 181, 1],\n",
              " [1, 4780, 181],\n",
              " [181, 195, 4780],\n",
              " [4780, 4, 195],\n",
              " [195, 204, 4],\n",
              " [4, 10, 204],\n",
              " [204, 917, 10],\n",
              " [10, 14583, 917],\n",
              " [917, 5463, 14583],\n",
              " [14583, 24, 5463],\n",
              " [5463, 0, 24],\n",
              " [24, 373, 0],\n",
              " [0, 12953, 373],\n",
              " [373, 917, 12953],\n",
              " [12953, 10, 917],\n",
              " [917, 6904, 10],\n",
              " [10, 4, 6904],\n",
              " [6904, 32, 4],\n",
              " [4, 142, 32],\n",
              " [32, 35, 142],\n",
              " [142, 1346, 35],\n",
              " [35, 0, 1346],\n",
              " [1346, 2879, 0],\n",
              " [0, 1, 2879],\n",
              " [2879, 15099, 1],\n",
              " [1, 917, 15099],\n",
              " [15099, 165, 917],\n",
              " [917, 114, 165],\n",
              " [165, 3468, 114],\n",
              " [114, 38, 3468],\n",
              " [3468, 683, 38],\n",
              " [38, 440, 683],\n",
              " [683, 6, 440],\n",
              " [440, 85, 6],\n",
              " [6, 2, 85],\n",
              " [85, 3133, 2],\n",
              " [2, 44, 3133],\n",
              " [3133, 917, 44],\n",
              " [44, 11, 917],\n",
              " [917, 48, 11],\n",
              " [11, 3597, 48],\n",
              " [48, 52, 3597],\n",
              " [3597, 11, 52],\n",
              " [52, 15399, 11],\n",
              " [11, 1555, 15399],\n",
              " [15399, 13, 1555],\n",
              " [1555, 2967, 13],\n",
              " [13, 4, 2967],\n",
              " [2967, 43, 4],\n",
              " [4, 250, 43],\n",
              " [43, 14583, 250],\n",
              " [250, 1164, 14583],\n",
              " [14583, 204, 1164],\n",
              " [1164, 35, 204],\n",
              " [204, 93, 35],\n",
              " [35, 3226, 93],\n",
              " [93, 1131, 3226],\n",
              " [3226, 47, 1131],\n",
              " [1131, 38, 47],\n",
              " [47, 751, 38],\n",
              " [38, 440, 751],\n",
              " [751, 6, 440],\n",
              " [440, 85, 6],\n",
              " [6, 1049, 85],\n",
              " [85, 530, 1049],\n",
              " [1049, 2, 530],\n",
              " [530, 1791, 2],\n",
              " [2, 4, 1791],\n",
              " [1791, 5805, 4],\n",
              " [4, 24, 5805],\n",
              " [5805, 1556, 24],\n",
              " [24, 1, 1556],\n",
              " [1556, 5128, 1],\n",
              " [1, 2, 5128],\n",
              " [5128, 1293, 2],\n",
              " [2, 14583, 1293],\n",
              " [1293, 16, 14583],\n",
              " [14583, 2657, 16],\n",
              " [16, 1, 2657],\n",
              " [2657, 11066, 1],\n",
              " [1, 34, 11066],\n",
              " [11066, 35, 34],\n",
              " [34, 93, 35],\n",
              " [35, 29824, 93],\n",
              " [93, 966, 29824],\n",
              " [29824, 31, 966],\n",
              " [966, 1334, 31],\n",
              " [31, 549, 1334],\n",
              " [1334, 114, 549],\n",
              " [549, 1131, 114],\n",
              " [114, 2, 1131],\n",
              " [1131, 343, 2],\n",
              " [2, 160, 343],\n",
              " [343, 537, 160],\n",
              " [160, 0, 537],\n",
              " [537, 807, 0],\n",
              " [0, 1, 807],\n",
              " [807, 44, 1],\n",
              " [1, 1258, 44],\n",
              " [44, 205, 1258],\n",
              " [1258, 1258, 205],\n",
              " [205, 1037, 1258],\n",
              " [1258, 34, 1037],\n",
              " [1037, 1391, 34],\n",
              " [34, 0, 1391],\n",
              " [1391, 908, 0],\n",
              " [0, 1, 908],\n",
              " [908, 741, 1],\n",
              " [1, 66, 741],\n",
              " [741, 966, 66],\n",
              " [66, 4, 966],\n",
              " [966, 492, 4],\n",
              " [4, 32, 492],\n",
              " [492, 74, 32],\n",
              " [32, 2915, 74],\n",
              " [74, 19, 2915],\n",
              " [2915, 72, 19],\n",
              " [19, 3, 72],\n",
              " [72, 74, 3],\n",
              " [3, 2967, 74],\n",
              " [74, 25, 2967],\n",
              " [2967, 0, 25],\n",
              " [25, 1258, 0],\n",
              " [0, 1, 1258],\n",
              " [1258, 288, 1],\n",
              " [1, 1555, 288],\n",
              " [288, 160, 1555],\n",
              " [1555, 4324, 160],\n",
              " [160, 2520, 4324],\n",
              " [4324, 422, 2520],\n",
              " [2520, 4, 422],\n",
              " [422, 720, 4],\n",
              " [4, 10692, 720],\n",
              " [720, 18963, 10692],\n",
              " [10692, 31, 18963],\n",
              " [18963, 762, 31],\n",
              " [31, 232, 762],\n",
              " [762, 986, 232],\n",
              " [232, 74, 986],\n",
              " [986, 30, 74],\n",
              " [74, 184, 30],\n",
              " [30, 109, 184],\n",
              " [184, 6, 109],\n",
              " [109, 740, 6],\n",
              " [6, 3272, 740],\n",
              " [740, 24, 3272],\n",
              " [3272, 912, 24],\n",
              " [24, 6, 912],\n",
              " [912, 0, 6],\n",
              " [6, 327, 0],\n",
              " [0, 1, 327],\n",
              " [327, 492, 1],\n",
              " [1, 14583, 492],\n",
              " [492, 16, 14583],\n",
              " [14583, 948, 16],\n",
              " [16, 39, 948],\n",
              " [948, 2025, 39],\n",
              " [39, 207, 2025],\n",
              " [2025, 124, 207],\n",
              " [207, 741, 124],\n",
              " [124, 523, 741],\n",
              " [741, 1818, 523],\n",
              " [523, 2, 1818],\n",
              " [1818, 29, 2],\n",
              " [2, 2985, 29],\n",
              " [29, 39, 2985],\n",
              " [2985, 1021, 39],\n",
              " [39, 4, 1021],\n",
              " [1021, 0, 4],\n",
              " [4, 854, 0],\n",
              " [0, 1, 854],\n",
              " [854, 3, 1],\n",
              " [1, 12, 3],\n",
              " [3, 20, 12],\n",
              " [12, 12, 20],\n",
              " [20, 4, 12],\n",
              " [12, 279, 4],\n",
              " [4, 14583, 279],\n",
              " [279, 16, 14583],\n",
              " [14583, 667, 16],\n",
              " [16, 1, 667],\n",
              " [667, 917, 1],\n",
              " [1, 10, 917],\n",
              " [917, 600, 10],\n",
              " [10, 27, 600],\n",
              " [600, 18, 27],\n",
              " [27, 338, 18],\n",
              " [18, 4, 338],\n",
              " [338, 5, 4],\n",
              " [4, 116, 5],\n",
              " [5, 1, 116],\n",
              " [116, 295, 1],\n",
              " [1, 79, 295],\n",
              " [295, 29, 79],\n",
              " [79, 3573, 29],\n",
              " [29, 2, 3573],\n",
              " [3573, 60, 2],\n",
              " [2, 26, 60],\n",
              " [60, 6440, 26],\n",
              " [26, 4190, 6440],\n",
              " [6440, 1, 4190],\n",
              " [4190, 45, 1],\n",
              " [1, 1, 45],\n",
              " [45, 29, 1],\n",
              " [1, 948, 29],\n",
              " [29, 13, 948],\n",
              " [948, 50, 13],\n",
              " [13, 2159, 50],\n",
              " [50, 1589, 2159],\n",
              " [2159, 63, 1589],\n",
              " [1589, 673, 63],\n",
              " [63, 2752, 673],\n",
              " [673, 26669, 2752],\n",
              " [2752, 16, 26669],\n",
              " [26669, 15683, 16],\n",
              " [16, 4, 15683],\n",
              " [15683, 29, 4],\n",
              " [4, 0, 29],\n",
              " [29, 10479, 0],\n",
              " [0, 2, 10479],\n",
              " [10479, 43, 2],\n",
              " [2, 171, 43],\n",
              " [43, 26669, 171],\n",
              " [171, 1460, 26669],\n",
              " [26669, 19, 1460],\n",
              " [1460, 53, 19],\n",
              " [19, 661, 53],\n",
              " [53, 1045, 661],\n",
              " [661, 339, 1045],\n",
              " [1045, 1775, 339],\n",
              " [339, 115, 1775],\n",
              " [1775, 0, 115],\n",
              " [115, 2583, 0],\n",
              " [0, 1, 2583],\n",
              " [2583, 97, 1],\n",
              " [1, 917, 97],\n",
              " [97, 11, 917],\n",
              " [917, 5, 11],\n",
              " [11, 282, 5],\n",
              " [5, 375, 282],\n",
              " [282, 440, 375],\n",
              " [375, 4, 440],\n",
              " [440, 138, 4],\n",
              " [4, 2, 138],\n",
              " [138, 0, 2],\n",
              " [2, 141, 0],\n",
              " [0, 2583, 141],\n",
              " [141, 1, 2583],\n",
              " [2583, 398, 1],\n",
              " [1, 39, 398],\n",
              " [398, 4589, 39],\n",
              " [39, 20968, 4589],\n",
              " [4589, 28, 20968],\n",
              " [20968, 9233, 28],\n",
              " [28, 4, 9233],\n",
              " [9233, 0, 4],\n",
              " [4, 940, 0],\n",
              " [0, 1976, 940],\n",
              " [940, 1, 1976],\n",
              " [1976, 398, 1],\n",
              " [1, 19, 398],\n",
              " [398, 0, 19],\n",
              " [19, 1131, 0],\n",
              " [0, 26, 1131],\n",
              " [1131, 43, 26],\n",
              " [26, 1728, 43],\n",
              " [43, 35, 1728],\n",
              " [1728, 5212, 35],\n",
              " [35, 15683, 5212],\n",
              " [5212, 2, 15683],\n",
              " [15683, 5, 2],\n",
              " [2, 137, 5],\n",
              " [5, 1, 137],\n",
              " [137, 4, 1],\n",
              " [1, 34, 4],\n",
              " [4, 1131, 34],\n",
              " [34, 74, 1131],\n",
              " [1131, 9767, 74],\n",
              " [74, 4, 9767],\n",
              " [9767, 5827, 4],\n",
              " [4, 1, 5827],\n",
              " [5827, 51081, 1],\n",
              " [1, 65, 51081],\n",
              " [51081, 62, 65],\n",
              " [65, 27, 62],\n",
              " [62, 18, 27],\n",
              " [27, 4, 18],\n",
              " [18, 44, 4],\n",
              " [4, 487, 44],\n",
              " [44, 762, 487],\n",
              " [487, 6, 762],\n",
              " [762, 162, 6],\n",
              " [6, 83, 162],\n",
              " [162, 13, 83],\n",
              " [83, 131, 13],\n",
              " [13, 917, 131],\n",
              " [131, 703, 917],\n",
              " [917, 1145, 703],\n",
              " [703, 89, 1145],\n",
              " [1145, 130, 89],\n",
              " [89, 514, 130],\n",
              " [130, 13140, 514],\n",
              " [514, 5573, 13140],\n",
              " [13140, 350, 5573],\n",
              " [5573, 6, 350],\n",
              " [350, 369, 6],\n",
              " [6, 6, 369],\n",
              " [369, 4109, 6],\n",
              " [6, 0, 4109],\n",
              " [4109, 1798, 0],\n",
              " [0, 6, 1798],\n",
              " [1798, 131, 6],\n",
              " [6, 5464, 131],\n",
              " [131, 917, 5464],\n",
              " [5464, 2, 917],\n",
              " [917, 204, 2],\n",
              " [2, 70, 204],\n",
              " [204, 38, 70],\n",
              " [70, 4, 38],\n",
              " [38, 620, 4],\n",
              " [4, 176, 620],\n",
              " [620, 19, 176],\n",
              " [176, 10, 19],\n",
              " [19, 620, 10],\n",
              " [10, 171, 620],\n",
              " [620, 83, 171],\n",
              " [171, 206, 83],\n",
              " [83, 11, 206],\n",
              " [206, 70, 11],\n",
              " [11, 6188, 70],\n",
              " [70, 9065, 6188],\n",
              " [6188, 11, 9065],\n",
              " [9065, 7192, 11],\n",
              " [11, 70, 7192],\n",
              " [7192, 1225, 70],\n",
              " [70, 0, 1225],\n",
              " [1225, 34607, 0],\n",
              " [0, 1, 34607],\n",
              " [34607, 0, 1],\n",
              " [1, 1798, 0],\n",
              " [0, 26669, 1798],\n",
              " [1798, 335, 26669],\n",
              " [26669, 93, 335],\n",
              " [335, 417, 93],\n",
              " [93, 31, 417],\n",
              " [417, 4780, 31],\n",
              " [31, 35, 4780],\n",
              " [4780, 1045, 35],\n",
              " [35, 65, 1045],\n",
              " [1045, 0, 65],\n",
              " [65, 2760, 0],\n",
              " [0, 43032, 2760],\n",
              " [2760, 2069, 43032],\n",
              " [43032, 29, 2069],\n",
              " [2069, 948, 29],\n",
              " [29, 39, 948],\n",
              " [948, 2025, 39],\n",
              " [39, 23, 2025],\n",
              " [2025, 51, 23],\n",
              " [23, 9961, 51],\n",
              " [51, 7089, 9961],\n",
              " [9961, 139, 7089],\n",
              " [7089, 4190, 139],\n",
              " [139, 1, 4190],\n",
              " [4190, 29, 1],\n",
              " [1, 526, 29],\n",
              " [29, 26, 526],\n",
              " [526, 3236, 26],\n",
              " [26, 64, 3236],\n",
              " [3236, 10304, 64],\n",
              " [64, 5233, 10304],\n",
              " [10304, 3244, 5233],\n",
              " [5233, 9653, 3244],\n",
              " [3244, 4, 9653],\n",
              " [9653, 3, 4],\n",
              " [4, 12, 3],\n",
              " [3, 9, 12],\n",
              " ...]"
            ]
          },
          "metadata": {},
          "execution_count": 7
        }
      ],
      "source": [
        "# These are (wc, wo) pairs. All are y = +1 by design\n",
        "train_x_list"
      ]
    },
    {
      "cell_type": "code",
      "execution_count": 8,
      "id": "316df1dc",
      "metadata": {
        "id": "316df1dc"
      },
      "outputs": [],
      "source": [
        "# The number of things of BATCH_SIZE = 512\n",
        "assert(len(train_x_list) // BATCH_SIZE == 32579)"
      ]
    },
    {
      "cell_type": "code",
      "execution_count": 9,
      "id": "8012d03d",
      "metadata": {
        "id": "8012d03d",
        "colab": {
          "base_uri": "https://localhost:8080/",
          "height": 0
        },
        "outputId": "4336b122-c46e-4fad-c25d-1c0fbd802ed7"
      },
      "outputs": [
        {
          "output_type": "stream",
          "name": "stdout",
          "text": [
            "<class 'list'>\n"
          ]
        }
      ],
      "source": [
        "print(type(train_x_list))\n"
      ]
    },
    {
      "cell_type": "markdown",
      "id": "488c3519",
      "metadata": {
        "id": "488c3519"
      },
      "source": [
        "### Set up the dataloader."
      ]
    },
    {
      "cell_type": "code",
      "execution_count": 10,
      "id": "2e31ae4b",
      "metadata": {
        "id": "2e31ae4b"
      },
      "outputs": [],
      "source": [
        "train_dl = DataLoader(\n",
        "    TensorDataset(\n",
        "        torch.tensor(train_x_list).to(DEVICE),\n",
        "    ),\n",
        "    batch_size=BATCH_SIZE,\n",
        "    shuffle=True\n",
        ")"
      ]
    },
    {
      "cell_type": "code",
      "execution_count": 11,
      "id": "e9c42f50",
      "metadata": {
        "id": "e9c42f50"
      },
      "outputs": [],
      "source": [
        "for xb in train_dl:\n",
        "    assert(xb[0].shape == (BATCH_SIZE, 3))\n",
        "    break"
      ]
    },
    {
      "cell_type": "code",
      "execution_count": null,
      "id": "8c949153",
      "metadata": {
        "id": "8c949153"
      },
      "outputs": [],
      "source": []
    },
    {
      "cell_type": "markdown",
      "id": "12d93d22",
      "metadata": {
        "id": "12d93d22"
      },
      "source": [
        "### Words we'll use to asses the quality of the model ..."
      ]
    },
    {
      "cell_type": "code",
      "execution_count": 44,
      "id": "ffada8d0",
      "metadata": {
        "id": "ffada8d0"
      },
      "outputs": [],
      "source": [
        "valid_ids = torch.tensor([\n",
        "    stoi['money'],\n",
        "    stoi['lion'],\n",
        "    stoi['africa'],\n",
        "    stoi['musician'],\n",
        "    stoi['dance'],\n",
        "])"
      ]
    },
    {
      "cell_type": "code",
      "execution_count": null,
      "id": "867d3a88",
      "metadata": {
        "id": "867d3a88"
      },
      "outputs": [],
      "source": []
    },
    {
      "cell_type": "markdown",
      "id": "64096cd8",
      "metadata": {
        "id": "64096cd8"
      },
      "source": [
        "### Get the model."
      ]
    },
    {
      "cell_type": "code",
      "execution_count": 45,
      "id": "dc51c359",
      "metadata": {
        "id": "dc51c359"
      },
      "outputs": [],
      "source": [
        "class CBOWNegativeSampling(nn.Module):\n",
        "    def __init__(self, vocab_size, embed_dim):\n",
        "        super(CBOWNegativeSampling, self).__init__()\n",
        "        self.A = nn.Embedding(vocab_size, embed_dim) # Context vectors - center word\n",
        "        self.B = nn.Embedding(vocab_size, embed_dim) # Output vectors - words around the center word\n",
        "        self.init_weights()\n",
        "\n",
        "    def init_weights(self):\n",
        "        # Is this the best way? Not sure\n",
        "        initrange = 0.5\n",
        "        self.A.weight.data.uniform_(-initrange, initrange)\n",
        "        self.B.weight.data.uniform_(-initrange, initrange)\n",
        "\n",
        "    def forward(self, x):\n",
        "        # N is the batch size\n",
        "        # x is (N, 3)\n",
        "\n",
        "        # Context words are 2m things, m = 1 so w_context is (N, 2) while wc is (N, 1)\n",
        "        w_context, wc = x[:, 0:2], x[:, 2]\n",
        "\n",
        "\n",
        "\n",
        "        # Each of these is (N, 2, D) since each context has 2 word\n",
        "        # We want this to be (N, D) and this is what we get\n",
        "\n",
        "        # (N, 2, D)\n",
        "        a = self.A(w_context)\n",
        "\n",
        "        # (N, D)\n",
        "        a_avg = torch.mean(a, dim=1)\n",
        "\n",
        "\n",
        "        # Each of these is (N, D) since each target has 1 word\n",
        "        b = self.A(wc)\n",
        "\n",
        "        # The product between each context and target vector. Look at the Skip-Gram code.\n",
        "        # The logits is now (N, 1) since we sum across the final dimension.\n",
        "        logits = (a * b).sum(axis=-1)\n",
        "\n",
        "        return logits"
      ]
    },
    {
      "cell_type": "code",
      "source": [
        "class CBOWNegativeSampling(nn.Module):\n",
        "    def __init__(self, vocab_size, embed_dim):\n",
        "        super(CBOWNegativeSampling, self).__init__()\n",
        "        self.A = nn.Embedding(vocab_size, embed_dim)  # Context vectors - center word.\n",
        "        self.B = nn.Embedding(vocab_size, embed_dim)  # Output vectors - words around the center word\n",
        "        self.init_weights()\n",
        "\n",
        "    def init_weights(self):\n",
        "        # Is this the best way? Not sure\n",
        "        initrange = 0.5\n",
        "        self.A.weight.data.uniform_(-initrange, initrange)\n",
        "        self.B.weight.data.uniform_(-initrange, initrange)\n",
        "\n",
        "    def forward(self, x):\n",
        "        # N is the batch size\n",
        "        # x is (N, 3)\n",
        "        # Context words are 2m things, m = 1 so w_context is (N, 2) while wc is (N, 1)\n",
        "        w_context, wc = x[:, :-1], x[:, -1]\n",
        "        # Each of these is (N, 2, D) since each context has 2 word\n",
        "        # We want this to be (N, D) and this is what we get\n",
        "        # (N, 2, D)\n",
        "        a = self.A(w_context)\n",
        "        # (N, D)\n",
        "        a_avg = a.mean(axis=1)\n",
        "        # Each of these is (N, D) since each target has 1 word\n",
        "        b = self.B(wc)\n",
        "        # The product between each context and target vector. Look at the Skip-Gram code.\n",
        "        # The logits is now (N, 1) since we sum across the final dimension.\n",
        "        logits = (a_avg * b).sum(axis=-1)\n",
        "        return logits\n"
      ],
      "metadata": {
        "id": "1fAt45EB-LFY"
      },
      "id": "1fAt45EB-LFY",
      "execution_count": 46,
      "outputs": []
    },
    {
      "cell_type": "code",
      "execution_count": null,
      "id": "7ae817c1",
      "metadata": {
        "id": "7ae817c1"
      },
      "outputs": [],
      "source": []
    },
    {
      "cell_type": "code",
      "execution_count": 47,
      "id": "ed9c509d",
      "metadata": {
        "id": "ed9c509d"
      },
      "outputs": [],
      "source": [
        "@torch.no_grad()\n",
        "def validate_embeddings(\n",
        "    model,\n",
        "    valid_ids,\n",
        "    itos\n",
        "):\n",
        "    \"\"\" Validation logic \"\"\"\n",
        "\n",
        "    # We will use context embeddings to get the most similar words\n",
        "    # Other strategies include: using target embeddings, mean embeddings after avaraging context/target\n",
        "    embedding_weights = model.A.weight\n",
        "\n",
        "    normalized_embeddings = embedding_weights.cpu() / np.sqrt(\n",
        "        np.sum(embedding_weights.cpu().numpy()**2, axis=1, keepdims=True)\n",
        "    )\n",
        "\n",
        "    # Get the embeddings corresponding to valid_term_ids\n",
        "    valid_embeddings = normalized_embeddings[valid_ids, :]\n",
        "\n",
        "    # Compute the similarity between valid_term_ids (S) and all the embeddings (V)\n",
        "    # We do S x d (d x V) => S x D and sort by negative similarity\n",
        "    top_k = 10 # Top k items will be displayed\n",
        "    similarity = np.dot(valid_embeddings.cpu().numpy(), normalized_embeddings.cpu().numpy().T)\n",
        "\n",
        "    # Invert similarity matrix to negative\n",
        "    # Ignore the first one because that would be the same word as the probe word\n",
        "    similarity_top_k = np.argsort(-similarity, axis=1)[:, 1: top_k+1]\n",
        "\n",
        "    # Print the output.\n",
        "    for i, word_id in enumerate(valid_ids):\n",
        "        # j >= 1 here since we don't want to include the word itself.\n",
        "        similar_word_str = ', '.join([itos[j] for j in similarity_top_k[i, :] if j >= 1])\n",
        "        print(f\"{itos[word_id]}: {similar_word_str}\")\n",
        "\n",
        "    print('\\n')"
      ]
    },
    {
      "cell_type": "code",
      "execution_count": null,
      "id": "b0c194b8",
      "metadata": {
        "id": "b0c194b8"
      },
      "outputs": [],
      "source": []
    },
    {
      "cell_type": "markdown",
      "id": "3b3c6ed5",
      "metadata": {
        "id": "3b3c6ed5"
      },
      "source": [
        "### Set up the model"
      ]
    },
    {
      "cell_type": "code",
      "execution_count": 40,
      "id": "16da95d1",
      "metadata": {
        "id": "16da95d1"
      },
      "outputs": [],
      "source": [
        "LR = 10.0\n",
        "NUM_EPOCHS = 10\n",
        "EMBED_DIM = 300"
      ]
    },
    {
      "cell_type": "code",
      "execution_count": 41,
      "id": "cef585f4",
      "metadata": {
        "id": "cef585f4"
      },
      "outputs": [],
      "source": [
        "model = CBOWNegativeSampling(len(VOCAB), EMBED_DIM).to(DEVICE)\n",
        "optimizer = torch.optim.SGD(model.parameters(), lr=LR)\n",
        "\n",
        "# The learning rate is lowered every epoch by 1/10\n",
        "# Is this a good idea?\n",
        "scheduler = torch.optim.lr_scheduler.StepLR(optimizer, 1, gamma=0.1)"
      ]
    },
    {
      "cell_type": "code",
      "execution_count": 42,
      "id": "f8a642bf",
      "metadata": {
        "id": "f8a642bf",
        "colab": {
          "base_uri": "https://localhost:8080/",
          "height": 0
        },
        "outputId": "471b6dbc-6b10-4e4c-8166-036b4c9cc60e"
      },
      "outputs": [
        {
          "output_type": "execute_result",
          "data": {
            "text/plain": [
              "CBOWNegativeSampling(\n",
              "  (A): Embedding(63641, 300)\n",
              "  (B): Embedding(63641, 300)\n",
              ")"
            ]
          },
          "metadata": {},
          "execution_count": 42
        }
      ],
      "source": [
        "model"
      ]
    },
    {
      "cell_type": "code",
      "execution_count": 48,
      "id": "85773616",
      "metadata": {
        "id": "85773616",
        "colab": {
          "base_uri": "https://localhost:8080/",
          "height": 0
        },
        "outputId": "f7516eb1-8349-4c6a-883d-5a7ecadf530a"
      },
      "outputs": [
        {
          "output_type": "stream",
          "name": "stdout",
          "text": [
            "money: interrelated, reconciled, submarine, moulding, despise, ewing, hourly, undocked, ojibwa, dicke\n",
            "lion: significantly, paris, scripting, fishmonger, thai, egoism, doodle, indoor, swell, samson\n",
            "africa: archive, actinopterygii, ahriman, anicetus, denaturation, jasper, modena, sacagawea, redirected, coastlines\n",
            "musician: purveyor, applying, permaculture, impose, butch, geelong, mails, embellishment, knoxville, expedited\n",
            "dance: lees, anarcha, preface, intentional, cvc, falcon, balding, biting, nontechnical, mind\n",
            "\n",
            "\n"
          ]
        }
      ],
      "source": [
        "validate_embeddings(model, valid_ids, itos)"
      ]
    },
    {
      "cell_type": "code",
      "execution_count": null,
      "id": "66075f5e",
      "metadata": {
        "id": "66075f5e"
      },
      "outputs": [],
      "source": []
    },
    {
      "cell_type": "markdown",
      "id": "86476e2a",
      "metadata": {
        "id": "86476e2a"
      },
      "source": [
        "### Train the model"
      ]
    },
    {
      "cell_type": "code",
      "source": [
        "ratios = []\n",
        "\n",
        "def train(dataloader, model, optimizer, epoch):\n",
        "    model.train()\n",
        "    total_acc, total_count, total_loss, total_batches = 0, 0, 0.0, 0.0\n",
        "    log_interval = 500\n",
        "\n",
        "    for idx, x_batch in tqdm(enumerate(dataloader)):\n",
        "        x_batch = x_batch[0]\n",
        "        batch_size = x_batch.shape[0]\n",
        "\n",
        "        # Zero the gradient so they don't accumulate\n",
        "        optimizer.zero_grad()\n",
        "\n",
        "        logits = model(x_batch)\n",
        "\n",
        "        # Get the positive samples loss. Notice we use weights here\n",
        "        positive_loss = torch.nn.BCEWithLogitsLoss()(input=logits, target=torch.ones(batch_size).to(DEVICE).float())\n",
        "\n",
        "        # For each batch, get some negative samples\n",
        "        # We need a total of len(y_batch) * K samples across a batch\n",
        "        # We then reshape this batch\n",
        "        # These are effectively the output words\n",
        "        negative_samples = torch.multinomial(p, batch_size * K, replacement=True)\n",
        "\n",
        "        # Context words are 2m things, m = 1 so w_context is (N, 2) while wc is (N, 1)\n",
        "        w_context, wc = x_batch[:, :-1], x_batch[:, -1]\n",
        "\n",
        "        \"\"\"\n",
        "        if w_context looks like below (batch_size = 3)\n",
        "        [\n",
        "        (a, b),\n",
        "        (c, d),\n",
        "        (e, f)\n",
        "        ] and K = 2 we'd like to get:\n",
        "        [\n",
        "        (a, b),\n",
        "        (a, b),\n",
        "        (c, d),\n",
        "        (c, d),\n",
        "        (e, f),\n",
        "        (e, f)\n",
        "        ]\n",
        "        This will be batch_size * K rows.\n",
        "        \"\"\"\n",
        "\n",
        "        # This should be (N * K, 2)\n",
        "        w_context = torch.concat([w.repeat(K, 1) for w in torch.tensor(w_context).split(1)])\n",
        "\n",
        "        # Remove the last dimension 1\n",
        "        wc = negative_samples.unsqueeze(-1)\n",
        "\n",
        "        # Get the negative samples. This should be (N * K, 3)\n",
        "        # Concatenate the w_context and wc along the column. Make sure everything is on CUDA / MPS or CPU\n",
        "        x_batch_negative = torch.concat([w_context, wc.to(DEVICE)], axis=1)\n",
        "\n",
        "        \"\"\"\n",
        "        Note the way we formulated the targets: they are all 0 since these are negative samples.\n",
        "        We do the BCEWithLogitsLoss by hand basically here.\n",
        "        Notice we sum across the negative samples, per positive word.\n",
        "        This is literally the equation in the lecture notes.\n",
        "        \"\"\"\n",
        "\n",
        "        # (N, K, D) -> (N, D) -> (N)\n",
        "        # Look at the Skip-Gram notebook\n",
        "        negative_loss = model(x_batch_negative).neg().sigmoid().log().reshape(batch_size, K).sum(1).mean().neg().to(DEVICE)\n",
        "        loss = (positive_loss + negative_loss).mean()\n",
        "\n",
        "        # Get the gradients via back propagation.\n",
        "        loss.backward()\n",
        "\n",
        "        # Do an optimization step.\n",
        "        optimizer.step()\n",
        "\n",
        "        total_loss += loss.item()\n",
        "        total_batches += 1\n",
        "\n",
        "        if idx % log_interval == 0:\n",
        "            print(\"| epoch {:3d} | {:5d}/{:5d} batches | loss {:8.3f} \".format(epoch, idx, len(dataloader), total_loss / total_batches))\n",
        "            validate_embeddings(model, valid_ids, itos)\n",
        "            total_loss, total_batches = 0.0, 0.0\n"
      ],
      "metadata": {
        "id": "o0_eLj2u-3G4"
      },
      "id": "o0_eLj2u-3G4",
      "execution_count": 53,
      "outputs": []
    },
    {
      "cell_type": "markdown",
      "id": "0764d675",
      "metadata": {
        "id": "0764d675"
      },
      "source": [
        "### Some results from the run look like below:\n",
        "\n",
        "Somewhere inside of 2 iterations you should get sensible associattions.\n",
        "Paste here a screenshot of the closest vectors."
      ]
    },
    {
      "cell_type": "code",
      "execution_count": null,
      "id": "a9e02c09",
      "metadata": {
        "id": "a9e02c09",
        "outputId": "a1ec3084-0367-4967-d0af-2014391b821c",
        "colab": {
          "base_uri": "https://localhost:8080/"
        }
      },
      "outputs": [
        {
          "metadata": {
            "tags": null
          },
          "name": "stderr",
          "output_type": "stream",
          "text": [
            "0it [00:00, ?it/s]<ipython-input-53-448348fcc4aa>:48: UserWarning: To copy construct from a tensor, it is recommended to use sourceTensor.clone().detach() or sourceTensor.clone().detach().requires_grad_(True), rather than torch.tensor(sourceTensor).\n",
            "  w_context = torch.concat([w.repeat(K, 1) for w in torch.tensor(w_context).split(1)])\n",
            "1it [00:01,  1.67s/it]"
          ]
        },
        {
          "metadata": {
            "tags": null
          },
          "name": "stdout",
          "output_type": "stream",
          "text": [
            "| epoch   1 |     0/32580 batches | loss    2.106 \n",
            "money: days, being, city, early, using, group, science, down, c, east\n",
            "lion: significantly, paris, scripting, egoism, indoor, doodle, swell, thai, coherency, adding\n",
            "africa: name, although, nine, by, early, six, so, two, four, after\n",
            "musician: support, analogy, september, purveyor, v, under, presidio, maximilian, geelong, applying\n",
            "dance: view, mind, preface, subject, having, algol, formed, orange, biting, spent\n",
            "\n",
            "\n"
          ]
        },
        {
          "metadata": {
            "tags": null
          },
          "name": "stderr",
          "output_type": "stream",
          "text": [
            "501it [01:31,  4.95it/s]"
          ]
        },
        {
          "metadata": {
            "tags": null
          },
          "name": "stdout",
          "output_type": "stream",
          "text": [
            "| epoch   1 |   500/32580 batches | loss    1.971 \n",
            "money: days, being, early, city, using, group, east, science, down, court\n",
            "lion: significantly, paris, scripting, egoism, indoor, doodle, swell, coherency, adding, thai\n",
            "africa: name, nine, early, although, by, eight, t, with, after, so\n",
            "musician: support, september, v, name, language, analogy, under, purveyor, one, while\n",
            "dance: view, mind, having, subject, period, preface, name, spent, power, formed\n",
            "\n",
            "\n"
          ]
        },
        {
          "metadata": {
            "tags": null
          },
          "name": "stderr",
          "output_type": "stream",
          "text": [
            "1001it [02:56,  5.18it/s]"
          ]
        },
        {
          "metadata": {
            "tags": null
          },
          "name": "stdout",
          "output_type": "stream",
          "text": [
            "| epoch   1 |  1000/32580 batches | loss    1.912 \n",
            "money: days, city, early, being, using, court, her, down, group, him\n",
            "lion: significantly, paris, scripting, egoism, indoor, doodle, hidden, coherency, thai, adding\n",
            "africa: name, nine, early, although, t, him, eight, zero, with, like\n",
            "musician: support, name, september, v, under, city, language, while, party, so\n",
            "dance: view, subject, having, mind, power, support, formed, spent, period, generally\n",
            "\n",
            "\n"
          ]
        },
        {
          "metadata": {
            "tags": null
          },
          "name": "stderr",
          "output_type": "stream",
          "text": [
            "1501it [04:27,  4.46it/s]"
          ]
        },
        {
          "metadata": {
            "tags": null
          },
          "name": "stdout",
          "output_type": "stream",
          "text": [
            "| epoch   1 |  1500/32580 batches | loss    1.864 \n",
            "money: days, being, early, using, city, court, down, group, thus, him\n",
            "lion: significantly, paris, scripting, egoism, indoor, adding, hidden, unable, provide, doodle\n",
            "africa: name, early, although, nine, t, him, with, like, six, military\n",
            "musician: support, name, september, v, so, under, city, party, due, later\n",
            "dance: view, subject, having, mind, power, book, generally, name, land, support\n",
            "\n",
            "\n"
          ]
        },
        {
          "metadata": {
            "tags": null
          },
          "name": "stderr",
          "output_type": "stream",
          "text": [
            "2001it [06:01,  4.74it/s]"
          ]
        },
        {
          "metadata": {
            "tags": null
          },
          "name": "stdout",
          "output_type": "stream",
          "text": [
            "| epoch   1 |  2000/32580 batches | loss    1.826 \n",
            "money: days, early, city, court, down, using, being, group, can, her\n",
            "lion: significantly, paris, scripting, indoor, egoism, provide, adding, hidden, unable, doodle\n",
            "africa: name, early, nine, although, t, with, military, like, by, him\n",
            "musician: support, september, name, so, v, while, city, due, party, various\n",
            "dance: view, having, subject, book, name, mind, power, support, land, generally\n",
            "\n",
            "\n"
          ]
        },
        {
          "metadata": {
            "tags": null
          },
          "name": "stderr",
          "output_type": "stream",
          "text": [
            "2501it [07:38,  4.14it/s]"
          ]
        },
        {
          "metadata": {
            "tags": null
          },
          "name": "stdout",
          "output_type": "stream",
          "text": [
            "| epoch   1 |  2500/32580 batches | loss    1.785 \n",
            "money: days, early, city, using, court, down, thus, her, can, him\n",
            "lion: significantly, paris, scripting, indoor, egoism, provide, adding, hidden, unable, doodle\n",
            "africa: name, early, with, nine, like, although, by, military, eight, t\n",
            "musician: name, september, support, so, v, while, city, party, due, right\n",
            "dance: view, having, subject, book, name, generally, support, land, power, mind\n",
            "\n",
            "\n"
          ]
        },
        {
          "metadata": {
            "tags": null
          },
          "name": "stderr",
          "output_type": "stream",
          "text": [
            "3001it [09:09,  5.18it/s]"
          ]
        },
        {
          "metadata": {
            "tags": null
          },
          "name": "stdout",
          "output_type": "stream",
          "text": [
            "| epoch   1 |  3000/32580 batches | loss    1.747 \n",
            "money: days, early, using, city, court, down, thus, human, can, along\n",
            "lion: significantly, paris, scripting, provide, indoor, egoism, adding, unable, hidden, movie\n",
            "africa: early, name, like, with, nine, by, eight, through, military, although\n",
            "musician: september, support, name, so, city, party, while, v, right, software\n",
            "dance: view, subject, generally, having, book, area, land, name, mind, support\n",
            "\n",
            "\n"
          ]
        },
        {
          "metadata": {
            "tags": null
          },
          "name": "stderr",
          "output_type": "stream",
          "text": [
            "3501it [10:48,  4.01it/s]"
          ]
        },
        {
          "metadata": {
            "tags": null
          },
          "name": "stdout",
          "output_type": "stream",
          "text": [
            "| epoch   1 |  3500/32580 batches | loss    1.724 \n",
            "money: days, early, using, city, down, thus, court, along, her, can\n",
            "lion: significantly, paris, scripting, provide, indoor, adding, egoism, movie, unable, hidden\n",
            "africa: like, nine, early, with, name, military, through, states, now, t\n",
            "musician: september, support, name, party, city, so, while, culture, due, one\n",
            "dance: view, generally, subject, having, area, book, land, mind, support, name\n",
            "\n",
            "\n"
          ]
        },
        {
          "metadata": {
            "tags": null
          },
          "name": "stderr",
          "output_type": "stream",
          "text": [
            "4001it [12:21,  3.89it/s]"
          ]
        },
        {
          "metadata": {
            "tags": null
          },
          "name": "stdout",
          "output_type": "stream",
          "text": [
            "| epoch   1 |  4000/32580 batches | loss    1.701 \n",
            "money: days, early, along, down, using, thus, city, court, human, until\n",
            "lion: significantly, paris, scripting, provide, adding, indoor, egoism, movie, unable, cities\n",
            "africa: nine, like, early, with, now, through, eight, military, william, name\n",
            "musician: support, september, name, so, culture, while, city, party, site, due\n",
            "dance: view, generally, subject, book, land, having, area, support, name, mind\n",
            "\n",
            "\n"
          ]
        },
        {
          "metadata": {
            "tags": null
          },
          "name": "stderr",
          "output_type": "stream",
          "text": [
            "4501it [13:51,  4.86it/s]"
          ]
        },
        {
          "metadata": {
            "tags": null
          },
          "name": "stdout",
          "output_type": "stream",
          "text": [
            "| epoch   1 |  4500/32580 batches | loss    1.676 \n",
            "money: days, early, along, down, thus, using, human, city, court, until\n",
            "lion: significantly, paris, scripting, provide, adding, indoor, unable, movie, cities, egoism\n",
            "africa: like, nine, with, william, early, by, eight, through, now, name\n",
            "musician: support, september, name, culture, party, while, nine, so, like, site\n",
            "dance: view, generally, subject, area, land, having, book, support, mind, name\n",
            "\n",
            "\n"
          ]
        },
        {
          "metadata": {
            "tags": null
          },
          "name": "stderr",
          "output_type": "stream",
          "text": [
            "5001it [15:23,  5.01it/s]"
          ]
        },
        {
          "metadata": {
            "tags": null
          },
          "name": "stdout",
          "output_type": "stream",
          "text": [
            "| epoch   1 |  5000/32580 batches | loss    1.653 \n",
            "money: days, along, early, using, down, city, human, thus, court, until\n",
            "lion: significantly, paris, provide, scripting, adding, unable, indoor, movie, cities, egoism\n",
            "africa: like, nine, with, by, william, early, now, held, eight, through\n",
            "musician: september, support, culture, name, so, nine, like, site, while, party\n",
            "dance: view, generally, subject, area, land, having, support, book, works, elements\n",
            "\n",
            "\n"
          ]
        },
        {
          "metadata": {
            "tags": null
          },
          "name": "stderr",
          "output_type": "stream",
          "text": [
            "5501it [16:53,  5.00it/s]"
          ]
        },
        {
          "metadata": {
            "tags": null
          },
          "name": "stdout",
          "output_type": "stream",
          "text": [
            "| epoch   1 |  5500/32580 batches | loss    1.636 \n",
            "money: days, along, early, down, using, human, thus, city, group, until\n",
            "lion: significantly, paris, provide, scripting, adding, unable, movie, indoor, cities, constitution\n",
            "africa: nine, like, by, with, william, now, held, early, eight, external\n",
            "musician: culture, september, support, so, name, party, nine, while, like, water\n",
            "dance: view, generally, area, subject, land, book, having, support, works, civil\n",
            "\n",
            "\n"
          ]
        },
        {
          "metadata": {
            "tags": null
          },
          "name": "stderr",
          "output_type": "stream",
          "text": [
            "6001it [18:24,  5.03it/s]"
          ]
        },
        {
          "metadata": {
            "tags": null
          },
          "name": "stdout",
          "output_type": "stream",
          "text": [
            "| epoch   1 |  6000/32580 batches | loss    1.620 \n",
            "money: days, down, early, along, human, thus, using, city, then, until\n",
            "lion: significantly, paris, provide, scripting, adding, unable, movie, cities, indoor, constitution\n",
            "africa: nine, like, by, william, with, now, external, held, player, eight\n",
            "musician: culture, september, support, so, nine, party, various, while, name, like\n",
            "dance: view, generally, area, subject, land, support, book, having, works, elements\n",
            "\n",
            "\n"
          ]
        },
        {
          "metadata": {
            "tags": null
          },
          "name": "stderr",
          "output_type": "stream",
          "text": [
            "6501it [19:53,  4.11it/s]"
          ]
        },
        {
          "metadata": {
            "tags": null
          },
          "name": "stdout",
          "output_type": "stream",
          "text": [
            "| epoch   1 |  6500/32580 batches | loss    1.606 \n",
            "money: days, along, down, early, thus, human, using, then, population, group\n",
            "lion: significantly, paris, provide, adding, scripting, unable, cities, constitution, movie, policy\n",
            "africa: nine, like, william, external, by, with, now, held, player, god\n",
            "musician: culture, september, support, so, writer, nine, with, like, party, later\n",
            "dance: view, area, generally, subject, land, having, support, works, elements, jewish\n",
            "\n",
            "\n"
          ]
        },
        {
          "metadata": {
            "tags": null
          },
          "name": "stderr",
          "output_type": "stream",
          "text": [
            "7001it [21:24,  4.95it/s]"
          ]
        },
        {
          "metadata": {
            "tags": null
          },
          "name": "stdout",
          "output_type": "stream",
          "text": [
            "| epoch   1 |  7000/32580 batches | loss    1.585 \n",
            "money: days, along, down, early, thus, using, human, rules, population, then\n",
            "lion: significantly, paris, provide, unable, adding, scripting, cities, policy, constitution, movie\n",
            "africa: nine, like, player, william, with, external, by, now, eight, held\n",
            "musician: culture, september, support, writer, so, nine, various, while, science, like\n",
            "dance: view, area, generally, subject, land, having, support, works, book, th\n",
            "\n",
            "\n"
          ]
        },
        {
          "metadata": {
            "tags": null
          },
          "name": "stderr",
          "output_type": "stream",
          "text": [
            "7501it [22:53,  5.05it/s]"
          ]
        },
        {
          "metadata": {
            "tags": null
          },
          "name": "stdout",
          "output_type": "stream",
          "text": [
            "| epoch   1 |  7500/32580 batches | loss    1.581 \n",
            "money: days, along, early, thus, using, down, city, human, japanese, rules\n",
            "lion: paris, significantly, provide, adding, unable, constitution, policy, scripting, cities, johnson\n",
            "africa: nine, like, player, external, william, by, with, world, held, zero\n",
            "musician: culture, september, writer, nine, support, with, like, various, party, singer\n",
            "dance: view, generally, area, subject, land, having, works, support, making, civil\n",
            "\n",
            "\n"
          ]
        },
        {
          "metadata": {
            "tags": null
          },
          "name": "stderr",
          "output_type": "stream",
          "text": [
            "8001it [24:24,  4.92it/s]"
          ]
        },
        {
          "metadata": {
            "tags": null
          },
          "name": "stdout",
          "output_type": "stream",
          "text": [
            "| epoch   1 |  8000/32580 batches | loss    1.562 \n",
            "money: days, along, early, thus, using, city, down, japanese, rules, population\n",
            "lion: paris, significantly, provide, adding, unable, policy, cities, constitution, johnson, scripting\n",
            "africa: nine, like, player, william, external, by, held, world, with, god\n",
            "musician: culture, september, writer, nine, support, various, science, with, singer, city\n",
            "dance: view, generally, area, subject, land, elements, th, having, works, jewish\n",
            "\n",
            "\n"
          ]
        },
        {
          "metadata": {
            "tags": null
          },
          "name": "stderr",
          "output_type": "stream",
          "text": [
            "8501it [25:54,  3.98it/s]"
          ]
        },
        {
          "metadata": {
            "tags": null
          },
          "name": "stdout",
          "output_type": "stream",
          "text": [
            "| epoch   1 |  8500/32580 batches | loss    1.544 \n",
            "money: days, along, early, thus, using, japanese, human, city, rules, population\n",
            "lion: significantly, paris, provide, unable, adding, constitution, cities, policy, johnson, peter\n",
            "africa: nine, player, like, william, external, held, world, irish, god, by\n",
            "musician: culture, writer, september, nine, singer, science, so, william, support, th\n",
            "dance: area, view, generally, subject, land, elements, th, difficult, having, jewish\n",
            "\n",
            "\n"
          ]
        },
        {
          "metadata": {
            "tags": null
          },
          "name": "stderr",
          "output_type": "stream",
          "text": [
            "9001it [27:25,  5.00it/s]"
          ]
        },
        {
          "metadata": {
            "tags": null
          },
          "name": "stdout",
          "output_type": "stream",
          "text": [
            "| epoch   1 |  9000/32580 batches | loss    1.533 \n",
            "money: days, along, thus, early, using, japanese, court, rules, human, then\n",
            "lion: significantly, paris, provide, unable, adding, constitution, johnson, cities, writer, policy\n",
            "africa: nine, william, player, external, like, irish, held, world, now, with\n",
            "musician: culture, writer, september, singer, nine, science, actress, william, so, like\n",
            "dance: area, view, generally, subject, land, elements, book, difficult, jewish, civil\n",
            "\n",
            "\n"
          ]
        },
        {
          "metadata": {
            "tags": null
          },
          "name": "stderr",
          "output_type": "stream",
          "text": [
            "9501it [28:55,  5.02it/s]"
          ]
        },
        {
          "metadata": {
            "tags": null
          },
          "name": "stdout",
          "output_type": "stream",
          "text": [
            "| epoch   1 |  9500/32580 batches | loss    1.523 \n",
            "money: days, along, thus, using, early, japanese, court, rules, population, human\n",
            "lion: paris, significantly, provide, adding, unable, writer, constitution, johnson, cities, ireland\n",
            "africa: player, nine, external, irish, held, william, like, world, states, community\n",
            "musician: culture, writer, nine, singer, september, science, one, actress, party, william\n",
            "dance: area, view, generally, subject, land, elements, difficult, jewish, civil, th\n",
            "\n",
            "\n"
          ]
        },
        {
          "metadata": {
            "tags": null
          },
          "name": "stderr",
          "output_type": "stream",
          "text": [
            "10001it [30:26,  4.82it/s]"
          ]
        },
        {
          "metadata": {
            "tags": null
          },
          "name": "stdout",
          "output_type": "stream",
          "text": [
            "| epoch   1 | 10000/32580 batches | loss    1.512 \n",
            "money: days, along, using, thus, early, then, court, japanese, rules, population\n",
            "lion: significantly, paris, provide, unable, adding, constitution, writer, johnson, policy, cities\n",
            "africa: player, external, nine, irish, held, william, community, world, like, now\n",
            "musician: culture, writer, singer, september, nine, science, actress, one, god, party\n",
            "dance: area, view, subject, generally, land, elements, difficult, jewish, civil, th\n",
            "\n",
            "\n"
          ]
        },
        {
          "metadata": {
            "tags": null
          },
          "name": "stderr",
          "output_type": "stream",
          "text": [
            "10501it [31:58,  4.64it/s]"
          ]
        },
        {
          "metadata": {
            "tags": null
          },
          "name": "stdout",
          "output_type": "stream",
          "text": [
            "| epoch   1 | 10500/32580 batches | loss    1.506 \n",
            "money: days, along, thus, using, then, early, court, rules, japanese, population\n",
            "lion: paris, significantly, provide, unable, adding, constitution, writer, policy, johnson, ireland\n",
            "africa: external, nine, player, irish, held, william, community, world, like, way\n",
            "musician: culture, writer, singer, nine, september, one, actress, science, god, party\n",
            "dance: view, area, generally, subject, jewish, elements, land, difficult, civil, th\n",
            "\n",
            "\n"
          ]
        },
        {
          "metadata": {
            "tags": null
          },
          "name": "stderr",
          "output_type": "stream",
          "text": [
            "11001it [33:29,  4.47it/s]"
          ]
        },
        {
          "metadata": {
            "tags": null
          },
          "name": "stdout",
          "output_type": "stream",
          "text": [
            "| epoch   1 | 11000/32580 batches | loss    1.495 \n",
            "money: days, along, thus, then, early, using, court, down, rules, population\n",
            "lion: paris, significantly, unable, provide, constitution, adding, writer, policy, johnson, cities\n",
            "africa: external, player, irish, held, nine, william, world, community, women, states\n",
            "musician: culture, writer, singer, actress, science, nine, september, god, originally, support\n",
            "dance: area, view, generally, subject, land, elements, jewish, book, difficult, civil\n",
            "\n",
            "\n"
          ]
        },
        {
          "metadata": {
            "tags": null
          },
          "name": "stderr",
          "output_type": "stream",
          "text": [
            "11501it [35:00,  4.94it/s]"
          ]
        },
        {
          "metadata": {
            "tags": null
          },
          "name": "stdout",
          "output_type": "stream",
          "text": [
            "| epoch   1 | 11500/32580 batches | loss    1.486 \n",
            "money: days, along, thus, then, early, using, court, down, japanese, population\n",
            "lion: paris, significantly, unable, provide, constitution, adding, policy, writer, johnson, cities\n",
            "africa: external, irish, held, nine, player, william, community, world, states, women\n",
            "musician: culture, writer, singer, actress, nine, science, september, god, six, originally\n",
            "dance: area, view, generally, subject, land, elements, jewish, difficult, book, works\n",
            "\n",
            "\n"
          ]
        },
        {
          "metadata": {
            "tags": null
          },
          "name": "stderr",
          "output_type": "stream",
          "text": [
            "12001it [36:30,  4.98it/s]"
          ]
        },
        {
          "metadata": {
            "tags": null
          },
          "name": "stdout",
          "output_type": "stream",
          "text": [
            "| epoch   1 | 12000/32580 batches | loss    1.477 \n",
            "money: days, along, then, thus, down, court, early, using, group, japanese\n",
            "lion: paris, significantly, unable, provide, constitution, cities, policy, adding, writer, johnson\n",
            "africa: external, irish, held, community, player, world, william, nine, rock, states\n",
            "musician: culture, writer, singer, actress, nine, science, god, september, originally, post\n",
            "dance: area, view, subject, generally, land, book, elements, jewish, difficult, civil\n",
            "\n",
            "\n"
          ]
        },
        {
          "metadata": {
            "tags": null
          },
          "name": "stderr",
          "output_type": "stream",
          "text": [
            "12501it [38:05,  5.00it/s]"
          ]
        },
        {
          "metadata": {
            "tags": null
          },
          "name": "stdout",
          "output_type": "stream",
          "text": [
            "| epoch   1 | 12500/32580 batches | loss    1.463 \n",
            "money: days, along, thus, down, then, court, early, using, japanese, population\n",
            "lion: paris, significantly, provide, unable, constitution, policy, adding, cities, johnson, writer\n",
            "africa: external, irish, community, william, held, world, player, rock, nine, states\n",
            "musician: culture, writer, singer, actress, nine, science, september, god, with, post\n",
            "dance: area, book, view, subject, elements, land, jewish, generally, civil, works\n",
            "\n",
            "\n"
          ]
        },
        {
          "metadata": {
            "tags": null
          },
          "name": "stderr",
          "output_type": "stream",
          "text": [
            "13001it [39:35,  5.14it/s]"
          ]
        },
        {
          "metadata": {
            "tags": null
          },
          "name": "stdout",
          "output_type": "stream",
          "text": [
            "| epoch   1 | 13000/32580 batches | loss    1.457 \n",
            "money: days, along, thus, down, then, court, early, using, elements, japanese\n",
            "lion: paris, significantly, provide, unable, constitution, policy, adding, johnson, rock, ireland\n",
            "africa: external, irish, community, william, held, rock, world, nine, player, states\n",
            "musician: culture, singer, writer, actress, nine, science, september, god, composer, originally\n",
            "dance: area, book, elements, subject, view, land, generally, jewish, end, civil\n",
            "\n",
            "\n"
          ]
        },
        {
          "metadata": {
            "tags": null
          },
          "name": "stderr",
          "output_type": "stream",
          "text": [
            "13501it [41:05,  4.41it/s]"
          ]
        },
        {
          "metadata": {
            "tags": null
          },
          "name": "stdout",
          "output_type": "stream",
          "text": [
            "| epoch   1 | 13500/32580 batches | loss    1.451 \n",
            "money: days, along, down, then, thus, early, using, court, elements, japanese\n",
            "lion: paris, unable, significantly, provide, constitution, policy, adding, johnson, rock, experiment\n",
            "africa: external, irish, william, held, rock, community, player, world, women, states\n",
            "musician: culture, writer, singer, actress, nine, science, originally, september, god, composer\n",
            "dance: area, book, elements, subject, land, end, generally, jewish, view, works\n",
            "\n",
            "\n"
          ]
        },
        {
          "metadata": {
            "tags": null
          },
          "name": "stderr",
          "output_type": "stream",
          "text": [
            "14001it [42:37,  4.57it/s]"
          ]
        },
        {
          "metadata": {
            "tags": null
          },
          "name": "stdout",
          "output_type": "stream",
          "text": [
            "| epoch   1 | 14000/32580 batches | loss    1.447 \n",
            "money: days, then, down, along, thus, court, using, early, elements, japanese\n",
            "lion: paris, unable, provide, constitution, significantly, policy, adding, johnson, experiment, ireland\n",
            "africa: external, irish, william, rock, community, held, world, women, states, player\n",
            "musician: culture, writer, singer, actress, nine, science, composer, with, originally, september\n",
            "dance: area, book, subject, land, end, elements, generally, view, so, civil\n",
            "\n",
            "\n"
          ]
        },
        {
          "metadata": {
            "tags": null
          },
          "name": "stderr",
          "output_type": "stream",
          "text": [
            "14501it [44:11,  4.72it/s]"
          ]
        },
        {
          "metadata": {
            "tags": null
          },
          "name": "stdout",
          "output_type": "stream",
          "text": [
            "| epoch   1 | 14500/32580 batches | loss    1.435 \n",
            "money: days, then, along, thus, down, early, using, court, elements, population\n",
            "lion: paris, unable, provide, constitution, policy, significantly, johnson, adding, originally, ireland\n",
            "africa: external, irish, community, rock, william, held, women, world, available, michael\n",
            "musician: culture, singer, writer, actress, nine, science, with, september, composer, originally\n",
            "dance: area, book, subject, elements, end, generally, land, view, civil, jewish\n",
            "\n",
            "\n"
          ]
        },
        {
          "metadata": {
            "tags": null
          },
          "name": "stderr",
          "output_type": "stream",
          "text": [
            "15001it [45:46,  4.82it/s]"
          ]
        },
        {
          "metadata": {
            "tags": null
          },
          "name": "stdout",
          "output_type": "stream",
          "text": [
            "| epoch   1 | 15000/32580 batches | loss    1.431 \n",
            "money: days, then, along, down, thus, using, early, elements, court, current\n",
            "lion: paris, unable, provide, policy, constitution, johnson, rock, adding, significantly, originally\n",
            "africa: external, irish, community, rock, women, held, william, world, michael, player\n",
            "musician: culture, singer, writer, actress, science, nine, composer, with, poet, originally\n",
            "dance: area, book, end, subject, elements, land, generally, civil, view, jewish\n",
            "\n",
            "\n"
          ]
        },
        {
          "metadata": {
            "tags": null
          },
          "name": "stderr",
          "output_type": "stream",
          "text": [
            "15501it [47:20,  4.89it/s]"
          ]
        },
        {
          "metadata": {
            "tags": null
          },
          "name": "stdout",
          "output_type": "stream",
          "text": [
            "| epoch   1 | 15500/32580 batches | loss    1.424 \n",
            "money: days, along, then, down, thus, using, early, elements, form, court\n",
            "lion: paris, unable, constitution, policy, provide, johnson, originally, ireland, significantly, rock\n",
            "africa: external, irish, rock, community, women, held, william, michael, world, available\n",
            "musician: culture, singer, writer, actress, nine, poet, science, composer, originally, action\n",
            "dance: area, book, end, elements, subject, land, generally, civil, view, jewish\n",
            "\n",
            "\n"
          ]
        },
        {
          "metadata": {
            "tags": null
          },
          "name": "stderr",
          "output_type": "stream",
          "text": [
            "16001it [48:52,  4.85it/s]"
          ]
        },
        {
          "metadata": {
            "tags": null
          },
          "name": "stdout",
          "output_type": "stream",
          "text": [
            "| epoch   1 | 16000/32580 batches | loss    1.415 \n",
            "money: days, then, along, down, thus, using, elements, early, form, limited\n",
            "lion: paris, unable, constitution, policy, provide, johnson, originally, adding, significantly, ireland\n",
            "africa: external, irish, rock, community, women, held, nine, michael, world, william\n",
            "musician: culture, singer, writer, actress, nine, composer, poet, action, science, originally\n",
            "dance: area, book, end, elements, civil, subject, land, generally, jewish, release\n",
            "\n",
            "\n"
          ]
        },
        {
          "metadata": {
            "tags": null
          },
          "name": "stderr",
          "output_type": "stream",
          "text": [
            "16501it [50:24,  4.89it/s]"
          ]
        },
        {
          "metadata": {
            "tags": null
          },
          "name": "stdout",
          "output_type": "stream",
          "text": [
            "| epoch   1 | 16500/32580 batches | loss    1.409 \n",
            "money: days, then, down, along, thus, using, group, elements, form, early\n",
            "lion: paris, unable, constitution, johnson, policy, subsequently, originally, experiment, significantly, spoken\n",
            "africa: external, irish, rock, community, held, women, michael, william, available, world\n",
            "musician: culture, singer, writer, actress, nine, poet, composer, science, action, originally\n",
            "dance: area, book, elements, end, civil, land, subject, jewish, generally, view\n",
            "\n",
            "\n"
          ]
        },
        {
          "metadata": {
            "tags": null
          },
          "name": "stderr",
          "output_type": "stream",
          "text": [
            "17001it [52:04,  4.53it/s]"
          ]
        },
        {
          "metadata": {
            "tags": null
          },
          "name": "stdout",
          "output_type": "stream",
          "text": [
            "| epoch   1 | 17000/32580 batches | loss    1.405 \n",
            "money: days, then, down, along, form, thus, using, group, elements, limited\n",
            "lion: paris, unable, constitution, provide, johnson, policy, subsequently, originally, experiment, significantly\n",
            "africa: external, irish, rock, community, michael, women, held, available, william, nine\n",
            "musician: culture, singer, writer, actress, nine, composer, poet, action, science, originally\n",
            "dance: area, book, elements, jewish, end, civil, land, my, subject, generally\n",
            "\n",
            "\n"
          ]
        },
        {
          "metadata": {
            "tags": null
          },
          "name": "stderr",
          "output_type": "stream",
          "text": [
            "17501it [53:37,  4.81it/s]"
          ]
        },
        {
          "metadata": {
            "tags": null
          },
          "name": "stdout",
          "output_type": "stream",
          "text": [
            "| epoch   1 | 17500/32580 batches | loss    1.402 \n",
            "money: then, days, along, down, form, thus, elements, using, group, early\n",
            "lion: paris, unable, provide, policy, experiment, originally, constitution, johnson, spoken, significantly\n",
            "africa: external, irish, community, rock, women, available, michael, held, peter, william\n",
            "musician: culture, singer, writer, actress, poet, nine, composer, action, science, originally\n",
            "dance: area, book, end, elements, civil, jewish, land, view, my, musician\n",
            "\n",
            "\n"
          ]
        },
        {
          "metadata": {
            "tags": null
          },
          "name": "stderr",
          "output_type": "stream",
          "text": [
            "18001it [55:11,  4.81it/s]"
          ]
        },
        {
          "metadata": {
            "tags": null
          },
          "name": "stdout",
          "output_type": "stream",
          "text": [
            "| epoch   1 | 18000/32580 batches | loss    1.389 \n",
            "money: then, days, along, down, thus, form, elements, using, group, court\n",
            "lion: paris, unable, provide, policy, experiment, constitution, johnson, originally, spoken, significantly\n",
            "africa: external, irish, community, rock, women, held, michael, available, peter, william\n",
            "musician: culture, singer, writer, actress, poet, composer, action, science, nine, originally\n",
            "dance: area, book, end, my, land, jewish, civil, elements, musician, view\n",
            "\n",
            "\n"
          ]
        },
        {
          "metadata": {
            "tags": null
          },
          "name": "stderr",
          "output_type": "stream",
          "text": [
            "18501it [56:44,  4.75it/s]"
          ]
        },
        {
          "metadata": {
            "tags": null
          },
          "name": "stdout",
          "output_type": "stream",
          "text": [
            "| epoch   1 | 18500/32580 batches | loss    1.384 \n",
            "money: then, days, group, along, thus, form, elements, down, using, nine\n",
            "lion: paris, unable, johnson, provide, constitution, policy, significantly, experiment, originally, spoken\n",
            "africa: external, irish, community, rock, women, michael, held, available, william, peter\n",
            "musician: culture, singer, writer, actress, poet, composer, action, nine, science, six\n",
            "dance: area, book, end, land, generally, elements, civil, my, jewish, musician\n",
            "\n",
            "\n"
          ]
        },
        {
          "metadata": {
            "tags": null
          },
          "name": "stderr",
          "output_type": "stream",
          "text": [
            "19001it [58:18,  4.34it/s]"
          ]
        },
        {
          "metadata": {
            "tags": null
          },
          "name": "stdout",
          "output_type": "stream",
          "text": [
            "| epoch   1 | 19000/32580 batches | loss    1.382 \n",
            "money: then, days, along, group, thus, form, elements, down, using, lack\n",
            "lion: paris, unable, policy, constitution, johnson, provide, significantly, experiment, originally, hands\n",
            "africa: external, irish, community, rock, held, women, william, michael, peter, available\n",
            "musician: culture, singer, writer, actress, poet, composer, action, nine, science, six\n",
            "dance: area, end, book, so, jewish, my, region, musician, view, ability\n",
            "\n",
            "\n"
          ]
        },
        {
          "metadata": {
            "tags": null
          },
          "name": "stderr",
          "output_type": "stream",
          "text": [
            "19501it [59:50,  4.76it/s]"
          ]
        },
        {
          "metadata": {
            "tags": null
          },
          "name": "stdout",
          "output_type": "stream",
          "text": [
            "| epoch   1 | 19500/32580 batches | loss    1.374 \n",
            "money: then, days, along, group, form, thus, elements, down, being, lack\n",
            "lion: paris, unable, policy, constitution, johnson, provide, experiment, originally, significantly, ireland\n",
            "africa: irish, external, community, rock, women, held, william, michael, peter, available\n",
            "musician: culture, singer, writer, actress, composer, poet, action, nine, science, mathematician\n",
            "dance: area, end, book, my, region, so, jewish, musician, ability, civil\n",
            "\n",
            "\n"
          ]
        },
        {
          "metadata": {
            "tags": null
          },
          "name": "stderr",
          "output_type": "stream",
          "text": [
            "20001it [1:01:22,  4.92it/s]"
          ]
        },
        {
          "metadata": {
            "tags": null
          },
          "name": "stdout",
          "output_type": "stream",
          "text": [
            "| epoch   1 | 20000/32580 batches | loss    1.370 \n",
            "money: then, days, group, along, form, down, elements, thus, chinese, using\n",
            "lion: paris, unable, policy, constitution, experiment, johnson, provide, originally, spoken, rest\n",
            "africa: irish, external, community, rock, william, held, michael, peter, women, available\n",
            "musician: culture, singer, writer, actress, poet, composer, action, nine, mathematician, science\n",
            "dance: area, end, book, my, region, so, musician, ability, us, jewish\n",
            "\n",
            "\n"
          ]
        },
        {
          "metadata": {
            "tags": null
          },
          "name": "stderr",
          "output_type": "stream",
          "text": [
            "20501it [1:02:55,  4.84it/s]"
          ]
        },
        {
          "metadata": {
            "tags": null
          },
          "name": "stdout",
          "output_type": "stream",
          "text": [
            "| epoch   1 | 20500/32580 batches | loss    1.368 \n",
            "money: then, days, group, down, along, form, elements, thus, it, using\n",
            "lion: paris, unable, policy, provide, johnson, experiment, constitution, originally, rock, rest\n",
            "africa: irish, external, community, rock, william, michael, women, peter, held, available\n",
            "musician: culture, singer, writer, actress, composer, poet, action, nine, mathematician, science\n",
            "dance: area, end, book, my, region, so, jewish, us, view, folk\n",
            "\n",
            "\n"
          ]
        },
        {
          "metadata": {
            "tags": null
          },
          "name": "stderr",
          "output_type": "stream",
          "text": [
            "21001it [1:04:27,  4.83it/s]"
          ]
        },
        {
          "metadata": {
            "tags": null
          },
          "name": "stdout",
          "output_type": "stream",
          "text": [
            "| epoch   1 | 21000/32580 batches | loss    1.364 \n",
            "money: days, then, group, along, down, elements, form, chinese, lack, using\n",
            "lion: paris, unable, policy, experiment, johnson, constitution, originally, rest, rock, provide\n",
            "africa: external, irish, rock, community, william, peter, held, michael, women, available\n",
            "musician: culture, singer, actress, writer, composer, poet, action, nine, mathematician, politician\n",
            "dance: area, end, my, book, region, so, jewish, musical, folk, us\n",
            "\n",
            "\n"
          ]
        },
        {
          "metadata": {
            "tags": null
          },
          "name": "stderr",
          "output_type": "stream",
          "text": [
            "21501it [1:05:58,  4.83it/s]"
          ]
        },
        {
          "metadata": {
            "tags": null
          },
          "name": "stdout",
          "output_type": "stream",
          "text": [
            "| epoch   1 | 21500/32580 batches | loss    1.358 \n",
            "money: then, days, form, along, down, elements, group, being, final, chinese\n",
            "lion: paris, unable, policy, experiment, johnson, constitution, originally, provide, rest, rock\n",
            "africa: external, irish, rock, community, william, peter, held, women, available, michael\n",
            "musician: culture, singer, writer, actress, poet, composer, action, nine, mathematician, politician\n",
            "dance: area, end, my, book, region, so, jewish, musical, view, us\n",
            "\n",
            "\n"
          ]
        },
        {
          "metadata": {
            "tags": null
          },
          "name": "stderr",
          "output_type": "stream",
          "text": [
            "22001it [1:07:31,  4.93it/s]"
          ]
        },
        {
          "metadata": {
            "tags": null
          },
          "name": "stdout",
          "output_type": "stream",
          "text": [
            "| epoch   1 | 22000/32580 batches | loss    1.352 \n",
            "money: then, days, group, along, down, form, elements, lack, chinese, forms\n",
            "lion: paris, unable, policy, johnson, experiment, originally, rest, constitution, sometimes, provide\n",
            "africa: external, irish, rock, community, william, peter, women, held, michael, available\n",
            "musician: culture, singer, actress, writer, composer, poet, action, nine, mathematician, politician\n",
            "dance: area, end, my, book, musical, jewish, folk, so, us, region\n",
            "\n",
            "\n"
          ]
        },
        {
          "metadata": {
            "tags": null
          },
          "name": "stderr",
          "output_type": "stream",
          "text": [
            "22501it [1:09:02,  4.89it/s]"
          ]
        },
        {
          "metadata": {
            "tags": null
          },
          "name": "stdout",
          "output_type": "stream",
          "text": [
            "| epoch   1 | 22500/32580 batches | loss    1.352 \n",
            "money: then, days, along, group, elements, down, lack, chinese, forms, form\n",
            "lion: paris, unable, policy, johnson, experiment, constitution, originally, rest, peter, sometimes\n",
            "africa: external, irish, community, rock, william, peter, held, women, available, michael\n",
            "musician: culture, singer, actress, writer, composer, nine, poet, action, mathematician, politician\n",
            "dance: area, end, my, book, musical, us, jewish, folk, view, so\n",
            "\n",
            "\n"
          ]
        },
        {
          "metadata": {
            "tags": null
          },
          "name": "stderr",
          "output_type": "stream",
          "text": [
            "23001it [1:10:35,  4.84it/s]"
          ]
        },
        {
          "metadata": {
            "tags": null
          },
          "name": "stdout",
          "output_type": "stream",
          "text": [
            "| epoch   1 | 23000/32580 batches | loss    1.345 \n",
            "money: then, days, along, elements, group, lack, form, down, chinese, it\n",
            "lion: paris, unable, policy, johnson, experiment, constitution, peter, originally, sometimes, rest\n",
            "africa: external, irish, community, rock, william, peter, held, women, michael, available\n",
            "musician: culture, singer, actress, writer, composer, poet, action, nine, mathematician, politician\n",
            "dance: area, end, my, book, musical, so, us, region, folk, view\n",
            "\n",
            "\n"
          ]
        },
        {
          "metadata": {
            "tags": null
          },
          "name": "stderr",
          "output_type": "stream",
          "text": [
            "23501it [1:12:08,  4.78it/s]"
          ]
        },
        {
          "metadata": {
            "tags": null
          },
          "name": "stdout",
          "output_type": "stream",
          "text": [
            "| epoch   1 | 23500/32580 batches | loss    1.345 \n",
            "money: then, days, group, form, along, elements, lack, down, chinese, it\n",
            "lion: paris, unable, policy, johnson, experiment, peter, originally, constitution, rest, hands\n",
            "africa: external, irish, community, rock, william, peter, women, held, michael, available\n",
            "musician: culture, singer, actress, writer, composer, poet, action, nine, mathematician, politician\n",
            "dance: area, end, my, musical, us, so, book, folk, jewish, view\n",
            "\n",
            "\n"
          ]
        },
        {
          "metadata": {
            "tags": null
          },
          "name": "stderr",
          "output_type": "stream",
          "text": [
            "24001it [1:13:41,  4.97it/s]"
          ]
        },
        {
          "metadata": {
            "tags": null
          },
          "name": "stdout",
          "output_type": "stream",
          "text": [
            "| epoch   1 | 24000/32580 batches | loss    1.337 \n",
            "money: then, days, lack, elements, along, down, form, court, group, chinese\n",
            "lion: paris, unable, policy, johnson, experiment, originally, constitution, rest, peter, patrick\n",
            "africa: external, community, irish, rock, william, peter, women, held, michael, available\n",
            "musician: culture, singer, actress, writer, composer, action, poet, nine, mathematician, politician\n",
            "dance: area, end, my, musical, folk, jewish, us, region, book, so\n",
            "\n",
            "\n"
          ]
        },
        {
          "metadata": {
            "tags": null
          },
          "name": "stderr",
          "output_type": "stream",
          "text": [
            "24501it [1:15:20,  4.86it/s]"
          ]
        },
        {
          "metadata": {
            "tags": null
          },
          "name": "stdout",
          "output_type": "stream",
          "text": [
            "| epoch   1 | 24500/32580 batches | loss    1.333 \n",
            "money: then, days, down, lack, along, chinese, form, court, elements, forms\n",
            "lion: paris, unable, johnson, policy, experiment, patrick, originally, constitution, peter, rest\n",
            "africa: external, irish, community, rock, peter, women, william, michael, held, available\n",
            "musician: culture, singer, actress, writer, composer, action, poet, nine, mathematician, science\n",
            "dance: area, end, my, musical, folk, jewish, region, book, us, view\n",
            "\n",
            "\n"
          ]
        },
        {
          "metadata": {
            "tags": null
          },
          "name": "stderr",
          "output_type": "stream",
          "text": [
            "25001it [1:16:54,  4.90it/s]"
          ]
        },
        {
          "metadata": {
            "tags": null
          },
          "name": "stdout",
          "output_type": "stream",
          "text": [
            "| epoch   1 | 25000/32580 batches | loss    1.328 \n",
            "money: then, days, down, chinese, along, lack, form, group, court, something\n",
            "lion: paris, unable, johnson, policy, patrick, experiment, peter, originally, elements, constitution\n",
            "africa: external, irish, community, rock, peter, william, women, held, michael, available\n",
            "musician: culture, singer, actress, writer, composer, poet, action, nine, mathematician, politician\n",
            "dance: area, end, my, musical, folk, book, region, jewish, so, us\n",
            "\n",
            "\n"
          ]
        },
        {
          "metadata": {
            "tags": null
          },
          "name": "stderr",
          "output_type": "stream",
          "text": [
            "25501it [1:18:26,  4.81it/s]"
          ]
        },
        {
          "metadata": {
            "tags": null
          },
          "name": "stdout",
          "output_type": "stream",
          "text": [
            "| epoch   1 | 25500/32580 batches | loss    1.319 \n",
            "money: then, days, down, form, lack, along, chinese, something, run, forms\n",
            "lion: paris, unable, policy, johnson, patrick, originally, experiment, husband, peter, rest\n",
            "africa: external, irish, community, rock, william, peter, women, michael, held, available\n",
            "musician: culture, singer, actress, writer, composer, poet, action, mathematician, politician, nine\n",
            "dance: area, end, my, musical, folk, book, region, so, musician, jewish\n",
            "\n",
            "\n"
          ]
        },
        {
          "metadata": {
            "tags": null
          },
          "name": "stderr",
          "output_type": "stream",
          "text": [
            "26001it [1:20:00,  4.91it/s]"
          ]
        },
        {
          "metadata": {
            "tags": null
          },
          "name": "stdout",
          "output_type": "stream",
          "text": [
            "| epoch   1 | 26000/32580 batches | loss    1.326 \n",
            "money: then, days, form, chinese, something, lack, down, forms, along, final\n",
            "lion: paris, unable, policy, johnson, originally, experiment, patrick, husband, writer, elements\n",
            "africa: external, community, irish, rock, women, william, peter, held, michael, available\n",
            "musician: culture, singer, actress, writer, composer, poet, action, nine, mathematician, politician\n",
            "dance: area, end, my, musical, folk, book, region, musician, jewish, jazz\n",
            "\n",
            "\n"
          ]
        },
        {
          "metadata": {
            "tags": null
          },
          "name": "stderr",
          "output_type": "stream",
          "text": [
            "26501it [1:21:32,  4.80it/s]"
          ]
        },
        {
          "metadata": {
            "tags": null
          },
          "name": "stdout",
          "output_type": "stream",
          "text": [
            "| epoch   1 | 26500/32580 batches | loss    1.321 \n",
            "money: then, days, form, down, chinese, something, lack, court, being, along\n",
            "lion: paris, unable, policy, johnson, originally, patrick, experiment, elements, husband, rest\n",
            "africa: external, community, irish, rock, women, michael, peter, william, available, held\n",
            "musician: culture, singer, actress, writer, poet, composer, action, nine, mathematician, politician\n",
            "dance: area, end, my, folk, musical, book, region, jewish, musician, pop\n",
            "\n",
            "\n"
          ]
        },
        {
          "metadata": {
            "tags": null
          },
          "name": "stderr",
          "output_type": "stream",
          "text": [
            "27001it [1:23:05,  4.80it/s]"
          ]
        },
        {
          "metadata": {
            "tags": null
          },
          "name": "stdout",
          "output_type": "stream",
          "text": [
            "| epoch   1 | 27000/32580 batches | loss    1.313 \n",
            "money: then, days, form, down, chinese, court, something, lack, being, along\n",
            "lion: paris, unable, policy, johnson, patrick, experiment, originally, rest, writer, asia\n",
            "africa: external, community, irish, rock, michael, peter, women, william, available, held\n",
            "musician: culture, singer, actress, writer, poet, composer, action, nine, politician, mathematician\n",
            "dance: area, end, my, musical, folk, book, pop, jewish, region, blues\n",
            "\n",
            "\n"
          ]
        },
        {
          "metadata": {
            "tags": null
          },
          "name": "stderr",
          "output_type": "stream",
          "text": [
            "27501it [1:24:38,  4.80it/s]"
          ]
        },
        {
          "metadata": {
            "tags": null
          },
          "name": "stdout",
          "output_type": "stream",
          "text": [
            "| epoch   1 | 27500/32580 batches | loss    1.311 \n",
            "money: then, days, form, court, chinese, something, being, lack, down, slow\n",
            "lion: paris, unable, policy, johnson, patrick, experiment, originally, asia, writer, rest\n",
            "africa: external, irish, community, rock, michael, peter, women, william, available, joseph\n",
            "musician: culture, singer, actress, writer, poet, composer, action, nine, mathematician, politician\n",
            "dance: area, my, end, musical, folk, book, pop, region, jewish, blues\n",
            "\n",
            "\n"
          ]
        },
        {
          "metadata": {
            "tags": null
          },
          "name": "stderr",
          "output_type": "stream",
          "text": [
            "28001it [1:26:11,  4.86it/s]"
          ]
        },
        {
          "metadata": {
            "tags": null
          },
          "name": "stdout",
          "output_type": "stream",
          "text": [
            "| epoch   1 | 28000/32580 batches | loss    1.307 \n",
            "money: then, days, form, court, chinese, lack, something, along, slow, being\n",
            "lion: paris, unable, policy, johnson, originally, experiment, patrick, asia, meet, rest\n",
            "africa: external, irish, community, rock, michael, peter, women, william, available, joseph\n",
            "musician: culture, singer, actress, writer, poet, composer, action, nine, politician, mathematician\n",
            "dance: area, end, my, musical, folk, book, pop, region, jewish, jazz\n",
            "\n",
            "\n"
          ]
        },
        {
          "metadata": {
            "tags": null
          },
          "name": "stderr",
          "output_type": "stream",
          "text": [
            "28501it [1:27:44,  4.89it/s]"
          ]
        },
        {
          "metadata": {
            "tags": null
          },
          "name": "stdout",
          "output_type": "stream",
          "text": [
            "| epoch   1 | 28500/32580 batches | loss    1.308 \n",
            "money: then, days, court, chinese, lack, form, slow, something, along, importance\n",
            "lion: paris, unable, policy, johnson, originally, patrick, experiment, asia, meet, rest\n",
            "africa: external, irish, community, rock, michael, peter, women, william, available, dr\n",
            "musician: culture, singer, actress, writer, poet, composer, action, politician, mathematician, nine\n",
            "dance: area, my, end, musical, folk, book, pop, jazz, jewish, literary\n",
            "\n",
            "\n"
          ]
        },
        {
          "metadata": {
            "tags": null
          },
          "name": "stderr",
          "output_type": "stream",
          "text": [
            "29001it [1:29:16,  4.89it/s]"
          ]
        },
        {
          "metadata": {
            "tags": null
          },
          "name": "stdout",
          "output_type": "stream",
          "text": [
            "| epoch   1 | 29000/32580 batches | loss    1.303 \n",
            "money: then, days, court, lack, form, chinese, slow, something, importance, along\n",
            "lion: paris, unable, policy, johnson, patrick, originally, experiment, rest, husband, asia\n",
            "africa: external, irish, community, rock, michael, peter, women, available, dr, william\n",
            "musician: culture, singer, actress, writer, poet, composer, action, politician, mathematician, physicist\n",
            "dance: area, end, my, musical, folk, book, pop, jazz, jewish, literary\n",
            "\n",
            "\n"
          ]
        },
        {
          "metadata": {
            "tags": null
          },
          "name": "stderr",
          "output_type": "stream",
          "text": [
            "29501it [1:30:48,  4.97it/s]"
          ]
        },
        {
          "metadata": {
            "tags": null
          },
          "name": "stdout",
          "output_type": "stream",
          "text": [
            "| epoch   1 | 29500/32580 batches | loss    1.295 \n",
            "money: then, days, court, lack, something, slow, chinese, form, down, importance\n",
            "lion: paris, unable, policy, johnson, patrick, originally, rest, experiment, husband, berkeley\n",
            "africa: external, irish, rock, community, michael, peter, women, available, joseph, william\n",
            "musician: culture, singer, actress, writer, poet, composer, action, mathematician, politician, physicist\n",
            "dance: area, end, my, musical, folk, book, pop, jazz, jewish, blues\n",
            "\n",
            "\n"
          ]
        },
        {
          "metadata": {
            "tags": null
          },
          "name": "stderr",
          "output_type": "stream",
          "text": [
            "30001it [1:32:20,  5.00it/s]"
          ]
        },
        {
          "metadata": {
            "tags": null
          },
          "name": "stdout",
          "output_type": "stream",
          "text": [
            "| epoch   1 | 30000/32580 batches | loss    1.295 \n",
            "money: then, days, court, something, lack, slow, form, chinese, down, importance\n",
            "lion: paris, unable, policy, johnson, patrick, originally, rest, experiment, husband, berkeley\n",
            "africa: external, irish, rock, community, michael, peter, women, dr, available, joseph\n",
            "musician: culture, singer, actress, writer, poet, composer, action, mathematician, politician, physicist\n",
            "dance: area, end, my, musical, folk, jazz, pop, book, blues, literary\n",
            "\n",
            "\n"
          ]
        },
        {
          "metadata": {
            "tags": null
          },
          "name": "stderr",
          "output_type": "stream",
          "text": [
            "30501it [1:33:52,  4.98it/s]"
          ]
        },
        {
          "metadata": {
            "tags": null
          },
          "name": "stdout",
          "output_type": "stream",
          "text": [
            "| epoch   1 | 30500/32580 batches | loss    1.292 \n",
            "money: then, days, court, something, form, lack, chinese, slow, down, california\n",
            "lion: paris, unable, policy, johnson, patrick, experiment, rest, originally, husband, physicist\n",
            "africa: external, irish, community, rock, michael, peter, women, dr, joseph, sir\n",
            "musician: culture, singer, actress, writer, poet, composer, action, politician, mathematician, physicist\n",
            "dance: area, end, my, musical, folk, jazz, pop, blues, book, musician\n",
            "\n",
            "\n"
          ]
        },
        {
          "metadata": {
            "tags": null
          },
          "name": "stderr",
          "output_type": "stream",
          "text": [
            "31001it [1:35:24,  4.87it/s]"
          ]
        },
        {
          "metadata": {
            "tags": null
          },
          "name": "stdout",
          "output_type": "stream",
          "text": [
            "| epoch   1 | 31000/32580 batches | loss    1.288 \n",
            "money: then, court, days, lack, something, chinese, form, slow, california, importance\n",
            "lion: unable, paris, johnson, policy, patrick, experiment, rest, husband, originally, hands\n",
            "africa: external, irish, rock, community, michael, peter, women, dr, available, sir\n",
            "musician: culture, singer, actress, poet, writer, composer, action, mathematician, politician, physicist\n",
            "dance: area, my, musical, end, folk, jazz, pop, blues, musician, book\n",
            "\n",
            "\n"
          ]
        },
        {
          "metadata": {
            "tags": null
          },
          "name": "stderr",
          "output_type": "stream",
          "text": [
            "31501it [1:36:57,  4.86it/s]"
          ]
        },
        {
          "metadata": {
            "tags": null
          },
          "name": "stdout",
          "output_type": "stream",
          "text": [
            "| epoch   1 | 31500/32580 batches | loss    1.281 \n",
            "money: then, days, court, lack, form, something, slow, chinese, california, along\n",
            "lion: unable, paris, johnson, policy, patrick, rest, husband, experiment, originally, writer\n",
            "africa: external, irish, rock, community, michael, peter, dr, women, sir, available\n",
            "musician: culture, singer, actress, poet, writer, composer, action, mathematician, politician, physicist\n",
            "dance: area, my, musical, folk, end, pop, jazz, blues, musician, jewish\n",
            "\n",
            "\n"
          ]
        },
        {
          "metadata": {
            "tags": null
          },
          "name": "stderr",
          "output_type": "stream",
          "text": [
            "32001it [1:38:29,  4.82it/s]"
          ]
        },
        {
          "metadata": {
            "tags": null
          },
          "name": "stdout",
          "output_type": "stream",
          "text": [
            "| epoch   1 | 32000/32580 batches | loss    1.279 \n",
            "money: then, court, days, form, chinese, lack, california, slow, down, something\n",
            "lion: unable, paris, johnson, policy, patrick, rest, husband, experiment, hands, writer\n",
            "africa: external, irish, community, rock, michael, peter, women, dr, sir, available\n",
            "musician: culture, singer, actress, poet, writer, composer, action, mathematician, politician, physicist\n",
            "dance: area, my, musical, folk, end, pop, jazz, musician, blues, jewish\n",
            "\n",
            "\n"
          ]
        },
        {
          "metadata": {
            "tags": null
          },
          "name": "stderr",
          "output_type": "stream",
          "text": [
            "32501it [1:40:02,  4.56it/s]"
          ]
        },
        {
          "metadata": {
            "tags": null
          },
          "name": "stdout",
          "output_type": "stream",
          "text": [
            "| epoch   1 | 32500/32580 batches | loss    1.278 \n",
            "money: then, court, form, days, chinese, lack, down, california, slow, something\n",
            "lion: unable, paris, johnson, policy, patrick, husband, hands, experiment, writer, rest\n",
            "africa: external, irish, community, rock, michael, peter, women, dr, sir, available\n",
            "musician: culture, singer, actress, poet, composer, writer, action, mathematician, politician, physicist\n",
            "dance: area, my, musical, folk, pop, end, jazz, musician, blues, jewish\n",
            "\n",
            "\n"
          ]
        },
        {
          "metadata": {
            "tags": null
          },
          "name": "stderr",
          "output_type": "stream",
          "text": [
            "32580it [1:40:18,  5.41it/s]\n",
            "1it [00:01,  1.36s/it]"
          ]
        },
        {
          "metadata": {
            "tags": null
          },
          "name": "stdout",
          "output_type": "stream",
          "text": [
            "| epoch   2 |     0/32580 batches | loss    1.119 \n",
            "money: then, court, form, days, chinese, lack, down, slow, importance, california\n",
            "lion: unable, paris, johnson, policy, patrick, husband, hands, experiment, writer, rest\n",
            "africa: external, irish, community, rock, michael, peter, women, dr, sir, available\n",
            "musician: culture, singer, actress, poet, composer, writer, action, mathematician, politician, physicist\n",
            "dance: area, my, folk, musical, pop, end, jazz, musician, blues, jewish\n",
            "\n",
            "\n"
          ]
        },
        {
          "metadata": {
            "tags": null
          },
          "name": "stderr",
          "output_type": "stream",
          "text": [
            "501it [01:34,  4.87it/s]"
          ]
        },
        {
          "metadata": {
            "tags": null
          },
          "name": "stdout",
          "output_type": "stream",
          "text": [
            "| epoch   2 |   500/32580 batches | loss    1.221 \n",
            "money: then, court, form, days, chinese, lack, down, slow, california, importance\n",
            "lion: unable, paris, johnson, policy, patrick, husband, hands, experiment, rest, originally\n",
            "africa: external, irish, community, rock, michael, peter, women, dr, available, sir\n",
            "musician: culture, singer, actress, poet, composer, writer, action, mathematician, politician, physicist\n",
            "dance: area, my, folk, musical, pop, end, jazz, musician, blues, jewish\n",
            "\n",
            "\n"
          ]
        },
        {
          "metadata": {
            "tags": null
          },
          "name": "stderr",
          "output_type": "stream",
          "text": [
            "1001it [03:07,  4.85it/s]"
          ]
        },
        {
          "metadata": {
            "tags": null
          },
          "name": "stdout",
          "output_type": "stream",
          "text": [
            "| epoch   2 |  1000/32580 batches | loss    1.211 \n",
            "money: then, form, court, days, chinese, lack, down, slow, importance, something\n",
            "lion: unable, paris, johnson, policy, patrick, husband, hands, experiment, rest, originally\n",
            "africa: external, irish, community, rock, michael, peter, women, dr, available, sir\n",
            "musician: culture, singer, actress, poet, composer, writer, action, mathematician, politician, physicist\n",
            "dance: area, my, folk, musical, pop, end, jazz, musician, blues, jewish\n",
            "\n",
            "\n"
          ]
        },
        {
          "metadata": {
            "tags": null
          },
          "name": "stderr",
          "output_type": "stream",
          "text": [
            "1501it [04:41,  4.96it/s]"
          ]
        },
        {
          "metadata": {
            "tags": null
          },
          "name": "stdout",
          "output_type": "stream",
          "text": [
            "| epoch   2 |  1500/32580 batches | loss    1.209 \n",
            "money: then, form, court, days, chinese, lack, down, slow, importance, california\n",
            "lion: unable, paris, johnson, policy, patrick, husband, hands, experiment, rest, writer\n",
            "africa: external, irish, community, rock, michael, peter, women, dr, available, sir\n",
            "musician: culture, singer, actress, poet, composer, writer, action, mathematician, politician, physicist\n",
            "dance: area, my, folk, musical, pop, end, jazz, musician, blues, jewish\n",
            "\n",
            "\n"
          ]
        },
        {
          "metadata": {
            "tags": null
          },
          "name": "stderr",
          "output_type": "stream",
          "text": [
            "2001it [06:13,  4.86it/s]"
          ]
        },
        {
          "metadata": {
            "tags": null
          },
          "name": "stdout",
          "output_type": "stream",
          "text": [
            "| epoch   2 |  2000/32580 batches | loss    1.205 \n",
            "money: then, form, court, days, chinese, lack, down, slow, importance, california\n",
            "lion: unable, paris, johnson, policy, patrick, husband, hands, experiment, rest, writer\n",
            "africa: external, irish, community, rock, michael, peter, women, dr, available, sir\n",
            "musician: culture, singer, actress, poet, composer, writer, action, mathematician, politician, physicist\n",
            "dance: area, my, folk, musical, pop, end, jazz, musician, blues, jewish\n",
            "\n",
            "\n"
          ]
        },
        {
          "metadata": {
            "tags": null
          },
          "name": "stderr",
          "output_type": "stream",
          "text": [
            "2501it [07:45,  4.92it/s]"
          ]
        },
        {
          "metadata": {
            "tags": null
          },
          "name": "stdout",
          "output_type": "stream",
          "text": [
            "| epoch   2 |  2500/32580 batches | loss    1.208 \n",
            "money: then, form, court, days, chinese, lack, down, slow, importance, california\n",
            "lion: unable, paris, johnson, policy, patrick, husband, hands, experiment, rest, originally\n",
            "africa: external, irish, community, rock, michael, peter, women, dr, available, sir\n",
            "musician: culture, singer, actress, poet, composer, writer, action, mathematician, politician, physicist\n",
            "dance: area, my, folk, musical, pop, end, jazz, musician, blues, jewish\n",
            "\n",
            "\n"
          ]
        },
        {
          "metadata": {
            "tags": null
          },
          "name": "stderr",
          "output_type": "stream",
          "text": [
            "3001it [09:18,  4.80it/s]"
          ]
        },
        {
          "metadata": {
            "tags": null
          },
          "name": "stdout",
          "output_type": "stream",
          "text": [
            "| epoch   2 |  3000/32580 batches | loss    1.206 \n",
            "money: then, form, days, court, chinese, lack, down, slow, importance, something\n",
            "lion: unable, paris, johnson, policy, patrick, husband, hands, experiment, rest, writer\n",
            "africa: external, irish, community, rock, michael, peter, women, dr, available, sir\n",
            "musician: culture, singer, actress, poet, composer, writer, action, mathematician, politician, physicist\n",
            "dance: area, my, folk, musical, pop, end, jazz, musician, blues, jewish\n",
            "\n",
            "\n"
          ]
        },
        {
          "metadata": {
            "tags": null
          },
          "name": "stderr",
          "output_type": "stream",
          "text": [
            "3501it [10:51,  3.79it/s]"
          ]
        },
        {
          "metadata": {
            "tags": null
          },
          "name": "stdout",
          "output_type": "stream",
          "text": [
            "| epoch   2 |  3500/32580 batches | loss    1.208 \n",
            "money: then, form, days, court, chinese, lack, down, slow, importance, something\n",
            "lion: unable, paris, johnson, policy, patrick, husband, hands, experiment, rest, writer\n",
            "africa: external, irish, community, rock, michael, peter, women, dr, available, sir\n",
            "musician: culture, singer, actress, poet, composer, writer, action, mathematician, politician, physicist\n",
            "dance: area, my, folk, musical, pop, end, jazz, musician, blues, book\n",
            "\n",
            "\n"
          ]
        },
        {
          "metadata": {
            "tags": null
          },
          "name": "stderr",
          "output_type": "stream",
          "text": [
            "4001it [12:24,  3.91it/s]"
          ]
        },
        {
          "metadata": {
            "tags": null
          },
          "name": "stdout",
          "output_type": "stream",
          "text": [
            "| epoch   2 |  4000/32580 batches | loss    1.206 \n",
            "money: then, form, court, days, chinese, lack, down, slow, importance, something\n",
            "lion: unable, paris, johnson, policy, patrick, husband, hands, experiment, rest, writer\n",
            "africa: external, irish, community, rock, michael, peter, women, dr, available, sir\n",
            "musician: culture, singer, actress, poet, composer, writer, action, mathematician, politician, physicist\n",
            "dance: area, my, folk, musical, pop, end, jazz, musician, blues, book\n",
            "\n",
            "\n"
          ]
        },
        {
          "metadata": {
            "tags": null
          },
          "name": "stderr",
          "output_type": "stream",
          "text": [
            "4501it [13:57,  4.25it/s]"
          ]
        },
        {
          "metadata": {
            "tags": null
          },
          "name": "stdout",
          "output_type": "stream",
          "text": [
            "| epoch   2 |  4500/32580 batches | loss    1.202 \n",
            "money: then, form, court, days, chinese, lack, down, slow, importance, something\n",
            "lion: unable, paris, johnson, policy, patrick, husband, hands, experiment, rest, originally\n",
            "africa: external, irish, community, rock, michael, peter, women, dr, available, thomas\n",
            "musician: culture, singer, actress, poet, composer, writer, action, mathematician, politician, physicist\n",
            "dance: area, my, folk, musical, pop, end, jazz, musician, blues, book\n",
            "\n",
            "\n"
          ]
        },
        {
          "metadata": {
            "tags": null
          },
          "name": "stderr",
          "output_type": "stream",
          "text": [
            "5001it [15:29,  4.64it/s]"
          ]
        },
        {
          "metadata": {
            "tags": null
          },
          "name": "stdout",
          "output_type": "stream",
          "text": [
            "| epoch   2 |  5000/32580 batches | loss    1.207 \n",
            "money: then, form, court, days, chinese, lack, down, slow, importance, something\n",
            "lion: unable, paris, johnson, policy, patrick, husband, hands, experiment, rest, originally\n",
            "africa: external, irish, community, rock, michael, peter, women, dr, available, thomas\n",
            "musician: culture, singer, actress, poet, composer, writer, action, mathematician, politician, physicist\n",
            "dance: area, my, folk, musical, pop, end, jazz, musician, blues, book\n",
            "\n",
            "\n"
          ]
        },
        {
          "metadata": {
            "tags": null
          },
          "name": "stderr",
          "output_type": "stream",
          "text": [
            "5501it [17:00,  4.50it/s]"
          ]
        },
        {
          "metadata": {
            "tags": null
          },
          "name": "stdout",
          "output_type": "stream",
          "text": [
            "| epoch   2 |  5500/32580 batches | loss    1.202 \n",
            "money: then, form, court, days, chinese, lack, down, slow, importance, something\n",
            "lion: unable, paris, johnson, policy, patrick, husband, hands, experiment, rest, originally\n",
            "africa: external, irish, community, rock, michael, peter, women, dr, available, thomas\n",
            "musician: culture, singer, actress, poet, composer, writer, action, mathematician, politician, physicist\n",
            "dance: area, my, folk, musical, pop, end, jazz, musician, blues, book\n",
            "\n",
            "\n"
          ]
        },
        {
          "metadata": {
            "tags": null
          },
          "name": "stderr",
          "output_type": "stream",
          "text": [
            "6001it [18:30,  4.20it/s]"
          ]
        },
        {
          "metadata": {
            "tags": null
          },
          "name": "stdout",
          "output_type": "stream",
          "text": [
            "| epoch   2 |  6000/32580 batches | loss    1.201 \n",
            "money: then, form, court, days, chinese, lack, down, slow, importance, something\n",
            "lion: unable, paris, johnson, policy, patrick, husband, hands, experiment, rest, originally\n",
            "africa: external, irish, community, rock, michael, peter, women, dr, available, thomas\n",
            "musician: culture, singer, actress, poet, composer, writer, action, mathematician, politician, physicist\n",
            "dance: area, my, folk, musical, pop, end, jazz, musician, blues, book\n",
            "\n",
            "\n"
          ]
        },
        {
          "metadata": {
            "tags": null
          },
          "name": "stderr",
          "output_type": "stream",
          "text": [
            "6501it [20:01,  4.91it/s]"
          ]
        },
        {
          "metadata": {
            "tags": null
          },
          "name": "stdout",
          "output_type": "stream",
          "text": [
            "| epoch   2 |  6500/32580 batches | loss    1.202 \n",
            "money: then, form, court, days, chinese, lack, down, slow, importance, something\n",
            "lion: unable, paris, johnson, policy, patrick, husband, hands, experiment, rest, originally\n",
            "africa: external, irish, community, rock, michael, peter, women, dr, available, thomas\n",
            "musician: culture, singer, actress, poet, composer, writer, action, mathematician, politician, physicist\n",
            "dance: area, my, folk, musical, pop, end, jazz, musician, blues, book\n",
            "\n",
            "\n"
          ]
        },
        {
          "metadata": {
            "tags": null
          },
          "name": "stderr",
          "output_type": "stream",
          "text": [
            "7001it [21:32,  4.95it/s]"
          ]
        },
        {
          "metadata": {
            "tags": null
          },
          "name": "stdout",
          "output_type": "stream",
          "text": [
            "| epoch   2 |  7000/32580 batches | loss    1.203 \n",
            "money: then, form, days, court, chinese, lack, down, slow, importance, something\n",
            "lion: unable, paris, johnson, policy, patrick, husband, hands, experiment, rest, originally\n",
            "africa: external, irish, community, rock, michael, peter, women, dr, available, thomas\n",
            "musician: culture, singer, actress, poet, composer, writer, action, mathematician, politician, physicist\n",
            "dance: area, my, musical, folk, pop, end, jazz, musician, blues, book\n",
            "\n",
            "\n"
          ]
        },
        {
          "metadata": {
            "tags": null
          },
          "name": "stderr",
          "output_type": "stream",
          "text": [
            "7501it [23:03,  4.97it/s]"
          ]
        },
        {
          "metadata": {
            "tags": null
          },
          "name": "stdout",
          "output_type": "stream",
          "text": [
            "| epoch   2 |  7500/32580 batches | loss    1.201 \n",
            "money: then, form, court, days, chinese, lack, down, slow, importance, something\n",
            "lion: unable, paris, johnson, policy, patrick, husband, hands, experiment, rest, originally\n",
            "africa: external, irish, community, rock, michael, peter, women, dr, available, thomas\n",
            "musician: culture, singer, actress, poet, composer, writer, action, mathematician, politician, physicist\n",
            "dance: area, my, musical, folk, pop, end, jazz, musician, blues, book\n",
            "\n",
            "\n"
          ]
        },
        {
          "metadata": {
            "tags": null
          },
          "name": "stderr",
          "output_type": "stream",
          "text": [
            "8001it [24:33,  4.95it/s]"
          ]
        },
        {
          "metadata": {
            "tags": null
          },
          "name": "stdout",
          "output_type": "stream",
          "text": [
            "| epoch   2 |  8000/32580 batches | loss    1.203 \n",
            "money: then, form, court, days, chinese, lack, slow, down, importance, something\n",
            "lion: unable, paris, johnson, policy, patrick, husband, hands, experiment, rest, originally\n",
            "africa: external, irish, community, rock, michael, peter, women, dr, available, thomas\n",
            "musician: culture, singer, actress, poet, composer, writer, action, mathematician, politician, physicist\n",
            "dance: area, my, musical, folk, pop, end, jazz, musician, blues, book\n",
            "\n",
            "\n"
          ]
        },
        {
          "metadata": {
            "tags": null
          },
          "name": "stderr",
          "output_type": "stream",
          "text": [
            "8501it [26:04,  4.95it/s]"
          ]
        },
        {
          "metadata": {
            "tags": null
          },
          "name": "stdout",
          "output_type": "stream",
          "text": [
            "| epoch   2 |  8500/32580 batches | loss    1.197 \n",
            "money: then, court, form, days, chinese, lack, slow, down, importance, something\n",
            "lion: unable, paris, johnson, policy, patrick, husband, hands, experiment, rest, originally\n",
            "africa: external, irish, community, rock, michael, peter, women, dr, thomas, available\n",
            "musician: culture, singer, actress, poet, composer, writer, action, mathematician, politician, physicist\n",
            "dance: area, my, musical, folk, pop, end, jazz, musician, blues, book\n",
            "\n",
            "\n"
          ]
        },
        {
          "metadata": {
            "tags": null
          },
          "name": "stderr",
          "output_type": "stream",
          "text": [
            "9001it [27:34,  4.97it/s]"
          ]
        },
        {
          "metadata": {
            "tags": null
          },
          "name": "stdout",
          "output_type": "stream",
          "text": [
            "| epoch   2 |  9000/32580 batches | loss    1.202 \n",
            "money: then, form, court, days, chinese, lack, down, slow, importance, something\n",
            "lion: unable, paris, johnson, policy, patrick, husband, hands, experiment, rest, originally\n",
            "africa: external, irish, community, rock, michael, peter, women, dr, available, thomas\n",
            "musician: culture, singer, actress, poet, composer, writer, action, mathematician, politician, physicist\n",
            "dance: area, my, musical, folk, pop, end, jazz, musician, blues, book\n",
            "\n",
            "\n"
          ]
        },
        {
          "metadata": {
            "tags": null
          },
          "name": "stderr",
          "output_type": "stream",
          "text": [
            "9501it [29:04,  5.02it/s]"
          ]
        },
        {
          "metadata": {
            "tags": null
          },
          "name": "stdout",
          "output_type": "stream",
          "text": [
            "| epoch   2 |  9500/32580 batches | loss    1.202 \n",
            "money: then, form, court, days, chinese, lack, down, slow, importance, something\n",
            "lion: unable, paris, johnson, policy, patrick, husband, hands, experiment, rest, originally\n",
            "africa: external, irish, community, rock, michael, peter, women, dr, available, thomas\n",
            "musician: culture, singer, actress, poet, composer, writer, action, mathematician, politician, physicist\n",
            "dance: area, my, musical, folk, pop, end, jazz, musician, blues, book\n",
            "\n",
            "\n"
          ]
        },
        {
          "metadata": {
            "tags": null
          },
          "name": "stderr",
          "output_type": "stream",
          "text": [
            "10001it [30:35,  4.68it/s]"
          ]
        },
        {
          "metadata": {
            "tags": null
          },
          "name": "stdout",
          "output_type": "stream",
          "text": [
            "| epoch   2 | 10000/32580 batches | loss    1.197 \n",
            "money: then, form, court, days, chinese, lack, slow, down, importance, something\n",
            "lion: unable, paris, johnson, policy, patrick, husband, hands, experiment, rest, originally\n",
            "africa: external, irish, community, rock, michael, peter, women, dr, available, thomas\n",
            "musician: culture, singer, actress, poet, composer, writer, action, mathematician, politician, physicist\n",
            "dance: area, my, musical, folk, pop, end, jazz, musician, blues, book\n",
            "\n",
            "\n"
          ]
        },
        {
          "metadata": {
            "tags": null
          },
          "name": "stderr",
          "output_type": "stream",
          "text": [
            "10501it [32:07,  4.61it/s]"
          ]
        },
        {
          "metadata": {
            "tags": null
          },
          "name": "stdout",
          "output_type": "stream",
          "text": [
            "| epoch   2 | 10500/32580 batches | loss    1.200 \n",
            "money: then, form, court, days, chinese, lack, down, slow, importance, something\n",
            "lion: unable, paris, johnson, policy, patrick, husband, hands, experiment, rest, awarded\n",
            "africa: external, irish, community, rock, michael, peter, women, dr, available, thomas\n",
            "musician: culture, singer, actress, poet, composer, writer, action, mathematician, politician, physicist\n",
            "dance: area, my, musical, folk, pop, end, jazz, musician, blues, book\n",
            "\n",
            "\n"
          ]
        },
        {
          "metadata": {
            "tags": null
          },
          "name": "stderr",
          "output_type": "stream",
          "text": [
            "11001it [33:38,  4.49it/s]"
          ]
        },
        {
          "metadata": {
            "tags": null
          },
          "name": "stdout",
          "output_type": "stream",
          "text": [
            "| epoch   2 | 11000/32580 batches | loss    1.200 \n",
            "money: then, form, court, days, chinese, lack, down, slow, importance, something\n",
            "lion: unable, paris, johnson, policy, patrick, husband, hands, experiment, rest, awarded\n",
            "africa: external, irish, community, rock, michael, peter, women, dr, available, thomas\n",
            "musician: culture, singer, actress, poet, composer, writer, action, mathematician, politician, physicist\n",
            "dance: area, my, musical, folk, pop, end, jazz, musician, blues, book\n",
            "\n",
            "\n"
          ]
        },
        {
          "metadata": {
            "tags": null
          },
          "name": "stderr",
          "output_type": "stream",
          "text": [
            "11501it [35:11,  4.65it/s]"
          ]
        },
        {
          "metadata": {
            "tags": null
          },
          "name": "stdout",
          "output_type": "stream",
          "text": [
            "| epoch   2 | 11500/32580 batches | loss    1.203 \n",
            "money: then, form, court, days, chinese, lack, down, slow, importance, something\n",
            "lion: unable, paris, johnson, policy, patrick, husband, hands, experiment, rest, awarded\n",
            "africa: external, irish, community, rock, michael, peter, women, dr, thomas, available\n",
            "musician: culture, singer, actress, poet, composer, writer, action, mathematician, politician, physicist\n",
            "dance: area, my, musical, folk, pop, end, jazz, musician, blues, book\n",
            "\n",
            "\n"
          ]
        },
        {
          "metadata": {
            "tags": null
          },
          "name": "stderr",
          "output_type": "stream",
          "text": [
            "12001it [36:42,  4.35it/s]"
          ]
        },
        {
          "metadata": {
            "tags": null
          },
          "name": "stdout",
          "output_type": "stream",
          "text": [
            "| epoch   2 | 12000/32580 batches | loss    1.197 \n",
            "money: then, form, court, days, chinese, lack, down, slow, importance, popularity\n",
            "lion: unable, paris, johnson, policy, patrick, husband, hands, experiment, rest, awarded\n",
            "africa: external, irish, community, rock, michael, peter, women, dr, thomas, available\n",
            "musician: culture, singer, actress, poet, composer, writer, action, mathematician, politician, physicist\n",
            "dance: area, my, musical, folk, pop, end, jazz, musician, blues, book\n",
            "\n",
            "\n"
          ]
        },
        {
          "metadata": {
            "tags": null
          },
          "name": "stderr",
          "output_type": "stream",
          "text": [
            "12501it [38:14,  3.86it/s]"
          ]
        },
        {
          "metadata": {
            "tags": null
          },
          "name": "stdout",
          "output_type": "stream",
          "text": [
            "| epoch   2 | 12500/32580 batches | loss    1.195 \n",
            "money: then, form, court, days, chinese, lack, down, slow, importance, popularity\n",
            "lion: unable, paris, johnson, policy, patrick, husband, hands, experiment, rest, awarded\n",
            "africa: external, irish, community, rock, michael, peter, women, dr, thomas, available\n",
            "musician: culture, singer, actress, poet, composer, writer, action, mathematician, politician, physicist\n",
            "dance: area, my, musical, folk, pop, end, jazz, musician, blues, book\n",
            "\n",
            "\n"
          ]
        },
        {
          "metadata": {
            "tags": null
          },
          "name": "stderr",
          "output_type": "stream",
          "text": [
            "13001it [39:45,  3.98it/s]"
          ]
        },
        {
          "metadata": {
            "tags": null
          },
          "name": "stdout",
          "output_type": "stream",
          "text": [
            "| epoch   2 | 13000/32580 batches | loss    1.200 \n",
            "money: then, form, court, days, chinese, lack, down, slow, importance, popularity\n",
            "lion: unable, paris, johnson, policy, patrick, husband, hands, experiment, rest, awarded\n",
            "africa: external, irish, community, rock, michael, peter, women, dr, thomas, available\n",
            "musician: culture, singer, actress, poet, composer, writer, action, mathematician, politician, physicist\n",
            "dance: area, my, musical, folk, pop, end, jazz, musician, blues, book\n",
            "\n",
            "\n"
          ]
        },
        {
          "metadata": {
            "tags": null
          },
          "name": "stderr",
          "output_type": "stream",
          "text": [
            "13501it [41:17,  4.16it/s]"
          ]
        },
        {
          "metadata": {
            "tags": null
          },
          "name": "stdout",
          "output_type": "stream",
          "text": [
            "| epoch   2 | 13500/32580 batches | loss    1.196 \n",
            "money: then, form, court, days, chinese, lack, slow, down, importance, popularity\n",
            "lion: unable, paris, johnson, policy, patrick, husband, hands, experiment, rest, writer\n",
            "africa: external, irish, community, rock, michael, peter, women, dr, thomas, available\n",
            "musician: culture, singer, actress, poet, composer, writer, action, mathematician, politician, physicist\n",
            "dance: area, my, musical, folk, pop, end, jazz, musician, blues, book\n",
            "\n",
            "\n"
          ]
        },
        {
          "metadata": {
            "tags": null
          },
          "name": "stderr",
          "output_type": "stream",
          "text": [
            "14001it [42:48,  4.92it/s]"
          ]
        },
        {
          "metadata": {
            "tags": null
          },
          "name": "stdout",
          "output_type": "stream",
          "text": [
            "| epoch   2 | 14000/32580 batches | loss    1.195 \n",
            "money: then, form, court, days, chinese, lack, slow, down, importance, popularity\n",
            "lion: unable, paris, johnson, policy, patrick, husband, hands, experiment, rest, writer\n",
            "africa: external, irish, community, rock, michael, peter, women, dr, thomas, available\n",
            "musician: culture, singer, actress, poet, composer, writer, action, mathematician, politician, physicist\n",
            "dance: area, my, musical, folk, pop, end, jazz, musician, blues, book\n",
            "\n",
            "\n"
          ]
        },
        {
          "metadata": {
            "tags": null
          },
          "name": "stderr",
          "output_type": "stream",
          "text": [
            "14501it [44:19,  4.98it/s]"
          ]
        },
        {
          "metadata": {
            "tags": null
          },
          "name": "stdout",
          "output_type": "stream",
          "text": [
            "| epoch   2 | 14500/32580 batches | loss    1.199 \n",
            "money: then, form, court, days, chinese, lack, down, slow, importance, popularity\n",
            "lion: unable, paris, johnson, policy, patrick, husband, hands, experiment, rest, writer\n",
            "africa: external, irish, community, rock, michael, peter, women, dr, thomas, available\n",
            "musician: culture, singer, actress, poet, composer, writer, action, mathematician, politician, physicist\n",
            "dance: area, my, musical, folk, pop, end, jazz, musician, blues, book\n",
            "\n",
            "\n"
          ]
        },
        {
          "metadata": {
            "tags": null
          },
          "name": "stderr",
          "output_type": "stream",
          "text": [
            "15001it [45:50,  4.99it/s]"
          ]
        },
        {
          "metadata": {
            "tags": null
          },
          "name": "stdout",
          "output_type": "stream",
          "text": [
            "| epoch   2 | 15000/32580 batches | loss    1.192 \n",
            "money: then, form, court, days, chinese, lack, down, slow, importance, popularity\n",
            "lion: unable, paris, johnson, policy, patrick, husband, hands, experiment, rest, writer\n",
            "africa: external, irish, community, rock, michael, peter, women, dr, thomas, available\n",
            "musician: culture, singer, actress, poet, composer, writer, action, mathematician, politician, physicist\n",
            "dance: area, my, musical, folk, pop, end, jazz, musician, blues, book\n",
            "\n",
            "\n"
          ]
        },
        {
          "metadata": {
            "tags": null
          },
          "name": "stderr",
          "output_type": "stream",
          "text": [
            "15501it [47:27,  4.85it/s]"
          ]
        },
        {
          "metadata": {
            "tags": null
          },
          "name": "stdout",
          "output_type": "stream",
          "text": [
            "| epoch   2 | 15500/32580 batches | loss    1.196 \n",
            "money: then, form, court, days, chinese, lack, slow, down, importance, popularity\n",
            "lion: unable, paris, johnson, policy, patrick, husband, hands, experiment, rest, writer\n",
            "africa: external, irish, community, rock, michael, peter, women, dr, thomas, available\n",
            "musician: culture, singer, actress, poet, composer, writer, action, mathematician, politician, physicist\n",
            "dance: area, my, musical, folk, pop, end, jazz, musician, blues, book\n",
            "\n",
            "\n"
          ]
        },
        {
          "metadata": {
            "tags": null
          },
          "name": "stderr",
          "output_type": "stream",
          "text": [
            "16001it [48:58,  3.92it/s]"
          ]
        },
        {
          "metadata": {
            "tags": null
          },
          "name": "stdout",
          "output_type": "stream",
          "text": [
            "| epoch   2 | 16000/32580 batches | loss    1.191 \n",
            "money: then, form, court, days, chinese, lack, slow, down, importance, popularity\n",
            "lion: unable, paris, johnson, policy, patrick, husband, hands, rest, experiment, writer\n",
            "africa: external, irish, community, rock, michael, peter, women, dr, thomas, available\n",
            "musician: culture, singer, actress, poet, composer, writer, action, mathematician, politician, physicist\n",
            "dance: area, my, musical, folk, pop, end, jazz, musician, blues, jewish\n",
            "\n",
            "\n"
          ]
        },
        {
          "metadata": {
            "tags": null
          },
          "name": "stderr",
          "output_type": "stream",
          "text": [
            "16501it [50:28,  5.00it/s]"
          ]
        },
        {
          "metadata": {
            "tags": null
          },
          "name": "stdout",
          "output_type": "stream",
          "text": [
            "| epoch   2 | 16500/32580 batches | loss    1.194 \n",
            "money: then, form, court, days, chinese, lack, slow, down, importance, popularity\n",
            "lion: unable, paris, johnson, policy, patrick, husband, hands, experiment, rest, writer\n",
            "africa: external, irish, community, rock, michael, peter, women, dr, thomas, available\n",
            "musician: culture, singer, actress, poet, composer, writer, action, mathematician, politician, physicist\n",
            "dance: area, my, musical, folk, pop, end, jazz, musician, blues, literary\n",
            "\n",
            "\n"
          ]
        },
        {
          "metadata": {
            "tags": null
          },
          "name": "stderr",
          "output_type": "stream",
          "text": [
            "17001it [51:59,  4.98it/s]"
          ]
        },
        {
          "metadata": {
            "tags": null
          },
          "name": "stdout",
          "output_type": "stream",
          "text": [
            "| epoch   2 | 17000/32580 batches | loss    1.197 \n",
            "money: then, form, court, days, chinese, lack, slow, down, importance, popularity\n",
            "lion: unable, paris, johnson, policy, patrick, husband, hands, rest, experiment, writer\n",
            "africa: external, irish, community, rock, michael, peter, women, dr, thomas, available\n",
            "musician: culture, singer, actress, poet, composer, writer, action, mathematician, politician, physicist\n",
            "dance: area, my, musical, folk, pop, end, jazz, musician, blues, literary\n",
            "\n",
            "\n"
          ]
        },
        {
          "metadata": {
            "tags": null
          },
          "name": "stderr",
          "output_type": "stream",
          "text": [
            "17501it [53:30,  5.02it/s]"
          ]
        },
        {
          "metadata": {
            "tags": null
          },
          "name": "stdout",
          "output_type": "stream",
          "text": [
            "| epoch   2 | 17500/32580 batches | loss    1.193 \n",
            "money: then, form, court, days, chinese, lack, slow, down, importance, popularity\n",
            "lion: unable, paris, johnson, policy, patrick, husband, hands, experiment, rest, writer\n",
            "africa: external, irish, community, rock, michael, peter, women, dr, thomas, available\n",
            "musician: culture, singer, actress, poet, composer, writer, action, mathematician, politician, physicist\n",
            "dance: area, my, musical, folk, pop, end, jazz, musician, blues, literary\n",
            "\n",
            "\n"
          ]
        },
        {
          "metadata": {
            "tags": null
          },
          "name": "stderr",
          "output_type": "stream",
          "text": [
            "18001it [55:00,  4.93it/s]"
          ]
        },
        {
          "metadata": {
            "tags": null
          },
          "name": "stdout",
          "output_type": "stream",
          "text": [
            "| epoch   2 | 18000/32580 batches | loss    1.191 \n",
            "money: then, form, court, days, chinese, lack, slow, down, popularity, importance\n",
            "lion: unable, paris, johnson, policy, patrick, husband, hands, experiment, rest, writer\n",
            "africa: external, irish, community, rock, michael, peter, women, dr, thomas, available\n",
            "musician: culture, singer, actress, poet, composer, writer, action, mathematician, politician, physicist\n",
            "dance: area, my, musical, folk, pop, end, jazz, musician, blues, literary\n",
            "\n",
            "\n"
          ]
        },
        {
          "metadata": {
            "tags": null
          },
          "name": "stderr",
          "output_type": "stream",
          "text": [
            "18501it [56:31,  4.96it/s]"
          ]
        },
        {
          "metadata": {
            "tags": null
          },
          "name": "stdout",
          "output_type": "stream",
          "text": [
            "| epoch   2 | 18500/32580 batches | loss    1.195 \n",
            "money: then, form, court, days, chinese, lack, slow, down, importance, popularity\n",
            "lion: unable, paris, johnson, policy, patrick, husband, hands, experiment, rest, writer\n",
            "africa: external, irish, community, rock, michael, peter, women, dr, thomas, available\n",
            "musician: culture, singer, actress, poet, composer, writer, action, mathematician, politician, physicist\n",
            "dance: area, my, musical, folk, pop, end, jazz, musician, blues, literary\n",
            "\n",
            "\n"
          ]
        },
        {
          "metadata": {
            "tags": null
          },
          "name": "stderr",
          "output_type": "stream",
          "text": [
            "19001it [58:02,  4.83it/s]"
          ]
        },
        {
          "metadata": {
            "tags": null
          },
          "name": "stdout",
          "output_type": "stream",
          "text": [
            "| epoch   2 | 19000/32580 batches | loss    1.193 \n",
            "money: then, form, court, days, chinese, lack, slow, down, importance, it\n",
            "lion: unable, paris, johnson, policy, patrick, husband, hands, experiment, rest, writer\n",
            "africa: external, irish, community, rock, michael, peter, women, dr, thomas, available\n",
            "musician: culture, singer, actress, poet, composer, writer, action, mathematician, politician, physicist\n",
            "dance: area, my, musical, folk, pop, end, jazz, musician, blues, literary\n",
            "\n",
            "\n"
          ]
        },
        {
          "metadata": {
            "tags": null
          },
          "name": "stderr",
          "output_type": "stream",
          "text": [
            "19501it [59:31,  4.24it/s]"
          ]
        },
        {
          "metadata": {
            "tags": null
          },
          "name": "stdout",
          "output_type": "stream",
          "text": [
            "| epoch   2 | 19500/32580 batches | loss    1.191 \n",
            "money: then, form, court, days, chinese, lack, slow, down, importance, it\n",
            "lion: unable, paris, johnson, policy, patrick, husband, hands, experiment, rest, writer\n",
            "africa: external, irish, community, rock, michael, peter, women, dr, thomas, available\n",
            "musician: culture, singer, actress, poet, composer, writer, action, mathematician, politician, physicist\n",
            "dance: area, my, musical, folk, pop, jazz, end, musician, blues, literary\n",
            "\n",
            "\n"
          ]
        },
        {
          "metadata": {
            "tags": null
          },
          "name": "stderr",
          "output_type": "stream",
          "text": [
            "20001it [1:01:02,  4.96it/s]"
          ]
        },
        {
          "metadata": {
            "tags": null
          },
          "name": "stdout",
          "output_type": "stream",
          "text": [
            "| epoch   2 | 20000/32580 batches | loss    1.195 \n",
            "money: then, form, court, days, chinese, lack, slow, down, importance, popularity\n",
            "lion: unable, paris, johnson, policy, patrick, husband, hands, rest, experiment, writer\n",
            "africa: external, irish, community, rock, michael, peter, women, dr, thomas, available\n",
            "musician: culture, singer, actress, poet, composer, writer, action, mathematician, politician, physicist\n",
            "dance: area, my, musical, folk, pop, jazz, end, musician, blues, literary\n",
            "\n",
            "\n"
          ]
        },
        {
          "metadata": {
            "tags": null
          },
          "name": "stderr",
          "output_type": "stream",
          "text": [
            "20501it [1:02:31,  5.04it/s]"
          ]
        },
        {
          "metadata": {
            "tags": null
          },
          "name": "stdout",
          "output_type": "stream",
          "text": [
            "| epoch   2 | 20500/32580 batches | loss    1.190 \n",
            "money: then, form, court, days, chinese, lack, slow, down, it, importance\n",
            "lion: unable, paris, johnson, policy, patrick, husband, hands, experiment, rest, writer\n",
            "africa: external, irish, community, rock, michael, peter, women, dr, thomas, available\n",
            "musician: culture, singer, actress, poet, composer, writer, action, mathematician, politician, physicist\n",
            "dance: area, my, musical, folk, pop, end, jazz, musician, blues, literary\n",
            "\n",
            "\n"
          ]
        },
        {
          "metadata": {
            "tags": null
          },
          "name": "stderr",
          "output_type": "stream",
          "text": [
            "21001it [1:04:00,  4.95it/s]"
          ]
        },
        {
          "metadata": {
            "tags": null
          },
          "name": "stdout",
          "output_type": "stream",
          "text": [
            "| epoch   2 | 21000/32580 batches | loss    1.192 \n",
            "money: then, form, court, days, chinese, lack, slow, it, down, importance\n",
            "lion: unable, paris, johnson, policy, patrick, husband, hands, experiment, rest, writer\n",
            "africa: external, irish, community, rock, michael, peter, women, dr, thomas, available\n",
            "musician: culture, singer, actress, poet, composer, writer, action, mathematician, politician, physicist\n",
            "dance: area, my, musical, folk, pop, jazz, end, musician, blues, literary\n",
            "\n",
            "\n"
          ]
        },
        {
          "metadata": {
            "tags": null
          },
          "name": "stderr",
          "output_type": "stream",
          "text": [
            "21501it [1:05:30,  4.95it/s]"
          ]
        },
        {
          "metadata": {
            "tags": null
          },
          "name": "stdout",
          "output_type": "stream",
          "text": [
            "| epoch   2 | 21500/32580 batches | loss    1.193 \n",
            "money: then, form, court, days, chinese, lack, slow, it, down, importance\n",
            "lion: unable, paris, johnson, policy, patrick, husband, hands, experiment, rest, writer\n",
            "africa: external, irish, community, rock, michael, peter, women, dr, thomas, available\n",
            "musician: culture, singer, actress, poet, composer, writer, action, mathematician, politician, physicist\n",
            "dance: area, my, musical, folk, pop, end, jazz, musician, blues, literary\n",
            "\n",
            "\n"
          ]
        },
        {
          "metadata": {
            "tags": null
          },
          "name": "stderr",
          "output_type": "stream",
          "text": [
            "22001it [1:06:59,  5.04it/s]"
          ]
        },
        {
          "metadata": {
            "tags": null
          },
          "name": "stdout",
          "output_type": "stream",
          "text": [
            "| epoch   2 | 22000/32580 batches | loss    1.191 \n",
            "money: then, form, court, days, chinese, lack, slow, it, importance, down\n",
            "lion: unable, paris, johnson, policy, patrick, husband, hands, experiment, rest, writer\n",
            "africa: external, irish, community, rock, michael, peter, women, dr, thomas, available\n",
            "musician: culture, singer, actress, poet, composer, writer, action, mathematician, politician, physicist\n",
            "dance: area, my, musical, folk, pop, jazz, end, musician, blues, literary\n",
            "\n",
            "\n"
          ]
        },
        {
          "metadata": {
            "tags": null
          },
          "name": "stderr",
          "output_type": "stream",
          "text": [
            "22501it [1:08:29,  4.93it/s]"
          ]
        },
        {
          "metadata": {
            "tags": null
          },
          "name": "stdout",
          "output_type": "stream",
          "text": [
            "| epoch   2 | 22500/32580 batches | loss    1.190 \n",
            "money: then, form, court, chinese, days, lack, slow, it, importance, down\n",
            "lion: unable, paris, johnson, policy, patrick, husband, hands, experiment, rest, writer\n",
            "africa: external, irish, community, rock, michael, peter, women, dr, thomas, available\n",
            "musician: culture, singer, actress, poet, composer, writer, action, mathematician, politician, physicist\n",
            "dance: area, my, musical, folk, pop, jazz, end, musician, blues, literary\n",
            "\n",
            "\n"
          ]
        },
        {
          "metadata": {
            "tags": null
          },
          "name": "stderr",
          "output_type": "stream",
          "text": [
            "23001it [1:09:58,  5.11it/s]"
          ]
        },
        {
          "metadata": {
            "tags": null
          },
          "name": "stdout",
          "output_type": "stream",
          "text": [
            "| epoch   2 | 23000/32580 batches | loss    1.187 \n",
            "money: then, form, court, chinese, days, lack, slow, it, importance, down\n",
            "lion: unable, paris, johnson, policy, patrick, husband, hands, experiment, rest, ussr\n",
            "africa: external, irish, community, rock, michael, peter, women, dr, thomas, available\n",
            "musician: culture, singer, actress, poet, composer, writer, action, mathematician, politician, physicist\n",
            "dance: area, my, musical, folk, pop, jazz, end, musician, blues, literary\n",
            "\n",
            "\n"
          ]
        },
        {
          "metadata": {
            "tags": null
          },
          "name": "stderr",
          "output_type": "stream",
          "text": [
            "23501it [1:11:28,  4.92it/s]"
          ]
        },
        {
          "metadata": {
            "tags": null
          },
          "name": "stdout",
          "output_type": "stream",
          "text": [
            "| epoch   2 | 23500/32580 batches | loss    1.193 \n",
            "money: then, form, court, chinese, days, lack, it, slow, importance, down\n",
            "lion: unable, paris, johnson, policy, patrick, husband, hands, experiment, rest, ussr\n",
            "africa: external, irish, community, rock, michael, peter, women, dr, thomas, available\n",
            "musician: culture, singer, actress, poet, composer, writer, action, mathematician, politician, physicist\n",
            "dance: area, my, musical, folk, pop, jazz, end, musician, blues, literary\n",
            "\n",
            "\n"
          ]
        },
        {
          "metadata": {
            "tags": null
          },
          "name": "stderr",
          "output_type": "stream",
          "text": [
            "24001it [1:12:58,  4.28it/s]"
          ]
        },
        {
          "metadata": {
            "tags": null
          },
          "name": "stdout",
          "output_type": "stream",
          "text": [
            "| epoch   2 | 24000/32580 batches | loss    1.192 \n",
            "money: then, form, court, chinese, days, it, lack, slow, importance, down\n",
            "lion: unable, paris, johnson, policy, patrick, husband, hands, experiment, rest, ussr\n",
            "africa: external, irish, community, rock, michael, peter, women, dr, thomas, available\n",
            "musician: culture, singer, actress, poet, composer, writer, action, mathematician, politician, physicist\n",
            "dance: area, my, musical, folk, pop, jazz, end, musician, blues, literary\n",
            "\n",
            "\n"
          ]
        },
        {
          "metadata": {
            "tags": null
          },
          "name": "stderr",
          "output_type": "stream",
          "text": [
            "24501it [1:14:28,  4.90it/s]"
          ]
        },
        {
          "metadata": {
            "tags": null
          },
          "name": "stdout",
          "output_type": "stream",
          "text": [
            "| epoch   2 | 24500/32580 batches | loss    1.193 \n",
            "money: then, form, court, chinese, days, it, slow, lack, importance, down\n",
            "lion: unable, paris, johnson, policy, patrick, husband, hands, experiment, rest, ussr\n",
            "africa: external, irish, community, rock, michael, peter, women, thomas, dr, available\n",
            "musician: culture, singer, actress, poet, composer, writer, action, mathematician, politician, physicist\n",
            "dance: area, my, musical, folk, pop, jazz, end, musician, blues, literary\n",
            "\n",
            "\n"
          ]
        },
        {
          "metadata": {
            "tags": null
          },
          "name": "stderr",
          "output_type": "stream",
          "text": [
            "25001it [1:15:57,  4.89it/s]"
          ]
        },
        {
          "metadata": {
            "tags": null
          },
          "name": "stdout",
          "output_type": "stream",
          "text": [
            "| epoch   2 | 25000/32580 batches | loss    1.185 \n",
            "money: then, form, court, chinese, days, it, slow, lack, importance, down\n",
            "lion: unable, paris, johnson, policy, patrick, husband, hands, experiment, rest, ussr\n",
            "africa: external, irish, community, rock, michael, peter, women, thomas, dr, available\n",
            "musician: culture, singer, actress, poet, composer, writer, action, mathematician, politician, physicist\n",
            "dance: area, my, musical, folk, pop, jazz, end, musician, blues, literary\n",
            "\n",
            "\n"
          ]
        },
        {
          "metadata": {
            "tags": null
          },
          "name": "stderr",
          "output_type": "stream",
          "text": [
            "25501it [1:17:27,  4.94it/s]"
          ]
        },
        {
          "metadata": {
            "tags": null
          },
          "name": "stdout",
          "output_type": "stream",
          "text": [
            "| epoch   2 | 25500/32580 batches | loss    1.193 \n",
            "money: then, form, court, it, chinese, days, lack, slow, importance, down\n",
            "lion: unable, paris, johnson, policy, patrick, husband, hands, experiment, rest, ussr\n",
            "africa: external, irish, community, rock, michael, peter, women, thomas, dr, available\n",
            "musician: culture, singer, actress, poet, composer, writer, action, mathematician, politician, physicist\n",
            "dance: area, my, musical, folk, pop, jazz, end, musician, blues, literary\n",
            "\n",
            "\n"
          ]
        },
        {
          "metadata": {
            "tags": null
          },
          "name": "stderr",
          "output_type": "stream",
          "text": [
            "26001it [1:18:57,  4.91it/s]"
          ]
        },
        {
          "metadata": {
            "tags": null
          },
          "name": "stdout",
          "output_type": "stream",
          "text": [
            "| epoch   2 | 26000/32580 batches | loss    1.189 \n",
            "money: then, form, court, chinese, it, days, slow, lack, importance, something\n",
            "lion: unable, paris, johnson, policy, patrick, husband, hands, experiment, rest, ussr\n",
            "africa: external, irish, community, rock, michael, peter, women, thomas, dr, available\n",
            "musician: culture, singer, actress, poet, composer, writer, action, mathematician, politician, physicist\n",
            "dance: area, my, musical, folk, pop, jazz, end, musician, blues, literary\n",
            "\n",
            "\n"
          ]
        },
        {
          "metadata": {
            "tags": null
          },
          "name": "stderr",
          "output_type": "stream",
          "text": [
            "26501it [1:20:27,  4.25it/s]"
          ]
        },
        {
          "metadata": {
            "tags": null
          },
          "name": "stdout",
          "output_type": "stream",
          "text": [
            "| epoch   2 | 26500/32580 batches | loss    1.184 \n",
            "money: then, form, court, chinese, days, it, lack, slow, something, importance\n",
            "lion: unable, paris, johnson, policy, patrick, husband, hands, experiment, rest, ussr\n",
            "africa: external, irish, community, rock, michael, peter, women, thomas, available, dr\n",
            "musician: culture, singer, actress, poet, composer, writer, action, mathematician, politician, physicist\n",
            "dance: area, my, musical, folk, pop, jazz, end, musician, blues, literary\n",
            "\n",
            "\n"
          ]
        },
        {
          "metadata": {
            "tags": null
          },
          "name": "stderr",
          "output_type": "stream",
          "text": [
            "27001it [1:21:56,  5.01it/s]"
          ]
        },
        {
          "metadata": {
            "tags": null
          },
          "name": "stdout",
          "output_type": "stream",
          "text": [
            "| epoch   2 | 27000/32580 batches | loss    1.190 \n",
            "money: then, form, court, chinese, days, lack, it, slow, importance, something\n",
            "lion: unable, paris, johnson, policy, patrick, husband, hands, rest, experiment, ussr\n",
            "africa: external, irish, community, rock, michael, peter, women, thomas, dr, available\n",
            "musician: culture, singer, actress, poet, composer, writer, action, mathematician, politician, physicist\n",
            "dance: area, my, musical, folk, pop, jazz, end, musician, blues, literary\n",
            "\n",
            "\n"
          ]
        },
        {
          "metadata": {
            "tags": null
          },
          "name": "stderr",
          "output_type": "stream",
          "text": [
            "27501it [1:23:27,  4.92it/s]"
          ]
        },
        {
          "metadata": {
            "tags": null
          },
          "name": "stdout",
          "output_type": "stream",
          "text": [
            "| epoch   2 | 27500/32580 batches | loss    1.192 \n",
            "money: then, form, court, chinese, days, it, lack, slow, something, importance\n",
            "lion: unable, paris, johnson, policy, patrick, husband, hands, rest, experiment, ussr\n",
            "africa: external, irish, community, rock, michael, peter, women, thomas, available, dr\n",
            "musician: culture, singer, actress, poet, composer, writer, action, mathematician, politician, physicist\n",
            "dance: area, my, musical, folk, pop, jazz, end, musician, blues, literary\n",
            "\n",
            "\n"
          ]
        },
        {
          "metadata": {
            "tags": null
          },
          "name": "stderr",
          "output_type": "stream",
          "text": [
            "28001it [1:24:57,  5.02it/s]"
          ]
        },
        {
          "metadata": {
            "tags": null
          },
          "name": "stdout",
          "output_type": "stream",
          "text": [
            "| epoch   2 | 28000/32580 batches | loss    1.190 \n",
            "money: then, form, court, chinese, days, lack, slow, it, something, importance\n",
            "lion: unable, paris, johnson, policy, patrick, husband, hands, rest, experiment, ussr\n",
            "africa: external, irish, community, rock, michael, peter, women, thomas, available, dr\n",
            "musician: culture, singer, actress, poet, composer, writer, action, mathematician, politician, physicist\n",
            "dance: area, my, musical, folk, pop, jazz, end, musician, blues, literary\n",
            "\n",
            "\n"
          ]
        },
        {
          "metadata": {
            "tags": null
          },
          "name": "stderr",
          "output_type": "stream",
          "text": [
            "28501it [1:26:26,  5.07it/s]"
          ]
        },
        {
          "metadata": {
            "tags": null
          },
          "name": "stdout",
          "output_type": "stream",
          "text": [
            "| epoch   2 | 28500/32580 batches | loss    1.187 \n",
            "money: then, form, court, chinese, days, lack, slow, it, down, importance\n",
            "lion: unable, paris, johnson, policy, patrick, husband, hands, experiment, rest, ussr\n",
            "africa: external, irish, community, rock, michael, peter, women, thomas, available, dr\n",
            "musician: culture, singer, actress, poet, composer, writer, action, mathematician, politician, physicist\n",
            "dance: area, my, musical, folk, pop, jazz, end, musician, blues, literary\n",
            "\n",
            "\n"
          ]
        },
        {
          "metadata": {
            "tags": null
          },
          "name": "stderr",
          "output_type": "stream",
          "text": [
            "29001it [1:27:56,  3.86it/s]"
          ]
        },
        {
          "metadata": {
            "tags": null
          },
          "name": "stdout",
          "output_type": "stream",
          "text": [
            "| epoch   2 | 29000/32580 batches | loss    1.188 \n",
            "money: then, form, court, chinese, days, lack, slow, down, it, importance\n",
            "lion: unable, paris, johnson, policy, patrick, husband, hands, experiment, rest, ussr\n",
            "africa: external, irish, community, rock, michael, peter, women, thomas, available, dr\n",
            "musician: culture, singer, actress, poet, composer, writer, action, mathematician, politician, physicist\n",
            "dance: area, my, musical, folk, pop, jazz, end, musician, blues, literary\n",
            "\n",
            "\n"
          ]
        },
        {
          "metadata": {
            "tags": null
          },
          "name": "stderr",
          "output_type": "stream",
          "text": [
            "29501it [1:29:24,  5.04it/s]"
          ]
        },
        {
          "metadata": {
            "tags": null
          },
          "name": "stdout",
          "output_type": "stream",
          "text": [
            "| epoch   2 | 29500/32580 batches | loss    1.188 \n",
            "money: then, form, court, chinese, days, lack, slow, down, it, something\n",
            "lion: unable, paris, johnson, policy, patrick, husband, hands, rest, experiment, ussr\n",
            "africa: external, irish, community, rock, michael, peter, women, thomas, available, dr\n",
            "musician: culture, singer, actress, poet, composer, writer, action, mathematician, politician, physicist\n",
            "dance: area, my, musical, folk, pop, jazz, end, musician, blues, literary\n",
            "\n",
            "\n"
          ]
        },
        {
          "metadata": {
            "tags": null
          },
          "name": "stderr",
          "output_type": "stream",
          "text": [
            "30001it [1:30:53,  5.06it/s]"
          ]
        },
        {
          "metadata": {
            "tags": null
          },
          "name": "stdout",
          "output_type": "stream",
          "text": [
            "| epoch   2 | 30000/32580 batches | loss    1.189 \n",
            "money: then, form, court, chinese, days, lack, slow, down, importance, something\n",
            "lion: unable, paris, johnson, policy, patrick, husband, hands, rest, experiment, ussr\n",
            "africa: external, irish, community, rock, michael, peter, women, thomas, available, dr\n",
            "musician: culture, singer, actress, poet, composer, writer, action, mathematician, politician, physicist\n",
            "dance: area, my, musical, folk, pop, jazz, end, musician, blues, literary\n",
            "\n",
            "\n"
          ]
        },
        {
          "metadata": {
            "tags": null
          },
          "name": "stderr",
          "output_type": "stream",
          "text": [
            "30501it [1:32:22,  4.79it/s]"
          ]
        },
        {
          "metadata": {
            "tags": null
          },
          "name": "stdout",
          "output_type": "stream",
          "text": [
            "| epoch   2 | 30500/32580 batches | loss    1.187 \n",
            "money: then, form, court, chinese, days, lack, slow, it, down, importance\n",
            "lion: unable, paris, johnson, policy, patrick, husband, hands, rest, experiment, ussr\n",
            "africa: external, irish, community, rock, michael, peter, women, thomas, available, dr\n",
            "musician: culture, singer, actress, poet, composer, writer, action, mathematician, politician, physicist\n",
            "dance: area, my, musical, folk, pop, jazz, end, blues, musician, literary\n",
            "\n",
            "\n"
          ]
        },
        {
          "metadata": {
            "tags": null
          },
          "name": "stderr",
          "output_type": "stream",
          "text": [
            "31001it [1:33:50,  5.03it/s]"
          ]
        },
        {
          "metadata": {
            "tags": null
          },
          "name": "stdout",
          "output_type": "stream",
          "text": [
            "| epoch   2 | 31000/32580 batches | loss    1.189 \n",
            "money: then, form, court, chinese, days, lack, slow, it, down, importance\n",
            "lion: unable, paris, johnson, policy, patrick, husband, hands, experiment, rest, ussr\n",
            "africa: external, irish, community, rock, michael, peter, women, thomas, available, dr\n",
            "musician: culture, singer, actress, poet, composer, writer, action, mathematician, politician, physicist\n",
            "dance: area, my, musical, folk, pop, jazz, end, blues, musician, literary\n",
            "\n",
            "\n"
          ]
        },
        {
          "metadata": {
            "tags": null
          },
          "name": "stderr",
          "output_type": "stream",
          "text": [
            "31501it [1:35:20,  5.16it/s]"
          ]
        },
        {
          "metadata": {
            "tags": null
          },
          "name": "stdout",
          "output_type": "stream",
          "text": [
            "| epoch   2 | 31500/32580 batches | loss    1.187 \n",
            "money: then, form, court, chinese, days, lack, slow, down, importance, it\n",
            "lion: unable, paris, johnson, policy, patrick, husband, hands, rest, experiment, ussr\n",
            "africa: external, irish, community, rock, michael, peter, women, thomas, available, dr\n",
            "musician: culture, singer, actress, poet, composer, writer, action, mathematician, politician, physicist\n",
            "dance: area, my, musical, folk, pop, jazz, end, blues, musician, literary\n",
            "\n",
            "\n"
          ]
        },
        {
          "metadata": {
            "tags": null
          },
          "name": "stderr",
          "output_type": "stream",
          "text": [
            "32001it [1:36:49,  5.01it/s]"
          ]
        },
        {
          "metadata": {
            "tags": null
          },
          "name": "stdout",
          "output_type": "stream",
          "text": [
            "| epoch   2 | 32000/32580 batches | loss    1.189 \n",
            "money: then, form, court, chinese, days, lack, slow, it, importance, down\n",
            "lion: unable, paris, johnson, policy, patrick, husband, hands, rest, experiment, ussr\n",
            "africa: external, irish, community, rock, michael, peter, women, thomas, available, dr\n",
            "musician: culture, singer, actress, poet, composer, writer, action, mathematician, politician, physicist\n",
            "dance: area, my, musical, folk, pop, jazz, end, blues, musician, literary\n",
            "\n",
            "\n"
          ]
        },
        {
          "metadata": {
            "tags": null
          },
          "name": "stderr",
          "output_type": "stream",
          "text": [
            "32501it [1:38:17,  4.06it/s]"
          ]
        },
        {
          "metadata": {
            "tags": null
          },
          "name": "stdout",
          "output_type": "stream",
          "text": [
            "| epoch   2 | 32500/32580 batches | loss    1.188 \n",
            "money: then, form, court, chinese, days, lack, slow, it, importance, something\n",
            "lion: unable, paris, johnson, policy, patrick, husband, hands, rest, experiment, ussr\n",
            "africa: external, irish, community, rock, michael, peter, women, thomas, available, dr\n",
            "musician: culture, singer, actress, poet, composer, writer, action, mathematician, politician, physicist\n",
            "dance: area, my, musical, folk, pop, jazz, end, blues, musician, literary\n",
            "\n",
            "\n"
          ]
        },
        {
          "metadata": {
            "tags": null
          },
          "name": "stderr",
          "output_type": "stream",
          "text": [
            "32580it [1:38:32,  5.51it/s]\n",
            "1it [00:01,  1.29s/it]"
          ]
        },
        {
          "metadata": {
            "tags": null
          },
          "name": "stdout",
          "output_type": "stream",
          "text": [
            "| epoch   3 |     0/32580 batches | loss    1.189 \n",
            "money: then, form, court, chinese, days, lack, slow, it, importance, something\n",
            "lion: unable, paris, johnson, policy, patrick, husband, hands, rest, experiment, ussr\n",
            "africa: external, irish, community, rock, michael, peter, women, thomas, available, dr\n",
            "musician: culture, singer, actress, poet, composer, writer, action, mathematician, politician, physicist\n",
            "dance: area, my, musical, folk, pop, jazz, end, blues, musician, literary\n",
            "\n",
            "\n"
          ]
        },
        {
          "metadata": {
            "tags": null
          },
          "name": "stderr",
          "output_type": "stream",
          "text": [
            "501it [01:30,  5.04it/s]"
          ]
        },
        {
          "metadata": {
            "tags": null
          },
          "name": "stdout",
          "output_type": "stream",
          "text": [
            "| epoch   3 |   500/32580 batches | loss    1.177 \n",
            "money: then, form, court, chinese, days, lack, slow, it, something, importance\n",
            "lion: unable, paris, johnson, policy, patrick, husband, hands, rest, experiment, ussr\n",
            "africa: external, irish, community, rock, michael, peter, women, thomas, available, dr\n",
            "musician: culture, singer, actress, poet, composer, writer, action, mathematician, politician, physicist\n",
            "dance: area, my, musical, folk, pop, jazz, end, blues, musician, literary\n",
            "\n",
            "\n"
          ]
        },
        {
          "metadata": {
            "tags": null
          },
          "name": "stderr",
          "output_type": "stream",
          "text": [
            "1001it [03:00,  4.21it/s]"
          ]
        },
        {
          "metadata": {
            "tags": null
          },
          "name": "stdout",
          "output_type": "stream",
          "text": [
            "| epoch   3 |  1000/32580 batches | loss    1.179 \n",
            "money: then, form, court, chinese, days, lack, slow, it, something, importance\n",
            "lion: unable, paris, johnson, policy, patrick, husband, hands, rest, experiment, ussr\n",
            "africa: external, irish, community, rock, michael, peter, women, thomas, available, dr\n",
            "musician: culture, singer, actress, poet, composer, writer, action, mathematician, politician, physicist\n",
            "dance: area, my, musical, folk, pop, jazz, end, blues, musician, literary\n",
            "\n",
            "\n"
          ]
        },
        {
          "metadata": {
            "tags": null
          },
          "name": "stderr",
          "output_type": "stream",
          "text": [
            "1501it [04:30,  5.00it/s]"
          ]
        },
        {
          "metadata": {
            "tags": null
          },
          "name": "stdout",
          "output_type": "stream",
          "text": [
            "| epoch   3 |  1500/32580 batches | loss    1.180 \n",
            "money: then, form, court, chinese, days, lack, slow, it, something, importance\n",
            "lion: unable, paris, johnson, policy, patrick, husband, hands, rest, experiment, ussr\n",
            "africa: external, irish, community, rock, michael, peter, women, thomas, available, dr\n",
            "musician: culture, singer, actress, poet, composer, writer, action, mathematician, politician, physicist\n",
            "dance: area, my, musical, folk, pop, jazz, end, blues, musician, literary\n",
            "\n",
            "\n"
          ]
        },
        {
          "metadata": {
            "tags": null
          },
          "name": "stderr",
          "output_type": "stream",
          "text": [
            "2001it [06:02,  4.92it/s]"
          ]
        },
        {
          "metadata": {
            "tags": null
          },
          "name": "stdout",
          "output_type": "stream",
          "text": [
            "| epoch   3 |  2000/32580 batches | loss    1.182 \n",
            "money: then, form, court, chinese, days, lack, slow, it, something, importance\n",
            "lion: unable, paris, johnson, policy, patrick, husband, hands, rest, experiment, ussr\n",
            "africa: external, irish, community, rock, michael, peter, women, thomas, available, dr\n",
            "musician: culture, singer, actress, poet, composer, writer, action, mathematician, politician, physicist\n",
            "dance: area, my, musical, folk, pop, jazz, end, blues, musician, literary\n",
            "\n",
            "\n"
          ]
        },
        {
          "metadata": {
            "tags": null
          },
          "name": "stderr",
          "output_type": "stream",
          "text": [
            "2501it [07:32,  4.83it/s]"
          ]
        },
        {
          "metadata": {
            "tags": null
          },
          "name": "stdout",
          "output_type": "stream",
          "text": [
            "| epoch   3 |  2500/32580 batches | loss    1.178 \n",
            "money: then, form, court, chinese, days, lack, slow, it, something, importance\n",
            "lion: unable, paris, johnson, policy, patrick, husband, hands, rest, experiment, ussr\n",
            "africa: external, irish, community, rock, michael, peter, women, thomas, available, dr\n",
            "musician: culture, singer, actress, poet, composer, writer, action, mathematician, politician, physicist\n",
            "dance: area, my, musical, folk, pop, jazz, end, blues, musician, literary\n",
            "\n",
            "\n"
          ]
        },
        {
          "metadata": {
            "tags": null
          },
          "name": "stderr",
          "output_type": "stream",
          "text": [
            "3001it [09:04,  4.96it/s]"
          ]
        },
        {
          "metadata": {
            "tags": null
          },
          "name": "stdout",
          "output_type": "stream",
          "text": [
            "| epoch   3 |  3000/32580 batches | loss    1.177 \n",
            "money: then, form, court, chinese, days, lack, slow, it, something, importance\n",
            "lion: unable, paris, johnson, policy, patrick, husband, hands, rest, experiment, ussr\n",
            "africa: external, irish, community, rock, michael, peter, women, thomas, available, dr\n",
            "musician: culture, singer, actress, poet, composer, writer, action, mathematician, politician, physicist\n",
            "dance: area, my, musical, folk, pop, jazz, end, blues, musician, literary\n",
            "\n",
            "\n"
          ]
        },
        {
          "metadata": {
            "tags": null
          },
          "name": "stderr",
          "output_type": "stream",
          "text": [
            "3501it [10:35,  4.99it/s]"
          ]
        },
        {
          "metadata": {
            "tags": null
          },
          "name": "stdout",
          "output_type": "stream",
          "text": [
            "| epoch   3 |  3500/32580 batches | loss    1.177 \n",
            "money: then, form, court, chinese, days, lack, slow, it, importance, something\n",
            "lion: unable, paris, johnson, policy, patrick, husband, hands, rest, experiment, ussr\n",
            "africa: external, irish, community, rock, michael, peter, women, thomas, available, dr\n",
            "musician: culture, singer, actress, poet, composer, writer, action, mathematician, politician, physicist\n",
            "dance: area, my, musical, folk, pop, jazz, end, blues, musician, literary\n",
            "\n",
            "\n"
          ]
        },
        {
          "metadata": {
            "tags": null
          },
          "name": "stderr",
          "output_type": "stream",
          "text": [
            "4001it [12:05,  4.91it/s]"
          ]
        },
        {
          "metadata": {
            "tags": null
          },
          "name": "stdout",
          "output_type": "stream",
          "text": [
            "| epoch   3 |  4000/32580 batches | loss    1.176 \n",
            "money: then, form, court, chinese, days, lack, slow, it, importance, something\n",
            "lion: unable, paris, johnson, policy, patrick, husband, hands, rest, experiment, ussr\n",
            "africa: external, irish, community, rock, michael, peter, women, thomas, available, dr\n",
            "musician: culture, singer, actress, poet, composer, writer, action, mathematician, politician, physicist\n",
            "dance: area, my, musical, folk, pop, jazz, end, blues, musician, literary\n",
            "\n",
            "\n"
          ]
        },
        {
          "metadata": {
            "tags": null
          },
          "name": "stderr",
          "output_type": "stream",
          "text": [
            "4501it [13:35,  5.09it/s]"
          ]
        },
        {
          "metadata": {
            "tags": null
          },
          "name": "stdout",
          "output_type": "stream",
          "text": [
            "| epoch   3 |  4500/32580 batches | loss    1.176 \n",
            "money: then, form, court, chinese, days, lack, slow, it, importance, something\n",
            "lion: unable, paris, johnson, policy, patrick, husband, hands, rest, experiment, ussr\n",
            "africa: external, irish, community, rock, michael, peter, women, thomas, available, dr\n",
            "musician: culture, singer, actress, poet, composer, writer, action, mathematician, politician, physicist\n",
            "dance: area, my, musical, folk, pop, jazz, end, blues, musician, literary\n",
            "\n",
            "\n"
          ]
        },
        {
          "metadata": {
            "tags": null
          },
          "name": "stderr",
          "output_type": "stream",
          "text": [
            "5001it [15:04,  3.98it/s]"
          ]
        },
        {
          "metadata": {
            "tags": null
          },
          "name": "stdout",
          "output_type": "stream",
          "text": [
            "| epoch   3 |  5000/32580 batches | loss    1.180 \n",
            "money: then, form, court, chinese, days, lack, slow, it, importance, something\n",
            "lion: unable, paris, johnson, policy, patrick, husband, hands, rest, ussr, experiment\n",
            "africa: external, irish, community, rock, michael, peter, women, thomas, available, dr\n",
            "musician: culture, singer, actress, poet, composer, writer, action, mathematician, politician, physicist\n",
            "dance: area, my, musical, folk, pop, jazz, end, blues, musician, literary\n",
            "\n",
            "\n"
          ]
        },
        {
          "metadata": {
            "tags": null
          },
          "name": "stderr",
          "output_type": "stream",
          "text": [
            "5501it [16:33,  5.06it/s]"
          ]
        },
        {
          "metadata": {
            "tags": null
          },
          "name": "stdout",
          "output_type": "stream",
          "text": [
            "| epoch   3 |  5500/32580 batches | loss    1.176 \n",
            "money: then, form, court, chinese, days, lack, slow, it, something, importance\n",
            "lion: unable, paris, johnson, policy, patrick, husband, hands, rest, ussr, experiment\n",
            "africa: external, irish, community, rock, michael, peter, women, thomas, available, dr\n",
            "musician: culture, singer, actress, poet, composer, writer, action, mathematician, politician, physicist\n",
            "dance: area, my, musical, folk, pop, jazz, end, blues, musician, literary\n",
            "\n",
            "\n"
          ]
        },
        {
          "metadata": {
            "tags": null
          },
          "name": "stderr",
          "output_type": "stream",
          "text": [
            "6001it [18:10,  5.02it/s]"
          ]
        },
        {
          "metadata": {
            "tags": null
          },
          "name": "stdout",
          "output_type": "stream",
          "text": [
            "| epoch   3 |  6000/32580 batches | loss    1.178 \n",
            "money: then, form, court, chinese, days, lack, slow, it, something, importance\n",
            "lion: unable, paris, johnson, policy, patrick, husband, hands, rest, ussr, experiment\n",
            "africa: external, irish, community, rock, michael, peter, women, thomas, available, dr\n",
            "musician: culture, singer, actress, poet, composer, writer, action, mathematician, politician, physicist\n",
            "dance: area, my, musical, folk, pop, jazz, end, blues, musician, literary\n",
            "\n",
            "\n"
          ]
        },
        {
          "metadata": {
            "tags": null
          },
          "name": "stderr",
          "output_type": "stream",
          "text": [
            "6501it [19:38,  4.24it/s]"
          ]
        },
        {
          "metadata": {
            "tags": null
          },
          "name": "stdout",
          "output_type": "stream",
          "text": [
            "| epoch   3 |  6500/32580 batches | loss    1.175 \n",
            "money: then, form, court, chinese, days, lack, it, slow, something, importance\n",
            "lion: unable, paris, johnson, policy, patrick, husband, hands, rest, ussr, experiment\n",
            "africa: external, irish, community, rock, michael, peter, women, thomas, available, dr\n",
            "musician: culture, singer, actress, poet, composer, writer, action, mathematician, politician, physicist\n",
            "dance: area, my, musical, folk, pop, jazz, end, blues, musician, literary\n",
            "\n",
            "\n"
          ]
        },
        {
          "metadata": {
            "tags": null
          },
          "name": "stderr",
          "output_type": "stream",
          "text": [
            "7001it [21:08,  5.05it/s]"
          ]
        },
        {
          "metadata": {
            "tags": null
          },
          "name": "stdout",
          "output_type": "stream",
          "text": [
            "| epoch   3 |  7000/32580 batches | loss    1.175 \n",
            "money: then, form, court, chinese, days, lack, it, slow, something, importance\n",
            "lion: unable, paris, johnson, policy, patrick, husband, hands, rest, ussr, experiment\n",
            "africa: external, irish, community, rock, michael, peter, women, thomas, available, dr\n",
            "musician: culture, singer, actress, poet, composer, writer, action, mathematician, politician, physicist\n",
            "dance: area, my, musical, folk, pop, jazz, end, blues, musician, literary\n",
            "\n",
            "\n"
          ]
        },
        {
          "metadata": {
            "tags": null
          },
          "name": "stderr",
          "output_type": "stream",
          "text": [
            "7501it [22:37,  5.08it/s]"
          ]
        },
        {
          "metadata": {
            "tags": null
          },
          "name": "stdout",
          "output_type": "stream",
          "text": [
            "| epoch   3 |  7500/32580 batches | loss    1.178 \n",
            "money: then, form, court, chinese, days, lack, it, slow, something, importance\n",
            "lion: unable, paris, johnson, policy, patrick, husband, hands, rest, ussr, experiment\n",
            "africa: external, irish, community, rock, michael, peter, women, thomas, available, dr\n",
            "musician: culture, singer, actress, poet, composer, writer, action, mathematician, politician, physicist\n",
            "dance: area, my, musical, folk, pop, jazz, end, blues, musician, literary\n",
            "\n",
            "\n"
          ]
        },
        {
          "metadata": {
            "tags": null
          },
          "name": "stderr",
          "output_type": "stream",
          "text": [
            "8001it [24:06,  5.09it/s]"
          ]
        },
        {
          "metadata": {
            "tags": null
          },
          "name": "stdout",
          "output_type": "stream",
          "text": [
            "| epoch   3 |  8000/32580 batches | loss    1.172 \n",
            "money: then, form, court, chinese, days, lack, it, slow, something, importance\n",
            "lion: unable, paris, johnson, policy, patrick, husband, hands, rest, ussr, experiment\n",
            "africa: external, irish, community, rock, michael, peter, women, thomas, available, dr\n",
            "musician: culture, singer, actress, poet, composer, writer, action, mathematician, politician, physicist\n",
            "dance: area, my, musical, folk, pop, jazz, end, blues, musician, literary\n",
            "\n",
            "\n"
          ]
        },
        {
          "metadata": {
            "tags": null
          },
          "name": "stderr",
          "output_type": "stream",
          "text": [
            "8501it [25:35,  3.99it/s]"
          ]
        },
        {
          "metadata": {
            "tags": null
          },
          "name": "stdout",
          "output_type": "stream",
          "text": [
            "| epoch   3 |  8500/32580 batches | loss    1.172 \n",
            "money: then, form, court, chinese, days, it, lack, slow, importance, something\n",
            "lion: unable, paris, johnson, policy, patrick, husband, hands, rest, ussr, experiment\n",
            "africa: external, irish, community, rock, michael, peter, women, thomas, available, dr\n",
            "musician: culture, singer, actress, poet, composer, writer, action, mathematician, politician, physicist\n",
            "dance: area, my, musical, folk, pop, jazz, end, blues, musician, literary\n",
            "\n",
            "\n"
          ]
        },
        {
          "metadata": {
            "tags": null
          },
          "name": "stderr",
          "output_type": "stream",
          "text": [
            "9001it [27:04,  5.03it/s]"
          ]
        },
        {
          "metadata": {
            "tags": null
          },
          "name": "stdout",
          "output_type": "stream",
          "text": [
            "| epoch   3 |  9000/32580 batches | loss    1.179 \n",
            "money: then, form, court, chinese, days, it, lack, slow, importance, something\n",
            "lion: unable, paris, johnson, policy, patrick, husband, hands, rest, ussr, experiment\n",
            "africa: external, irish, community, rock, michael, peter, women, thomas, available, dr\n",
            "musician: culture, singer, actress, poet, composer, writer, action, mathematician, politician, physicist\n",
            "dance: area, my, musical, folk, pop, jazz, end, blues, musician, literary\n",
            "\n",
            "\n"
          ]
        },
        {
          "metadata": {
            "tags": null
          },
          "name": "stderr",
          "output_type": "stream",
          "text": [
            "9501it [28:33,  5.09it/s]"
          ]
        },
        {
          "metadata": {
            "tags": null
          },
          "name": "stdout",
          "output_type": "stream",
          "text": [
            "| epoch   3 |  9500/32580 batches | loss    1.176 \n",
            "money: then, form, court, chinese, days, it, lack, slow, something, importance\n",
            "lion: unable, paris, johnson, policy, patrick, husband, hands, rest, ussr, experiment\n",
            "africa: external, irish, community, rock, michael, peter, women, thomas, available, dr\n",
            "musician: culture, singer, actress, poet, composer, writer, action, mathematician, politician, physicist\n",
            "dance: area, my, musical, folk, pop, jazz, end, blues, musician, literary\n",
            "\n",
            "\n"
          ]
        },
        {
          "metadata": {
            "tags": null
          },
          "name": "stderr",
          "output_type": "stream",
          "text": [
            "10001it [30:02,  5.08it/s]"
          ]
        },
        {
          "metadata": {
            "tags": null
          },
          "name": "stdout",
          "output_type": "stream",
          "text": [
            "| epoch   3 | 10000/32580 batches | loss    1.179 \n",
            "money: then, form, court, chinese, days, it, lack, slow, something, importance\n",
            "lion: unable, paris, johnson, policy, patrick, husband, hands, rest, ussr, experiment\n",
            "africa: external, irish, community, rock, michael, peter, women, thomas, available, dr\n",
            "musician: culture, singer, actress, poet, composer, writer, action, mathematician, politician, physicist\n",
            "dance: area, my, musical, folk, pop, jazz, end, blues, musician, literary\n",
            "\n",
            "\n"
          ]
        },
        {
          "metadata": {
            "tags": null
          },
          "name": "stderr",
          "output_type": "stream",
          "text": [
            "10501it [31:31,  4.19it/s]"
          ]
        },
        {
          "metadata": {
            "tags": null
          },
          "name": "stdout",
          "output_type": "stream",
          "text": [
            "| epoch   3 | 10500/32580 batches | loss    1.173 \n",
            "money: then, form, court, chinese, days, it, lack, slow, importance, something\n",
            "lion: unable, paris, johnson, policy, patrick, husband, hands, rest, ussr, experiment\n",
            "africa: external, irish, community, rock, michael, peter, women, thomas, available, dr\n",
            "musician: culture, singer, actress, poet, composer, writer, action, mathematician, politician, physicist\n",
            "dance: area, my, musical, folk, pop, jazz, end, blues, musician, literary\n",
            "\n",
            "\n"
          ]
        },
        {
          "metadata": {
            "tags": null
          },
          "name": "stderr",
          "output_type": "stream",
          "text": [
            "11001it [32:59,  5.08it/s]"
          ]
        },
        {
          "metadata": {
            "tags": null
          },
          "name": "stdout",
          "output_type": "stream",
          "text": [
            "| epoch   3 | 11000/32580 batches | loss    1.173 \n",
            "money: then, form, court, chinese, days, it, lack, slow, importance, something\n",
            "lion: unable, paris, johnson, policy, patrick, husband, hands, rest, ussr, experiment\n",
            "africa: external, irish, community, rock, michael, peter, women, thomas, available, dr\n",
            "musician: culture, singer, actress, poet, composer, writer, action, mathematician, politician, physicist\n",
            "dance: area, my, musical, folk, pop, jazz, end, blues, musician, literary\n",
            "\n",
            "\n"
          ]
        },
        {
          "metadata": {
            "tags": null
          },
          "name": "stderr",
          "output_type": "stream",
          "text": [
            "11501it [34:29,  5.00it/s]"
          ]
        },
        {
          "metadata": {
            "tags": null
          },
          "name": "stdout",
          "output_type": "stream",
          "text": [
            "| epoch   3 | 11500/32580 batches | loss    1.174 \n",
            "money: then, form, court, chinese, days, it, lack, slow, importance, something\n",
            "lion: unable, paris, johnson, policy, patrick, husband, hands, rest, ussr, experiment\n",
            "africa: external, irish, community, rock, michael, peter, women, thomas, available, dr\n",
            "musician: culture, singer, actress, poet, composer, writer, action, mathematician, politician, physicist\n",
            "dance: area, my, musical, folk, pop, jazz, end, blues, musician, literary\n",
            "\n",
            "\n"
          ]
        },
        {
          "metadata": {
            "tags": null
          },
          "name": "stderr",
          "output_type": "stream",
          "text": [
            "12001it [35:58,  5.17it/s]"
          ]
        },
        {
          "metadata": {
            "tags": null
          },
          "name": "stdout",
          "output_type": "stream",
          "text": [
            "| epoch   3 | 12000/32580 batches | loss    1.180 \n",
            "money: then, form, court, chinese, days, it, lack, slow, importance, something\n",
            "lion: unable, paris, johnson, policy, patrick, husband, hands, rest, ussr, experiment\n",
            "africa: external, irish, community, rock, michael, peter, women, thomas, available, dr\n",
            "musician: culture, singer, actress, poet, composer, writer, action, mathematician, politician, physicist\n",
            "dance: area, my, musical, folk, pop, jazz, end, blues, musician, literary\n",
            "\n",
            "\n"
          ]
        },
        {
          "metadata": {
            "tags": null
          },
          "name": "stderr",
          "output_type": "stream",
          "text": [
            "12501it [37:26,  4.18it/s]"
          ]
        },
        {
          "metadata": {
            "tags": null
          },
          "name": "stdout",
          "output_type": "stream",
          "text": [
            "| epoch   3 | 12500/32580 batches | loss    1.175 \n",
            "money: then, form, court, chinese, days, it, lack, slow, importance, something\n",
            "lion: unable, paris, johnson, policy, patrick, husband, hands, rest, ussr, experiment\n",
            "africa: external, irish, community, rock, michael, peter, women, thomas, available, dr\n",
            "musician: culture, singer, actress, poet, composer, writer, action, mathematician, politician, physicist\n",
            "dance: area, my, musical, folk, pop, jazz, end, blues, musician, literary\n",
            "\n",
            "\n"
          ]
        },
        {
          "metadata": {
            "tags": null
          },
          "name": "stderr",
          "output_type": "stream",
          "text": [
            "13001it [38:54,  5.02it/s]"
          ]
        },
        {
          "metadata": {
            "tags": null
          },
          "name": "stdout",
          "output_type": "stream",
          "text": [
            "| epoch   3 | 13000/32580 batches | loss    1.176 \n",
            "money: then, form, court, chinese, days, it, lack, slow, importance, something\n",
            "lion: unable, paris, johnson, policy, patrick, husband, hands, rest, ussr, experiment\n",
            "africa: external, irish, community, rock, michael, peter, women, thomas, available, dr\n",
            "musician: culture, singer, actress, poet, composer, writer, action, mathematician, politician, physicist\n",
            "dance: area, my, musical, folk, pop, jazz, end, blues, musician, literary\n",
            "\n",
            "\n"
          ]
        },
        {
          "metadata": {
            "tags": null
          },
          "name": "stderr",
          "output_type": "stream",
          "text": [
            "13501it [40:22,  5.00it/s]"
          ]
        },
        {
          "metadata": {
            "tags": null
          },
          "name": "stdout",
          "output_type": "stream",
          "text": [
            "| epoch   3 | 13500/32580 batches | loss    1.176 \n",
            "money: then, form, court, chinese, days, it, lack, slow, importance, something\n",
            "lion: unable, paris, johnson, policy, patrick, husband, hands, rest, ussr, experiment\n",
            "africa: external, irish, community, rock, michael, peter, women, thomas, available, dr\n",
            "musician: culture, singer, actress, poet, composer, writer, action, mathematician, politician, physicist\n",
            "dance: area, my, musical, folk, pop, jazz, end, blues, musician, literary\n",
            "\n",
            "\n"
          ]
        },
        {
          "metadata": {
            "tags": null
          },
          "name": "stderr",
          "output_type": "stream",
          "text": [
            "14001it [41:51,  4.92it/s]"
          ]
        },
        {
          "metadata": {
            "tags": null
          },
          "name": "stdout",
          "output_type": "stream",
          "text": [
            "| epoch   3 | 14000/32580 batches | loss    1.178 \n",
            "money: then, form, court, chinese, days, it, lack, slow, importance, something\n",
            "lion: unable, paris, johnson, policy, patrick, husband, hands, rest, ussr, experiment\n",
            "africa: external, irish, community, rock, michael, peter, women, thomas, available, dr\n",
            "musician: culture, singer, actress, poet, composer, writer, action, mathematician, politician, physicist\n",
            "dance: area, my, musical, folk, pop, jazz, end, blues, musician, literary\n",
            "\n",
            "\n"
          ]
        },
        {
          "metadata": {
            "tags": null
          },
          "name": "stderr",
          "output_type": "stream",
          "text": [
            "14501it [43:19,  5.12it/s]"
          ]
        },
        {
          "metadata": {
            "tags": null
          },
          "name": "stdout",
          "output_type": "stream",
          "text": [
            "| epoch   3 | 14500/32580 batches | loss    1.175 \n",
            "money: then, form, court, chinese, days, it, lack, slow, importance, something\n",
            "lion: unable, paris, johnson, policy, patrick, husband, hands, rest, ussr, experiment\n",
            "africa: external, irish, community, rock, michael, peter, women, thomas, available, dr\n",
            "musician: culture, singer, actress, poet, composer, writer, action, mathematician, politician, physicist\n",
            "dance: area, my, musical, folk, pop, jazz, end, blues, musician, literary\n",
            "\n",
            "\n"
          ]
        },
        {
          "metadata": {
            "tags": null
          },
          "name": "stderr",
          "output_type": "stream",
          "text": [
            "15001it [44:48,  5.11it/s]"
          ]
        },
        {
          "metadata": {
            "tags": null
          },
          "name": "stdout",
          "output_type": "stream",
          "text": [
            "| epoch   3 | 15000/32580 batches | loss    1.179 \n",
            "money: then, form, court, chinese, days, it, lack, slow, importance, something\n",
            "lion: unable, paris, johnson, policy, patrick, husband, hands, rest, ussr, experiment\n",
            "africa: external, irish, community, rock, michael, peter, women, thomas, available, dr\n",
            "musician: culture, singer, actress, poet, composer, writer, action, mathematician, politician, physicist\n",
            "dance: area, my, musical, folk, pop, jazz, end, blues, musician, literary\n",
            "\n",
            "\n"
          ]
        },
        {
          "metadata": {
            "tags": null
          },
          "name": "stderr",
          "output_type": "stream",
          "text": [
            "15501it [46:18,  4.98it/s]"
          ]
        },
        {
          "metadata": {
            "tags": null
          },
          "name": "stdout",
          "output_type": "stream",
          "text": [
            "| epoch   3 | 15500/32580 batches | loss    1.171 \n",
            "money: then, form, court, chinese, days, it, lack, slow, importance, something\n",
            "lion: unable, paris, johnson, policy, patrick, husband, hands, rest, ussr, experiment\n",
            "africa: external, irish, community, rock, michael, peter, women, thomas, available, dr\n",
            "musician: culture, singer, actress, poet, composer, writer, action, mathematician, politician, physicist\n",
            "dance: area, my, musical, folk, pop, jazz, end, blues, musician, literary\n",
            "\n",
            "\n"
          ]
        },
        {
          "metadata": {
            "tags": null
          },
          "name": "stderr",
          "output_type": "stream",
          "text": [
            "16001it [47:47,  4.34it/s]"
          ]
        },
        {
          "metadata": {
            "tags": null
          },
          "name": "stdout",
          "output_type": "stream",
          "text": [
            "| epoch   3 | 16000/32580 batches | loss    1.174 \n",
            "money: then, form, court, chinese, days, it, lack, slow, importance, something\n",
            "lion: unable, paris, johnson, policy, patrick, husband, hands, rest, ussr, experiment\n",
            "africa: external, irish, community, rock, michael, peter, women, thomas, available, dr\n",
            "musician: culture, singer, actress, poet, composer, writer, action, mathematician, politician, physicist\n",
            "dance: area, my, musical, folk, pop, jazz, end, blues, musician, literary\n",
            "\n",
            "\n"
          ]
        },
        {
          "metadata": {
            "tags": null
          },
          "name": "stderr",
          "output_type": "stream",
          "text": [
            "16501it [49:17,  4.99it/s]"
          ]
        },
        {
          "metadata": {
            "tags": null
          },
          "name": "stdout",
          "output_type": "stream",
          "text": [
            "| epoch   3 | 16500/32580 batches | loss    1.181 \n",
            "money: then, form, court, chinese, days, it, lack, slow, importance, something\n",
            "lion: unable, paris, johnson, policy, patrick, husband, hands, rest, ussr, experiment\n",
            "africa: external, irish, community, rock, michael, peter, women, thomas, available, dr\n",
            "musician: culture, singer, actress, poet, composer, writer, action, mathematician, politician, physicist\n",
            "dance: area, my, musical, folk, pop, jazz, end, blues, musician, literary\n",
            "\n",
            "\n"
          ]
        },
        {
          "metadata": {
            "tags": null
          },
          "name": "stderr",
          "output_type": "stream",
          "text": [
            "17001it [50:46,  5.09it/s]"
          ]
        },
        {
          "metadata": {
            "tags": null
          },
          "name": "stdout",
          "output_type": "stream",
          "text": [
            "| epoch   3 | 17000/32580 batches | loss    1.174 \n",
            "money: then, form, court, chinese, days, it, lack, slow, importance, something\n",
            "lion: unable, paris, johnson, policy, patrick, husband, hands, rest, ussr, experiment\n",
            "africa: external, irish, community, rock, michael, peter, women, thomas, available, dr\n",
            "musician: culture, singer, actress, poet, composer, writer, action, mathematician, politician, physicist\n",
            "dance: area, my, musical, folk, pop, jazz, end, blues, musician, literary\n",
            "\n",
            "\n"
          ]
        },
        {
          "metadata": {
            "tags": null
          },
          "name": "stderr",
          "output_type": "stream",
          "text": [
            "17501it [52:15,  4.96it/s]"
          ]
        },
        {
          "metadata": {
            "tags": null
          },
          "name": "stdout",
          "output_type": "stream",
          "text": [
            "| epoch   3 | 17500/32580 batches | loss    1.175 \n",
            "money: then, form, court, chinese, days, it, lack, slow, importance, something\n",
            "lion: unable, paris, johnson, policy, patrick, husband, hands, rest, ussr, experiment\n",
            "africa: external, irish, community, rock, michael, peter, women, thomas, available, dr\n",
            "musician: culture, singer, actress, poet, composer, writer, action, mathematician, politician, physicist\n",
            "dance: area, my, musical, folk, pop, jazz, end, blues, musician, literary\n",
            "\n",
            "\n"
          ]
        },
        {
          "metadata": {
            "tags": null
          },
          "name": "stderr",
          "output_type": "stream",
          "text": [
            "18001it [53:51,  4.97it/s]"
          ]
        },
        {
          "metadata": {
            "tags": null
          },
          "name": "stdout",
          "output_type": "stream",
          "text": [
            "| epoch   3 | 18000/32580 batches | loss    1.178 \n",
            "money: then, form, court, chinese, days, it, lack, slow, importance, something\n",
            "lion: unable, paris, johnson, policy, patrick, husband, hands, rest, ussr, experiment\n",
            "africa: external, irish, community, rock, michael, peter, women, thomas, available, dr\n",
            "musician: culture, singer, actress, poet, composer, writer, action, mathematician, politician, physicist\n",
            "dance: area, my, musical, folk, pop, jazz, end, blues, musician, literary\n",
            "\n",
            "\n"
          ]
        },
        {
          "metadata": {
            "tags": null
          },
          "name": "stderr",
          "output_type": "stream",
          "text": [
            "18501it [55:21,  5.03it/s]"
          ]
        },
        {
          "metadata": {
            "tags": null
          },
          "name": "stdout",
          "output_type": "stream",
          "text": [
            "| epoch   3 | 18500/32580 batches | loss    1.177 \n",
            "money: then, form, court, chinese, days, it, lack, slow, importance, something\n",
            "lion: unable, paris, johnson, policy, patrick, husband, hands, rest, ussr, experiment\n",
            "africa: external, irish, community, rock, michael, peter, women, thomas, available, dr\n",
            "musician: culture, singer, actress, poet, composer, writer, action, mathematician, politician, physicist\n",
            "dance: area, my, musical, folk, pop, jazz, end, blues, musician, literary\n",
            "\n",
            "\n"
          ]
        },
        {
          "metadata": {
            "tags": null
          },
          "name": "stderr",
          "output_type": "stream",
          "text": [
            "19001it [56:51,  4.99it/s]"
          ]
        },
        {
          "metadata": {
            "tags": null
          },
          "name": "stdout",
          "output_type": "stream",
          "text": [
            "| epoch   3 | 19000/32580 batches | loss    1.179 \n",
            "money: then, form, court, chinese, days, it, lack, slow, importance, something\n",
            "lion: unable, paris, johnson, policy, patrick, husband, hands, rest, ussr, experiment\n",
            "africa: external, irish, community, rock, michael, peter, women, thomas, available, dr\n",
            "musician: culture, singer, actress, poet, composer, writer, action, mathematician, politician, physicist\n",
            "dance: area, my, musical, folk, pop, jazz, end, blues, musician, literary\n",
            "\n",
            "\n"
          ]
        },
        {
          "metadata": {
            "tags": null
          },
          "name": "stderr",
          "output_type": "stream",
          "text": [
            "19501it [58:21,  4.85it/s]"
          ]
        },
        {
          "metadata": {
            "tags": null
          },
          "name": "stdout",
          "output_type": "stream",
          "text": [
            "| epoch   3 | 19500/32580 batches | loss    1.178 \n",
            "money: then, form, court, chinese, days, lack, it, slow, importance, something\n",
            "lion: unable, paris, johnson, policy, patrick, husband, hands, rest, ussr, experiment\n",
            "africa: external, irish, community, rock, michael, peter, women, thomas, available, dr\n",
            "musician: culture, singer, actress, poet, composer, writer, action, mathematician, politician, physicist\n",
            "dance: area, my, musical, folk, pop, jazz, end, blues, musician, literary\n",
            "\n",
            "\n"
          ]
        },
        {
          "metadata": {
            "tags": null
          },
          "name": "stderr",
          "output_type": "stream",
          "text": [
            "20001it [59:50,  5.09it/s]"
          ]
        },
        {
          "metadata": {
            "tags": null
          },
          "name": "stdout",
          "output_type": "stream",
          "text": [
            "| epoch   3 | 20000/32580 batches | loss    1.174 \n",
            "money: then, form, court, chinese, days, lack, it, slow, importance, something\n",
            "lion: unable, paris, johnson, policy, patrick, husband, hands, rest, ussr, experiment\n",
            "africa: external, irish, community, rock, michael, peter, women, thomas, available, dr\n",
            "musician: culture, singer, actress, poet, composer, writer, action, mathematician, politician, physicist\n",
            "dance: area, my, musical, folk, pop, jazz, end, blues, musician, literary\n",
            "\n",
            "\n"
          ]
        },
        {
          "metadata": {
            "tags": null
          },
          "name": "stderr",
          "output_type": "stream",
          "text": [
            "20501it [1:01:20,  4.99it/s]"
          ]
        },
        {
          "metadata": {
            "tags": null
          },
          "name": "stdout",
          "output_type": "stream",
          "text": [
            "| epoch   3 | 20500/32580 batches | loss    1.173 \n",
            "money: then, form, court, chinese, days, lack, it, slow, importance, something\n",
            "lion: unable, paris, johnson, policy, patrick, husband, hands, rest, ussr, experiment\n",
            "africa: external, irish, community, rock, michael, peter, women, thomas, available, dr\n",
            "musician: culture, singer, actress, poet, composer, writer, action, mathematician, politician, physicist\n",
            "dance: area, my, musical, folk, pop, jazz, end, blues, musician, literary\n",
            "\n",
            "\n"
          ]
        },
        {
          "metadata": {
            "tags": null
          },
          "name": "stderr",
          "output_type": "stream",
          "text": [
            "21001it [1:02:50,  5.06it/s]"
          ]
        },
        {
          "metadata": {
            "tags": null
          },
          "name": "stdout",
          "output_type": "stream",
          "text": [
            "| epoch   3 | 21000/32580 batches | loss    1.175 \n",
            "money: then, form, court, chinese, days, it, lack, slow, importance, something\n",
            "lion: unable, paris, johnson, policy, patrick, husband, hands, rest, ussr, experiment\n",
            "africa: external, irish, community, rock, michael, peter, women, thomas, available, dr\n",
            "musician: culture, singer, actress, poet, composer, writer, action, mathematician, politician, physicist\n",
            "dance: area, my, musical, folk, pop, jazz, end, blues, musician, literary\n",
            "\n",
            "\n"
          ]
        },
        {
          "metadata": {
            "tags": null
          },
          "name": "stderr",
          "output_type": "stream",
          "text": [
            "21501it [1:04:20,  4.46it/s]"
          ]
        },
        {
          "metadata": {
            "tags": null
          },
          "name": "stdout",
          "output_type": "stream",
          "text": [
            "| epoch   3 | 21500/32580 batches | loss    1.175 \n",
            "money: then, form, court, chinese, days, lack, it, slow, importance, something\n",
            "lion: unable, paris, johnson, policy, patrick, husband, hands, rest, ussr, experiment\n",
            "africa: external, irish, community, rock, michael, peter, women, thomas, available, dr\n",
            "musician: culture, singer, actress, poet, composer, writer, action, mathematician, politician, physicist\n",
            "dance: area, my, musical, folk, pop, jazz, end, blues, musician, literary\n",
            "\n",
            "\n"
          ]
        },
        {
          "metadata": {
            "tags": null
          },
          "name": "stderr",
          "output_type": "stream",
          "text": [
            "22001it [1:05:49,  5.08it/s]"
          ]
        },
        {
          "metadata": {
            "tags": null
          },
          "name": "stdout",
          "output_type": "stream",
          "text": [
            "| epoch   3 | 22000/32580 batches | loss    1.175 \n",
            "money: then, form, court, chinese, days, lack, it, slow, importance, something\n",
            "lion: unable, paris, johnson, policy, patrick, husband, hands, rest, ussr, experiment\n",
            "africa: external, irish, community, rock, michael, peter, women, thomas, available, dr\n",
            "musician: culture, singer, actress, poet, composer, writer, action, mathematician, politician, physicist\n",
            "dance: area, my, musical, folk, pop, jazz, end, blues, musician, literary\n",
            "\n",
            "\n"
          ]
        },
        {
          "metadata": {
            "tags": null
          },
          "name": "stderr",
          "output_type": "stream",
          "text": [
            "22501it [1:07:18,  5.10it/s]"
          ]
        },
        {
          "metadata": {
            "tags": null
          },
          "name": "stdout",
          "output_type": "stream",
          "text": [
            "| epoch   3 | 22500/32580 batches | loss    1.178 \n",
            "money: then, form, court, chinese, days, it, lack, slow, importance, something\n",
            "lion: unable, paris, johnson, policy, patrick, husband, hands, rest, ussr, experiment\n",
            "africa: external, irish, community, rock, michael, peter, women, thomas, available, dr\n",
            "musician: culture, singer, actress, poet, composer, writer, action, mathematician, politician, physicist\n",
            "dance: area, my, musical, folk, pop, jazz, end, blues, musician, literary\n",
            "\n",
            "\n"
          ]
        },
        {
          "metadata": {
            "tags": null
          },
          "name": "stderr",
          "output_type": "stream",
          "text": [
            "23001it [1:08:47,  5.10it/s]"
          ]
        },
        {
          "metadata": {
            "tags": null
          },
          "name": "stdout",
          "output_type": "stream",
          "text": [
            "| epoch   3 | 23000/32580 batches | loss    1.171 \n",
            "money: then, form, court, chinese, days, it, lack, slow, importance, something\n",
            "lion: unable, paris, johnson, policy, patrick, husband, hands, rest, ussr, experiment\n",
            "africa: external, irish, community, rock, michael, peter, women, thomas, available, dr\n",
            "musician: culture, singer, actress, poet, composer, writer, action, mathematician, politician, physicist\n",
            "dance: area, my, musical, folk, pop, jazz, end, blues, musician, literary\n",
            "\n",
            "\n"
          ]
        },
        {
          "metadata": {
            "tags": null
          },
          "name": "stderr",
          "output_type": "stream",
          "text": [
            "23501it [1:10:16,  4.50it/s]"
          ]
        },
        {
          "metadata": {
            "tags": null
          },
          "name": "stdout",
          "output_type": "stream",
          "text": [
            "| epoch   3 | 23500/32580 batches | loss    1.175 \n",
            "money: then, form, court, chinese, days, it, lack, slow, importance, something\n",
            "lion: unable, paris, johnson, policy, patrick, husband, hands, rest, ussr, experiment\n",
            "africa: external, irish, community, rock, michael, peter, women, thomas, available, dr\n",
            "musician: culture, singer, actress, poet, composer, writer, action, mathematician, politician, physicist\n",
            "dance: area, my, musical, folk, pop, jazz, end, blues, musician, literary\n",
            "\n",
            "\n"
          ]
        },
        {
          "metadata": {
            "tags": null
          },
          "name": "stderr",
          "output_type": "stream",
          "text": [
            "24001it [1:11:45,  5.00it/s]"
          ]
        },
        {
          "metadata": {
            "tags": null
          },
          "name": "stdout",
          "output_type": "stream",
          "text": [
            "| epoch   3 | 24000/32580 batches | loss    1.175 \n",
            "money: then, form, court, chinese, days, it, lack, slow, importance, something\n",
            "lion: unable, paris, johnson, policy, patrick, husband, hands, rest, ussr, experiment\n",
            "africa: external, irish, community, rock, michael, peter, women, thomas, available, dr\n",
            "musician: culture, singer, actress, poet, composer, writer, action, mathematician, politician, physicist\n",
            "dance: area, my, musical, folk, pop, jazz, end, blues, musician, literary\n",
            "\n",
            "\n"
          ]
        },
        {
          "metadata": {
            "tags": null
          },
          "name": "stderr",
          "output_type": "stream",
          "text": [
            "24501it [1:13:14,  5.08it/s]"
          ]
        },
        {
          "metadata": {
            "tags": null
          },
          "name": "stdout",
          "output_type": "stream",
          "text": [
            "| epoch   3 | 24500/32580 batches | loss    1.170 \n",
            "money: then, form, court, chinese, days, it, lack, slow, importance, something\n",
            "lion: unable, paris, johnson, policy, patrick, husband, hands, rest, ussr, experiment\n",
            "africa: external, irish, community, rock, michael, peter, women, thomas, available, dr\n",
            "musician: culture, singer, actress, poet, composer, writer, action, mathematician, politician, physicist\n",
            "dance: area, my, musical, folk, pop, jazz, end, blues, musician, literary\n",
            "\n",
            "\n"
          ]
        },
        {
          "metadata": {
            "tags": null
          },
          "name": "stderr",
          "output_type": "stream",
          "text": [
            "25001it [1:14:41,  5.07it/s]"
          ]
        },
        {
          "metadata": {
            "tags": null
          },
          "name": "stdout",
          "output_type": "stream",
          "text": [
            "| epoch   3 | 25000/32580 batches | loss    1.175 \n",
            "money: then, form, court, chinese, days, it, lack, slow, importance, something\n",
            "lion: unable, paris, johnson, policy, patrick, husband, hands, rest, ussr, experiment\n",
            "africa: external, irish, community, rock, michael, peter, women, thomas, available, dr\n",
            "musician: culture, singer, actress, poet, composer, writer, action, mathematician, politician, physicist\n",
            "dance: area, my, musical, folk, pop, jazz, end, blues, musician, literary\n",
            "\n",
            "\n"
          ]
        },
        {
          "metadata": {
            "tags": null
          },
          "name": "stderr",
          "output_type": "stream",
          "text": [
            "25501it [1:16:10,  5.04it/s]"
          ]
        },
        {
          "metadata": {
            "tags": null
          },
          "name": "stdout",
          "output_type": "stream",
          "text": [
            "| epoch   3 | 25500/32580 batches | loss    1.174 \n",
            "money: then, form, court, chinese, days, lack, it, slow, importance, something\n",
            "lion: unable, paris, johnson, policy, patrick, husband, hands, rest, ussr, experiment\n",
            "africa: external, irish, community, rock, michael, peter, women, thomas, available, dr\n",
            "musician: culture, singer, actress, poet, composer, writer, action, mathematician, politician, physicist\n",
            "dance: area, my, musical, folk, pop, jazz, end, blues, musician, literary\n",
            "\n",
            "\n"
          ]
        },
        {
          "metadata": {
            "tags": null
          },
          "name": "stderr",
          "output_type": "stream",
          "text": [
            "26001it [1:17:40,  4.98it/s]"
          ]
        },
        {
          "metadata": {
            "tags": null
          },
          "name": "stdout",
          "output_type": "stream",
          "text": [
            "| epoch   3 | 26000/32580 batches | loss    1.173 \n",
            "money: then, form, court, chinese, days, lack, slow, it, importance, something\n",
            "lion: unable, paris, johnson, policy, patrick, husband, hands, rest, ussr, experiment\n",
            "africa: external, irish, community, rock, michael, peter, women, thomas, available, dr\n",
            "musician: culture, singer, actress, poet, composer, writer, action, mathematician, politician, physicist\n",
            "dance: area, my, musical, folk, pop, jazz, end, blues, musician, literary\n",
            "\n",
            "\n"
          ]
        },
        {
          "metadata": {
            "tags": null
          },
          "name": "stderr",
          "output_type": "stream",
          "text": [
            "26501it [1:19:12,  4.95it/s]"
          ]
        },
        {
          "metadata": {
            "tags": null
          },
          "name": "stdout",
          "output_type": "stream",
          "text": [
            "| epoch   3 | 26500/32580 batches | loss    1.176 \n",
            "money: then, form, court, chinese, days, lack, it, slow, importance, something\n",
            "lion: unable, paris, johnson, policy, patrick, husband, hands, rest, ussr, experiment\n",
            "africa: external, irish, community, rock, michael, peter, women, thomas, available, dr\n",
            "musician: culture, singer, actress, poet, composer, writer, action, mathematician, politician, physicist\n",
            "dance: area, my, musical, folk, pop, jazz, end, blues, musician, literary\n",
            "\n",
            "\n"
          ]
        },
        {
          "metadata": {
            "tags": null
          },
          "name": "stderr",
          "output_type": "stream",
          "text": [
            "27001it [1:20:42,  4.88it/s]"
          ]
        },
        {
          "metadata": {
            "tags": null
          },
          "name": "stdout",
          "output_type": "stream",
          "text": [
            "| epoch   3 | 27000/32580 batches | loss    1.175 \n",
            "money: then, form, court, chinese, days, lack, slow, it, importance, something\n",
            "lion: unable, paris, johnson, policy, patrick, husband, hands, rest, ussr, experiment\n",
            "africa: external, irish, community, rock, michael, peter, women, thomas, available, dr\n",
            "musician: culture, singer, actress, poet, composer, writer, action, mathematician, politician, physicist\n",
            "dance: area, my, musical, folk, pop, jazz, end, blues, musician, literary\n",
            "\n",
            "\n"
          ]
        },
        {
          "metadata": {
            "tags": null
          },
          "name": "stderr",
          "output_type": "stream",
          "text": [
            "27501it [1:22:13,  4.22it/s]"
          ]
        },
        {
          "metadata": {
            "tags": null
          },
          "name": "stdout",
          "output_type": "stream",
          "text": [
            "| epoch   3 | 27500/32580 batches | loss    1.172 \n",
            "money: then, form, court, chinese, days, it, lack, slow, importance, something\n",
            "lion: unable, paris, johnson, policy, patrick, husband, hands, rest, ussr, experiment\n",
            "africa: external, irish, community, rock, michael, peter, women, thomas, available, dr\n",
            "musician: culture, singer, actress, poet, composer, writer, action, mathematician, politician, physicist\n",
            "dance: area, my, musical, folk, pop, jazz, end, blues, musician, literary\n",
            "\n",
            "\n"
          ]
        },
        {
          "metadata": {
            "tags": null
          },
          "name": "stderr",
          "output_type": "stream",
          "text": [
            "28001it [1:23:43,  5.02it/s]"
          ]
        },
        {
          "metadata": {
            "tags": null
          },
          "name": "stdout",
          "output_type": "stream",
          "text": [
            "| epoch   3 | 28000/32580 batches | loss    1.176 \n",
            "money: then, form, court, chinese, days, it, lack, slow, importance, something\n",
            "lion: unable, paris, johnson, policy, patrick, husband, hands, rest, ussr, experiment\n",
            "africa: external, irish, community, rock, michael, peter, women, thomas, available, dr\n",
            "musician: culture, singer, actress, poet, composer, writer, action, mathematician, politician, physicist\n",
            "dance: area, my, musical, folk, pop, jazz, end, blues, musician, literary\n",
            "\n",
            "\n"
          ]
        },
        {
          "metadata": {
            "tags": null
          },
          "name": "stderr",
          "output_type": "stream",
          "text": [
            "28501it [1:25:14,  4.91it/s]"
          ]
        },
        {
          "metadata": {
            "tags": null
          },
          "name": "stdout",
          "output_type": "stream",
          "text": [
            "| epoch   3 | 28500/32580 batches | loss    1.176 \n",
            "money: then, form, court, chinese, days, it, lack, slow, importance, something\n",
            "lion: unable, paris, johnson, policy, patrick, husband, hands, rest, ussr, experiment\n",
            "africa: external, irish, community, rock, michael, peter, women, thomas, available, dr\n",
            "musician: culture, singer, actress, poet, composer, writer, action, mathematician, politician, physicist\n",
            "dance: area, my, musical, folk, pop, jazz, end, blues, musician, literary\n",
            "\n",
            "\n"
          ]
        },
        {
          "metadata": {
            "tags": null
          },
          "name": "stderr",
          "output_type": "stream",
          "text": [
            "29001it [1:26:44,  4.89it/s]"
          ]
        },
        {
          "metadata": {
            "tags": null
          },
          "name": "stdout",
          "output_type": "stream",
          "text": [
            "| epoch   3 | 29000/32580 batches | loss    1.177 \n",
            "money: then, form, court, chinese, days, it, lack, slow, importance, something\n",
            "lion: unable, paris, johnson, policy, patrick, husband, hands, rest, ussr, experiment\n",
            "africa: external, irish, community, rock, michael, peter, women, thomas, available, dr\n",
            "musician: culture, singer, actress, poet, composer, writer, action, mathematician, politician, physicist\n",
            "dance: area, my, musical, folk, pop, jazz, end, blues, musician, literary\n",
            "\n",
            "\n"
          ]
        },
        {
          "metadata": {
            "tags": null
          },
          "name": "stderr",
          "output_type": "stream",
          "text": [
            "29501it [1:28:15,  4.91it/s]"
          ]
        },
        {
          "metadata": {
            "tags": null
          },
          "name": "stdout",
          "output_type": "stream",
          "text": [
            "| epoch   3 | 29500/32580 batches | loss    1.175 \n",
            "money: then, form, court, chinese, days, it, lack, slow, importance, something\n",
            "lion: unable, paris, johnson, policy, patrick, husband, hands, rest, ussr, experiment\n",
            "africa: external, irish, community, rock, michael, peter, women, thomas, available, dr\n",
            "musician: culture, singer, actress, poet, composer, writer, action, mathematician, politician, physicist\n",
            "dance: area, my, musical, folk, pop, jazz, end, blues, musician, literary\n",
            "\n",
            "\n"
          ]
        },
        {
          "metadata": {
            "tags": null
          },
          "name": "stderr",
          "output_type": "stream",
          "text": [
            "30001it [1:29:45,  4.73it/s]"
          ]
        },
        {
          "metadata": {
            "tags": null
          },
          "name": "stdout",
          "output_type": "stream",
          "text": [
            "| epoch   3 | 30000/32580 batches | loss    1.177 \n",
            "money: then, form, court, chinese, days, it, lack, slow, importance, something\n",
            "lion: unable, paris, johnson, policy, patrick, husband, hands, rest, ussr, experiment\n",
            "africa: external, irish, community, rock, michael, peter, women, thomas, available, dr\n",
            "musician: culture, singer, actress, poet, composer, writer, action, mathematician, politician, physicist\n",
            "dance: area, my, musical, folk, pop, jazz, end, blues, musician, literary\n",
            "\n",
            "\n"
          ]
        },
        {
          "metadata": {
            "tags": null
          },
          "name": "stderr",
          "output_type": "stream",
          "text": [
            "30501it [1:31:15,  4.51it/s]"
          ]
        },
        {
          "metadata": {
            "tags": null
          },
          "name": "stdout",
          "output_type": "stream",
          "text": [
            "| epoch   3 | 30500/32580 batches | loss    1.174 \n",
            "money: then, form, court, chinese, days, lack, slow, it, importance, something\n",
            "lion: unable, paris, johnson, policy, patrick, husband, hands, rest, ussr, experiment\n",
            "africa: external, irish, community, rock, michael, peter, women, thomas, available, dr\n",
            "musician: culture, singer, actress, poet, composer, writer, action, mathematician, politician, physicist\n",
            "dance: area, my, musical, folk, pop, jazz, end, blues, musician, literary\n",
            "\n",
            "\n"
          ]
        },
        {
          "metadata": {
            "tags": null
          },
          "name": "stderr",
          "output_type": "stream",
          "text": [
            "31001it [1:32:45,  4.98it/s]"
          ]
        },
        {
          "metadata": {
            "tags": null
          },
          "name": "stdout",
          "output_type": "stream",
          "text": [
            "| epoch   3 | 31000/32580 batches | loss    1.171 \n",
            "money: then, form, court, chinese, days, it, slow, lack, importance, something\n",
            "lion: unable, paris, johnson, policy, patrick, husband, hands, rest, ussr, experiment\n",
            "africa: external, irish, community, rock, michael, peter, women, thomas, available, dr\n",
            "musician: culture, singer, actress, poet, composer, writer, action, mathematician, politician, physicist\n",
            "dance: area, my, musical, folk, pop, jazz, end, blues, musician, literary\n",
            "\n",
            "\n"
          ]
        },
        {
          "metadata": {
            "tags": null
          },
          "name": "stderr",
          "output_type": "stream",
          "text": [
            "31501it [1:34:15,  5.01it/s]"
          ]
        },
        {
          "metadata": {
            "tags": null
          },
          "name": "stdout",
          "output_type": "stream",
          "text": [
            "| epoch   3 | 31500/32580 batches | loss    1.175 \n",
            "money: then, form, court, chinese, days, slow, lack, it, importance, something\n",
            "lion: unable, paris, johnson, policy, patrick, husband, hands, rest, ussr, experiment\n",
            "africa: external, irish, community, rock, michael, peter, women, thomas, available, dr\n",
            "musician: culture, singer, actress, poet, composer, writer, action, mathematician, politician, physicist\n",
            "dance: area, my, musical, folk, pop, jazz, end, blues, musician, literary\n",
            "\n",
            "\n"
          ]
        },
        {
          "metadata": {
            "tags": null
          },
          "name": "stderr",
          "output_type": "stream",
          "text": [
            "32001it [1:35:46,  4.93it/s]"
          ]
        },
        {
          "metadata": {
            "tags": null
          },
          "name": "stdout",
          "output_type": "stream",
          "text": [
            "| epoch   3 | 32000/32580 batches | loss    1.175 \n",
            "money: then, form, court, chinese, days, it, slow, lack, importance, something\n",
            "lion: unable, paris, johnson, policy, patrick, husband, hands, rest, ussr, experiment\n",
            "africa: external, irish, community, rock, michael, peter, women, thomas, available, dr\n",
            "musician: culture, singer, actress, poet, composer, writer, action, mathematician, politician, physicist\n",
            "dance: area, my, musical, folk, pop, jazz, end, blues, musician, literary\n",
            "\n",
            "\n"
          ]
        },
        {
          "metadata": {
            "tags": null
          },
          "name": "stderr",
          "output_type": "stream",
          "text": [
            "32501it [1:37:15,  3.98it/s]"
          ]
        },
        {
          "metadata": {
            "tags": null
          },
          "name": "stdout",
          "output_type": "stream",
          "text": [
            "| epoch   3 | 32500/32580 batches | loss    1.175 \n",
            "money: then, form, court, chinese, days, it, slow, lack, importance, something\n",
            "lion: unable, paris, johnson, policy, patrick, husband, hands, rest, ussr, experiment\n",
            "africa: external, irish, community, rock, michael, peter, women, thomas, available, dr\n",
            "musician: culture, singer, actress, poet, composer, writer, action, mathematician, politician, physicist\n",
            "dance: area, my, musical, folk, pop, jazz, end, blues, musician, literary\n",
            "\n",
            "\n"
          ]
        },
        {
          "metadata": {
            "tags": null
          },
          "name": "stderr",
          "output_type": "stream",
          "text": [
            "32580it [1:37:30,  5.57it/s]\n",
            "1it [00:01,  1.37s/it]"
          ]
        },
        {
          "metadata": {
            "tags": null
          },
          "name": "stdout",
          "output_type": "stream",
          "text": [
            "| epoch   4 |     0/32580 batches | loss    1.230 \n",
            "money: then, form, court, chinese, days, it, slow, lack, importance, something\n",
            "lion: unable, paris, johnson, policy, patrick, husband, hands, rest, ussr, experiment\n",
            "africa: external, irish, community, rock, michael, peter, women, thomas, available, dr\n",
            "musician: culture, singer, actress, poet, composer, writer, action, mathematician, politician, physicist\n",
            "dance: area, my, musical, folk, pop, jazz, end, blues, musician, literary\n",
            "\n",
            "\n"
          ]
        },
        {
          "metadata": {
            "tags": null
          },
          "name": "stderr",
          "output_type": "stream",
          "text": [
            "501it [01:31,  5.09it/s]"
          ]
        },
        {
          "metadata": {
            "tags": null
          },
          "name": "stdout",
          "output_type": "stream",
          "text": [
            "| epoch   4 |   500/32580 batches | loss    1.172 \n",
            "money: then, form, court, chinese, days, it, slow, lack, importance, something\n",
            "lion: unable, paris, johnson, policy, patrick, husband, hands, rest, ussr, experiment\n",
            "africa: external, irish, community, rock, michael, peter, women, thomas, available, dr\n",
            "musician: culture, singer, actress, poet, composer, writer, action, mathematician, politician, physicist\n",
            "dance: area, my, musical, folk, pop, jazz, end, blues, musician, literary\n",
            "\n",
            "\n"
          ]
        },
        {
          "metadata": {
            "tags": null
          },
          "name": "stderr",
          "output_type": "stream",
          "text": [
            "1001it [03:02,  4.95it/s]"
          ]
        },
        {
          "metadata": {
            "tags": null
          },
          "name": "stdout",
          "output_type": "stream",
          "text": [
            "| epoch   4 |  1000/32580 batches | loss    1.179 \n",
            "money: then, form, court, chinese, days, it, slow, lack, importance, something\n",
            "lion: unable, paris, johnson, policy, patrick, husband, hands, rest, ussr, experiment\n",
            "africa: external, irish, community, rock, michael, peter, women, thomas, available, dr\n",
            "musician: culture, singer, actress, poet, composer, writer, action, mathematician, politician, physicist\n",
            "dance: area, my, musical, folk, pop, jazz, end, blues, musician, literary\n",
            "\n",
            "\n"
          ]
        },
        {
          "metadata": {
            "tags": null
          },
          "name": "stderr",
          "output_type": "stream",
          "text": [
            "1501it [04:32,  4.01it/s]"
          ]
        },
        {
          "metadata": {
            "tags": null
          },
          "name": "stdout",
          "output_type": "stream",
          "text": [
            "| epoch   4 |  1500/32580 batches | loss    1.172 \n",
            "money: then, form, court, chinese, days, it, slow, lack, importance, something\n",
            "lion: unable, paris, johnson, policy, patrick, husband, hands, rest, ussr, experiment\n",
            "africa: external, irish, community, rock, michael, peter, women, thomas, available, dr\n",
            "musician: culture, singer, actress, poet, composer, writer, action, mathematician, politician, physicist\n",
            "dance: area, my, musical, folk, pop, jazz, end, blues, musician, literary\n",
            "\n",
            "\n"
          ]
        },
        {
          "metadata": {
            "tags": null
          },
          "name": "stderr",
          "output_type": "stream",
          "text": [
            "2001it [06:02,  5.03it/s]"
          ]
        },
        {
          "metadata": {
            "tags": null
          },
          "name": "stdout",
          "output_type": "stream",
          "text": [
            "| epoch   4 |  2000/32580 batches | loss    1.177 \n",
            "money: then, form, court, chinese, days, it, slow, lack, importance, something\n",
            "lion: unable, paris, johnson, policy, patrick, husband, hands, rest, ussr, experiment\n",
            "africa: external, irish, community, rock, michael, peter, women, thomas, available, dr\n",
            "musician: culture, singer, actress, poet, composer, writer, action, mathematician, politician, physicist\n",
            "dance: area, my, musical, folk, pop, jazz, end, blues, musician, literary\n",
            "\n",
            "\n"
          ]
        },
        {
          "metadata": {
            "tags": null
          },
          "name": "stderr",
          "output_type": "stream",
          "text": [
            "2501it [07:33,  4.56it/s]"
          ]
        },
        {
          "metadata": {
            "tags": null
          },
          "name": "stdout",
          "output_type": "stream",
          "text": [
            "| epoch   4 |  2500/32580 batches | loss    1.178 \n",
            "money: then, form, court, chinese, days, it, slow, lack, importance, something\n",
            "lion: unable, paris, johnson, policy, patrick, husband, hands, rest, ussr, experiment\n",
            "africa: external, irish, community, rock, michael, peter, women, thomas, available, dr\n",
            "musician: culture, singer, actress, poet, composer, writer, action, mathematician, politician, physicist\n",
            "dance: area, my, musical, folk, pop, jazz, end, blues, musician, literary\n",
            "\n",
            "\n"
          ]
        },
        {
          "metadata": {
            "tags": null
          },
          "name": "stderr",
          "output_type": "stream",
          "text": [
            "3001it [09:03,  5.01it/s]"
          ]
        },
        {
          "metadata": {
            "tags": null
          },
          "name": "stdout",
          "output_type": "stream",
          "text": [
            "| epoch   4 |  3000/32580 batches | loss    1.173 \n",
            "money: then, form, court, chinese, days, it, slow, lack, importance, something\n",
            "lion: unable, paris, johnson, policy, patrick, husband, hands, rest, ussr, experiment\n",
            "africa: external, irish, community, rock, michael, peter, women, thomas, available, dr\n",
            "musician: culture, singer, actress, poet, composer, writer, action, mathematician, politician, physicist\n",
            "dance: area, my, musical, folk, pop, jazz, end, blues, musician, literary\n",
            "\n",
            "\n"
          ]
        },
        {
          "metadata": {
            "tags": null
          },
          "name": "stderr",
          "output_type": "stream",
          "text": [
            "3501it [10:32,  4.79it/s]"
          ]
        },
        {
          "metadata": {
            "tags": null
          },
          "name": "stdout",
          "output_type": "stream",
          "text": [
            "| epoch   4 |  3500/32580 batches | loss    1.176 \n",
            "money: then, form, court, chinese, days, it, slow, lack, importance, something\n",
            "lion: unable, paris, johnson, policy, patrick, husband, hands, rest, ussr, experiment\n",
            "africa: external, irish, community, rock, michael, peter, women, thomas, available, dr\n",
            "musician: culture, singer, actress, poet, composer, writer, action, mathematician, politician, physicist\n",
            "dance: area, my, musical, folk, pop, jazz, end, blues, musician, literary\n",
            "\n",
            "\n"
          ]
        },
        {
          "metadata": {
            "tags": null
          },
          "name": "stderr",
          "output_type": "stream",
          "text": [
            "4001it [11:59,  5.17it/s]"
          ]
        },
        {
          "metadata": {
            "tags": null
          },
          "name": "stdout",
          "output_type": "stream",
          "text": [
            "| epoch   4 |  4000/32580 batches | loss    1.176 \n",
            "money: then, form, court, chinese, days, it, slow, lack, importance, something\n",
            "lion: unable, paris, johnson, policy, patrick, husband, hands, rest, ussr, experiment\n",
            "africa: external, irish, community, rock, michael, peter, women, thomas, available, dr\n",
            "musician: culture, singer, actress, poet, composer, writer, action, mathematician, politician, physicist\n",
            "dance: area, my, musical, folk, pop, jazz, end, blues, musician, literary\n",
            "\n",
            "\n"
          ]
        },
        {
          "metadata": {
            "tags": null
          },
          "name": "stderr",
          "output_type": "stream",
          "text": [
            "4501it [13:26,  5.27it/s]"
          ]
        },
        {
          "metadata": {
            "tags": null
          },
          "name": "stdout",
          "output_type": "stream",
          "text": [
            "| epoch   4 |  4500/32580 batches | loss    1.169 \n",
            "money: then, form, court, chinese, days, it, slow, lack, importance, something\n",
            "lion: unable, paris, johnson, policy, patrick, husband, hands, rest, ussr, experiment\n",
            "africa: external, irish, community, rock, michael, peter, women, thomas, available, dr\n",
            "musician: culture, singer, actress, poet, composer, writer, action, mathematician, politician, physicist\n",
            "dance: area, my, musical, folk, pop, jazz, end, blues, musician, literary\n",
            "\n",
            "\n"
          ]
        },
        {
          "metadata": {
            "tags": null
          },
          "name": "stderr",
          "output_type": "stream",
          "text": [
            "5001it [14:52,  5.13it/s]"
          ]
        },
        {
          "metadata": {
            "tags": null
          },
          "name": "stdout",
          "output_type": "stream",
          "text": [
            "| epoch   4 |  5000/32580 batches | loss    1.171 \n",
            "money: then, form, court, chinese, days, it, slow, lack, importance, something\n",
            "lion: unable, paris, johnson, policy, patrick, husband, hands, rest, ussr, experiment\n",
            "africa: external, irish, community, rock, michael, peter, women, thomas, available, dr\n",
            "musician: culture, singer, actress, poet, composer, writer, action, mathematician, politician, physicist\n",
            "dance: area, my, musical, folk, pop, jazz, end, blues, musician, literary\n",
            "\n",
            "\n"
          ]
        },
        {
          "metadata": {
            "tags": null
          },
          "name": "stderr",
          "output_type": "stream",
          "text": [
            "5501it [16:20,  5.22it/s]"
          ]
        },
        {
          "metadata": {
            "tags": null
          },
          "name": "stdout",
          "output_type": "stream",
          "text": [
            "| epoch   4 |  5500/32580 batches | loss    1.178 \n",
            "money: then, form, court, chinese, days, it, slow, lack, importance, something\n",
            "lion: unable, paris, johnson, policy, patrick, husband, hands, rest, ussr, experiment\n",
            "africa: external, irish, community, rock, michael, peter, women, thomas, available, dr\n",
            "musician: culture, singer, actress, poet, composer, writer, action, mathematician, politician, physicist\n",
            "dance: area, my, musical, folk, pop, jazz, end, blues, musician, literary\n",
            "\n",
            "\n"
          ]
        },
        {
          "metadata": {
            "tags": null
          },
          "name": "stderr",
          "output_type": "stream",
          "text": [
            "6001it [17:47,  4.12it/s]"
          ]
        },
        {
          "metadata": {
            "tags": null
          },
          "name": "stdout",
          "output_type": "stream",
          "text": [
            "| epoch   4 |  6000/32580 batches | loss    1.175 \n",
            "money: then, form, court, chinese, days, it, slow, lack, importance, something\n",
            "lion: unable, paris, johnson, policy, patrick, husband, hands, rest, ussr, experiment\n",
            "africa: external, irish, community, rock, michael, peter, women, thomas, available, dr\n",
            "musician: culture, singer, actress, poet, composer, writer, action, mathematician, politician, physicist\n",
            "dance: area, my, musical, folk, pop, jazz, end, blues, musician, literary\n",
            "\n",
            "\n"
          ]
        },
        {
          "metadata": {
            "tags": null
          },
          "name": "stderr",
          "output_type": "stream",
          "text": [
            "6501it [19:14,  5.27it/s]"
          ]
        },
        {
          "metadata": {
            "tags": null
          },
          "name": "stdout",
          "output_type": "stream",
          "text": [
            "| epoch   4 |  6500/32580 batches | loss    1.172 \n",
            "money: then, form, court, chinese, days, it, slow, lack, importance, something\n",
            "lion: unable, paris, johnson, policy, patrick, husband, hands, rest, ussr, experiment\n",
            "africa: external, irish, community, rock, michael, peter, women, thomas, available, dr\n",
            "musician: culture, singer, actress, poet, composer, writer, action, mathematician, politician, physicist\n",
            "dance: area, my, musical, folk, pop, jazz, end, blues, musician, literary\n",
            "\n",
            "\n"
          ]
        },
        {
          "metadata": {
            "tags": null
          },
          "name": "stderr",
          "output_type": "stream",
          "text": [
            "7001it [20:40,  5.09it/s]"
          ]
        },
        {
          "metadata": {
            "tags": null
          },
          "name": "stdout",
          "output_type": "stream",
          "text": [
            "| epoch   4 |  7000/32580 batches | loss    1.176 \n",
            "money: then, form, court, chinese, days, it, slow, lack, importance, something\n",
            "lion: unable, paris, johnson, policy, patrick, husband, hands, rest, ussr, experiment\n",
            "africa: external, irish, community, rock, michael, peter, women, thomas, available, dr\n",
            "musician: culture, singer, actress, poet, composer, writer, action, mathematician, politician, physicist\n",
            "dance: area, my, musical, folk, pop, jazz, end, blues, musician, literary\n",
            "\n",
            "\n"
          ]
        },
        {
          "metadata": {
            "tags": null
          },
          "name": "stderr",
          "output_type": "stream",
          "text": [
            "7501it [22:07,  5.19it/s]"
          ]
        },
        {
          "metadata": {
            "tags": null
          },
          "name": "stdout",
          "output_type": "stream",
          "text": [
            "| epoch   4 |  7500/32580 batches | loss    1.179 \n",
            "money: then, form, court, chinese, days, it, slow, lack, importance, something\n",
            "lion: unable, paris, johnson, policy, patrick, husband, hands, rest, ussr, experiment\n",
            "africa: external, irish, community, rock, michael, peter, women, thomas, available, dr\n",
            "musician: culture, singer, actress, poet, composer, writer, action, mathematician, politician, physicist\n",
            "dance: area, my, musical, folk, pop, jazz, end, blues, musician, literary\n",
            "\n",
            "\n"
          ]
        },
        {
          "metadata": {
            "tags": null
          },
          "name": "stderr",
          "output_type": "stream",
          "text": [
            "8001it [23:33,  5.18it/s]"
          ]
        },
        {
          "metadata": {
            "tags": null
          },
          "name": "stdout",
          "output_type": "stream",
          "text": [
            "| epoch   4 |  8000/32580 batches | loss    1.172 \n",
            "money: then, form, court, chinese, days, it, slow, lack, importance, something\n",
            "lion: unable, paris, johnson, policy, patrick, husband, hands, rest, ussr, experiment\n",
            "africa: external, irish, community, rock, michael, peter, women, thomas, available, dr\n",
            "musician: culture, singer, actress, poet, composer, writer, action, mathematician, politician, physicist\n",
            "dance: area, my, musical, folk, pop, jazz, end, blues, musician, literary\n",
            "\n",
            "\n"
          ]
        },
        {
          "metadata": {
            "tags": null
          },
          "name": "stderr",
          "output_type": "stream",
          "text": [
            "8501it [25:08,  5.24it/s]"
          ]
        },
        {
          "metadata": {
            "tags": null
          },
          "name": "stdout",
          "output_type": "stream",
          "text": [
            "| epoch   4 |  8500/32580 batches | loss    1.177 \n",
            "money: then, form, court, chinese, days, it, slow, lack, importance, something\n",
            "lion: unable, paris, johnson, policy, patrick, husband, hands, rest, ussr, experiment\n",
            "africa: external, irish, community, rock, michael, peter, women, thomas, available, dr\n",
            "musician: culture, singer, actress, poet, composer, writer, action, mathematician, politician, physicist\n",
            "dance: area, my, musical, folk, pop, jazz, end, blues, musician, literary\n",
            "\n",
            "\n"
          ]
        },
        {
          "metadata": {
            "tags": null
          },
          "name": "stderr",
          "output_type": "stream",
          "text": [
            "9001it [26:34,  3.97it/s]"
          ]
        },
        {
          "metadata": {
            "tags": null
          },
          "name": "stdout",
          "output_type": "stream",
          "text": [
            "| epoch   4 |  9000/32580 batches | loss    1.173 \n",
            "money: then, form, court, chinese, days, it, slow, lack, importance, something\n",
            "lion: unable, paris, johnson, policy, patrick, husband, hands, rest, ussr, experiment\n",
            "africa: external, irish, community, rock, michael, peter, women, thomas, available, dr\n",
            "musician: culture, singer, actress, poet, composer, writer, action, mathematician, politician, physicist\n",
            "dance: area, my, musical, folk, pop, jazz, end, blues, musician, literary\n",
            "\n",
            "\n"
          ]
        },
        {
          "metadata": {
            "tags": null
          },
          "name": "stderr",
          "output_type": "stream",
          "text": [
            "9501it [28:01,  5.24it/s]"
          ]
        },
        {
          "metadata": {
            "tags": null
          },
          "name": "stdout",
          "output_type": "stream",
          "text": [
            "| epoch   4 |  9500/32580 batches | loss    1.175 \n",
            "money: then, form, court, chinese, days, it, slow, lack, importance, something\n",
            "lion: unable, paris, johnson, policy, patrick, husband, hands, rest, ussr, experiment\n",
            "africa: external, irish, community, rock, michael, peter, women, thomas, available, dr\n",
            "musician: culture, singer, actress, poet, composer, writer, action, mathematician, politician, physicist\n",
            "dance: area, my, musical, folk, pop, jazz, end, blues, musician, literary\n",
            "\n",
            "\n"
          ]
        },
        {
          "metadata": {
            "tags": null
          },
          "name": "stderr",
          "output_type": "stream",
          "text": [
            "10001it [29:28,  5.10it/s]"
          ]
        },
        {
          "metadata": {
            "tags": null
          },
          "name": "stdout",
          "output_type": "stream",
          "text": [
            "| epoch   4 | 10000/32580 batches | loss    1.171 \n",
            "money: then, form, court, chinese, days, it, slow, lack, importance, something\n",
            "lion: unable, paris, johnson, policy, patrick, husband, hands, rest, ussr, experiment\n",
            "africa: external, irish, community, rock, michael, peter, women, thomas, available, dr\n",
            "musician: culture, singer, actress, poet, composer, writer, action, mathematician, politician, physicist\n",
            "dance: area, my, musical, folk, pop, jazz, end, blues, musician, literary\n",
            "\n",
            "\n"
          ]
        },
        {
          "metadata": {
            "tags": null
          },
          "name": "stderr",
          "output_type": "stream",
          "text": [
            "10501it [30:54,  5.11it/s]"
          ]
        },
        {
          "metadata": {
            "tags": null
          },
          "name": "stdout",
          "output_type": "stream",
          "text": [
            "| epoch   4 | 10500/32580 batches | loss    1.172 \n",
            "money: then, form, court, chinese, days, it, slow, lack, importance, something\n",
            "lion: unable, paris, johnson, policy, patrick, husband, hands, rest, ussr, experiment\n",
            "africa: external, irish, community, rock, michael, peter, women, thomas, available, dr\n",
            "musician: culture, singer, actress, poet, composer, writer, action, mathematician, politician, physicist\n",
            "dance: area, my, musical, folk, pop, jazz, end, blues, musician, literary\n",
            "\n",
            "\n"
          ]
        },
        {
          "metadata": {
            "tags": null
          },
          "name": "stderr",
          "output_type": "stream",
          "text": [
            "11001it [32:23,  5.05it/s]"
          ]
        },
        {
          "metadata": {
            "tags": null
          },
          "name": "stdout",
          "output_type": "stream",
          "text": [
            "| epoch   4 | 11000/32580 batches | loss    1.174 \n",
            "money: then, form, court, chinese, days, it, slow, lack, importance, something\n",
            "lion: unable, paris, johnson, policy, patrick, husband, hands, rest, ussr, experiment\n",
            "africa: external, irish, community, rock, michael, peter, women, thomas, available, dr\n",
            "musician: culture, singer, actress, poet, composer, writer, action, mathematician, politician, physicist\n",
            "dance: area, my, musical, folk, pop, jazz, end, blues, musician, literary\n",
            "\n",
            "\n"
          ]
        },
        {
          "metadata": {
            "tags": null
          },
          "name": "stderr",
          "output_type": "stream",
          "text": [
            "11501it [33:52,  4.16it/s]"
          ]
        },
        {
          "metadata": {
            "tags": null
          },
          "name": "stdout",
          "output_type": "stream",
          "text": [
            "| epoch   4 | 11500/32580 batches | loss    1.175 \n",
            "money: then, form, court, chinese, days, it, slow, lack, importance, something\n",
            "lion: unable, paris, johnson, policy, patrick, husband, hands, rest, ussr, experiment\n",
            "africa: external, irish, community, rock, michael, peter, women, thomas, available, dr\n",
            "musician: culture, singer, actress, poet, composer, writer, action, mathematician, politician, physicist\n",
            "dance: area, my, musical, folk, pop, jazz, end, blues, musician, literary\n",
            "\n",
            "\n"
          ]
        },
        {
          "metadata": {
            "tags": null
          },
          "name": "stderr",
          "output_type": "stream",
          "text": [
            "12001it [35:20,  5.08it/s]"
          ]
        },
        {
          "metadata": {
            "tags": null
          },
          "name": "stdout",
          "output_type": "stream",
          "text": [
            "| epoch   4 | 12000/32580 batches | loss    1.173 \n",
            "money: then, form, court, chinese, days, it, slow, lack, importance, something\n",
            "lion: unable, paris, johnson, policy, patrick, husband, hands, rest, ussr, experiment\n",
            "africa: external, irish, community, rock, michael, peter, women, thomas, available, dr\n",
            "musician: culture, singer, actress, poet, composer, writer, action, mathematician, politician, physicist\n",
            "dance: area, my, musical, folk, pop, jazz, end, blues, musician, literary\n",
            "\n",
            "\n"
          ]
        },
        {
          "metadata": {
            "tags": null
          },
          "name": "stderr",
          "output_type": "stream",
          "text": [
            "12501it [36:48,  5.08it/s]"
          ]
        },
        {
          "metadata": {
            "tags": null
          },
          "name": "stdout",
          "output_type": "stream",
          "text": [
            "| epoch   4 | 12500/32580 batches | loss    1.176 \n",
            "money: then, form, court, chinese, days, it, slow, lack, importance, something\n",
            "lion: unable, paris, johnson, policy, patrick, husband, hands, rest, ussr, experiment\n",
            "africa: external, irish, community, rock, michael, peter, women, thomas, available, dr\n",
            "musician: culture, singer, actress, poet, composer, writer, action, mathematician, politician, physicist\n",
            "dance: area, my, musical, folk, pop, jazz, end, blues, musician, literary\n",
            "\n",
            "\n"
          ]
        },
        {
          "metadata": {
            "tags": null
          },
          "name": "stderr",
          "output_type": "stream",
          "text": [
            "13001it [38:16,  5.08it/s]"
          ]
        },
        {
          "metadata": {
            "tags": null
          },
          "name": "stdout",
          "output_type": "stream",
          "text": [
            "| epoch   4 | 13000/32580 batches | loss    1.174 \n",
            "money: then, form, court, chinese, days, it, slow, lack, importance, something\n",
            "lion: unable, paris, johnson, policy, patrick, husband, hands, rest, ussr, experiment\n",
            "africa: external, irish, community, rock, michael, peter, women, thomas, available, dr\n",
            "musician: culture, singer, actress, poet, composer, writer, action, mathematician, politician, physicist\n",
            "dance: area, my, musical, folk, pop, jazz, end, blues, musician, literary\n",
            "\n",
            "\n"
          ]
        },
        {
          "metadata": {
            "tags": null
          },
          "name": "stderr",
          "output_type": "stream",
          "text": [
            "13501it [39:45,  4.94it/s]"
          ]
        },
        {
          "metadata": {
            "tags": null
          },
          "name": "stdout",
          "output_type": "stream",
          "text": [
            "| epoch   4 | 13500/32580 batches | loss    1.175 \n",
            "money: then, form, court, chinese, days, it, slow, lack, importance, something\n",
            "lion: unable, paris, johnson, policy, patrick, husband, hands, rest, ussr, experiment\n",
            "africa: external, irish, community, rock, michael, peter, women, thomas, available, dr\n",
            "musician: culture, singer, actress, poet, composer, writer, action, mathematician, politician, physicist\n",
            "dance: area, my, musical, folk, pop, jazz, end, blues, musician, literary\n",
            "\n",
            "\n"
          ]
        },
        {
          "metadata": {
            "tags": null
          },
          "name": "stderr",
          "output_type": "stream",
          "text": [
            "14001it [41:12,  4.87it/s]"
          ]
        },
        {
          "metadata": {
            "tags": null
          },
          "name": "stdout",
          "output_type": "stream",
          "text": [
            "| epoch   4 | 14000/32580 batches | loss    1.172 \n",
            "money: then, form, court, chinese, days, it, slow, lack, importance, something\n",
            "lion: unable, paris, johnson, policy, patrick, husband, hands, rest, ussr, experiment\n",
            "africa: external, irish, community, rock, michael, peter, women, thomas, available, dr\n",
            "musician: culture, singer, actress, poet, composer, writer, action, mathematician, politician, physicist\n",
            "dance: area, my, musical, folk, pop, jazz, end, blues, musician, literary\n",
            "\n",
            "\n"
          ]
        },
        {
          "metadata": {
            "tags": null
          },
          "name": "stderr",
          "output_type": "stream",
          "text": [
            "14501it [42:39,  5.16it/s]"
          ]
        },
        {
          "metadata": {
            "tags": null
          },
          "name": "stdout",
          "output_type": "stream",
          "text": [
            "| epoch   4 | 14500/32580 batches | loss    1.173 \n",
            "money: then, form, court, chinese, days, it, slow, lack, importance, something\n",
            "lion: unable, paris, johnson, policy, patrick, husband, hands, rest, ussr, experiment\n",
            "africa: external, irish, community, rock, michael, peter, women, thomas, available, dr\n",
            "musician: culture, singer, actress, poet, composer, writer, action, mathematician, politician, physicist\n",
            "dance: area, my, musical, folk, pop, jazz, end, blues, musician, literary\n",
            "\n",
            "\n"
          ]
        },
        {
          "metadata": {
            "tags": null
          },
          "name": "stderr",
          "output_type": "stream",
          "text": [
            "15001it [44:08,  5.01it/s]"
          ]
        },
        {
          "metadata": {
            "tags": null
          },
          "name": "stdout",
          "output_type": "stream",
          "text": [
            "| epoch   4 | 15000/32580 batches | loss    1.170 \n",
            "money: then, form, court, chinese, days, it, slow, lack, importance, something\n",
            "lion: unable, paris, johnson, policy, patrick, husband, hands, rest, ussr, experiment\n",
            "africa: external, irish, community, rock, michael, peter, women, thomas, available, dr\n",
            "musician: culture, singer, actress, poet, composer, writer, action, mathematician, politician, physicist\n",
            "dance: area, my, musical, folk, pop, jazz, end, blues, musician, literary\n",
            "\n",
            "\n"
          ]
        },
        {
          "metadata": {
            "tags": null
          },
          "name": "stderr",
          "output_type": "stream",
          "text": [
            "15501it [45:37,  5.00it/s]"
          ]
        },
        {
          "metadata": {
            "tags": null
          },
          "name": "stdout",
          "output_type": "stream",
          "text": [
            "| epoch   4 | 15500/32580 batches | loss    1.173 \n",
            "money: then, form, court, chinese, days, it, slow, lack, importance, something\n",
            "lion: unable, paris, johnson, policy, patrick, husband, hands, rest, ussr, experiment\n",
            "africa: external, irish, community, rock, michael, peter, women, thomas, available, dr\n",
            "musician: culture, singer, actress, poet, composer, writer, action, mathematician, politician, physicist\n",
            "dance: area, my, musical, folk, pop, jazz, end, blues, musician, literary\n",
            "\n",
            "\n"
          ]
        },
        {
          "metadata": {
            "tags": null
          },
          "name": "stderr",
          "output_type": "stream",
          "text": [
            "16001it [47:07,  5.13it/s]"
          ]
        },
        {
          "metadata": {
            "tags": null
          },
          "name": "stdout",
          "output_type": "stream",
          "text": [
            "| epoch   4 | 16000/32580 batches | loss    1.174 \n",
            "money: then, form, court, chinese, days, it, slow, lack, importance, something\n",
            "lion: unable, paris, johnson, policy, patrick, husband, hands, rest, ussr, experiment\n",
            "africa: external, irish, community, rock, michael, peter, women, thomas, available, dr\n",
            "musician: culture, singer, actress, poet, composer, writer, action, mathematician, politician, physicist\n",
            "dance: area, my, musical, folk, pop, jazz, end, blues, musician, literary\n",
            "\n",
            "\n"
          ]
        },
        {
          "metadata": {
            "tags": null
          },
          "name": "stderr",
          "output_type": "stream",
          "text": [
            "16501it [48:36,  5.06it/s]"
          ]
        },
        {
          "metadata": {
            "tags": null
          },
          "name": "stdout",
          "output_type": "stream",
          "text": [
            "| epoch   4 | 16500/32580 batches | loss    1.174 \n",
            "money: then, form, court, chinese, days, it, slow, lack, importance, something\n",
            "lion: unable, paris, johnson, policy, patrick, husband, hands, rest, ussr, experiment\n",
            "africa: external, irish, community, rock, michael, peter, women, thomas, available, dr\n",
            "musician: culture, singer, actress, poet, composer, writer, action, mathematician, politician, physicist\n",
            "dance: area, my, musical, folk, pop, jazz, end, blues, musician, literary\n",
            "\n",
            "\n"
          ]
        },
        {
          "metadata": {
            "tags": null
          },
          "name": "stderr",
          "output_type": "stream",
          "text": [
            "17001it [50:05,  3.84it/s]"
          ]
        },
        {
          "metadata": {
            "tags": null
          },
          "name": "stdout",
          "output_type": "stream",
          "text": [
            "| epoch   4 | 17000/32580 batches | loss    1.176 \n",
            "money: then, form, court, chinese, days, it, slow, lack, importance, something\n",
            "lion: unable, paris, johnson, policy, patrick, husband, hands, rest, ussr, experiment\n",
            "africa: external, irish, community, rock, michael, peter, women, thomas, available, dr\n",
            "musician: culture, singer, actress, poet, composer, writer, action, mathematician, politician, physicist\n",
            "dance: area, my, musical, folk, pop, jazz, end, blues, musician, literary\n",
            "\n",
            "\n"
          ]
        },
        {
          "metadata": {
            "tags": null
          },
          "name": "stderr",
          "output_type": "stream",
          "text": [
            "17501it [51:33,  5.08it/s]"
          ]
        },
        {
          "metadata": {
            "tags": null
          },
          "name": "stdout",
          "output_type": "stream",
          "text": [
            "| epoch   4 | 17500/32580 batches | loss    1.175 \n",
            "money: then, form, court, chinese, days, it, slow, lack, importance, something\n",
            "lion: unable, paris, johnson, policy, patrick, husband, hands, rest, ussr, experiment\n",
            "africa: external, irish, community, rock, michael, peter, women, thomas, available, dr\n",
            "musician: culture, singer, actress, poet, composer, writer, action, mathematician, politician, physicist\n",
            "dance: area, my, musical, folk, pop, jazz, end, blues, musician, literary\n",
            "\n",
            "\n"
          ]
        },
        {
          "metadata": {
            "tags": null
          },
          "name": "stderr",
          "output_type": "stream",
          "text": [
            "18001it [53:01,  5.17it/s]"
          ]
        },
        {
          "metadata": {
            "tags": null
          },
          "name": "stdout",
          "output_type": "stream",
          "text": [
            "| epoch   4 | 18000/32580 batches | loss    1.171 \n",
            "money: then, form, court, chinese, days, it, slow, lack, importance, something\n",
            "lion: unable, paris, johnson, policy, patrick, husband, hands, rest, ussr, experiment\n",
            "africa: external, irish, community, rock, michael, peter, women, thomas, available, dr\n",
            "musician: culture, singer, actress, poet, composer, writer, action, mathematician, politician, physicist\n",
            "dance: area, my, musical, folk, pop, jazz, end, blues, musician, literary\n",
            "\n",
            "\n"
          ]
        },
        {
          "metadata": {
            "tags": null
          },
          "name": "stderr",
          "output_type": "stream",
          "text": [
            "18501it [54:28,  5.11it/s]"
          ]
        },
        {
          "metadata": {
            "tags": null
          },
          "name": "stdout",
          "output_type": "stream",
          "text": [
            "| epoch   4 | 18500/32580 batches | loss    1.171 \n",
            "money: then, form, court, chinese, days, it, slow, lack, importance, something\n",
            "lion: unable, paris, johnson, policy, patrick, husband, hands, rest, ussr, experiment\n",
            "africa: external, irish, community, rock, michael, peter, women, thomas, available, dr\n",
            "musician: culture, singer, actress, poet, composer, writer, action, mathematician, politician, physicist\n",
            "dance: area, my, musical, folk, pop, jazz, end, blues, musician, literary\n",
            "\n",
            "\n"
          ]
        },
        {
          "metadata": {
            "tags": null
          },
          "name": "stderr",
          "output_type": "stream",
          "text": [
            "19001it [55:56,  4.95it/s]"
          ]
        },
        {
          "metadata": {
            "tags": null
          },
          "name": "stdout",
          "output_type": "stream",
          "text": [
            "| epoch   4 | 19000/32580 batches | loss    1.173 \n",
            "money: then, form, court, chinese, days, it, slow, lack, importance, something\n",
            "lion: unable, paris, johnson, policy, patrick, husband, hands, rest, ussr, experiment\n",
            "africa: external, irish, community, rock, michael, peter, women, thomas, available, dr\n",
            "musician: culture, singer, actress, poet, composer, writer, action, mathematician, politician, physicist\n",
            "dance: area, my, musical, folk, pop, jazz, end, blues, musician, literary\n",
            "\n",
            "\n"
          ]
        },
        {
          "metadata": {
            "tags": null
          },
          "name": "stderr",
          "output_type": "stream",
          "text": [
            "19501it [57:23,  5.30it/s]"
          ]
        },
        {
          "metadata": {
            "tags": null
          },
          "name": "stdout",
          "output_type": "stream",
          "text": [
            "| epoch   4 | 19500/32580 batches | loss    1.171 \n",
            "money: then, form, court, chinese, days, it, slow, lack, importance, something\n",
            "lion: unable, paris, johnson, policy, patrick, husband, hands, rest, ussr, experiment\n",
            "africa: external, irish, community, rock, michael, peter, women, thomas, available, dr\n",
            "musician: culture, singer, actress, poet, composer, writer, action, mathematician, politician, physicist\n",
            "dance: area, my, musical, folk, pop, jazz, end, blues, musician, literary\n",
            "\n",
            "\n"
          ]
        },
        {
          "metadata": {
            "tags": null
          },
          "name": "stderr",
          "output_type": "stream",
          "text": [
            "20001it [58:51,  5.06it/s]"
          ]
        },
        {
          "metadata": {
            "tags": null
          },
          "name": "stdout",
          "output_type": "stream",
          "text": [
            "| epoch   4 | 20000/32580 batches | loss    1.175 \n",
            "money: then, form, court, chinese, days, it, slow, lack, importance, something\n",
            "lion: unable, paris, johnson, policy, patrick, husband, hands, rest, ussr, experiment\n",
            "africa: external, irish, community, rock, michael, peter, women, thomas, available, dr\n",
            "musician: culture, singer, actress, poet, composer, writer, action, mathematician, politician, physicist\n",
            "dance: area, my, musical, folk, pop, jazz, end, blues, musician, literary\n",
            "\n",
            "\n"
          ]
        },
        {
          "metadata": {
            "tags": null
          },
          "name": "stderr",
          "output_type": "stream",
          "text": [
            "20501it [1:00:18,  5.07it/s]"
          ]
        },
        {
          "metadata": {
            "tags": null
          },
          "name": "stdout",
          "output_type": "stream",
          "text": [
            "| epoch   4 | 20500/32580 batches | loss    1.171 \n",
            "money: then, form, court, chinese, days, it, slow, lack, importance, something\n",
            "lion: unable, paris, johnson, policy, patrick, husband, hands, rest, ussr, experiment\n",
            "africa: external, irish, community, rock, michael, peter, women, thomas, available, dr\n",
            "musician: culture, singer, actress, poet, composer, writer, action, mathematician, politician, physicist\n",
            "dance: area, my, musical, folk, pop, jazz, end, blues, musician, literary\n",
            "\n",
            "\n"
          ]
        },
        {
          "metadata": {
            "tags": null
          },
          "name": "stderr",
          "output_type": "stream",
          "text": [
            "21001it [1:01:50,  5.07it/s]"
          ]
        },
        {
          "metadata": {
            "tags": null
          },
          "name": "stdout",
          "output_type": "stream",
          "text": [
            "| epoch   4 | 21000/32580 batches | loss    1.174 \n",
            "money: then, form, court, chinese, days, it, slow, lack, importance, something\n",
            "lion: unable, paris, johnson, policy, patrick, husband, hands, rest, ussr, experiment\n",
            "africa: external, irish, community, rock, michael, peter, women, thomas, available, dr\n",
            "musician: culture, singer, actress, poet, composer, writer, action, mathematician, politician, physicist\n",
            "dance: area, my, musical, folk, pop, jazz, end, blues, musician, literary\n",
            "\n",
            "\n"
          ]
        },
        {
          "metadata": {
            "tags": null
          },
          "name": "stderr",
          "output_type": "stream",
          "text": [
            "21501it [1:03:17,  5.10it/s]"
          ]
        },
        {
          "metadata": {
            "tags": null
          },
          "name": "stdout",
          "output_type": "stream",
          "text": [
            "| epoch   4 | 21500/32580 batches | loss    1.177 \n",
            "money: then, form, court, chinese, days, it, slow, lack, importance, something\n",
            "lion: unable, paris, johnson, policy, patrick, husband, hands, rest, ussr, experiment\n",
            "africa: external, irish, community, rock, michael, peter, women, thomas, available, dr\n",
            "musician: culture, singer, actress, poet, composer, writer, action, mathematician, politician, physicist\n",
            "dance: area, my, musical, folk, pop, jazz, end, blues, musician, literary\n",
            "\n",
            "\n"
          ]
        },
        {
          "metadata": {
            "tags": null
          },
          "name": "stderr",
          "output_type": "stream",
          "text": [
            "22001it [1:04:45,  4.92it/s]"
          ]
        },
        {
          "metadata": {
            "tags": null
          },
          "name": "stdout",
          "output_type": "stream",
          "text": [
            "| epoch   4 | 22000/32580 batches | loss    1.177 \n",
            "money: then, form, court, chinese, days, it, slow, lack, importance, something\n",
            "lion: unable, paris, johnson, policy, patrick, husband, hands, rest, ussr, experiment\n",
            "africa: external, irish, community, rock, michael, peter, women, thomas, available, dr\n",
            "musician: culture, singer, actress, poet, composer, writer, action, mathematician, politician, physicist\n",
            "dance: area, my, musical, folk, pop, jazz, end, blues, musician, literary\n",
            "\n",
            "\n"
          ]
        },
        {
          "metadata": {
            "tags": null
          },
          "name": "stderr",
          "output_type": "stream",
          "text": [
            "22501it [1:06:12,  5.19it/s]"
          ]
        },
        {
          "metadata": {
            "tags": null
          },
          "name": "stdout",
          "output_type": "stream",
          "text": [
            "| epoch   4 | 22500/32580 batches | loss    1.171 \n",
            "money: then, form, court, chinese, days, it, slow, lack, importance, something\n",
            "lion: unable, paris, johnson, policy, patrick, husband, hands, rest, ussr, experiment\n",
            "africa: external, irish, community, rock, michael, peter, women, thomas, available, dr\n",
            "musician: culture, singer, actress, poet, composer, writer, action, mathematician, politician, physicist\n",
            "dance: area, my, musical, folk, pop, jazz, end, blues, musician, literary\n",
            "\n",
            "\n"
          ]
        },
        {
          "metadata": {
            "tags": null
          },
          "name": "stderr",
          "output_type": "stream",
          "text": [
            "23001it [1:07:40,  4.00it/s]"
          ]
        },
        {
          "metadata": {
            "tags": null
          },
          "name": "stdout",
          "output_type": "stream",
          "text": [
            "| epoch   4 | 23000/32580 batches | loss    1.171 \n",
            "money: then, form, court, chinese, days, it, slow, lack, importance, something\n",
            "lion: unable, paris, johnson, policy, patrick, husband, hands, rest, ussr, experiment\n",
            "africa: external, irish, community, rock, michael, peter, women, thomas, available, dr\n",
            "musician: culture, singer, actress, poet, composer, writer, action, mathematician, politician, physicist\n",
            "dance: area, my, musical, folk, pop, jazz, end, blues, musician, literary\n",
            "\n",
            "\n"
          ]
        },
        {
          "metadata": {
            "tags": null
          },
          "name": "stderr",
          "output_type": "stream",
          "text": [
            "23501it [1:09:06,  5.26it/s]"
          ]
        },
        {
          "metadata": {
            "tags": null
          },
          "name": "stdout",
          "output_type": "stream",
          "text": [
            "| epoch   4 | 23500/32580 batches | loss    1.174 \n",
            "money: then, form, court, chinese, days, it, slow, lack, importance, something\n",
            "lion: unable, paris, johnson, policy, patrick, husband, hands, rest, ussr, experiment\n",
            "africa: external, irish, community, rock, michael, peter, women, thomas, available, dr\n",
            "musician: culture, singer, actress, poet, composer, writer, action, mathematician, politician, physicist\n",
            "dance: area, my, musical, folk, pop, jazz, end, blues, musician, literary\n",
            "\n",
            "\n"
          ]
        },
        {
          "metadata": {
            "tags": null
          },
          "name": "stderr",
          "output_type": "stream",
          "text": [
            "24001it [1:10:33,  3.97it/s]"
          ]
        },
        {
          "metadata": {
            "tags": null
          },
          "name": "stdout",
          "output_type": "stream",
          "text": [
            "| epoch   4 | 24000/32580 batches | loss    1.174 \n",
            "money: then, form, court, chinese, days, it, slow, lack, importance, something\n",
            "lion: unable, paris, johnson, policy, patrick, husband, hands, rest, ussr, experiment\n",
            "africa: external, irish, community, rock, michael, peter, women, thomas, available, dr\n",
            "musician: culture, singer, actress, poet, composer, writer, action, mathematician, politician, physicist\n",
            "dance: area, my, musical, folk, pop, jazz, end, blues, musician, literary\n",
            "\n",
            "\n"
          ]
        },
        {
          "metadata": {
            "tags": null
          },
          "name": "stderr",
          "output_type": "stream",
          "text": [
            "24501it [1:12:00,  5.08it/s]"
          ]
        },
        {
          "metadata": {
            "tags": null
          },
          "name": "stdout",
          "output_type": "stream",
          "text": [
            "| epoch   4 | 24500/32580 batches | loss    1.172 \n",
            "money: then, form, court, chinese, days, it, slow, lack, importance, something\n",
            "lion: unable, paris, johnson, policy, patrick, husband, hands, rest, ussr, experiment\n",
            "africa: external, irish, community, rock, michael, peter, women, thomas, available, dr\n",
            "musician: culture, singer, actress, poet, composer, writer, action, mathematician, politician, physicist\n",
            "dance: area, my, musical, folk, pop, jazz, end, blues, musician, literary\n",
            "\n",
            "\n"
          ]
        },
        {
          "metadata": {
            "tags": null
          },
          "name": "stderr",
          "output_type": "stream",
          "text": [
            "25001it [1:13:27,  3.92it/s]"
          ]
        },
        {
          "metadata": {
            "tags": null
          },
          "name": "stdout",
          "output_type": "stream",
          "text": [
            "| epoch   4 | 25000/32580 batches | loss    1.172 \n",
            "money: then, form, court, chinese, days, it, slow, lack, importance, something\n",
            "lion: unable, paris, johnson, policy, patrick, husband, hands, rest, ussr, experiment\n",
            "africa: external, irish, community, rock, michael, peter, women, thomas, available, dr\n",
            "musician: culture, singer, actress, poet, composer, writer, action, mathematician, politician, physicist\n",
            "dance: area, my, musical, folk, pop, jazz, end, blues, musician, literary\n",
            "\n",
            "\n"
          ]
        },
        {
          "metadata": {
            "tags": null
          },
          "name": "stderr",
          "output_type": "stream",
          "text": [
            "25501it [1:14:53,  5.18it/s]"
          ]
        },
        {
          "metadata": {
            "tags": null
          },
          "name": "stdout",
          "output_type": "stream",
          "text": [
            "| epoch   4 | 25500/32580 batches | loss    1.176 \n",
            "money: then, form, court, chinese, days, it, slow, lack, importance, something\n",
            "lion: unable, paris, johnson, policy, patrick, husband, hands, rest, ussr, experiment\n",
            "africa: external, irish, community, rock, michael, peter, women, thomas, available, dr\n",
            "musician: culture, singer, actress, poet, composer, writer, action, mathematician, politician, physicist\n",
            "dance: area, my, musical, folk, pop, jazz, end, blues, musician, literary\n",
            "\n",
            "\n"
          ]
        },
        {
          "output_type": "stream",
          "name": "stderr",
          "text": [
            "26001it [1:16:19,  4.39it/s]"
          ]
        },
        {
          "output_type": "stream",
          "name": "stdout",
          "text": [
            "| epoch   4 | 26000/32580 batches | loss    1.174 \n",
            "money: then, form, court, chinese, days, it, slow, lack, importance, something\n",
            "lion: unable, paris, johnson, policy, patrick, husband, hands, rest, ussr, experiment\n",
            "africa: external, irish, community, rock, michael, peter, women, thomas, available, dr\n",
            "musician: culture, singer, actress, poet, composer, writer, action, mathematician, politician, physicist\n",
            "dance: area, my, musical, folk, pop, jazz, end, blues, musician, literary\n",
            "\n",
            "\n"
          ]
        },
        {
          "output_type": "stream",
          "name": "stderr",
          "text": [
            "26254it [1:17:03,  6.00it/s]"
          ]
        }
      ],
      "source": [
        "for epoch in range(1, NUM_EPOCHS + 1):\n",
        "    epoch_start_time = time.time()\n",
        "\n",
        "    train(train_dl, model, optimizer, epoch)\n",
        "    # We have a learning rate scheduler here\n",
        "\n",
        "    # Basically, given the state of the optimizer, this lowers the learning rate in a smart way\n",
        "    scheduler.step()"
      ]
    },
    {
      "cell_type": "code",
      "execution_count": null,
      "id": "b0227888",
      "metadata": {
        "id": "b0227888"
      },
      "outputs": [],
      "source": []
    }
  ],
  "metadata": {
    "colab": {
      "provenance": []
    },
    "kernelspec": {
      "display_name": "Python 3 (ipykernel)",
      "language": "python",
      "name": "python3"
    },
    "language_info": {
      "codemirror_mode": {
        "name": "ipython",
        "version": 3
      },
      "file_extension": ".py",
      "mimetype": "text/x-python",
      "name": "python",
      "nbconvert_exporter": "python",
      "pygments_lexer": "ipython3",
      "version": "3.8.15"
    }
  },
  "nbformat": 4,
  "nbformat_minor": 5
}