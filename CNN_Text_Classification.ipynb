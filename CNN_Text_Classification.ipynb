{
  "cells": [
    {
      "cell_type": "code",
      "execution_count": 1,
      "metadata": {
        "colab": {
          "base_uri": "https://localhost:8080/"
        },
        "id": "080d50fc",
        "outputId": "cbd2d649-e6d5-46d1-f77f-de6762b1deaa"
      },
      "outputs": [
        {
          "output_type": "stream",
          "name": "stdout",
          "text": [
            "Collecting portalocker\n",
            "  Downloading portalocker-2.8.2-py3-none-any.whl (17 kB)\n",
            "Installing collected packages: portalocker\n",
            "Successfully installed portalocker-2.8.2\n",
            "Collecting torchmetrics\n",
            "  Downloading torchmetrics-1.3.2-py3-none-any.whl (841 kB)\n",
            "\u001b[2K     \u001b[90m━━━━━━━━━━━━━━━━━━━━━━━━━━━━━━━━━━━━━━━━\u001b[0m \u001b[32m841.5/841.5 kB\u001b[0m \u001b[31m6.6 MB/s\u001b[0m eta \u001b[36m0:00:00\u001b[0m\n",
            "\u001b[?25hRequirement already satisfied: numpy>1.20.0 in /usr/local/lib/python3.10/dist-packages (from torchmetrics) (1.25.2)\n",
            "Requirement already satisfied: packaging>17.1 in /usr/local/lib/python3.10/dist-packages (from torchmetrics) (24.0)\n",
            "Requirement already satisfied: torch>=1.10.0 in /usr/local/lib/python3.10/dist-packages (from torchmetrics) (2.2.1+cu121)\n",
            "Collecting lightning-utilities>=0.8.0 (from torchmetrics)\n",
            "  Downloading lightning_utilities-0.11.2-py3-none-any.whl (26 kB)\n",
            "Requirement already satisfied: setuptools in /usr/local/lib/python3.10/dist-packages (from lightning-utilities>=0.8.0->torchmetrics) (67.7.2)\n",
            "Requirement already satisfied: typing-extensions in /usr/local/lib/python3.10/dist-packages (from lightning-utilities>=0.8.0->torchmetrics) (4.10.0)\n",
            "Requirement already satisfied: filelock in /usr/local/lib/python3.10/dist-packages (from torch>=1.10.0->torchmetrics) (3.13.3)\n",
            "Requirement already satisfied: sympy in /usr/local/lib/python3.10/dist-packages (from torch>=1.10.0->torchmetrics) (1.12)\n",
            "Requirement already satisfied: networkx in /usr/local/lib/python3.10/dist-packages (from torch>=1.10.0->torchmetrics) (3.2.1)\n",
            "Requirement already satisfied: jinja2 in /usr/local/lib/python3.10/dist-packages (from torch>=1.10.0->torchmetrics) (3.1.3)\n",
            "Requirement already satisfied: fsspec in /usr/local/lib/python3.10/dist-packages (from torch>=1.10.0->torchmetrics) (2023.6.0)\n",
            "Collecting nvidia-cuda-nvrtc-cu12==12.1.105 (from torch>=1.10.0->torchmetrics)\n",
            "  Downloading nvidia_cuda_nvrtc_cu12-12.1.105-py3-none-manylinux1_x86_64.whl (23.7 MB)\n",
            "\u001b[2K     \u001b[90m━━━━━━━━━━━━━━━━━━━━━━━━━━━━━━━━━━━━━━━━\u001b[0m \u001b[32m23.7/23.7 MB\u001b[0m \u001b[31m33.2 MB/s\u001b[0m eta \u001b[36m0:00:00\u001b[0m\n",
            "\u001b[?25hCollecting nvidia-cuda-runtime-cu12==12.1.105 (from torch>=1.10.0->torchmetrics)\n",
            "  Downloading nvidia_cuda_runtime_cu12-12.1.105-py3-none-manylinux1_x86_64.whl (823 kB)\n",
            "\u001b[2K     \u001b[90m━━━━━━━━━━━━━━━━━━━━━━━━━━━━━━━━━━━━━━━━\u001b[0m \u001b[32m823.6/823.6 kB\u001b[0m \u001b[31m36.0 MB/s\u001b[0m eta \u001b[36m0:00:00\u001b[0m\n",
            "\u001b[?25hCollecting nvidia-cuda-cupti-cu12==12.1.105 (from torch>=1.10.0->torchmetrics)\n",
            "  Downloading nvidia_cuda_cupti_cu12-12.1.105-py3-none-manylinux1_x86_64.whl (14.1 MB)\n",
            "\u001b[2K     \u001b[90m━━━━━━━━━━━━━━━━━━━━━━━━━━━━━━━━━━━━━━━━\u001b[0m \u001b[32m14.1/14.1 MB\u001b[0m \u001b[31m40.6 MB/s\u001b[0m eta \u001b[36m0:00:00\u001b[0m\n",
            "\u001b[?25hCollecting nvidia-cudnn-cu12==8.9.2.26 (from torch>=1.10.0->torchmetrics)\n",
            "  Downloading nvidia_cudnn_cu12-8.9.2.26-py3-none-manylinux1_x86_64.whl (731.7 MB)\n",
            "\u001b[2K     \u001b[90m━━━━━━━━━━━━━━━━━━━━━━━━━━━━━━━━━━━━━━━━\u001b[0m \u001b[32m731.7/731.7 MB\u001b[0m \u001b[31m1.7 MB/s\u001b[0m eta \u001b[36m0:00:00\u001b[0m\n",
            "\u001b[?25hCollecting nvidia-cublas-cu12==12.1.3.1 (from torch>=1.10.0->torchmetrics)\n",
            "  Downloading nvidia_cublas_cu12-12.1.3.1-py3-none-manylinux1_x86_64.whl (410.6 MB)\n",
            "\u001b[2K     \u001b[90m━━━━━━━━━━━━━━━━━━━━━━━━━━━━━━━━━━━━━━━━\u001b[0m \u001b[32m410.6/410.6 MB\u001b[0m \u001b[31m3.2 MB/s\u001b[0m eta \u001b[36m0:00:00\u001b[0m\n",
            "\u001b[?25hCollecting nvidia-cufft-cu12==11.0.2.54 (from torch>=1.10.0->torchmetrics)\n",
            "  Downloading nvidia_cufft_cu12-11.0.2.54-py3-none-manylinux1_x86_64.whl (121.6 MB)\n",
            "\u001b[2K     \u001b[90m━━━━━━━━━━━━━━━━━━━━━━━━━━━━━━━━━━━━━━━━\u001b[0m \u001b[32m121.6/121.6 MB\u001b[0m \u001b[31m8.4 MB/s\u001b[0m eta \u001b[36m0:00:00\u001b[0m\n",
            "\u001b[?25hCollecting nvidia-curand-cu12==10.3.2.106 (from torch>=1.10.0->torchmetrics)\n",
            "  Downloading nvidia_curand_cu12-10.3.2.106-py3-none-manylinux1_x86_64.whl (56.5 MB)\n",
            "\u001b[2K     \u001b[90m━━━━━━━━━━━━━━━━━━━━━━━━━━━━━━━━━━━━━━━━\u001b[0m \u001b[32m56.5/56.5 MB\u001b[0m \u001b[31m10.2 MB/s\u001b[0m eta \u001b[36m0:00:00\u001b[0m\n",
            "\u001b[?25hCollecting nvidia-cusolver-cu12==11.4.5.107 (from torch>=1.10.0->torchmetrics)\n",
            "  Downloading nvidia_cusolver_cu12-11.4.5.107-py3-none-manylinux1_x86_64.whl (124.2 MB)\n",
            "\u001b[2K     \u001b[90m━━━━━━━━━━━━━━━━━━━━━━━━━━━━━━━━━━━━━━━━\u001b[0m \u001b[32m124.2/124.2 MB\u001b[0m \u001b[31m8.5 MB/s\u001b[0m eta \u001b[36m0:00:00\u001b[0m\n",
            "\u001b[?25hCollecting nvidia-cusparse-cu12==12.1.0.106 (from torch>=1.10.0->torchmetrics)\n",
            "  Downloading nvidia_cusparse_cu12-12.1.0.106-py3-none-manylinux1_x86_64.whl (196.0 MB)\n",
            "\u001b[2K     \u001b[90m━━━━━━━━━━━━━━━━━━━━━━━━━━━━━━━━━━━━━━━━\u001b[0m \u001b[32m196.0/196.0 MB\u001b[0m \u001b[31m6.0 MB/s\u001b[0m eta \u001b[36m0:00:00\u001b[0m\n",
            "\u001b[?25hCollecting nvidia-nccl-cu12==2.19.3 (from torch>=1.10.0->torchmetrics)\n",
            "  Downloading nvidia_nccl_cu12-2.19.3-py3-none-manylinux1_x86_64.whl (166.0 MB)\n",
            "\u001b[2K     \u001b[90m━━━━━━━━━━━━━━━━━━━━━━━━━━━━━━━━━━━━━━━━\u001b[0m \u001b[32m166.0/166.0 MB\u001b[0m \u001b[31m7.3 MB/s\u001b[0m eta \u001b[36m0:00:00\u001b[0m\n",
            "\u001b[?25hCollecting nvidia-nvtx-cu12==12.1.105 (from torch>=1.10.0->torchmetrics)\n",
            "  Downloading nvidia_nvtx_cu12-12.1.105-py3-none-manylinux1_x86_64.whl (99 kB)\n",
            "\u001b[2K     \u001b[90m━━━━━━━━━━━━━━━━━━━━━━━━━━━━━━━━━━━━━━━━\u001b[0m \u001b[32m99.1/99.1 kB\u001b[0m \u001b[31m11.3 MB/s\u001b[0m eta \u001b[36m0:00:00\u001b[0m\n",
            "\u001b[?25hRequirement already satisfied: triton==2.2.0 in /usr/local/lib/python3.10/dist-packages (from torch>=1.10.0->torchmetrics) (2.2.0)\n",
            "Collecting nvidia-nvjitlink-cu12 (from nvidia-cusolver-cu12==11.4.5.107->torch>=1.10.0->torchmetrics)\n",
            "  Downloading nvidia_nvjitlink_cu12-12.4.99-py3-none-manylinux2014_x86_64.whl (21.1 MB)\n",
            "\u001b[2K     \u001b[90m━━━━━━━━━━━━━━━━━━━━━━━━━━━━━━━━━━━━━━━━\u001b[0m \u001b[32m21.1/21.1 MB\u001b[0m \u001b[31m56.7 MB/s\u001b[0m eta \u001b[36m0:00:00\u001b[0m\n",
            "\u001b[?25hRequirement already satisfied: MarkupSafe>=2.0 in /usr/local/lib/python3.10/dist-packages (from jinja2->torch>=1.10.0->torchmetrics) (2.1.5)\n",
            "Requirement already satisfied: mpmath>=0.19 in /usr/local/lib/python3.10/dist-packages (from sympy->torch>=1.10.0->torchmetrics) (1.3.0)\n",
            "Installing collected packages: nvidia-nvtx-cu12, nvidia-nvjitlink-cu12, nvidia-nccl-cu12, nvidia-curand-cu12, nvidia-cufft-cu12, nvidia-cuda-runtime-cu12, nvidia-cuda-nvrtc-cu12, nvidia-cuda-cupti-cu12, nvidia-cublas-cu12, lightning-utilities, nvidia-cusparse-cu12, nvidia-cudnn-cu12, nvidia-cusolver-cu12, torchmetrics\n",
            "Successfully installed lightning-utilities-0.11.2 nvidia-cublas-cu12-12.1.3.1 nvidia-cuda-cupti-cu12-12.1.105 nvidia-cuda-nvrtc-cu12-12.1.105 nvidia-cuda-runtime-cu12-12.1.105 nvidia-cudnn-cu12-8.9.2.26 nvidia-cufft-cu12-11.0.2.54 nvidia-curand-cu12-10.3.2.106 nvidia-cusolver-cu12-11.4.5.107 nvidia-cusparse-cu12-12.1.0.106 nvidia-nccl-cu12-2.19.3 nvidia-nvjitlink-cu12-12.4.99 nvidia-nvtx-cu12-12.1.105 torchmetrics-1.3.2\n"
          ]
        }
      ],
      "source": [
        "!pip install portalocker\n",
        "!pip install torchmetrics"
      ],
      "id": "080d50fc"
    },
    {
      "cell_type": "code",
      "execution_count": 2,
      "metadata": {
        "id": "B9XxyEQVWrO6"
      },
      "outputs": [],
      "source": [
        "import argparse\n",
        "import logging\n",
        "import time\n",
        "\n",
        "import torch\n",
        "from torch.utils.data import DataLoader\n",
        "from torch.utils.data.dataset import random_split\n",
        "from torchtext.data.functional import to_map_style_dataset\n",
        "from torchtext.data.utils import get_tokenizer, ngrams_iterator\n",
        "from torchtext.datasets import DATASETS\n",
        "from torchtext.prototype.transforms import load_sp_model, PRETRAINED_SP_MODEL, SentencePieceTokenizer\n",
        "from torchtext.utils import download_from_url\n",
        "from torchtext.vocab import build_vocab_from_iterator\n",
        "import torch.nn as nn\n",
        "from torch.nn.utils.rnn import pad_sequence\n",
        "import torch.nn.functional as F\n",
        "from torchtext.vocab import GloVe\n",
        "from tqdm import tqdm\n",
        "\n",
        "torch.autograd.set_detect_anomaly(True)\n",
        "\n",
        "FILL = '_FILL_'"
      ],
      "id": "B9XxyEQVWrO6"
    },
    {
      "cell_type": "markdown",
      "metadata": {
        "id": "66eb271d"
      },
      "source": [
        "### Information\n",
        "- torchtext repo: https://github.com/pytorch/text/tree/main/torchtext\n",
        "- torchtext documentation: https://pytorch.org/text/stable/index.html"
      ],
      "id": "66eb271d"
    },
    {
      "cell_type": "code",
      "execution_count": null,
      "metadata": {
        "id": "8c949153"
      },
      "outputs": [],
      "source": [],
      "id": "8c949153"
    },
    {
      "cell_type": "markdown",
      "metadata": {
        "id": "12d93d22"
      },
      "source": [
        "### Constants"
      ],
      "id": "12d93d22"
    },
    {
      "cell_type": "code",
      "execution_count": 3,
      "metadata": {
        "id": "329c056d"
      },
      "outputs": [],
      "source": [
        "DATASET = \"AG_NEWS\"\n",
        "DATA_DIR = \".data\"\n",
        "DEVICE = \"cpu\"\n",
        "EMBED_DIM = 300\n",
        "LR = 1.0\n",
        "BATCH_SIZE = 128\n",
        "NUM_EPOCHS = 5\n",
        "PADDING_VALUE = 0\n",
        "PADDING_IDX = PADDING_VALUE"
      ],
      "id": "329c056d"
    },
    {
      "cell_type": "code",
      "execution_count": null,
      "metadata": {
        "id": "ffada8d0"
      },
      "outputs": [],
      "source": [],
      "id": "ffada8d0"
    },
    {
      "cell_type": "markdown",
      "metadata": {
        "id": "1a61aede"
      },
      "source": [
        "### Get the tokenizer\n",
        "- Use the WordLevel tokenizer.\n"
      ],
      "id": "1a61aede"
    },
    {
      "cell_type": "code",
      "execution_count": 4,
      "metadata": {
        "id": "93e3b7cb"
      },
      "outputs": [],
      "source": [
        "# Get basic tokenizer\n",
        "basic_english_tokenizer =  get_tokenizer(\"basic_english\")"
      ],
      "id": "93e3b7cb"
    },
    {
      "cell_type": "code",
      "execution_count": 5,
      "metadata": {
        "colab": {
          "base_uri": "https://localhost:8080/"
        },
        "id": "aa4b78e4",
        "outputId": "e7b48a00-4e3a-4942-b602-e04bf250c3cf"
      },
      "outputs": [
        {
          "output_type": "execute_result",
          "data": {
            "text/plain": [
              "['this', 'is', 'some', 'text', '.', '.', '.']"
            ]
          },
          "metadata": {},
          "execution_count": 5
        }
      ],
      "source": [
        "basic_english_tokenizer(\"This is some text ...\")"
      ],
      "id": "aa4b78e4"
    },
    {
      "cell_type": "code",
      "execution_count": 7,
      "metadata": {
        "id": "505cf5ec"
      },
      "outputs": [],
      "source": [
        "# Needed later; set this to the tokenizer above\n",
        "TOKENIZER = basic_english_tokenizer"
      ],
      "id": "505cf5ec"
    },
    {
      "cell_type": "markdown",
      "metadata": {
        "id": "64096cd8"
      },
      "source": [
        "### Get the data and get the vocabulary"
      ],
      "id": "64096cd8"
    },
    {
      "cell_type": "code",
      "execution_count": 8,
      "metadata": {
        "id": "ce4a0578"
      },
      "outputs": [],
      "source": [
        "def yield_tokens(data_iter):\n",
        "    for _, text in data_iter:\n",
        "        yield TOKENIZER(text)"
      ],
      "id": "ce4a0578"
    },
    {
      "cell_type": "code",
      "execution_count": 9,
      "metadata": {
        "id": "f48f23ab"
      },
      "outputs": [],
      "source": [
        "train_iter = DATASETS[DATASET](root=DATA_DIR, split=\"train\")\n",
        "VOCAB = build_vocab_from_iterator(yield_tokens(train_iter), specials=('<pad>', '<unk>'))\n",
        "\n",
        "# Make the default index the same as that of the unk_token.\n",
        "VOCAB.set_default_index(VOCAB['<unk>'])"
      ],
      "id": "f48f23ab"
    },
    {
      "cell_type": "code",
      "execution_count": null,
      "metadata": {
        "id": "552e7295"
      },
      "outputs": [],
      "source": [],
      "id": "552e7295"
    },
    {
      "cell_type": "markdown",
      "metadata": {
        "id": "31ce9367"
      },
      "source": [
        "### Get GLOVE embeddings"
      ],
      "id": "31ce9367"
    },
    {
      "cell_type": "code",
      "execution_count": null,
      "metadata": {
        "colab": {
          "base_uri": "https://localhost:8080/"
        },
        "id": "a43f0226",
        "outputId": "64e2a929-cad4-4dbe-b451-6e68dbfc0913"
      },
      "outputs": [
        {
          "output_type": "stream",
          "name": "stderr",
          "text": [
            ".vector_cache/glove.840B.300d.zip: 2.18GB [06:49, 5.31MB/s]                            \n",
            " 88%|████████▊ | 1928269/2196017 [05:23<00:41, 6444.68it/s]"
          ]
        }
      ],
      "source": [
        "# Get the GloVe embeddings; this will be slow\n",
        "GLOVE = GloVe()"
      ],
      "id": "a43f0226"
    },
    {
      "cell_type": "code",
      "execution_count": 12,
      "metadata": {
        "id": "6302f433",
        "colab": {
          "base_uri": "https://localhost:8080/"
        },
        "outputId": "9ac31be6-5bf0-453d-b4ab-4b76722afbc3"
      },
      "outputs": [
        {
          "output_type": "execute_result",
          "data": {
            "text/plain": [
              "(2196017, torch.Size([2196017, 300]))"
            ]
          },
          "metadata": {},
          "execution_count": 12
        }
      ],
      "source": [
        "len(GLOVE), GLOVE.vectors.shape\n"
      ],
      "id": "6302f433"
    },
    {
      "cell_type": "code",
      "execution_count": null,
      "metadata": {
        "id": "c1ba2b54"
      },
      "outputs": [],
      "source": [],
      "id": "c1ba2b54"
    },
    {
      "cell_type": "markdown",
      "metadata": {
        "id": "200b05fc"
      },
      "source": [
        "### Helper functions"
      ],
      "id": "200b05fc"
    },
    {
      "cell_type": "code",
      "execution_count": 13,
      "metadata": {
        "id": "16ca1ef5"
      },
      "outputs": [],
      "source": [
        "def text_pipeline(text):\n",
        "    return VOCAB(TOKENIZER(text))\n",
        "\n",
        "def label_pipeline(label):\n",
        "    return int(label) - 1"
      ],
      "id": "16ca1ef5"
    },
    {
      "cell_type": "markdown",
      "metadata": {
        "id": "67ef6734"
      },
      "source": [
        "Nice link on collate_fn and DataLoader in PyTorch: https://python.plainenglish.io/understanding-collate-fn-in-pytorch-f9d1742647d3"
      ],
      "id": "67ef6734"
    },
    {
      "cell_type": "code",
      "execution_count": 14,
      "metadata": {
        "id": "ff479986"
      },
      "outputs": [],
      "source": [
        "# Loop through the batch and transform into tensors\n",
        "def collate_batch(batch):\n",
        "    label_list, text_list = [], []\n",
        "    for _label, _text in batch:\n",
        "        # Get the label from {1, 2, 3, 4} to {0, 1, 2, 3}\n",
        "        label_list.append(label_pipeline(_label))\n",
        "        # Return a list of ints.\n",
        "        processed_text = torch.tensor(text_pipeline(_text), dtype=torch.int64)\n",
        "        # Append to text_list\n",
        "        text_list.append(processed_text.clone().detach())\n",
        "    # Pad and make into tensors as needed\n",
        "    label_list = torch.tensor(label_list, dtype=torch.int64)\n",
        "    text_list = pad_sequence(text_list, batch_first=True)\n",
        "    return label_list.to(DEVICE), text_list.to(DEVICE)\n"
      ],
      "id": "ff479986"
    },
    {
      "cell_type": "code",
      "execution_count": null,
      "metadata": {
        "id": "aa668c1e"
      },
      "outputs": [],
      "source": [],
      "id": "aa668c1e"
    },
    {
      "cell_type": "markdown",
      "metadata": {
        "id": "c7fcf425"
      },
      "source": [
        "### Get the data"
      ],
      "id": "c7fcf425"
    },
    {
      "cell_type": "code",
      "execution_count": 15,
      "metadata": {
        "id": "e617ddce",
        "colab": {
          "base_uri": "https://localhost:8080/"
        },
        "outputId": "860134d8-2c33-47a9-cc1c-e3268020c19b"
      },
      "outputs": [
        {
          "output_type": "stream",
          "name": "stdout",
          "text": [
            "The number of classes is 4 ...\n"
          ]
        }
      ],
      "source": [
        "train_iter = DATASETS[DATASET](root=DATA_DIR, split=\"train\")\n",
        "num_class = len(set([label for (label, _) in train_iter]))\n",
        "# What are the classes?\n",
        "print(f\"The number of classes is {num_class} ...\")"
      ],
      "id": "e617ddce"
    },
    {
      "cell_type": "code",
      "execution_count": null,
      "metadata": {
        "id": "7770ac24"
      },
      "outputs": [],
      "source": [],
      "id": "7770ac24"
    },
    {
      "cell_type": "markdown",
      "metadata": {
        "id": "5aa8a40d"
      },
      "source": [
        "### Set up the model"
      ],
      "id": "5aa8a40d"
    },
    {
      "cell_type": "markdown",
      "metadata": {
        "id": "8abf2ede"
      },
      "source": [
        "Good reference on this type of model\n",
        "- CNN for Sentence Classification: https://arxiv.org/pdf/1408.5882.pdf\n",
        "\n",
        "You can build CNN models with either CNN1d or CNN2d."
      ],
      "id": "8abf2ede"
    },
    {
      "cell_type": "code",
      "execution_count": 16,
      "metadata": {
        "id": "dc51c359"
      },
      "outputs": [],
      "source": [
        "class CNN1dTextClassificationModel(nn.Module):\n",
        "    def __init__(self, vocab_size, num_class, embed_dim=300, use_pretrained=True, fine_tune_embeddings=True, debug=False):\n",
        "        super(CNN1dTextClassificationModel, self).__init__()\n",
        "        self.embedding = nn.Embedding(vocab_size, embed_dim, padding_idx=PADDING_IDX)\n",
        "\n",
        "        if use_pretrained:\n",
        "            self.embedding.weight.requires_grad = False\n",
        "            for i in range(vocab_size):\n",
        "                token = VOCAB.lookup_token(i)\n",
        "                if token in GLOVE.stoi:\n",
        "                    self.embedding.weight[i,:] = GLOVE.get_vecs_by_tokens(TOKENIZER(token), lower_case_backup=True)\n",
        "            self.embedding.weight.requires_grad = True\n",
        "        else:\n",
        "            self.init_weights()\n",
        "\n",
        "        if not fine_tune_embeddings:\n",
        "            self.embedding.weight.requires_grad = False\n",
        "\n",
        "        self.cnn1 = nn.Conv1d(embed_dim, 1, 1)\n",
        "        self.cnn2 = nn.Conv1d(embed_dim, 1, 2)\n",
        "        self.cnn3 = nn.Conv1d(embed_dim, 1, 3)\n",
        "        self.cnn4 = nn.Conv1d(embed_dim, 1, 4)\n",
        "\n",
        "        self.fc = nn.Linear(3, num_class)\n",
        "        self.debug = debug\n",
        "\n",
        "    def init_weights(self):\n",
        "        initrange = 0.5\n",
        "        self.embedding.weight.data.uniform_(-initrange, initrange)\n",
        "        self.fc.weight.data.uniform_(-initrange, initrange)\n",
        "        self.fc.bias.data.zero_()\n",
        "\n",
        "    def forward(self, text):\n",
        "        embedded = self.embedding(text)\n",
        "\n",
        "        if self.debug:\n",
        "            print('embedding', embedded.shape)\n",
        "\n",
        "        embedded = embedded.transpose(1, 2)\n",
        "\n",
        "        cnn1 = self.cnn1(embedded)\n",
        "\n",
        "        if self.debug:\n",
        "            print('cnn1', cnn1.shape)\n",
        "\n",
        "        cnn1 = nn.MaxPool1d(cnn1.size(-1))(cnn1).squeeze(-1)\n",
        "\n",
        "        if self.debug:\n",
        "            print('cnn1 after max pool', cnn1.shape)\n",
        "\n",
        "        cnn2 = nn.ReLU()(self.cnn2(embedded))\n",
        "\n",
        "        if self.debug:\n",
        "            print('cnn2', cnn2.shape)\n",
        "\n",
        "        cnn3 = nn.ReLU()(self.cnn3(embedded))\n",
        "\n",
        "        if self.debug:\n",
        "            print('cnn3', cnn3.shape)\n",
        "\n",
        "        cnn4 = nn.ReLU()(self.cnn4(embedded))\n",
        "\n",
        "        if self.debug:\n",
        "            print('cnn4', cnn4.shape)\n",
        "\n",
        "        cnn2 = nn.MaxPool1d(cnn2.size(-1))(cnn2).squeeze(-1)\n",
        "        cnn3 = nn.MaxPool1d(cnn3.size(-1))(cnn3).squeeze(-1)\n",
        "        cnn4 = nn.MaxPool1d(cnn4.size(-1))(cnn4).squeeze(-1)\n",
        "\n",
        "        if self.debug:\n",
        "            print('cnn2 after max', cnn2.shape)\n",
        "\n",
        "        cnn2 = (cnn2+cnn1) / 2.0\n",
        "        cnn3 = (cnn3+cnn1) / 2.0\n",
        "        cnn4 = (cnn4+cnn1) / 2.0\n",
        "\n",
        "        if self.debug:\n",
        "            print('cnn2 after skip connection', cnn2.shape)\n",
        "\n",
        "        cnn_concat = torch.cat((cnn2, cnn3, cnn4), -1)\n",
        "\n",
        "        if self.debug:\n",
        "            print('cnn concat', cnn_concat.shape)\n",
        "\n",
        "        self.debug = False\n",
        "\n",
        "        out = self.fc(cnn_concat)\n",
        "        return out\n"
      ],
      "id": "dc51c359"
    },
    {
      "cell_type": "code",
      "execution_count": null,
      "metadata": {
        "id": "25775647"
      },
      "outputs": [],
      "source": [],
      "id": "25775647"
    },
    {
      "cell_type": "markdown",
      "metadata": {
        "id": "3b3c6ed5"
      },
      "source": [
        "### Set up the model"
      ],
      "id": "3b3c6ed5"
    },
    {
      "cell_type": "code",
      "execution_count": 17,
      "metadata": {
        "id": "cef585f4"
      },
      "outputs": [],
      "source": [
        "# If this is True, we will initialize the Embedding layer with GLOVE\n",
        "USE_PRETRAINED = True\n",
        "# If this is True, we will allow for gradient updates on the nn.Embedding layer\n",
        "FINE_TUNE_EMBEDDINGS = True\n",
        "\n",
        "# Set the loss appropriately\n",
        "criterion = torch.nn.CrossEntropyLoss().to(DEVICE)\n",
        "\n",
        "model = CNN1dTextClassificationModel(len(VOCAB), num_class, EMBED_DIM, fine_tune_embeddings=FINE_TUNE_EMBEDDINGS,\n",
        "                                      use_pretrained=USE_PRETRAINED, debug=True).to(DEVICE)\n",
        "\n",
        "# Set the optimizer to SGD\n",
        "# Add an L2 regularizer of 0.00001\n",
        "optimizer = torch.optim.SGD(model.parameters(), lr=LR, weight_decay=0.00001)\n",
        "\n",
        "# Set the scheduler to StepLR with gamma=0.1 and step_size=1.0\n",
        "scheduler = torch.optim.lr_scheduler.StepLR(optimizer, step_size=1.0, gamma=0.1)\n"
      ],
      "id": "cef585f4"
    },
    {
      "cell_type": "code",
      "execution_count": null,
      "metadata": {
        "id": "f8a642bf"
      },
      "outputs": [],
      "source": [],
      "id": "f8a642bf"
    },
    {
      "cell_type": "markdown",
      "metadata": {
        "id": "26266d8a"
      },
      "source": [
        "### Set up the data"
      ],
      "id": "26266d8a"
    },
    {
      "cell_type": "code",
      "execution_count": 19,
      "metadata": {
        "id": "9c0aebb5"
      },
      "outputs": [],
      "source": [
        "train_iter, test_iter = DATASETS[DATASET]()\n",
        "train_dataset = to_map_style_dataset(train_iter)\n",
        "test_dataset = to_map_style_dataset(test_iter)\n",
        "\n",
        "num_train = int(len(train_dataset) * 0.95)\n",
        "split_train, split_valid = random_split(train_dataset, [num_train, len(train_dataset) - num_train])\n",
        "\n",
        "train_dataloader = DataLoader(split_train, batch_size=BATCH_SIZE, shuffle=True, collate_fn=collate_batch)\n",
        "valid_dataloader = DataLoader(split_valid, batch_size=BATCH_SIZE, shuffle=True, collate_fn=collate_batch)\n",
        "test_dataloader = DataLoader(test_dataset, batch_size=BATCH_SIZE, shuffle=True, collate_fn=collate_batch)\n"
      ],
      "id": "9c0aebb5"
    },
    {
      "cell_type": "markdown",
      "metadata": {
        "id": "86476e2a"
      },
      "source": [
        "### Train the model"
      ],
      "id": "86476e2a"
    },
    {
      "cell_type": "code",
      "execution_count": 20,
      "metadata": {
        "id": "24950481"
      },
      "outputs": [],
      "source": [
        "def train(dataloader, model, optimizer, criterion, epoch):\n",
        "    model.train()\n",
        "    total_acc, total_count = 0, 0\n",
        "    total_loss, total_batches = 0.0, 0\n",
        "    total_zero_gradients_percentage = []\n",
        "    log_interval = 10\n",
        "\n",
        "    for idx, (label, text) in enumerate(tqdm(dataloader)):\n",
        "        # Set gradients to zero\n",
        "        optimizer.zero_grad()\n",
        "\n",
        "        # Get the predictions\n",
        "        predicted_label = model(text)\n",
        "\n",
        "        # Get the loss\n",
        "        loss = criterion(input=predicted_label, target=label)\n",
        "\n",
        "        # Do back propagation and get the gradients\n",
        "        loss.backward()\n",
        "\n",
        "        with torch.no_grad():\n",
        "            total_loss += loss.item()\n",
        "            total_batches += 1\n",
        "\n",
        "            # Loop through all the parameters in the model and print out the number of parameters that are zero\n",
        "            # Specifically, for this batch, get the percentage of zero gradients across all parameters\n",
        "            # Append this to the list above\n",
        "            total_nonzero_gradients = 0.0\n",
        "            total_param_count = 0.0\n",
        "\n",
        "            for name, p in model.named_parameters():\n",
        "                if p.requires_grad:\n",
        "                    total_nonzero_gradients += torch.count_nonzero(p.grad.data).item()\n",
        "                    total_param_count += p.grad.data.numel()\n",
        "\n",
        "            total_zero_gradients_percentage.append(100.0 - (total_nonzero_gradients / total_param_count) * 100.0)\n"
      ],
      "id": "24950481"
    },
    {
      "cell_type": "code",
      "execution_count": 21,
      "metadata": {
        "id": "39a702be"
      },
      "outputs": [],
      "source": [
        "def evaluate(dataloader, model, criterion):\n",
        "    model.eval()\n",
        "    total_acc, total_count = 0, 0\n",
        "    total_loss = 0.0\n",
        "\n",
        "    with torch.no_grad():\n",
        "        for idx, (label, text) in enumerate(dataloader):\n",
        "            predicted_label = model(text)\n",
        "            loss = criterion(input=predicted_label, target=label)\n",
        "            total_acc += (predicted_label.argmax(1) == label).sum().item()\n",
        "            total_count += label.size(0)\n",
        "            total_loss += loss.item()\n",
        "\n",
        "    return total_acc, total_count, total_loss\n"
      ],
      "id": "39a702be"
    },
    {
      "cell_type": "code",
      "execution_count": null,
      "metadata": {
        "id": "a9e02c09",
        "colab": {
          "base_uri": "https://localhost:8080/"
        },
        "outputId": "fbb7f687-845e-401b-8ab4-5741a627b83e"
      },
      "outputs": [
        {
          "output_type": "stream",
          "name": "stderr",
          "text": [
            "  3%|▎         | 24/891 [00:13<08:03,  1.79it/s]"
          ]
        }
      ],
      "source": [
        "for epoch in range(1, NUM_EPOCHS + 1):\n",
        "    epoch_start_time = time.time()\n",
        "    train(train_dataloader, model, optimizer, criterion, epoch)\n",
        "    accu_val, loss_val = evaluate(valid_dataloader, model, criterion)\n",
        "    scheduler.step()\n",
        "    print(\"-\" * 59)\n",
        "    print(\n",
        "        \"| end of epoch {:3d} | time: {:5.2f}s | \"\n",
        "        \"valid accuracy {:8.3f} \".format(\n",
        "            epoch,\n",
        "            time.time() - epoch_start_time,\n",
        "            accu_val,\n",
        "            loss_val\n",
        "            )\n",
        "    )\n",
        "    print(\"-\" * 59)\n",
        "\n",
        "print(\"Checking the results of test dataset.\")\n",
        "accu_test, loss_test = evaluate(test_dataloader, model, criterion)\n",
        "print(\"test accuracy {:8.3f}\".format(accu_test))\n",
        "print(\"test loss {:8.3f}\".format(loss_test))"
      ],
      "id": "a9e02c09"
    },
    {
      "cell_type": "code",
      "source": [],
      "metadata": {
        "id": "JAavsg5Pojy2"
      },
      "id": "JAavsg5Pojy2",
      "execution_count": null,
      "outputs": []
    }
  ],
  "metadata": {
    "colab": {
      "provenance": []
    },
    "kernelspec": {
      "display_name": "Python 3 (ipykernel)",
      "language": "python",
      "name": "python3"
    },
    "language_info": {
      "codemirror_mode": {
        "name": "ipython",
        "version": 3
      },
      "file_extension": ".py",
      "mimetype": "text/x-python",
      "name": "python",
      "nbconvert_exporter": "python",
      "pygments_lexer": "ipython3",
      "version": "3.8.15"
    }
  },
  "nbformat": 4,
  "nbformat_minor": 5
}